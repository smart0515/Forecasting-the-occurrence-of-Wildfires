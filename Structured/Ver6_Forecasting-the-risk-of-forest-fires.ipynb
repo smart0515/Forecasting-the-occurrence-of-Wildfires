{
 "cells": [
  {
   "cell_type": "markdown",
   "id": "c36fb84d",
   "metadata": {},
   "source": [
    "# 모듈 불러오기"
   ]
  },
  {
   "cell_type": "code",
   "execution_count": 1,
   "id": "30f5037c",
   "metadata": {
    "ExecuteTime": {
     "end_time": "2023-03-04T07:44:20.268859Z",
     "start_time": "2023-03-04T07:44:18.237016Z"
    }
   },
   "outputs": [],
   "source": [
    "from pycaret.classification import * "
   ]
  },
  {
   "cell_type": "code",
   "execution_count": 2,
   "id": "dac7351d",
   "metadata": {
    "ExecuteTime": {
     "end_time": "2023-03-04T07:44:20.328853Z",
     "start_time": "2023-03-04T07:44:20.270362Z"
    }
   },
   "outputs": [],
   "source": [
    "import pandas as pd\n",
    "import numpy as np\n",
    "import seaborn as sns\n",
    "import matplotlib.pyplot as plt\n",
    "import random\n",
    "from matplotlib import rc\n",
    "import matplotlib.font_manager as fm\n",
    "plt.rcParams['font.family'] = 'Malgun Gothic'\n",
    "%matplotlib inline"
   ]
  },
  {
   "cell_type": "markdown",
   "id": "3ce4a804",
   "metadata": {},
   "source": [
    "# 데이터 불러오기"
   ]
  },
  {
   "cell_type": "code",
   "execution_count": 3,
   "id": "4b336156",
   "metadata": {
    "ExecuteTime": {
     "end_time": "2023-03-04T07:44:20.344377Z",
     "start_time": "2023-03-04T07:44:20.328853Z"
    }
   },
   "outputs": [
    {
     "data": {
      "text/plain": [
       "'C:\\\\Users\\\\ebdl\\\\캡스톤'"
      ]
     },
     "execution_count": 3,
     "metadata": {},
     "output_type": "execute_result"
    }
   ],
   "source": [
    "%pwd"
   ]
  },
  {
   "cell_type": "code",
   "execution_count": 4,
   "id": "e518c971",
   "metadata": {
    "ExecuteTime": {
     "end_time": "2023-03-04T07:44:20.375849Z",
     "start_time": "2023-03-04T07:44:20.346372Z"
    }
   },
   "outputs": [],
   "source": [
    "data=pd.read_csv('산불_결측치+임상도1차.csv',encoding='utf-8',index_col=0)"
   ]
  },
  {
   "cell_type": "code",
   "execution_count": 5,
   "id": "54aeafa8",
   "metadata": {
    "ExecuteTime": {
     "end_time": "2023-03-04T07:44:20.391361Z",
     "start_time": "2023-03-04T07:44:20.376846Z"
    },
    "scrolled": false
   },
   "outputs": [
    {
     "data": {
      "text/html": [
       "<div>\n",
       "<style scoped>\n",
       "    .dataframe tbody tr th:only-of-type {\n",
       "        vertical-align: middle;\n",
       "    }\n",
       "\n",
       "    .dataframe tbody tr th {\n",
       "        vertical-align: top;\n",
       "    }\n",
       "\n",
       "    .dataframe thead th {\n",
       "        text-align: right;\n",
       "    }\n",
       "</style>\n",
       "<table border=\"1\" class=\"dataframe\">\n",
       "  <thead>\n",
       "    <tr style=\"text-align: right;\">\n",
       "      <th></th>\n",
       "      <th>Unnamed: 0.1</th>\n",
       "      <th>날짜</th>\n",
       "      <th>발생지역</th>\n",
       "      <th>주소</th>\n",
       "      <th>경도</th>\n",
       "      <th>위도</th>\n",
       "      <th>피해면적</th>\n",
       "      <th>상대습도</th>\n",
       "      <th>상대습도_1days_prev</th>\n",
       "      <th>상대습도_2days_prev</th>\n",
       "      <th>상대습도_3days_prev</th>\n",
       "      <th>상대습도_4days_prev</th>\n",
       "      <th>실효습도</th>\n",
       "      <th>기온</th>\n",
       "      <th>강수량</th>\n",
       "      <th>풍속</th>\n",
       "      <th>기온_1days_prev</th>\n",
       "      <th>기온_2days_prev</th>\n",
       "      <th>기온_3days_prev</th>\n",
       "      <th>기온_4days_prev</th>\n",
       "      <th>강수량_1days_prev</th>\n",
       "      <th>강수량_2days_prev</th>\n",
       "      <th>강수량_3days_prev</th>\n",
       "      <th>강수량_4days_prev</th>\n",
       "      <th>계절</th>\n",
       "      <th>month</th>\n",
       "      <th>임상도</th>\n",
       "    </tr>\n",
       "  </thead>\n",
       "  <tbody>\n",
       "    <tr>\n",
       "      <th>0</th>\n",
       "      <td>0</td>\n",
       "      <td>2001-01-04</td>\n",
       "      <td>경북</td>\n",
       "      <td>경상북도 영천시 서산동</td>\n",
       "      <td>128.892471</td>\n",
       "      <td>35.979027</td>\n",
       "      <td>0.50</td>\n",
       "      <td>41.8</td>\n",
       "      <td>45.500000</td>\n",
       "      <td>48.600000</td>\n",
       "      <td>48.600000</td>\n",
       "      <td>50.749390</td>\n",
       "      <td>39.662659</td>\n",
       "      <td>-3.8</td>\n",
       "      <td>0.0</td>\n",
       "      <td>1.7</td>\n",
       "      <td>-2.7</td>\n",
       "      <td>2.2</td>\n",
       "      <td>-2.4</td>\n",
       "      <td>-1.340828</td>\n",
       "      <td>0.0</td>\n",
       "      <td>0.0</td>\n",
       "      <td>0.0</td>\n",
       "      <td>0.0</td>\n",
       "      <td>0.0</td>\n",
       "      <td>1</td>\n",
       "      <td>D</td>\n",
       "    </tr>\n",
       "    <tr>\n",
       "      <th>1</th>\n",
       "      <td>1</td>\n",
       "      <td>2001-01-05</td>\n",
       "      <td>강원</td>\n",
       "      <td>강원도 강릉시 성산면 어흘리</td>\n",
       "      <td>128.780562</td>\n",
       "      <td>37.710108</td>\n",
       "      <td>0.06</td>\n",
       "      <td>45.0</td>\n",
       "      <td>40.100000</td>\n",
       "      <td>48.300000</td>\n",
       "      <td>61.800000</td>\n",
       "      <td>63.900000</td>\n",
       "      <td>39.983037</td>\n",
       "      <td>-3.6</td>\n",
       "      <td>0.0</td>\n",
       "      <td>2.6</td>\n",
       "      <td>-6.6</td>\n",
       "      <td>-5.9</td>\n",
       "      <td>-1.4</td>\n",
       "      <td>-2.600000</td>\n",
       "      <td>0.0</td>\n",
       "      <td>0.0</td>\n",
       "      <td>0.0</td>\n",
       "      <td>0.0</td>\n",
       "      <td>0.0</td>\n",
       "      <td>1</td>\n",
       "      <td>D</td>\n",
       "    </tr>\n",
       "    <tr>\n",
       "      <th>2</th>\n",
       "      <td>2</td>\n",
       "      <td>2001-01-03</td>\n",
       "      <td>강원</td>\n",
       "      <td>강원도 홍천군 홍천읍 상오안리</td>\n",
       "      <td>127.814492</td>\n",
       "      <td>37.640889</td>\n",
       "      <td>0.20</td>\n",
       "      <td>44.5</td>\n",
       "      <td>58.900000</td>\n",
       "      <td>68.300000</td>\n",
       "      <td>48.140230</td>\n",
       "      <td>47.979310</td>\n",
       "      <td>39.826104</td>\n",
       "      <td>-8.1</td>\n",
       "      <td>0.0</td>\n",
       "      <td>1.8</td>\n",
       "      <td>-4.8</td>\n",
       "      <td>-7.3</td>\n",
       "      <td>-4.9</td>\n",
       "      <td>-0.200000</td>\n",
       "      <td>0.5</td>\n",
       "      <td>0.0</td>\n",
       "      <td>0.0</td>\n",
       "      <td>0.0</td>\n",
       "      <td>0.0</td>\n",
       "      <td>1</td>\n",
       "      <td>PK</td>\n",
       "    </tr>\n",
       "    <tr>\n",
       "      <th>3</th>\n",
       "      <td>3</td>\n",
       "      <td>2001-01-04</td>\n",
       "      <td>부산</td>\n",
       "      <td>부산광역시 사하구 다대동</td>\n",
       "      <td>128.966599</td>\n",
       "      <td>35.052936</td>\n",
       "      <td>0.05</td>\n",
       "      <td>35.4</td>\n",
       "      <td>37.900000</td>\n",
       "      <td>44.100000</td>\n",
       "      <td>29.800000</td>\n",
       "      <td>42.339062</td>\n",
       "      <td>32.888604</td>\n",
       "      <td>-6.1</td>\n",
       "      <td>0.0</td>\n",
       "      <td>8.5</td>\n",
       "      <td>-4.2</td>\n",
       "      <td>0.8</td>\n",
       "      <td>-2.4</td>\n",
       "      <td>-1.000000</td>\n",
       "      <td>0.0</td>\n",
       "      <td>0.0</td>\n",
       "      <td>0.0</td>\n",
       "      <td>0.0</td>\n",
       "      <td>0.0</td>\n",
       "      <td>1</td>\n",
       "      <td>R</td>\n",
       "    </tr>\n",
       "    <tr>\n",
       "      <th>4</th>\n",
       "      <td>4</td>\n",
       "      <td>2001-01-01</td>\n",
       "      <td>부산</td>\n",
       "      <td>부산광역시 부산진구 당감동</td>\n",
       "      <td>129.024863</td>\n",
       "      <td>35.168081</td>\n",
       "      <td>0.60</td>\n",
       "      <td>29.8</td>\n",
       "      <td>39.157812</td>\n",
       "      <td>40.301538</td>\n",
       "      <td>40.449231</td>\n",
       "      <td>42.339062</td>\n",
       "      <td>32.888604</td>\n",
       "      <td>0.8</td>\n",
       "      <td>0.0</td>\n",
       "      <td>3.4</td>\n",
       "      <td>3.3</td>\n",
       "      <td>5.8</td>\n",
       "      <td>3.8</td>\n",
       "      <td>3.700000</td>\n",
       "      <td>0.0</td>\n",
       "      <td>0.0</td>\n",
       "      <td>0.0</td>\n",
       "      <td>0.0</td>\n",
       "      <td>0.0</td>\n",
       "      <td>1</td>\n",
       "      <td>D</td>\n",
       "    </tr>\n",
       "  </tbody>\n",
       "</table>\n",
       "</div>"
      ],
      "text/plain": [
       "   Unnamed: 0.1          날짜 발생지역                주소          경도         위도  \\\n",
       "0             0  2001-01-04   경북      경상북도 영천시 서산동  128.892471  35.979027   \n",
       "1             1  2001-01-05   강원   강원도 강릉시 성산면 어흘리  128.780562  37.710108   \n",
       "2             2  2001-01-03   강원  강원도 홍천군 홍천읍 상오안리  127.814492  37.640889   \n",
       "3             3  2001-01-04   부산     부산광역시 사하구 다대동  128.966599  35.052936   \n",
       "4             4  2001-01-01   부산    부산광역시 부산진구 당감동  129.024863  35.168081   \n",
       "\n",
       "   피해면적  상대습도  상대습도_1days_prev  상대습도_2days_prev  상대습도_3days_prev  \\\n",
       "0  0.50  41.8        45.500000        48.600000        48.600000   \n",
       "1  0.06  45.0        40.100000        48.300000        61.800000   \n",
       "2  0.20  44.5        58.900000        68.300000        48.140230   \n",
       "3  0.05  35.4        37.900000        44.100000        29.800000   \n",
       "4  0.60  29.8        39.157812        40.301538        40.449231   \n",
       "\n",
       "   상대습도_4days_prev       실효습도   기온  강수량   풍속  기온_1days_prev  기온_2days_prev  \\\n",
       "0        50.749390  39.662659 -3.8  0.0  1.7           -2.7            2.2   \n",
       "1        63.900000  39.983037 -3.6  0.0  2.6           -6.6           -5.9   \n",
       "2        47.979310  39.826104 -8.1  0.0  1.8           -4.8           -7.3   \n",
       "3        42.339062  32.888604 -6.1  0.0  8.5           -4.2            0.8   \n",
       "4        42.339062  32.888604  0.8  0.0  3.4            3.3            5.8   \n",
       "\n",
       "   기온_3days_prev  기온_4days_prev  강수량_1days_prev  강수량_2days_prev  \\\n",
       "0           -2.4      -1.340828             0.0             0.0   \n",
       "1           -1.4      -2.600000             0.0             0.0   \n",
       "2           -4.9      -0.200000             0.5             0.0   \n",
       "3           -2.4      -1.000000             0.0             0.0   \n",
       "4            3.8       3.700000             0.0             0.0   \n",
       "\n",
       "   강수량_3days_prev  강수량_4days_prev   계절  month 임상도  \n",
       "0             0.0             0.0  0.0      1   D  \n",
       "1             0.0             0.0  0.0      1   D  \n",
       "2             0.0             0.0  0.0      1  PK  \n",
       "3             0.0             0.0  0.0      1   R  \n",
       "4             0.0             0.0  0.0      1   D  "
      ]
     },
     "execution_count": 5,
     "metadata": {},
     "output_type": "execute_result"
    }
   ],
   "source": [
    "data.head()"
   ]
  },
  {
   "cell_type": "code",
   "execution_count": 6,
   "id": "07744689",
   "metadata": {
    "ExecuteTime": {
     "end_time": "2023-03-04T07:44:20.406465Z",
     "start_time": "2023-03-04T07:44:20.392361Z"
    },
    "scrolled": true
   },
   "outputs": [
    {
     "name": "stdout",
     "output_type": "stream",
     "text": [
      "<class 'pandas.core.frame.DataFrame'>\n",
      "Int64Index: 10018 entries, 0 to 10017\n",
      "Data columns (total 27 columns):\n",
      " #   Column           Non-Null Count  Dtype  \n",
      "---  ------           --------------  -----  \n",
      " 0   Unnamed: 0.1     10018 non-null  int64  \n",
      " 1   날짜               10018 non-null  object \n",
      " 2   발생지역             10018 non-null  object \n",
      " 3   주소               10018 non-null  object \n",
      " 4   경도               10018 non-null  float64\n",
      " 5   위도               10018 non-null  float64\n",
      " 6   피해면적             10018 non-null  float64\n",
      " 7   상대습도             10018 non-null  float64\n",
      " 8   상대습도_1days_prev  10018 non-null  float64\n",
      " 9   상대습도_2days_prev  10018 non-null  float64\n",
      " 10  상대습도_3days_prev  10018 non-null  float64\n",
      " 11  상대습도_4days_prev  10018 non-null  float64\n",
      " 12  실효습도             10018 non-null  float64\n",
      " 13  기온               10018 non-null  float64\n",
      " 14  강수량              10018 non-null  float64\n",
      " 15  풍속               10018 non-null  float64\n",
      " 16  기온_1days_prev    10018 non-null  float64\n",
      " 17  기온_2days_prev    10018 non-null  float64\n",
      " 18  기온_3days_prev    10018 non-null  float64\n",
      " 19  기온_4days_prev    10018 non-null  float64\n",
      " 20  강수량_1days_prev   10018 non-null  float64\n",
      " 21  강수량_2days_prev   10018 non-null  float64\n",
      " 22  강수량_3days_prev   10018 non-null  float64\n",
      " 23  강수량_4days_prev   10018 non-null  float64\n",
      " 24  계절               10018 non-null  float64\n",
      " 25  month            10018 non-null  int64  \n",
      " 26  임상도              4922 non-null   object \n",
      "dtypes: float64(21), int64(2), object(4)\n",
      "memory usage: 2.1+ MB\n"
     ]
    }
   ],
   "source": [
    "data.info()"
   ]
  },
  {
   "cell_type": "code",
   "execution_count": 7,
   "id": "6e3b786b",
   "metadata": {
    "ExecuteTime": {
     "end_time": "2023-03-04T07:44:20.421724Z",
     "start_time": "2023-03-04T07:44:20.408459Z"
    }
   },
   "outputs": [
    {
     "data": {
      "text/plain": [
       "Index(['Unnamed: 0.1', '날짜', '발생지역', '주소', '경도', '위도', '피해면적', '상대습도',\n",
       "       '상대습도_1days_prev', '상대습도_2days_prev', '상대습도_3days_prev',\n",
       "       '상대습도_4days_prev', '실효습도', '기온', '강수량', '풍속', '기온_1days_prev',\n",
       "       '기온_2days_prev', '기온_3days_prev', '기온_4days_prev', '강수량_1days_prev',\n",
       "       '강수량_2days_prev', '강수량_3days_prev', '강수량_4days_prev', '계절', 'month',\n",
       "       '임상도'],\n",
       "      dtype='object')"
      ]
     },
     "execution_count": 7,
     "metadata": {},
     "output_type": "execute_result"
    }
   ],
   "source": [
    "data.columns"
   ]
  },
  {
   "cell_type": "code",
   "execution_count": 8,
   "id": "1f9ec4a9",
   "metadata": {
    "ExecuteTime": {
     "end_time": "2023-03-04T07:44:20.436489Z",
     "start_time": "2023-03-04T07:44:20.422723Z"
    }
   },
   "outputs": [],
   "source": [
    "data.drop([ '주소','발생지역','경도','위도','Unnamed: 0.1'],axis=1,inplace=True)"
   ]
  },
  {
   "cell_type": "code",
   "execution_count": 9,
   "id": "8c4ff065",
   "metadata": {
    "ExecuteTime": {
     "end_time": "2023-03-04T07:44:20.451986Z",
     "start_time": "2023-03-04T07:44:20.438483Z"
    },
    "scrolled": true
   },
   "outputs": [
    {
     "name": "stdout",
     "output_type": "stream",
     "text": [
      "<class 'pandas.core.frame.DataFrame'>\n",
      "Int64Index: 10018 entries, 0 to 10017\n",
      "Data columns (total 22 columns):\n",
      " #   Column           Non-Null Count  Dtype  \n",
      "---  ------           --------------  -----  \n",
      " 0   날짜               10018 non-null  object \n",
      " 1   피해면적             10018 non-null  float64\n",
      " 2   상대습도             10018 non-null  float64\n",
      " 3   상대습도_1days_prev  10018 non-null  float64\n",
      " 4   상대습도_2days_prev  10018 non-null  float64\n",
      " 5   상대습도_3days_prev  10018 non-null  float64\n",
      " 6   상대습도_4days_prev  10018 non-null  float64\n",
      " 7   실효습도             10018 non-null  float64\n",
      " 8   기온               10018 non-null  float64\n",
      " 9   강수량              10018 non-null  float64\n",
      " 10  풍속               10018 non-null  float64\n",
      " 11  기온_1days_prev    10018 non-null  float64\n",
      " 12  기온_2days_prev    10018 non-null  float64\n",
      " 13  기온_3days_prev    10018 non-null  float64\n",
      " 14  기온_4days_prev    10018 non-null  float64\n",
      " 15  강수량_1days_prev   10018 non-null  float64\n",
      " 16  강수량_2days_prev   10018 non-null  float64\n",
      " 17  강수량_3days_prev   10018 non-null  float64\n",
      " 18  강수량_4days_prev   10018 non-null  float64\n",
      " 19  계절               10018 non-null  float64\n",
      " 20  month            10018 non-null  int64  \n",
      " 21  임상도              4922 non-null   object \n",
      "dtypes: float64(19), int64(1), object(2)\n",
      "memory usage: 1.8+ MB\n"
     ]
    }
   ],
   "source": [
    "data.info()"
   ]
  },
  {
   "cell_type": "code",
   "execution_count": 10,
   "id": "b0d06c5e",
   "metadata": {
    "ExecuteTime": {
     "end_time": "2023-03-04T07:44:20.497955Z",
     "start_time": "2023-03-04T07:44:20.453982Z"
    },
    "scrolled": true
   },
   "outputs": [
    {
     "data": {
      "text/html": [
       "<div>\n",
       "<style scoped>\n",
       "    .dataframe tbody tr th:only-of-type {\n",
       "        vertical-align: middle;\n",
       "    }\n",
       "\n",
       "    .dataframe tbody tr th {\n",
       "        vertical-align: top;\n",
       "    }\n",
       "\n",
       "    .dataframe thead th {\n",
       "        text-align: right;\n",
       "    }\n",
       "</style>\n",
       "<table border=\"1\" class=\"dataframe\">\n",
       "  <thead>\n",
       "    <tr style=\"text-align: right;\">\n",
       "      <th></th>\n",
       "      <th>피해면적</th>\n",
       "      <th>상대습도</th>\n",
       "      <th>상대습도_1days_prev</th>\n",
       "      <th>상대습도_2days_prev</th>\n",
       "      <th>상대습도_3days_prev</th>\n",
       "      <th>상대습도_4days_prev</th>\n",
       "      <th>실효습도</th>\n",
       "      <th>기온</th>\n",
       "      <th>강수량</th>\n",
       "      <th>풍속</th>\n",
       "      <th>기온_1days_prev</th>\n",
       "      <th>기온_2days_prev</th>\n",
       "      <th>기온_3days_prev</th>\n",
       "      <th>기온_4days_prev</th>\n",
       "      <th>강수량_1days_prev</th>\n",
       "      <th>강수량_2days_prev</th>\n",
       "      <th>강수량_3days_prev</th>\n",
       "      <th>강수량_4days_prev</th>\n",
       "      <th>계절</th>\n",
       "      <th>month</th>\n",
       "    </tr>\n",
       "  </thead>\n",
       "  <tbody>\n",
       "    <tr>\n",
       "      <th>count</th>\n",
       "      <td>10018.00000</td>\n",
       "      <td>10018.000000</td>\n",
       "      <td>10018.000000</td>\n",
       "      <td>10018.000000</td>\n",
       "      <td>10018.000000</td>\n",
       "      <td>10018.000000</td>\n",
       "      <td>10018.000000</td>\n",
       "      <td>10018.000000</td>\n",
       "      <td>10018.000000</td>\n",
       "      <td>10018.000000</td>\n",
       "      <td>10018.000000</td>\n",
       "      <td>10018.000000</td>\n",
       "      <td>10018.000000</td>\n",
       "      <td>10018.000000</td>\n",
       "      <td>10018.000000</td>\n",
       "      <td>10018.000000</td>\n",
       "      <td>10018.000000</td>\n",
       "      <td>10018.000000</td>\n",
       "      <td>10018.000000</td>\n",
       "      <td>10018.000000</td>\n",
       "    </tr>\n",
       "    <tr>\n",
       "      <th>mean</th>\n",
       "      <td>4.31579</td>\n",
       "      <td>50.851961</td>\n",
       "      <td>52.643674</td>\n",
       "      <td>54.738775</td>\n",
       "      <td>55.676797</td>\n",
       "      <td>56.400354</td>\n",
       "      <td>44.149191</td>\n",
       "      <td>9.388058</td>\n",
       "      <td>0.255658</td>\n",
       "      <td>1.936431</td>\n",
       "      <td>8.857241</td>\n",
       "      <td>8.575997</td>\n",
       "      <td>8.402693</td>\n",
       "      <td>8.213995</td>\n",
       "      <td>0.122353</td>\n",
       "      <td>0.327075</td>\n",
       "      <td>0.645681</td>\n",
       "      <td>0.787104</td>\n",
       "      <td>1.423238</td>\n",
       "      <td>4.472050</td>\n",
       "    </tr>\n",
       "    <tr>\n",
       "      <th>std</th>\n",
       "      <td>171.65081</td>\n",
       "      <td>12.899128</td>\n",
       "      <td>13.138727</td>\n",
       "      <td>13.643216</td>\n",
       "      <td>14.124908</td>\n",
       "      <td>14.391640</td>\n",
       "      <td>8.799603</td>\n",
       "      <td>7.707772</td>\n",
       "      <td>2.107914</td>\n",
       "      <td>1.210476</td>\n",
       "      <td>7.556679</td>\n",
       "      <td>7.528029</td>\n",
       "      <td>7.568498</td>\n",
       "      <td>7.539581</td>\n",
       "      <td>1.224789</td>\n",
       "      <td>2.370674</td>\n",
       "      <td>3.887521</td>\n",
       "      <td>3.616590</td>\n",
       "      <td>0.867449</td>\n",
       "      <td>2.903882</td>\n",
       "    </tr>\n",
       "    <tr>\n",
       "      <th>min</th>\n",
       "      <td>0.00000</td>\n",
       "      <td>10.400000</td>\n",
       "      <td>12.000000</td>\n",
       "      <td>12.900000</td>\n",
       "      <td>14.800000</td>\n",
       "      <td>14.900000</td>\n",
       "      <td>18.425328</td>\n",
       "      <td>-14.700000</td>\n",
       "      <td>0.000000</td>\n",
       "      <td>0.000000</td>\n",
       "      <td>-14.800000</td>\n",
       "      <td>-15.500000</td>\n",
       "      <td>-19.600000</td>\n",
       "      <td>-16.700000</td>\n",
       "      <td>0.000000</td>\n",
       "      <td>0.000000</td>\n",
       "      <td>0.000000</td>\n",
       "      <td>0.000000</td>\n",
       "      <td>0.000000</td>\n",
       "      <td>1.000000</td>\n",
       "    </tr>\n",
       "    <tr>\n",
       "      <th>25%</th>\n",
       "      <td>0.03000</td>\n",
       "      <td>42.000000</td>\n",
       "      <td>43.600000</td>\n",
       "      <td>45.150000</td>\n",
       "      <td>45.900000</td>\n",
       "      <td>46.300000</td>\n",
       "      <td>38.151811</td>\n",
       "      <td>3.800000</td>\n",
       "      <td>0.000000</td>\n",
       "      <td>1.200000</td>\n",
       "      <td>3.500000</td>\n",
       "      <td>3.200000</td>\n",
       "      <td>3.025000</td>\n",
       "      <td>2.900000</td>\n",
       "      <td>0.000000</td>\n",
       "      <td>0.000000</td>\n",
       "      <td>0.000000</td>\n",
       "      <td>0.000000</td>\n",
       "      <td>0.000000</td>\n",
       "      <td>3.000000</td>\n",
       "    </tr>\n",
       "    <tr>\n",
       "      <th>50%</th>\n",
       "      <td>0.10000</td>\n",
       "      <td>50.400000</td>\n",
       "      <td>52.400000</td>\n",
       "      <td>54.500000</td>\n",
       "      <td>55.420403</td>\n",
       "      <td>55.800000</td>\n",
       "      <td>44.075216</td>\n",
       "      <td>9.200000</td>\n",
       "      <td>0.000000</td>\n",
       "      <td>1.600000</td>\n",
       "      <td>8.500000</td>\n",
       "      <td>8.200000</td>\n",
       "      <td>8.000000</td>\n",
       "      <td>7.900000</td>\n",
       "      <td>0.000000</td>\n",
       "      <td>0.000000</td>\n",
       "      <td>0.000000</td>\n",
       "      <td>0.000000</td>\n",
       "      <td>2.000000</td>\n",
       "      <td>4.000000</td>\n",
       "    </tr>\n",
       "    <tr>\n",
       "      <th>75%</th>\n",
       "      <td>0.40000</td>\n",
       "      <td>59.400000</td>\n",
       "      <td>61.300000</td>\n",
       "      <td>63.900000</td>\n",
       "      <td>65.000000</td>\n",
       "      <td>66.075000</td>\n",
       "      <td>49.921797</td>\n",
       "      <td>14.700000</td>\n",
       "      <td>0.000000</td>\n",
       "      <td>2.300000</td>\n",
       "      <td>14.000000</td>\n",
       "      <td>13.600000</td>\n",
       "      <td>13.300000</td>\n",
       "      <td>13.000000</td>\n",
       "      <td>0.000000</td>\n",
       "      <td>0.000000</td>\n",
       "      <td>0.000000</td>\n",
       "      <td>0.000000</td>\n",
       "      <td>2.000000</td>\n",
       "      <td>5.000000</td>\n",
       "    </tr>\n",
       "    <tr>\n",
       "      <th>max</th>\n",
       "      <td>16301.98000</td>\n",
       "      <td>98.100000</td>\n",
       "      <td>99.000000</td>\n",
       "      <td>99.000000</td>\n",
       "      <td>99.100000</td>\n",
       "      <td>100.000000</td>\n",
       "      <td>75.617412</td>\n",
       "      <td>32.100000</td>\n",
       "      <td>63.000000</td>\n",
       "      <td>18.500000</td>\n",
       "      <td>32.100000</td>\n",
       "      <td>32.000000</td>\n",
       "      <td>31.600000</td>\n",
       "      <td>31.100000</td>\n",
       "      <td>69.000000</td>\n",
       "      <td>85.500000</td>\n",
       "      <td>156.500000</td>\n",
       "      <td>78.500000</td>\n",
       "      <td>2.000000</td>\n",
       "      <td>12.000000</td>\n",
       "    </tr>\n",
       "  </tbody>\n",
       "</table>\n",
       "</div>"
      ],
      "text/plain": [
       "              피해면적          상대습도  상대습도_1days_prev  상대습도_2days_prev  \\\n",
       "count  10018.00000  10018.000000     10018.000000     10018.000000   \n",
       "mean       4.31579     50.851961        52.643674        54.738775   \n",
       "std      171.65081     12.899128        13.138727        13.643216   \n",
       "min        0.00000     10.400000        12.000000        12.900000   \n",
       "25%        0.03000     42.000000        43.600000        45.150000   \n",
       "50%        0.10000     50.400000        52.400000        54.500000   \n",
       "75%        0.40000     59.400000        61.300000        63.900000   \n",
       "max    16301.98000     98.100000        99.000000        99.000000   \n",
       "\n",
       "       상대습도_3days_prev  상대습도_4days_prev          실효습도            기온  \\\n",
       "count     10018.000000     10018.000000  10018.000000  10018.000000   \n",
       "mean         55.676797        56.400354     44.149191      9.388058   \n",
       "std          14.124908        14.391640      8.799603      7.707772   \n",
       "min          14.800000        14.900000     18.425328    -14.700000   \n",
       "25%          45.900000        46.300000     38.151811      3.800000   \n",
       "50%          55.420403        55.800000     44.075216      9.200000   \n",
       "75%          65.000000        66.075000     49.921797     14.700000   \n",
       "max          99.100000       100.000000     75.617412     32.100000   \n",
       "\n",
       "                강수량            풍속  기온_1days_prev  기온_2days_prev  \\\n",
       "count  10018.000000  10018.000000   10018.000000   10018.000000   \n",
       "mean       0.255658      1.936431       8.857241       8.575997   \n",
       "std        2.107914      1.210476       7.556679       7.528029   \n",
       "min        0.000000      0.000000     -14.800000     -15.500000   \n",
       "25%        0.000000      1.200000       3.500000       3.200000   \n",
       "50%        0.000000      1.600000       8.500000       8.200000   \n",
       "75%        0.000000      2.300000      14.000000      13.600000   \n",
       "max       63.000000     18.500000      32.100000      32.000000   \n",
       "\n",
       "       기온_3days_prev  기온_4days_prev  강수량_1days_prev  강수량_2days_prev  \\\n",
       "count   10018.000000   10018.000000    10018.000000    10018.000000   \n",
       "mean        8.402693       8.213995        0.122353        0.327075   \n",
       "std         7.568498       7.539581        1.224789        2.370674   \n",
       "min       -19.600000     -16.700000        0.000000        0.000000   \n",
       "25%         3.025000       2.900000        0.000000        0.000000   \n",
       "50%         8.000000       7.900000        0.000000        0.000000   \n",
       "75%        13.300000      13.000000        0.000000        0.000000   \n",
       "max        31.600000      31.100000       69.000000       85.500000   \n",
       "\n",
       "       강수량_3days_prev  강수량_4days_prev            계절         month  \n",
       "count    10018.000000    10018.000000  10018.000000  10018.000000  \n",
       "mean         0.645681        0.787104      1.423238      4.472050  \n",
       "std          3.887521        3.616590      0.867449      2.903882  \n",
       "min          0.000000        0.000000      0.000000      1.000000  \n",
       "25%          0.000000        0.000000      0.000000      3.000000  \n",
       "50%          0.000000        0.000000      2.000000      4.000000  \n",
       "75%          0.000000        0.000000      2.000000      5.000000  \n",
       "max        156.500000       78.500000      2.000000     12.000000  "
      ]
     },
     "execution_count": 10,
     "metadata": {},
     "output_type": "execute_result"
    }
   ],
   "source": [
    "data.describe()"
   ]
  },
  {
   "cell_type": "markdown",
   "id": "db585727",
   "metadata": {},
   "source": [
    "#  피처 엔지니어링"
   ]
  },
  {
   "cell_type": "markdown",
   "id": "7f0ea739",
   "metadata": {},
   "source": [
    "## 산불 건주주의기간으로 계절 피처 생성하기"
   ]
  },
  {
   "cell_type": "code",
   "execution_count": 11,
   "id": "81a27110",
   "metadata": {
    "ExecuteTime": {
     "end_time": "2023-03-04T07:44:20.513315Z",
     "start_time": "2023-03-04T07:44:20.499948Z"
    }
   },
   "outputs": [],
   "source": [
    "from datetime import datetime"
   ]
  },
  {
   "cell_type": "code",
   "execution_count": 12,
   "id": "9c57908e",
   "metadata": {
    "ExecuteTime": {
     "end_time": "2023-03-04T07:44:20.528773Z",
     "start_time": "2023-03-04T07:44:20.514311Z"
    }
   },
   "outputs": [],
   "source": [
    "data['날짜']=pd.to_datetime(data['날짜'])"
   ]
  },
  {
   "cell_type": "code",
   "execution_count": 13,
   "id": "4e3495c1",
   "metadata": {
    "ExecuteTime": {
     "end_time": "2023-03-04T07:44:20.544452Z",
     "start_time": "2023-03-04T07:44:20.530280Z"
    }
   },
   "outputs": [
    {
     "name": "stdout",
     "output_type": "stream",
     "text": [
      "<class 'pandas.core.frame.DataFrame'>\n",
      "Int64Index: 10018 entries, 0 to 10017\n",
      "Data columns (total 22 columns):\n",
      " #   Column           Non-Null Count  Dtype         \n",
      "---  ------           --------------  -----         \n",
      " 0   날짜               10018 non-null  datetime64[ns]\n",
      " 1   피해면적             10018 non-null  float64       \n",
      " 2   상대습도             10018 non-null  float64       \n",
      " 3   상대습도_1days_prev  10018 non-null  float64       \n",
      " 4   상대습도_2days_prev  10018 non-null  float64       \n",
      " 5   상대습도_3days_prev  10018 non-null  float64       \n",
      " 6   상대습도_4days_prev  10018 non-null  float64       \n",
      " 7   실효습도             10018 non-null  float64       \n",
      " 8   기온               10018 non-null  float64       \n",
      " 9   강수량              10018 non-null  float64       \n",
      " 10  풍속               10018 non-null  float64       \n",
      " 11  기온_1days_prev    10018 non-null  float64       \n",
      " 12  기온_2days_prev    10018 non-null  float64       \n",
      " 13  기온_3days_prev    10018 non-null  float64       \n",
      " 14  기온_4days_prev    10018 non-null  float64       \n",
      " 15  강수량_1days_prev   10018 non-null  float64       \n",
      " 16  강수량_2days_prev   10018 non-null  float64       \n",
      " 17  강수량_3days_prev   10018 non-null  float64       \n",
      " 18  강수량_4days_prev   10018 non-null  float64       \n",
      " 19  계절               10018 non-null  float64       \n",
      " 20  month            10018 non-null  int64         \n",
      " 21  임상도              4922 non-null   object        \n",
      "dtypes: datetime64[ns](1), float64(19), int64(1), object(1)\n",
      "memory usage: 1.8+ MB\n"
     ]
    }
   ],
   "source": [
    "data.info()"
   ]
  },
  {
   "cell_type": "code",
   "execution_count": 14,
   "id": "a4dd2f2f",
   "metadata": {
    "ExecuteTime": {
     "end_time": "2023-03-04T07:44:20.559363Z",
     "start_time": "2023-03-04T07:44:20.545448Z"
    }
   },
   "outputs": [],
   "source": [
    "data['계절']=None"
   ]
  },
  {
   "cell_type": "code",
   "execution_count": 15,
   "id": "c9fd8370",
   "metadata": {
    "ExecuteTime": {
     "end_time": "2023-03-04T07:44:20.605990Z",
     "start_time": "2023-03-04T07:44:20.560360Z"
    }
   },
   "outputs": [],
   "source": [
    "for i in range(2001, 2023):\n",
    "    data.loc[(f\"{i}-02-01\" <= data['날짜']) & (data['날짜'] <= f\"{i}-05-15\"), '계절']=data.loc[(f\"{i}-02-01\" <= data['날짜']) & (data['날짜'] <= f\"{i}-05-15\"), '계절'].fillna('봄')\n",
    "    data.loc[(f\"{i}-11-01\" <= data['날짜']) & (data['날짜'] <= f\"{i}-12-15\"), '계절']=data.loc[(f\"{i}-11-01\" <= data['날짜']) & (data['날짜'] <= f\"{i}-12-15\"), '계절'].fillna('가을')\n",
    "data[['계절']]=data[['계절']].fillna('그외')"
   ]
  },
  {
   "cell_type": "code",
   "execution_count": 16,
   "id": "2b37ae6b",
   "metadata": {
    "ExecuteTime": {
     "end_time": "2023-03-04T07:44:20.620921Z",
     "start_time": "2023-03-04T07:44:20.607936Z"
    },
    "scrolled": true
   },
   "outputs": [
    {
     "data": {
      "text/html": [
       "<div>\n",
       "<style scoped>\n",
       "    .dataframe tbody tr th:only-of-type {\n",
       "        vertical-align: middle;\n",
       "    }\n",
       "\n",
       "    .dataframe tbody tr th {\n",
       "        vertical-align: top;\n",
       "    }\n",
       "\n",
       "    .dataframe thead th {\n",
       "        text-align: right;\n",
       "    }\n",
       "</style>\n",
       "<table border=\"1\" class=\"dataframe\">\n",
       "  <thead>\n",
       "    <tr style=\"text-align: right;\">\n",
       "      <th></th>\n",
       "      <th>날짜</th>\n",
       "      <th>피해면적</th>\n",
       "      <th>상대습도</th>\n",
       "      <th>상대습도_1days_prev</th>\n",
       "      <th>상대습도_2days_prev</th>\n",
       "      <th>상대습도_3days_prev</th>\n",
       "      <th>상대습도_4days_prev</th>\n",
       "      <th>실효습도</th>\n",
       "      <th>기온</th>\n",
       "      <th>강수량</th>\n",
       "      <th>풍속</th>\n",
       "      <th>기온_1days_prev</th>\n",
       "      <th>기온_2days_prev</th>\n",
       "      <th>기온_3days_prev</th>\n",
       "      <th>기온_4days_prev</th>\n",
       "      <th>강수량_1days_prev</th>\n",
       "      <th>강수량_2days_prev</th>\n",
       "      <th>강수량_3days_prev</th>\n",
       "      <th>강수량_4days_prev</th>\n",
       "      <th>계절</th>\n",
       "      <th>month</th>\n",
       "      <th>임상도</th>\n",
       "    </tr>\n",
       "  </thead>\n",
       "  <tbody>\n",
       "    <tr>\n",
       "      <th>0</th>\n",
       "      <td>2001-01-04</td>\n",
       "      <td>0.50</td>\n",
       "      <td>41.8</td>\n",
       "      <td>45.5</td>\n",
       "      <td>48.6</td>\n",
       "      <td>48.60000</td>\n",
       "      <td>50.74939</td>\n",
       "      <td>39.662659</td>\n",
       "      <td>-3.8</td>\n",
       "      <td>0.0</td>\n",
       "      <td>1.7</td>\n",
       "      <td>-2.7</td>\n",
       "      <td>2.2</td>\n",
       "      <td>-2.4</td>\n",
       "      <td>-1.340828</td>\n",
       "      <td>0.0</td>\n",
       "      <td>0.0</td>\n",
       "      <td>0.0</td>\n",
       "      <td>0.0</td>\n",
       "      <td>그외</td>\n",
       "      <td>1</td>\n",
       "      <td>D</td>\n",
       "    </tr>\n",
       "    <tr>\n",
       "      <th>1</th>\n",
       "      <td>2001-01-05</td>\n",
       "      <td>0.06</td>\n",
       "      <td>45.0</td>\n",
       "      <td>40.1</td>\n",
       "      <td>48.3</td>\n",
       "      <td>61.80000</td>\n",
       "      <td>63.90000</td>\n",
       "      <td>39.983037</td>\n",
       "      <td>-3.6</td>\n",
       "      <td>0.0</td>\n",
       "      <td>2.6</td>\n",
       "      <td>-6.6</td>\n",
       "      <td>-5.9</td>\n",
       "      <td>-1.4</td>\n",
       "      <td>-2.600000</td>\n",
       "      <td>0.0</td>\n",
       "      <td>0.0</td>\n",
       "      <td>0.0</td>\n",
       "      <td>0.0</td>\n",
       "      <td>그외</td>\n",
       "      <td>1</td>\n",
       "      <td>D</td>\n",
       "    </tr>\n",
       "    <tr>\n",
       "      <th>2</th>\n",
       "      <td>2001-01-03</td>\n",
       "      <td>0.20</td>\n",
       "      <td>44.5</td>\n",
       "      <td>58.9</td>\n",
       "      <td>68.3</td>\n",
       "      <td>48.14023</td>\n",
       "      <td>47.97931</td>\n",
       "      <td>39.826104</td>\n",
       "      <td>-8.1</td>\n",
       "      <td>0.0</td>\n",
       "      <td>1.8</td>\n",
       "      <td>-4.8</td>\n",
       "      <td>-7.3</td>\n",
       "      <td>-4.9</td>\n",
       "      <td>-0.200000</td>\n",
       "      <td>0.5</td>\n",
       "      <td>0.0</td>\n",
       "      <td>0.0</td>\n",
       "      <td>0.0</td>\n",
       "      <td>그외</td>\n",
       "      <td>1</td>\n",
       "      <td>PK</td>\n",
       "    </tr>\n",
       "  </tbody>\n",
       "</table>\n",
       "</div>"
      ],
      "text/plain": [
       "          날짜  피해면적  상대습도  상대습도_1days_prev  상대습도_2days_prev  상대습도_3days_prev  \\\n",
       "0 2001-01-04  0.50  41.8             45.5             48.6         48.60000   \n",
       "1 2001-01-05  0.06  45.0             40.1             48.3         61.80000   \n",
       "2 2001-01-03  0.20  44.5             58.9             68.3         48.14023   \n",
       "\n",
       "   상대습도_4days_prev       실효습도   기온  강수량   풍속  기온_1days_prev  기온_2days_prev  \\\n",
       "0         50.74939  39.662659 -3.8  0.0  1.7           -2.7            2.2   \n",
       "1         63.90000  39.983037 -3.6  0.0  2.6           -6.6           -5.9   \n",
       "2         47.97931  39.826104 -8.1  0.0  1.8           -4.8           -7.3   \n",
       "\n",
       "   기온_3days_prev  기온_4days_prev  강수량_1days_prev  강수량_2days_prev  \\\n",
       "0           -2.4      -1.340828             0.0             0.0   \n",
       "1           -1.4      -2.600000             0.0             0.0   \n",
       "2           -4.9      -0.200000             0.5             0.0   \n",
       "\n",
       "   강수량_3days_prev  강수량_4days_prev  계절  month 임상도  \n",
       "0             0.0             0.0  그외      1   D  \n",
       "1             0.0             0.0  그외      1   D  \n",
       "2             0.0             0.0  그외      1  PK  "
      ]
     },
     "execution_count": 16,
     "metadata": {},
     "output_type": "execute_result"
    }
   ],
   "source": [
    "data.head(3)"
   ]
  },
  {
   "cell_type": "code",
   "execution_count": 17,
   "id": "cec3e55c",
   "metadata": {
    "ExecuteTime": {
     "end_time": "2023-03-04T07:44:20.635687Z",
     "start_time": "2023-03-04T07:44:20.622221Z"
    }
   },
   "outputs": [
    {
     "data": {
      "text/plain": [
       "봄     6786\n",
       "그외    2546\n",
       "가을     686\n",
       "Name: 계절, dtype: int64"
      ]
     },
     "execution_count": 17,
     "metadata": {},
     "output_type": "execute_result"
    }
   ],
   "source": [
    "data['계절'].value_counts()"
   ]
  },
  {
   "cell_type": "code",
   "execution_count": 18,
   "id": "a0f2582e",
   "metadata": {
    "ExecuteTime": {
     "end_time": "2023-03-04T07:44:20.651013Z",
     "start_time": "2023-03-04T07:44:20.636684Z"
    }
   },
   "outputs": [],
   "source": [
    "data.drop(['날짜','month'],axis=1,inplace=True)"
   ]
  },
  {
   "cell_type": "code",
   "execution_count": 19,
   "id": "31d47eff",
   "metadata": {
    "ExecuteTime": {
     "end_time": "2023-03-04T07:44:20.665980Z",
     "start_time": "2023-03-04T07:44:20.652348Z"
    }
   },
   "outputs": [
    {
     "name": "stdout",
     "output_type": "stream",
     "text": [
      "<class 'pandas.core.frame.DataFrame'>\n",
      "Int64Index: 10018 entries, 0 to 10017\n",
      "Data columns (total 20 columns):\n",
      " #   Column           Non-Null Count  Dtype  \n",
      "---  ------           --------------  -----  \n",
      " 0   피해면적             10018 non-null  float64\n",
      " 1   상대습도             10018 non-null  float64\n",
      " 2   상대습도_1days_prev  10018 non-null  float64\n",
      " 3   상대습도_2days_prev  10018 non-null  float64\n",
      " 4   상대습도_3days_prev  10018 non-null  float64\n",
      " 5   상대습도_4days_prev  10018 non-null  float64\n",
      " 6   실효습도             10018 non-null  float64\n",
      " 7   기온               10018 non-null  float64\n",
      " 8   강수량              10018 non-null  float64\n",
      " 9   풍속               10018 non-null  float64\n",
      " 10  기온_1days_prev    10018 non-null  float64\n",
      " 11  기온_2days_prev    10018 non-null  float64\n",
      " 12  기온_3days_prev    10018 non-null  float64\n",
      " 13  기온_4days_prev    10018 non-null  float64\n",
      " 14  강수량_1days_prev   10018 non-null  float64\n",
      " 15  강수량_2days_prev   10018 non-null  float64\n",
      " 16  강수량_3days_prev   10018 non-null  float64\n",
      " 17  강수량_4days_prev   10018 non-null  float64\n",
      " 18  계절               10018 non-null  object \n",
      " 19  임상도              4922 non-null   object \n",
      "dtypes: float64(18), object(2)\n",
      "memory usage: 1.6+ MB\n"
     ]
    }
   ],
   "source": [
    "data.info()"
   ]
  },
  {
   "cell_type": "code",
   "execution_count": 20,
   "id": "09c1ba2e",
   "metadata": {
    "ExecuteTime": {
     "end_time": "2023-03-04T07:44:20.710961Z",
     "start_time": "2023-03-04T07:44:20.666977Z"
    }
   },
   "outputs": [
    {
     "data": {
      "text/html": [
       "<div>\n",
       "<style scoped>\n",
       "    .dataframe tbody tr th:only-of-type {\n",
       "        vertical-align: middle;\n",
       "    }\n",
       "\n",
       "    .dataframe tbody tr th {\n",
       "        vertical-align: top;\n",
       "    }\n",
       "\n",
       "    .dataframe thead th {\n",
       "        text-align: right;\n",
       "    }\n",
       "</style>\n",
       "<table border=\"1\" class=\"dataframe\">\n",
       "  <thead>\n",
       "    <tr style=\"text-align: right;\">\n",
       "      <th></th>\n",
       "      <th>피해면적</th>\n",
       "      <th>상대습도</th>\n",
       "      <th>상대습도_1days_prev</th>\n",
       "      <th>상대습도_2days_prev</th>\n",
       "      <th>상대습도_3days_prev</th>\n",
       "      <th>상대습도_4days_prev</th>\n",
       "      <th>실효습도</th>\n",
       "      <th>기온</th>\n",
       "      <th>강수량</th>\n",
       "      <th>풍속</th>\n",
       "      <th>기온_1days_prev</th>\n",
       "      <th>기온_2days_prev</th>\n",
       "      <th>기온_3days_prev</th>\n",
       "      <th>기온_4days_prev</th>\n",
       "      <th>강수량_1days_prev</th>\n",
       "      <th>강수량_2days_prev</th>\n",
       "      <th>강수량_3days_prev</th>\n",
       "      <th>강수량_4days_prev</th>\n",
       "    </tr>\n",
       "  </thead>\n",
       "  <tbody>\n",
       "    <tr>\n",
       "      <th>count</th>\n",
       "      <td>10018.00000</td>\n",
       "      <td>10018.000000</td>\n",
       "      <td>10018.000000</td>\n",
       "      <td>10018.000000</td>\n",
       "      <td>10018.000000</td>\n",
       "      <td>10018.000000</td>\n",
       "      <td>10018.000000</td>\n",
       "      <td>10018.000000</td>\n",
       "      <td>10018.000000</td>\n",
       "      <td>10018.000000</td>\n",
       "      <td>10018.000000</td>\n",
       "      <td>10018.000000</td>\n",
       "      <td>10018.000000</td>\n",
       "      <td>10018.000000</td>\n",
       "      <td>10018.000000</td>\n",
       "      <td>10018.000000</td>\n",
       "      <td>10018.000000</td>\n",
       "      <td>10018.000000</td>\n",
       "    </tr>\n",
       "    <tr>\n",
       "      <th>mean</th>\n",
       "      <td>4.31579</td>\n",
       "      <td>50.851961</td>\n",
       "      <td>52.643674</td>\n",
       "      <td>54.738775</td>\n",
       "      <td>55.676797</td>\n",
       "      <td>56.400354</td>\n",
       "      <td>44.149191</td>\n",
       "      <td>9.388058</td>\n",
       "      <td>0.255658</td>\n",
       "      <td>1.936431</td>\n",
       "      <td>8.857241</td>\n",
       "      <td>8.575997</td>\n",
       "      <td>8.402693</td>\n",
       "      <td>8.213995</td>\n",
       "      <td>0.122353</td>\n",
       "      <td>0.327075</td>\n",
       "      <td>0.645681</td>\n",
       "      <td>0.787104</td>\n",
       "    </tr>\n",
       "    <tr>\n",
       "      <th>std</th>\n",
       "      <td>171.65081</td>\n",
       "      <td>12.899128</td>\n",
       "      <td>13.138727</td>\n",
       "      <td>13.643216</td>\n",
       "      <td>14.124908</td>\n",
       "      <td>14.391640</td>\n",
       "      <td>8.799603</td>\n",
       "      <td>7.707772</td>\n",
       "      <td>2.107914</td>\n",
       "      <td>1.210476</td>\n",
       "      <td>7.556679</td>\n",
       "      <td>7.528029</td>\n",
       "      <td>7.568498</td>\n",
       "      <td>7.539581</td>\n",
       "      <td>1.224789</td>\n",
       "      <td>2.370674</td>\n",
       "      <td>3.887521</td>\n",
       "      <td>3.616590</td>\n",
       "    </tr>\n",
       "    <tr>\n",
       "      <th>min</th>\n",
       "      <td>0.00000</td>\n",
       "      <td>10.400000</td>\n",
       "      <td>12.000000</td>\n",
       "      <td>12.900000</td>\n",
       "      <td>14.800000</td>\n",
       "      <td>14.900000</td>\n",
       "      <td>18.425328</td>\n",
       "      <td>-14.700000</td>\n",
       "      <td>0.000000</td>\n",
       "      <td>0.000000</td>\n",
       "      <td>-14.800000</td>\n",
       "      <td>-15.500000</td>\n",
       "      <td>-19.600000</td>\n",
       "      <td>-16.700000</td>\n",
       "      <td>0.000000</td>\n",
       "      <td>0.000000</td>\n",
       "      <td>0.000000</td>\n",
       "      <td>0.000000</td>\n",
       "    </tr>\n",
       "    <tr>\n",
       "      <th>25%</th>\n",
       "      <td>0.03000</td>\n",
       "      <td>42.000000</td>\n",
       "      <td>43.600000</td>\n",
       "      <td>45.150000</td>\n",
       "      <td>45.900000</td>\n",
       "      <td>46.300000</td>\n",
       "      <td>38.151811</td>\n",
       "      <td>3.800000</td>\n",
       "      <td>0.000000</td>\n",
       "      <td>1.200000</td>\n",
       "      <td>3.500000</td>\n",
       "      <td>3.200000</td>\n",
       "      <td>3.025000</td>\n",
       "      <td>2.900000</td>\n",
       "      <td>0.000000</td>\n",
       "      <td>0.000000</td>\n",
       "      <td>0.000000</td>\n",
       "      <td>0.000000</td>\n",
       "    </tr>\n",
       "    <tr>\n",
       "      <th>50%</th>\n",
       "      <td>0.10000</td>\n",
       "      <td>50.400000</td>\n",
       "      <td>52.400000</td>\n",
       "      <td>54.500000</td>\n",
       "      <td>55.420403</td>\n",
       "      <td>55.800000</td>\n",
       "      <td>44.075216</td>\n",
       "      <td>9.200000</td>\n",
       "      <td>0.000000</td>\n",
       "      <td>1.600000</td>\n",
       "      <td>8.500000</td>\n",
       "      <td>8.200000</td>\n",
       "      <td>8.000000</td>\n",
       "      <td>7.900000</td>\n",
       "      <td>0.000000</td>\n",
       "      <td>0.000000</td>\n",
       "      <td>0.000000</td>\n",
       "      <td>0.000000</td>\n",
       "    </tr>\n",
       "    <tr>\n",
       "      <th>75%</th>\n",
       "      <td>0.40000</td>\n",
       "      <td>59.400000</td>\n",
       "      <td>61.300000</td>\n",
       "      <td>63.900000</td>\n",
       "      <td>65.000000</td>\n",
       "      <td>66.075000</td>\n",
       "      <td>49.921797</td>\n",
       "      <td>14.700000</td>\n",
       "      <td>0.000000</td>\n",
       "      <td>2.300000</td>\n",
       "      <td>14.000000</td>\n",
       "      <td>13.600000</td>\n",
       "      <td>13.300000</td>\n",
       "      <td>13.000000</td>\n",
       "      <td>0.000000</td>\n",
       "      <td>0.000000</td>\n",
       "      <td>0.000000</td>\n",
       "      <td>0.000000</td>\n",
       "    </tr>\n",
       "    <tr>\n",
       "      <th>max</th>\n",
       "      <td>16301.98000</td>\n",
       "      <td>98.100000</td>\n",
       "      <td>99.000000</td>\n",
       "      <td>99.000000</td>\n",
       "      <td>99.100000</td>\n",
       "      <td>100.000000</td>\n",
       "      <td>75.617412</td>\n",
       "      <td>32.100000</td>\n",
       "      <td>63.000000</td>\n",
       "      <td>18.500000</td>\n",
       "      <td>32.100000</td>\n",
       "      <td>32.000000</td>\n",
       "      <td>31.600000</td>\n",
       "      <td>31.100000</td>\n",
       "      <td>69.000000</td>\n",
       "      <td>85.500000</td>\n",
       "      <td>156.500000</td>\n",
       "      <td>78.500000</td>\n",
       "    </tr>\n",
       "  </tbody>\n",
       "</table>\n",
       "</div>"
      ],
      "text/plain": [
       "              피해면적          상대습도  상대습도_1days_prev  상대습도_2days_prev  \\\n",
       "count  10018.00000  10018.000000     10018.000000     10018.000000   \n",
       "mean       4.31579     50.851961        52.643674        54.738775   \n",
       "std      171.65081     12.899128        13.138727        13.643216   \n",
       "min        0.00000     10.400000        12.000000        12.900000   \n",
       "25%        0.03000     42.000000        43.600000        45.150000   \n",
       "50%        0.10000     50.400000        52.400000        54.500000   \n",
       "75%        0.40000     59.400000        61.300000        63.900000   \n",
       "max    16301.98000     98.100000        99.000000        99.000000   \n",
       "\n",
       "       상대습도_3days_prev  상대습도_4days_prev          실효습도            기온  \\\n",
       "count     10018.000000     10018.000000  10018.000000  10018.000000   \n",
       "mean         55.676797        56.400354     44.149191      9.388058   \n",
       "std          14.124908        14.391640      8.799603      7.707772   \n",
       "min          14.800000        14.900000     18.425328    -14.700000   \n",
       "25%          45.900000        46.300000     38.151811      3.800000   \n",
       "50%          55.420403        55.800000     44.075216      9.200000   \n",
       "75%          65.000000        66.075000     49.921797     14.700000   \n",
       "max          99.100000       100.000000     75.617412     32.100000   \n",
       "\n",
       "                강수량            풍속  기온_1days_prev  기온_2days_prev  \\\n",
       "count  10018.000000  10018.000000   10018.000000   10018.000000   \n",
       "mean       0.255658      1.936431       8.857241       8.575997   \n",
       "std        2.107914      1.210476       7.556679       7.528029   \n",
       "min        0.000000      0.000000     -14.800000     -15.500000   \n",
       "25%        0.000000      1.200000       3.500000       3.200000   \n",
       "50%        0.000000      1.600000       8.500000       8.200000   \n",
       "75%        0.000000      2.300000      14.000000      13.600000   \n",
       "max       63.000000     18.500000      32.100000      32.000000   \n",
       "\n",
       "       기온_3days_prev  기온_4days_prev  강수량_1days_prev  강수량_2days_prev  \\\n",
       "count   10018.000000   10018.000000    10018.000000    10018.000000   \n",
       "mean        8.402693       8.213995        0.122353        0.327075   \n",
       "std         7.568498       7.539581        1.224789        2.370674   \n",
       "min       -19.600000     -16.700000        0.000000        0.000000   \n",
       "25%         3.025000       2.900000        0.000000        0.000000   \n",
       "50%         8.000000       7.900000        0.000000        0.000000   \n",
       "75%        13.300000      13.000000        0.000000        0.000000   \n",
       "max        31.600000      31.100000       69.000000       85.500000   \n",
       "\n",
       "       강수량_3days_prev  강수량_4days_prev  \n",
       "count    10018.000000    10018.000000  \n",
       "mean         0.645681        0.787104  \n",
       "std          3.887521        3.616590  \n",
       "min          0.000000        0.000000  \n",
       "25%          0.000000        0.000000  \n",
       "50%          0.000000        0.000000  \n",
       "75%          0.000000        0.000000  \n",
       "max        156.500000       78.500000  "
      ]
     },
     "execution_count": 20,
     "metadata": {},
     "output_type": "execute_result"
    }
   ],
   "source": [
    "data.describe()"
   ]
  },
  {
   "cell_type": "markdown",
   "id": "b318c800",
   "metadata": {},
   "source": [
    "## 계절을 원-핫 인코딩"
   ]
  },
  {
   "cell_type": "code",
   "execution_count": 21,
   "id": "748252d2",
   "metadata": {
    "ExecuteTime": {
     "end_time": "2023-03-04T07:44:20.726418Z",
     "start_time": "2023-03-04T07:44:20.711960Z"
    }
   },
   "outputs": [],
   "source": [
    "data = pd.get_dummies(data = data, columns = ['계절'], prefix = '계절')"
   ]
  },
  {
   "cell_type": "code",
   "execution_count": 22,
   "id": "ffa3e130",
   "metadata": {
    "ExecuteTime": {
     "end_time": "2023-03-04T07:44:20.741369Z",
     "start_time": "2023-03-04T07:44:20.728411Z"
    }
   },
   "outputs": [],
   "source": [
    "#data['계절'] = data['계절'].map({'봄': 2, '가을': 1, '그외': 0})"
   ]
  },
  {
   "cell_type": "code",
   "execution_count": 23,
   "id": "c168f224",
   "metadata": {
    "ExecuteTime": {
     "end_time": "2023-03-04T07:44:20.756830Z",
     "start_time": "2023-03-04T07:44:20.743361Z"
    }
   },
   "outputs": [
    {
     "data": {
      "text/html": [
       "<div>\n",
       "<style scoped>\n",
       "    .dataframe tbody tr th:only-of-type {\n",
       "        vertical-align: middle;\n",
       "    }\n",
       "\n",
       "    .dataframe tbody tr th {\n",
       "        vertical-align: top;\n",
       "    }\n",
       "\n",
       "    .dataframe thead th {\n",
       "        text-align: right;\n",
       "    }\n",
       "</style>\n",
       "<table border=\"1\" class=\"dataframe\">\n",
       "  <thead>\n",
       "    <tr style=\"text-align: right;\">\n",
       "      <th></th>\n",
       "      <th>피해면적</th>\n",
       "      <th>상대습도</th>\n",
       "      <th>상대습도_1days_prev</th>\n",
       "      <th>상대습도_2days_prev</th>\n",
       "      <th>상대습도_3days_prev</th>\n",
       "      <th>상대습도_4days_prev</th>\n",
       "      <th>실효습도</th>\n",
       "      <th>기온</th>\n",
       "      <th>강수량</th>\n",
       "      <th>풍속</th>\n",
       "      <th>기온_1days_prev</th>\n",
       "      <th>기온_2days_prev</th>\n",
       "      <th>기온_3days_prev</th>\n",
       "      <th>기온_4days_prev</th>\n",
       "      <th>강수량_1days_prev</th>\n",
       "      <th>강수량_2days_prev</th>\n",
       "      <th>강수량_3days_prev</th>\n",
       "      <th>강수량_4days_prev</th>\n",
       "      <th>임상도</th>\n",
       "      <th>계절_가을</th>\n",
       "      <th>계절_그외</th>\n",
       "      <th>계절_봄</th>\n",
       "    </tr>\n",
       "  </thead>\n",
       "  <tbody>\n",
       "    <tr>\n",
       "      <th>0</th>\n",
       "      <td>0.50</td>\n",
       "      <td>41.8</td>\n",
       "      <td>45.5</td>\n",
       "      <td>48.6</td>\n",
       "      <td>48.6</td>\n",
       "      <td>50.74939</td>\n",
       "      <td>39.662659</td>\n",
       "      <td>-3.8</td>\n",
       "      <td>0.0</td>\n",
       "      <td>1.7</td>\n",
       "      <td>-2.7</td>\n",
       "      <td>2.2</td>\n",
       "      <td>-2.4</td>\n",
       "      <td>-1.340828</td>\n",
       "      <td>0.0</td>\n",
       "      <td>0.0</td>\n",
       "      <td>0.0</td>\n",
       "      <td>0.0</td>\n",
       "      <td>D</td>\n",
       "      <td>0</td>\n",
       "      <td>1</td>\n",
       "      <td>0</td>\n",
       "    </tr>\n",
       "    <tr>\n",
       "      <th>1</th>\n",
       "      <td>0.06</td>\n",
       "      <td>45.0</td>\n",
       "      <td>40.1</td>\n",
       "      <td>48.3</td>\n",
       "      <td>61.8</td>\n",
       "      <td>63.90000</td>\n",
       "      <td>39.983037</td>\n",
       "      <td>-3.6</td>\n",
       "      <td>0.0</td>\n",
       "      <td>2.6</td>\n",
       "      <td>-6.6</td>\n",
       "      <td>-5.9</td>\n",
       "      <td>-1.4</td>\n",
       "      <td>-2.600000</td>\n",
       "      <td>0.0</td>\n",
       "      <td>0.0</td>\n",
       "      <td>0.0</td>\n",
       "      <td>0.0</td>\n",
       "      <td>D</td>\n",
       "      <td>0</td>\n",
       "      <td>1</td>\n",
       "      <td>0</td>\n",
       "    </tr>\n",
       "  </tbody>\n",
       "</table>\n",
       "</div>"
      ],
      "text/plain": [
       "   피해면적  상대습도  상대습도_1days_prev  상대습도_2days_prev  상대습도_3days_prev  \\\n",
       "0  0.50  41.8             45.5             48.6             48.6   \n",
       "1  0.06  45.0             40.1             48.3             61.8   \n",
       "\n",
       "   상대습도_4days_prev       실효습도   기온  강수량   풍속  기온_1days_prev  기온_2days_prev  \\\n",
       "0         50.74939  39.662659 -3.8  0.0  1.7           -2.7            2.2   \n",
       "1         63.90000  39.983037 -3.6  0.0  2.6           -6.6           -5.9   \n",
       "\n",
       "   기온_3days_prev  기온_4days_prev  강수량_1days_prev  강수량_2days_prev  \\\n",
       "0           -2.4      -1.340828             0.0             0.0   \n",
       "1           -1.4      -2.600000             0.0             0.0   \n",
       "\n",
       "   강수량_3days_prev  강수량_4days_prev 임상도  계절_가을  계절_그외  계절_봄  \n",
       "0             0.0             0.0   D      0      1     0  \n",
       "1             0.0             0.0   D      0      1     0  "
      ]
     },
     "execution_count": 23,
     "metadata": {},
     "output_type": "execute_result"
    }
   ],
   "source": [
    "data.head(2)"
   ]
  },
  {
   "cell_type": "code",
   "execution_count": 24,
   "id": "8d9654ee",
   "metadata": {
    "ExecuteTime": {
     "end_time": "2023-03-04T07:44:20.772191Z",
     "start_time": "2023-03-04T07:44:20.757827Z"
    }
   },
   "outputs": [],
   "source": [
    "#data['계절'].value_counts()"
   ]
  },
  {
   "cell_type": "code",
   "execution_count": 25,
   "id": "1a945ca4",
   "metadata": {
    "ExecuteTime": {
     "end_time": "2023-03-04T07:44:20.787172Z",
     "start_time": "2023-03-04T07:44:20.774183Z"
    }
   },
   "outputs": [],
   "source": [
    "data = data.rename(columns={ data.columns[19]: '가을', data.columns[20]: '여름겨울', data.columns[21]: '봄'})"
   ]
  },
  {
   "cell_type": "code",
   "execution_count": 26,
   "id": "6dacbe0c",
   "metadata": {
    "ExecuteTime": {
     "end_time": "2023-03-04T07:44:20.801885Z",
     "start_time": "2023-03-04T07:44:20.788169Z"
    }
   },
   "outputs": [
    {
     "data": {
      "text/html": [
       "<div>\n",
       "<style scoped>\n",
       "    .dataframe tbody tr th:only-of-type {\n",
       "        vertical-align: middle;\n",
       "    }\n",
       "\n",
       "    .dataframe tbody tr th {\n",
       "        vertical-align: top;\n",
       "    }\n",
       "\n",
       "    .dataframe thead th {\n",
       "        text-align: right;\n",
       "    }\n",
       "</style>\n",
       "<table border=\"1\" class=\"dataframe\">\n",
       "  <thead>\n",
       "    <tr style=\"text-align: right;\">\n",
       "      <th></th>\n",
       "      <th>피해면적</th>\n",
       "      <th>상대습도</th>\n",
       "      <th>상대습도_1days_prev</th>\n",
       "      <th>상대습도_2days_prev</th>\n",
       "      <th>상대습도_3days_prev</th>\n",
       "      <th>상대습도_4days_prev</th>\n",
       "      <th>실효습도</th>\n",
       "      <th>기온</th>\n",
       "      <th>강수량</th>\n",
       "      <th>풍속</th>\n",
       "      <th>기온_1days_prev</th>\n",
       "      <th>기온_2days_prev</th>\n",
       "      <th>기온_3days_prev</th>\n",
       "      <th>기온_4days_prev</th>\n",
       "      <th>강수량_1days_prev</th>\n",
       "      <th>강수량_2days_prev</th>\n",
       "      <th>강수량_3days_prev</th>\n",
       "      <th>강수량_4days_prev</th>\n",
       "      <th>임상도</th>\n",
       "      <th>가을</th>\n",
       "      <th>여름겨울</th>\n",
       "      <th>봄</th>\n",
       "    </tr>\n",
       "  </thead>\n",
       "  <tbody>\n",
       "    <tr>\n",
       "      <th>0</th>\n",
       "      <td>0.50</td>\n",
       "      <td>41.8</td>\n",
       "      <td>45.5</td>\n",
       "      <td>48.6</td>\n",
       "      <td>48.6</td>\n",
       "      <td>50.74939</td>\n",
       "      <td>39.662659</td>\n",
       "      <td>-3.8</td>\n",
       "      <td>0.0</td>\n",
       "      <td>1.7</td>\n",
       "      <td>-2.7</td>\n",
       "      <td>2.2</td>\n",
       "      <td>-2.4</td>\n",
       "      <td>-1.340828</td>\n",
       "      <td>0.0</td>\n",
       "      <td>0.0</td>\n",
       "      <td>0.0</td>\n",
       "      <td>0.0</td>\n",
       "      <td>D</td>\n",
       "      <td>0</td>\n",
       "      <td>1</td>\n",
       "      <td>0</td>\n",
       "    </tr>\n",
       "    <tr>\n",
       "      <th>1</th>\n",
       "      <td>0.06</td>\n",
       "      <td>45.0</td>\n",
       "      <td>40.1</td>\n",
       "      <td>48.3</td>\n",
       "      <td>61.8</td>\n",
       "      <td>63.90000</td>\n",
       "      <td>39.983037</td>\n",
       "      <td>-3.6</td>\n",
       "      <td>0.0</td>\n",
       "      <td>2.6</td>\n",
       "      <td>-6.6</td>\n",
       "      <td>-5.9</td>\n",
       "      <td>-1.4</td>\n",
       "      <td>-2.600000</td>\n",
       "      <td>0.0</td>\n",
       "      <td>0.0</td>\n",
       "      <td>0.0</td>\n",
       "      <td>0.0</td>\n",
       "      <td>D</td>\n",
       "      <td>0</td>\n",
       "      <td>1</td>\n",
       "      <td>0</td>\n",
       "    </tr>\n",
       "  </tbody>\n",
       "</table>\n",
       "</div>"
      ],
      "text/plain": [
       "   피해면적  상대습도  상대습도_1days_prev  상대습도_2days_prev  상대습도_3days_prev  \\\n",
       "0  0.50  41.8             45.5             48.6             48.6   \n",
       "1  0.06  45.0             40.1             48.3             61.8   \n",
       "\n",
       "   상대습도_4days_prev       실효습도   기온  강수량   풍속  기온_1days_prev  기온_2days_prev  \\\n",
       "0         50.74939  39.662659 -3.8  0.0  1.7           -2.7            2.2   \n",
       "1         63.90000  39.983037 -3.6  0.0  2.6           -6.6           -5.9   \n",
       "\n",
       "   기온_3days_prev  기온_4days_prev  강수량_1days_prev  강수량_2days_prev  \\\n",
       "0           -2.4      -1.340828             0.0             0.0   \n",
       "1           -1.4      -2.600000             0.0             0.0   \n",
       "\n",
       "   강수량_3days_prev  강수량_4days_prev 임상도  가을  여름겨울  봄  \n",
       "0             0.0             0.0   D   0     1  0  \n",
       "1             0.0             0.0   D   0     1  0  "
      ]
     },
     "execution_count": 26,
     "metadata": {},
     "output_type": "execute_result"
    }
   ],
   "source": [
    "data.head(2)"
   ]
  },
  {
   "cell_type": "markdown",
   "id": "77648fb9",
   "metadata": {},
   "source": [
    "## 피해면적을 범위로 분류"
   ]
  },
  {
   "cell_type": "code",
   "execution_count": 27,
   "id": "5c07647a",
   "metadata": {
    "ExecuteTime": {
     "end_time": "2023-03-04T07:44:21.806587Z",
     "start_time": "2023-03-04T07:44:20.802883Z"
    }
   },
   "outputs": [],
   "source": [
    "for i in range(len(data)):\n",
    "    if data['피해면적'][i]<0.1 :\n",
    "        data['피해면적'][i]=1\n",
    "    elif (data['피해면적'][i]>=0.1) & (data['피해면적'][i]<0.5) :\n",
    "        data['피해면적'][i]=2\n",
    "    elif (data['피해면적'][i]>=0.5) & (data['피해면적'][i]<5) :\n",
    "        data['피해면적'][i]=3\n",
    "    else :\n",
    "        data['피해면적'][i]=4"
   ]
  },
  {
   "cell_type": "code",
   "execution_count": 28,
   "id": "d8c82ab1",
   "metadata": {
    "ExecuteTime": {
     "end_time": "2023-03-04T07:44:21.821579Z",
     "start_time": "2023-03-04T07:44:21.813097Z"
    }
   },
   "outputs": [],
   "source": [
    "# for i in range(len(data)):\n",
    "#     if data['강수량'][i]<3 :\n",
    "#         data['강수량'][i]=0\n",
    "#     else :\n",
    "#         data['강수량'][i]=1\n",
    "        \n",
    "# for i in range(len(data)):\n",
    "#     if data['강수량_1days_prev'][i]<3 :\n",
    "#         data['강수량_1days_prev'][i]=0\n",
    "#     else :\n",
    "#         data['강수량_1days_prev'][i]=1\n",
    "        \n",
    "# for i in range(len(data)):\n",
    "#     if data['강수량_2days_prev'][i]<3 :\n",
    "#         data['강수량_2days_prev'][i]=0\n",
    "#     else :\n",
    "#         data['강수량_2days_prev'][i]=1\n",
    "        \n",
    "# for i in range(len(data)):\n",
    "#     if data['강수량_3days_prev'][i]<3 :\n",
    "#         data['강수량_3days_prev'][i]=0\n",
    "#     else :\n",
    "#         data['강수량_3days_prev'][i]=1\n",
    "        \n",
    "# for i in range(len(data)):\n",
    "#     if data['강수량_4days_prev'][i]<3 :\n",
    "#         data['강수량_4days_prev'][i]=0\n",
    "#     else :\n",
    "#         data['강수량_4days_prev'][i]=1"
   ]
  },
  {
   "cell_type": "code",
   "execution_count": 29,
   "id": "66952613",
   "metadata": {
    "ExecuteTime": {
     "end_time": "2023-03-04T07:44:21.837060Z",
     "start_time": "2023-03-04T07:44:21.822578Z"
    }
   },
   "outputs": [],
   "source": [
    "nan_cols = data.columns[data.isna().any()].tolist()"
   ]
  },
  {
   "cell_type": "code",
   "execution_count": 30,
   "id": "46f4164e",
   "metadata": {
    "ExecuteTime": {
     "end_time": "2023-03-04T07:44:21.852718Z",
     "start_time": "2023-03-04T07:44:21.839054Z"
    }
   },
   "outputs": [],
   "source": [
    "data = data.dropna(subset=nan_cols)"
   ]
  },
  {
   "cell_type": "code",
   "execution_count": 31,
   "id": "9b011678",
   "metadata": {
    "ExecuteTime": {
     "end_time": "2023-03-04T07:44:21.868188Z",
     "start_time": "2023-03-04T07:44:21.853714Z"
    }
   },
   "outputs": [
    {
     "name": "stdout",
     "output_type": "stream",
     "text": [
      "<class 'pandas.core.frame.DataFrame'>\n",
      "Int64Index: 4922 entries, 0 to 10012\n",
      "Data columns (total 22 columns):\n",
      " #   Column           Non-Null Count  Dtype  \n",
      "---  ------           --------------  -----  \n",
      " 0   피해면적             4922 non-null   float64\n",
      " 1   상대습도             4922 non-null   float64\n",
      " 2   상대습도_1days_prev  4922 non-null   float64\n",
      " 3   상대습도_2days_prev  4922 non-null   float64\n",
      " 4   상대습도_3days_prev  4922 non-null   float64\n",
      " 5   상대습도_4days_prev  4922 non-null   float64\n",
      " 6   실효습도             4922 non-null   float64\n",
      " 7   기온               4922 non-null   float64\n",
      " 8   강수량              4922 non-null   float64\n",
      " 9   풍속               4922 non-null   float64\n",
      " 10  기온_1days_prev    4922 non-null   float64\n",
      " 11  기온_2days_prev    4922 non-null   float64\n",
      " 12  기온_3days_prev    4922 non-null   float64\n",
      " 13  기온_4days_prev    4922 non-null   float64\n",
      " 14  강수량_1days_prev   4922 non-null   float64\n",
      " 15  강수량_2days_prev   4922 non-null   float64\n",
      " 16  강수량_3days_prev   4922 non-null   float64\n",
      " 17  강수량_4days_prev   4922 non-null   float64\n",
      " 18  임상도              4922 non-null   object \n",
      " 19  가을               4922 non-null   uint8  \n",
      " 20  여름겨울             4922 non-null   uint8  \n",
      " 21  봄                4922 non-null   uint8  \n",
      "dtypes: float64(18), object(1), uint8(3)\n",
      "memory usage: 783.5+ KB\n"
     ]
    }
   ],
   "source": [
    "data.info()"
   ]
  },
  {
   "cell_type": "code",
   "execution_count": 32,
   "id": "c54863b2",
   "metadata": {
    "ExecuteTime": {
     "end_time": "2023-03-04T07:44:21.883260Z",
     "start_time": "2023-03-04T07:44:21.869184Z"
    }
   },
   "outputs": [
    {
     "data": {
      "text/plain": [
       "2.0    1917\n",
       "1.0    1703\n",
       "3.0    1115\n",
       "4.0     187\n",
       "Name: 피해면적, dtype: int64"
      ]
     },
     "execution_count": 32,
     "metadata": {},
     "output_type": "execute_result"
    }
   ],
   "source": [
    "data['피해면적'].value_counts()"
   ]
  },
  {
   "cell_type": "markdown",
   "id": "bb6a3b00",
   "metadata": {},
   "source": [
    "## 임상도를 라벨 인코딩하기"
   ]
  },
  {
   "cell_type": "code",
   "execution_count": 33,
   "id": "2aedd27c",
   "metadata": {
    "ExecuteTime": {
     "end_time": "2023-03-04T07:44:21.898490Z",
     "start_time": "2023-03-04T07:44:21.884259Z"
    },
    "scrolled": false
   },
   "outputs": [
    {
     "data": {
      "text/plain": [
       "D      1648\n",
       "M      1376\n",
       "H       645\n",
       "PR      387\n",
       "PL      273\n",
       "PK      185\n",
       "R        90\n",
       "PC       63\n",
       "PCa      61\n",
       "PT       58\n",
       "L        54\n",
       "PH       38\n",
       "O        15\n",
       "PD       13\n",
       "B         7\n",
       "W         3\n",
       "LP        3\n",
       "Q         2\n",
       "PCr       1\n",
       "Name: 임상도, dtype: int64"
      ]
     },
     "execution_count": 33,
     "metadata": {},
     "output_type": "execute_result"
    }
   ],
   "source": [
    "data['임상도'].value_counts()"
   ]
  },
  {
   "cell_type": "code",
   "execution_count": 34,
   "id": "86197a3b",
   "metadata": {
    "ExecuteTime": {
     "end_time": "2023-03-04T07:44:21.913478Z",
     "start_time": "2023-03-04T07:44:21.899994Z"
    }
   },
   "outputs": [],
   "source": [
    "data=data.reset_index(drop=True)"
   ]
  },
  {
   "cell_type": "markdown",
   "id": "2de2a937",
   "metadata": {},
   "source": [
    "### 선행연구에 따라 라벨부여\n",
    "- 추후 풍속+임상데이터 피쳐 추가 고려"
   ]
  },
  {
   "cell_type": "code",
   "execution_count": 35,
   "id": "b1979a84",
   "metadata": {
    "ExecuteTime": {
     "end_time": "2023-03-04T07:44:22.430594Z",
     "start_time": "2023-03-04T07:44:21.914474Z"
    }
   },
   "outputs": [],
   "source": [
    "for i in range(len(data)):\n",
    "    if data['임상도'][i] in ['D','PR','PL','PK','PC','PT','L','PD','PCr']:\n",
    "        data['임상도'][i] = 3\n",
    "    elif data['임상도'][i]=='M':\n",
    "        data['임상도'][i] = 2\n",
    "    else:\n",
    "        data['임상도'][i] = 1"
   ]
  },
  {
   "cell_type": "code",
   "execution_count": 36,
   "id": "f3f4d6f5",
   "metadata": {
    "ExecuteTime": {
     "end_time": "2023-03-04T07:44:22.445327Z",
     "start_time": "2023-03-04T07:44:22.431593Z"
    }
   },
   "outputs": [
    {
     "data": {
      "text/plain": [
       "3    2682\n",
       "2    1376\n",
       "1     864\n",
       "Name: 임상도, dtype: int64"
      ]
     },
     "execution_count": 36,
     "metadata": {},
     "output_type": "execute_result"
    }
   ],
   "source": [
    "data['임상도'].value_counts()"
   ]
  },
  {
   "cell_type": "code",
   "execution_count": 37,
   "id": "b4d09fe3",
   "metadata": {
    "ExecuteTime": {
     "end_time": "2023-03-04T07:44:22.461030Z",
     "start_time": "2023-03-04T07:44:22.448321Z"
    }
   },
   "outputs": [],
   "source": [
    "#data = pd.get_dummies(data = data, columns = ['임상도'], prefix = '임상도')"
   ]
  },
  {
   "cell_type": "code",
   "execution_count": 38,
   "id": "f072a003",
   "metadata": {
    "ExecuteTime": {
     "end_time": "2023-03-04T07:44:22.476490Z",
     "start_time": "2023-03-04T07:44:22.462028Z"
    }
   },
   "outputs": [],
   "source": [
    "#data.drop(['봄','여름겨울','가을'],axis=1,inplace=True)"
   ]
  },
  {
   "cell_type": "code",
   "execution_count": 39,
   "id": "eac6551c",
   "metadata": {
    "ExecuteTime": {
     "end_time": "2023-03-04T07:44:22.537925Z",
     "start_time": "2023-03-04T07:44:22.478484Z"
    }
   },
   "outputs": [],
   "source": [
    "#data.drop(['강수량','강수량_1days_prev','강수량_2days_prev','강수량_3days_prev','강수량_4days_prev'],axis=1,inplace=True)"
   ]
  },
  {
   "cell_type": "code",
   "execution_count": 40,
   "id": "a448daa4",
   "metadata": {
    "ExecuteTime": {
     "end_time": "2023-03-04T07:44:22.568323Z",
     "start_time": "2023-03-04T07:44:22.543443Z"
    }
   },
   "outputs": [
    {
     "data": {
      "text/html": [
       "<div>\n",
       "<style scoped>\n",
       "    .dataframe tbody tr th:only-of-type {\n",
       "        vertical-align: middle;\n",
       "    }\n",
       "\n",
       "    .dataframe tbody tr th {\n",
       "        vertical-align: top;\n",
       "    }\n",
       "\n",
       "    .dataframe thead th {\n",
       "        text-align: right;\n",
       "    }\n",
       "</style>\n",
       "<table border=\"1\" class=\"dataframe\">\n",
       "  <thead>\n",
       "    <tr style=\"text-align: right;\">\n",
       "      <th></th>\n",
       "      <th>피해면적</th>\n",
       "      <th>상대습도</th>\n",
       "      <th>상대습도_1days_prev</th>\n",
       "      <th>상대습도_2days_prev</th>\n",
       "      <th>상대습도_3days_prev</th>\n",
       "      <th>상대습도_4days_prev</th>\n",
       "      <th>실효습도</th>\n",
       "      <th>기온</th>\n",
       "      <th>강수량</th>\n",
       "      <th>풍속</th>\n",
       "      <th>기온_1days_prev</th>\n",
       "      <th>기온_2days_prev</th>\n",
       "      <th>기온_3days_prev</th>\n",
       "      <th>기온_4days_prev</th>\n",
       "      <th>강수량_1days_prev</th>\n",
       "      <th>강수량_2days_prev</th>\n",
       "      <th>강수량_3days_prev</th>\n",
       "      <th>강수량_4days_prev</th>\n",
       "      <th>임상도</th>\n",
       "      <th>가을</th>\n",
       "      <th>여름겨울</th>\n",
       "      <th>봄</th>\n",
       "    </tr>\n",
       "  </thead>\n",
       "  <tbody>\n",
       "    <tr>\n",
       "      <th>0</th>\n",
       "      <td>3.0</td>\n",
       "      <td>41.8</td>\n",
       "      <td>45.500000</td>\n",
       "      <td>48.600000</td>\n",
       "      <td>48.600000</td>\n",
       "      <td>50.749390</td>\n",
       "      <td>39.662659</td>\n",
       "      <td>-3.8</td>\n",
       "      <td>0.0</td>\n",
       "      <td>1.7</td>\n",
       "      <td>-2.7</td>\n",
       "      <td>2.2</td>\n",
       "      <td>-2.4</td>\n",
       "      <td>-1.340828</td>\n",
       "      <td>0.0</td>\n",
       "      <td>0.0</td>\n",
       "      <td>0.0</td>\n",
       "      <td>0.0</td>\n",
       "      <td>3</td>\n",
       "      <td>0</td>\n",
       "      <td>1</td>\n",
       "      <td>0</td>\n",
       "    </tr>\n",
       "    <tr>\n",
       "      <th>1</th>\n",
       "      <td>1.0</td>\n",
       "      <td>45.0</td>\n",
       "      <td>40.100000</td>\n",
       "      <td>48.300000</td>\n",
       "      <td>61.800000</td>\n",
       "      <td>63.900000</td>\n",
       "      <td>39.983037</td>\n",
       "      <td>-3.6</td>\n",
       "      <td>0.0</td>\n",
       "      <td>2.6</td>\n",
       "      <td>-6.6</td>\n",
       "      <td>-5.9</td>\n",
       "      <td>-1.4</td>\n",
       "      <td>-2.600000</td>\n",
       "      <td>0.0</td>\n",
       "      <td>0.0</td>\n",
       "      <td>0.0</td>\n",
       "      <td>0.0</td>\n",
       "      <td>3</td>\n",
       "      <td>0</td>\n",
       "      <td>1</td>\n",
       "      <td>0</td>\n",
       "    </tr>\n",
       "    <tr>\n",
       "      <th>2</th>\n",
       "      <td>2.0</td>\n",
       "      <td>44.5</td>\n",
       "      <td>58.900000</td>\n",
       "      <td>68.300000</td>\n",
       "      <td>48.140230</td>\n",
       "      <td>47.979310</td>\n",
       "      <td>39.826104</td>\n",
       "      <td>-8.1</td>\n",
       "      <td>0.0</td>\n",
       "      <td>1.8</td>\n",
       "      <td>-4.8</td>\n",
       "      <td>-7.3</td>\n",
       "      <td>-4.9</td>\n",
       "      <td>-0.200000</td>\n",
       "      <td>0.5</td>\n",
       "      <td>0.0</td>\n",
       "      <td>0.0</td>\n",
       "      <td>0.0</td>\n",
       "      <td>3</td>\n",
       "      <td>0</td>\n",
       "      <td>1</td>\n",
       "      <td>0</td>\n",
       "    </tr>\n",
       "    <tr>\n",
       "      <th>3</th>\n",
       "      <td>1.0</td>\n",
       "      <td>35.4</td>\n",
       "      <td>37.900000</td>\n",
       "      <td>44.100000</td>\n",
       "      <td>29.800000</td>\n",
       "      <td>42.339062</td>\n",
       "      <td>32.888604</td>\n",
       "      <td>-6.1</td>\n",
       "      <td>0.0</td>\n",
       "      <td>8.5</td>\n",
       "      <td>-4.2</td>\n",
       "      <td>0.8</td>\n",
       "      <td>-2.4</td>\n",
       "      <td>-1.000000</td>\n",
       "      <td>0.0</td>\n",
       "      <td>0.0</td>\n",
       "      <td>0.0</td>\n",
       "      <td>0.0</td>\n",
       "      <td>1</td>\n",
       "      <td>0</td>\n",
       "      <td>1</td>\n",
       "      <td>0</td>\n",
       "    </tr>\n",
       "    <tr>\n",
       "      <th>4</th>\n",
       "      <td>3.0</td>\n",
       "      <td>29.8</td>\n",
       "      <td>39.157812</td>\n",
       "      <td>40.301538</td>\n",
       "      <td>40.449231</td>\n",
       "      <td>42.339062</td>\n",
       "      <td>32.888604</td>\n",
       "      <td>0.8</td>\n",
       "      <td>0.0</td>\n",
       "      <td>3.4</td>\n",
       "      <td>3.3</td>\n",
       "      <td>5.8</td>\n",
       "      <td>3.8</td>\n",
       "      <td>3.700000</td>\n",
       "      <td>0.0</td>\n",
       "      <td>0.0</td>\n",
       "      <td>0.0</td>\n",
       "      <td>0.0</td>\n",
       "      <td>3</td>\n",
       "      <td>0</td>\n",
       "      <td>1</td>\n",
       "      <td>0</td>\n",
       "    </tr>\n",
       "  </tbody>\n",
       "</table>\n",
       "</div>"
      ],
      "text/plain": [
       "   피해면적  상대습도  상대습도_1days_prev  상대습도_2days_prev  상대습도_3days_prev  \\\n",
       "0   3.0  41.8        45.500000        48.600000        48.600000   \n",
       "1   1.0  45.0        40.100000        48.300000        61.800000   \n",
       "2   2.0  44.5        58.900000        68.300000        48.140230   \n",
       "3   1.0  35.4        37.900000        44.100000        29.800000   \n",
       "4   3.0  29.8        39.157812        40.301538        40.449231   \n",
       "\n",
       "   상대습도_4days_prev       실효습도   기온  강수량   풍속  기온_1days_prev  기온_2days_prev  \\\n",
       "0        50.749390  39.662659 -3.8  0.0  1.7           -2.7            2.2   \n",
       "1        63.900000  39.983037 -3.6  0.0  2.6           -6.6           -5.9   \n",
       "2        47.979310  39.826104 -8.1  0.0  1.8           -4.8           -7.3   \n",
       "3        42.339062  32.888604 -6.1  0.0  8.5           -4.2            0.8   \n",
       "4        42.339062  32.888604  0.8  0.0  3.4            3.3            5.8   \n",
       "\n",
       "   기온_3days_prev  기온_4days_prev  강수량_1days_prev  강수량_2days_prev  \\\n",
       "0           -2.4      -1.340828             0.0             0.0   \n",
       "1           -1.4      -2.600000             0.0             0.0   \n",
       "2           -4.9      -0.200000             0.5             0.0   \n",
       "3           -2.4      -1.000000             0.0             0.0   \n",
       "4            3.8       3.700000             0.0             0.0   \n",
       "\n",
       "   강수량_3days_prev  강수량_4days_prev 임상도  가을  여름겨울  봄  \n",
       "0             0.0             0.0   3   0     1  0  \n",
       "1             0.0             0.0   3   0     1  0  \n",
       "2             0.0             0.0   3   0     1  0  \n",
       "3             0.0             0.0   1   0     1  0  \n",
       "4             0.0             0.0   3   0     1  0  "
      ]
     },
     "execution_count": 40,
     "metadata": {},
     "output_type": "execute_result"
    }
   ],
   "source": [
    "data.head()"
   ]
  },
  {
   "cell_type": "markdown",
   "id": "a8b51a22",
   "metadata": {},
   "source": [
    "## 상관관계 확인"
   ]
  },
  {
   "cell_type": "code",
   "execution_count": 41,
   "id": "c82e48b3",
   "metadata": {
    "ExecuteTime": {
     "end_time": "2023-03-04T07:44:22.826060Z",
     "start_time": "2023-03-04T07:44:22.569320Z"
    }
   },
   "outputs": [
    {
     "data": {
      "text/plain": [
       "<AxesSubplot:>"
      ]
     },
     "execution_count": 41,
     "metadata": {},
     "output_type": "execute_result"
    },
    {
     "data": {
      "image/png": "[encoded data removed]",
      "text/plain": [
       "<Figure size 1000x800 with 2 Axes>"
      ]
     },
     "metadata": {},
     "output_type": "display_data"
    }
   ],
   "source": [
    "heatmap_data = data[['피해면적','상대습도', '기온', '강수량', '풍속', '실효습도','임상도']]\n",
    "colormap = plt.cm.PuBu\n",
    "plt.figure(figsize=(10, 8))\n",
    "sns.heatmap(heatmap_data.astype(float).corr(), linewidths = 0.1, vmax = 1.0,\n",
    "           square = True, cmap = colormap, linecolor = \"white\", annot = True, annot_kws = {\"size\" : 16})"
   ]
  },
  {
   "cell_type": "markdown",
   "id": "02d6d1e0",
   "metadata": {},
   "source": [
    "## 데이터 분할"
   ]
  },
  {
   "cell_type": "code",
   "execution_count": 42,
   "id": "993bc888",
   "metadata": {
    "ExecuteTime": {
     "end_time": "2023-03-04T07:44:22.841067Z",
     "start_time": "2023-03-04T07:44:22.827057Z"
    }
   },
   "outputs": [
    {
     "name": "stdout",
     "output_type": "stream",
     "text": [
      "(4922, 22) (4922,)\n"
     ]
    }
   ],
   "source": [
    "from sklearn.ensemble import RandomForestClassifier\n",
    "from sklearn.metrics import accuracy_score\n",
    "from sklearn.model_selection import train_test_split\n",
    "\n",
    "train=data\n",
    "\n",
    "target = train['피해면적'][:len(train)]\n",
    "\n",
    "print(train.shape, target.shape)\n",
    "\n",
    "train.drop(['피해면적'],axis=1,inplace=True)"
   ]
  },
  {
   "cell_type": "code",
   "execution_count": 43,
   "id": "ac7a5f63",
   "metadata": {
    "ExecuteTime": {
     "end_time": "2023-03-04T07:44:22.856056Z",
     "start_time": "2023-03-04T07:44:22.844059Z"
    }
   },
   "outputs": [
    {
     "name": "stdout",
     "output_type": "stream",
     "text": [
      "(3937, 21) (985, 21) (3937,) (985,)\n"
     ]
    }
   ],
   "source": [
    "X_train, X_test, y_train, y_test = train_test_split(train, target, test_size=0.2, stratify=target,random_state=42) \n",
    "\n",
    "print(X_train.shape, X_test.shape,  y_train.shape, y_test.shape )"
   ]
  },
  {
   "cell_type": "code",
   "execution_count": 44,
   "id": "8323dd2d",
   "metadata": {
    "ExecuteTime": {
     "end_time": "2023-03-04T07:44:22.871530Z",
     "start_time": "2023-03-04T07:44:22.857053Z"
    }
   },
   "outputs": [
    {
     "name": "stdout",
     "output_type": "stream",
     "text": [
      "<class 'pandas.core.frame.DataFrame'>\n",
      "RangeIndex: 4922 entries, 0 to 4921\n",
      "Data columns (total 21 columns):\n",
      " #   Column           Non-Null Count  Dtype  \n",
      "---  ------           --------------  -----  \n",
      " 0   상대습도             4922 non-null   float64\n",
      " 1   상대습도_1days_prev  4922 non-null   float64\n",
      " 2   상대습도_2days_prev  4922 non-null   float64\n",
      " 3   상대습도_3days_prev  4922 non-null   float64\n",
      " 4   상대습도_4days_prev  4922 non-null   float64\n",
      " 5   실효습도             4922 non-null   float64\n",
      " 6   기온               4922 non-null   float64\n",
      " 7   강수량              4922 non-null   float64\n",
      " 8   풍속               4922 non-null   float64\n",
      " 9   기온_1days_prev    4922 non-null   float64\n",
      " 10  기온_2days_prev    4922 non-null   float64\n",
      " 11  기온_3days_prev    4922 non-null   float64\n",
      " 12  기온_4days_prev    4922 non-null   float64\n",
      " 13  강수량_1days_prev   4922 non-null   float64\n",
      " 14  강수량_2days_prev   4922 non-null   float64\n",
      " 15  강수량_3days_prev   4922 non-null   float64\n",
      " 16  강수량_4days_prev   4922 non-null   float64\n",
      " 17  임상도              4922 non-null   object \n",
      " 18  가을               4922 non-null   uint8  \n",
      " 19  여름겨울             4922 non-null   uint8  \n",
      " 20  봄                4922 non-null   uint8  \n",
      "dtypes: float64(17), object(1), uint8(3)\n",
      "memory usage: 706.7+ KB\n"
     ]
    }
   ],
   "source": [
    "data.info()"
   ]
  },
  {
   "cell_type": "markdown",
   "id": "8f7556c6",
   "metadata": {},
   "source": [
    "# 모델링"
   ]
  },
  {
   "cell_type": "markdown",
   "id": "5cac9cde",
   "metadata": {},
   "source": [
    "## Randomforest"
   ]
  },
  {
   "cell_type": "code",
   "execution_count": 45,
   "id": "774cf7a4",
   "metadata": {
    "ExecuteTime": {
     "end_time": "2023-03-04T07:44:23.781068Z",
     "start_time": "2023-03-04T07:44:22.872529Z"
    }
   },
   "outputs": [
    {
     "data": {
      "text/plain": [
       "RandomForestClassifier(random_state=42)"
      ]
     },
     "execution_count": 45,
     "metadata": {},
     "output_type": "execute_result"
    }
   ],
   "source": [
    "from sklearn.ensemble import RandomForestClassifier\n",
    "from catboost import CatBoostClassifier\n",
    "from sklearn.metrics import accuracy_score\n",
    "\n",
    "model = RandomForestClassifier(n_estimators=100,random_state=42)\n",
    "model.fit(X_train, y_train)"
   ]
  },
  {
   "cell_type": "code",
   "execution_count": 46,
   "id": "8fe87e0c",
   "metadata": {
    "ExecuteTime": {
     "end_time": "2023-03-04T07:44:23.811050Z",
     "start_time": "2023-03-04T07:44:23.783567Z"
    }
   },
   "outputs": [
    {
     "name": "stdout",
     "output_type": "stream",
     "text": [
      "Accuracy is:  0.38274111675126904\n"
     ]
    }
   ],
   "source": [
    "prediction = model.predict(X_test)\n",
    "print(\"Accuracy is: \", accuracy_score(prediction, y_test))\n",
    "acc_RF=accuracy_score(prediction, y_test)"
   ]
  },
  {
   "cell_type": "code",
   "execution_count": 47,
   "id": "9dbf6336",
   "metadata": {
    "ExecuteTime": {
     "end_time": "2023-03-04T07:44:23.932547Z",
     "start_time": "2023-03-04T07:44:23.813048Z"
    }
   },
   "outputs": [
    {
     "data": {
      "image/png": "[encoded data removed]",
      "text/plain": [
       "<Figure size 800x550 with 2 Axes>"
      ]
     },
     "metadata": {},
     "output_type": "display_data"
    }
   ],
   "source": [
    "from sklearn.metrics import confusion_matrix\n",
    "\n",
    "cm = confusion_matrix(y_test, prediction)\n",
    "\n",
    "sns.heatmap(cm, annot=True, cmap=\"Blues\", fmt='g')\n",
    "plt.xlabel(\"Predicted Label\")\n",
    "plt.ylabel(\"True Label\")\n",
    "plt.title(\"Confusion Matrix\")\n",
    "plt.show()\n"
   ]
  },
  {
   "cell_type": "code",
   "execution_count": 48,
   "id": "6ce07d0a",
   "metadata": {
    "ExecuteTime": {
     "end_time": "2023-03-04T07:44:23.947250Z",
     "start_time": "2023-03-04T07:44:23.933544Z"
    }
   },
   "outputs": [
    {
     "name": "stdout",
     "output_type": "stream",
     "text": [
      "Precision: [0.3828125  0.3935743  0.32323232 0.5       ]\n",
      "Recall: [0.43108504 0.51041667 0.14349776 0.05405405]\n"
     ]
    }
   ],
   "source": [
    "from sklearn.metrics import confusion_matrix, precision_score, recall_score\n",
    "\n",
    "precision = precision_score(y_test, prediction, average=None)\n",
    "recall = recall_score(y_test, prediction, average=None)\n",
    "\n",
    "print(\"Precision:\", precision)\n",
    "print(\"Recall:\", recall)"
   ]
  },
  {
   "cell_type": "code",
   "execution_count": 49,
   "id": "16b3bccf",
   "metadata": {
    "ExecuteTime": {
     "end_time": "2023-03-04T07:44:23.962118Z",
     "start_time": "2023-03-04T07:44:23.949242Z"
    }
   },
   "outputs": [
    {
     "name": "stdout",
     "output_type": "stream",
     "text": [
      "f1_score: 0.3623155161837889\n"
     ]
    }
   ],
   "source": [
    "from sklearn.metrics import f1_score\n",
    "f1 = f1_score(y_test, prediction, average='weighted')\n",
    "print(\"f1_score:\", f1)"
   ]
  },
  {
   "cell_type": "markdown",
   "id": "9e0bee64",
   "metadata": {},
   "source": [
    "### 피쳐 중요도"
   ]
  },
  {
   "cell_type": "code",
   "execution_count": 50,
   "id": "1082986f",
   "metadata": {
    "ExecuteTime": {
     "end_time": "2023-03-04T07:44:24.115201Z",
     "start_time": "2023-03-04T07:44:23.963114Z"
    },
    "scrolled": false
   },
   "outputs": [
    {
     "data": {
      "text/plain": [
       "Text(0.5, 0, 'RandomForest Feature Importance')"
      ]
     },
     "execution_count": 50,
     "metadata": {},
     "output_type": "execute_result"
    },
    {
     "data": {
      "image/png": "[encoded data removed]",
      "text/plain": [
       "<Figure size 800x550 with 1 Axes>"
      ]
     },
     "metadata": {},
     "output_type": "display_data"
    }
   ],
   "source": [
    "sorted_feature_importance = model.feature_importances_.argsort()\n",
    "plt.barh(X_test.columns[sorted_feature_importance],\n",
    "        model.feature_importances_[sorted_feature_importance],\n",
    "        color='turquoise')\n",
    "plt.xlabel(\"RandomForest Feature Importance\")"
   ]
  },
  {
   "cell_type": "markdown",
   "id": "6643bbaf",
   "metadata": {},
   "source": [
    "## CatBoost"
   ]
  },
  {
   "cell_type": "code",
   "execution_count": 51,
   "id": "b9edc867",
   "metadata": {
    "ExecuteTime": {
     "end_time": "2023-03-04T07:44:24.661758Z",
     "start_time": "2023-03-04T07:44:24.116199Z"
    },
    "scrolled": true
   },
   "outputs": [
    {
     "name": "stdout",
     "output_type": "stream",
     "text": [
      "Learning rate set to 0.5\n",
      "0:\tlearn: 1.2638658\ttotal: 137ms\tremaining: 13.6s\n",
      "1:\tlearn: 1.2056868\ttotal: 141ms\tremaining: 6.92s\n",
      "2:\tlearn: 1.1726763\ttotal: 144ms\tremaining: 4.67s\n",
      "3:\tlearn: 1.1551416\ttotal: 148ms\tremaining: 3.54s\n",
      "4:\tlearn: 1.1435112\ttotal: 151ms\tremaining: 2.86s\n",
      "5:\tlearn: 1.1294059\ttotal: 155ms\tremaining: 2.42s\n",
      "6:\tlearn: 1.1202104\ttotal: 164ms\tremaining: 2.18s\n",
      "7:\tlearn: 1.1138796\ttotal: 167ms\tremaining: 1.92s\n",
      "8:\tlearn: 1.1080212\ttotal: 170ms\tremaining: 1.71s\n",
      "9:\tlearn: 1.0997547\ttotal: 173ms\tremaining: 1.56s\n",
      "10:\tlearn: 1.0957503\ttotal: 176ms\tremaining: 1.42s\n",
      "11:\tlearn: 1.0872050\ttotal: 179ms\tremaining: 1.31s\n",
      "12:\tlearn: 1.0809627\ttotal: 182ms\tremaining: 1.22s\n",
      "13:\tlearn: 1.0749840\ttotal: 185ms\tremaining: 1.14s\n",
      "14:\tlearn: 1.0646270\ttotal: 190ms\tremaining: 1.08s\n",
      "15:\tlearn: 1.0590601\ttotal: 193ms\tremaining: 1.01s\n",
      "16:\tlearn: 1.0557041\ttotal: 196ms\tremaining: 957ms\n",
      "17:\tlearn: 1.0476218\ttotal: 199ms\tremaining: 908ms\n",
      "18:\tlearn: 1.0432777\ttotal: 202ms\tremaining: 863ms\n",
      "19:\tlearn: 1.0389694\ttotal: 206ms\tremaining: 823ms\n",
      "20:\tlearn: 1.0354727\ttotal: 209ms\tremaining: 786ms\n",
      "21:\tlearn: 1.0292384\ttotal: 212ms\tremaining: 750ms\n",
      "22:\tlearn: 1.0229005\ttotal: 214ms\tremaining: 718ms\n",
      "23:\tlearn: 1.0163303\ttotal: 218ms\tremaining: 689ms\n",
      "24:\tlearn: 1.0096320\ttotal: 224ms\tremaining: 673ms\n",
      "25:\tlearn: 1.0037207\ttotal: 227ms\tremaining: 647ms\n",
      "26:\tlearn: 0.9983897\ttotal: 230ms\tremaining: 622ms\n",
      "27:\tlearn: 0.9932767\ttotal: 233ms\tremaining: 599ms\n",
      "28:\tlearn: 0.9858883\ttotal: 237ms\tremaining: 579ms\n",
      "29:\tlearn: 0.9800137\ttotal: 240ms\tremaining: 560ms\n",
      "30:\tlearn: 0.9738301\ttotal: 243ms\tremaining: 541ms\n",
      "31:\tlearn: 0.9671586\ttotal: 246ms\tremaining: 523ms\n",
      "32:\tlearn: 0.9636815\ttotal: 250ms\tremaining: 508ms\n",
      "33:\tlearn: 0.9587940\ttotal: 254ms\tremaining: 493ms\n",
      "34:\tlearn: 0.9521319\ttotal: 257ms\tremaining: 478ms\n",
      "35:\tlearn: 0.9464349\ttotal: 260ms\tremaining: 463ms\n",
      "36:\tlearn: 0.9417619\ttotal: 264ms\tremaining: 450ms\n",
      "37:\tlearn: 0.9354185\ttotal: 267ms\tremaining: 436ms\n",
      "38:\tlearn: 0.9319335\ttotal: 270ms\tremaining: 422ms\n",
      "39:\tlearn: 0.9270492\ttotal: 273ms\tremaining: 409ms\n",
      "40:\tlearn: 0.9235630\ttotal: 276ms\tremaining: 397ms\n",
      "41:\tlearn: 0.9187510\ttotal: 279ms\tremaining: 385ms\n",
      "42:\tlearn: 0.9141594\ttotal: 283ms\tremaining: 376ms\n",
      "43:\tlearn: 0.9095139\ttotal: 287ms\tremaining: 365ms\n",
      "44:\tlearn: 0.9047143\ttotal: 290ms\tremaining: 355ms\n",
      "45:\tlearn: 0.8998898\ttotal: 293ms\tremaining: 344ms\n",
      "46:\tlearn: 0.8949871\ttotal: 296ms\tremaining: 334ms\n",
      "47:\tlearn: 0.8913456\ttotal: 299ms\tremaining: 324ms\n",
      "48:\tlearn: 0.8882893\ttotal: 302ms\tremaining: 314ms\n",
      "49:\tlearn: 0.8860664\ttotal: 304ms\tremaining: 304ms\n",
      "50:\tlearn: 0.8829372\ttotal: 307ms\tremaining: 295ms\n",
      "51:\tlearn: 0.8804742\ttotal: 311ms\tremaining: 287ms\n",
      "52:\tlearn: 0.8774849\ttotal: 315ms\tremaining: 280ms\n",
      "53:\tlearn: 0.8731977\ttotal: 318ms\tremaining: 271ms\n",
      "54:\tlearn: 0.8701833\ttotal: 321ms\tremaining: 263ms\n",
      "55:\tlearn: 0.8662183\ttotal: 324ms\tremaining: 255ms\n",
      "56:\tlearn: 0.8598611\ttotal: 327ms\tremaining: 247ms\n",
      "57:\tlearn: 0.8544741\ttotal: 330ms\tremaining: 239ms\n",
      "58:\tlearn: 0.8486262\ttotal: 334ms\tremaining: 232ms\n",
      "59:\tlearn: 0.8446642\ttotal: 337ms\tremaining: 224ms\n",
      "60:\tlearn: 0.8425740\ttotal: 340ms\tremaining: 217ms\n",
      "61:\tlearn: 0.8394558\ttotal: 345ms\tremaining: 211ms\n",
      "62:\tlearn: 0.8350312\ttotal: 348ms\tremaining: 204ms\n",
      "63:\tlearn: 0.8317773\ttotal: 351ms\tremaining: 197ms\n",
      "64:\tlearn: 0.8266622\ttotal: 354ms\tremaining: 190ms\n",
      "65:\tlearn: 0.8232624\ttotal: 356ms\tremaining: 184ms\n",
      "66:\tlearn: 0.8185722\ttotal: 360ms\tremaining: 177ms\n",
      "67:\tlearn: 0.8154522\ttotal: 364ms\tremaining: 171ms\n",
      "68:\tlearn: 0.8125893\ttotal: 367ms\tremaining: 165ms\n",
      "69:\tlearn: 0.8097111\ttotal: 370ms\tremaining: 158ms\n",
      "70:\tlearn: 0.8062569\ttotal: 374ms\tremaining: 153ms\n",
      "71:\tlearn: 0.8015237\ttotal: 379ms\tremaining: 147ms\n",
      "72:\tlearn: 0.7987761\ttotal: 382ms\tremaining: 141ms\n",
      "73:\tlearn: 0.7952961\ttotal: 385ms\tremaining: 135ms\n",
      "74:\tlearn: 0.7928039\ttotal: 388ms\tremaining: 129ms\n",
      "75:\tlearn: 0.7888696\ttotal: 391ms\tremaining: 123ms\n",
      "76:\tlearn: 0.7824257\ttotal: 394ms\tremaining: 118ms\n",
      "77:\tlearn: 0.7805591\ttotal: 397ms\tremaining: 112ms\n",
      "78:\tlearn: 0.7761697\ttotal: 400ms\tremaining: 106ms\n",
      "79:\tlearn: 0.7732178\ttotal: 403ms\tremaining: 101ms\n",
      "80:\tlearn: 0.7716857\ttotal: 406ms\tremaining: 95.3ms\n",
      "81:\tlearn: 0.7672223\ttotal: 411ms\tremaining: 90.2ms\n",
      "82:\tlearn: 0.7627638\ttotal: 414ms\tremaining: 84.9ms\n",
      "83:\tlearn: 0.7598984\ttotal: 418ms\tremaining: 79.5ms\n",
      "84:\tlearn: 0.7579158\ttotal: 420ms\tremaining: 74.2ms\n",
      "85:\tlearn: 0.7556496\ttotal: 423ms\tremaining: 68.9ms\n",
      "86:\tlearn: 0.7506057\ttotal: 426ms\tremaining: 63.6ms\n",
      "87:\tlearn: 0.7467691\ttotal: 429ms\tremaining: 58.5ms\n",
      "88:\tlearn: 0.7423932\ttotal: 432ms\tremaining: 53.4ms\n",
      "89:\tlearn: 0.7358972\ttotal: 436ms\tremaining: 48.5ms\n",
      "90:\tlearn: 0.7322376\ttotal: 442ms\tremaining: 43.7ms\n",
      "91:\tlearn: 0.7271419\ttotal: 445ms\tremaining: 38.7ms\n",
      "92:\tlearn: 0.7223584\ttotal: 448ms\tremaining: 33.7ms\n",
      "93:\tlearn: 0.7197237\ttotal: 451ms\tremaining: 28.8ms\n",
      "94:\tlearn: 0.7171273\ttotal: 454ms\tremaining: 23.9ms\n",
      "95:\tlearn: 0.7133104\ttotal: 456ms\tremaining: 19ms\n",
      "96:\tlearn: 0.7111926\ttotal: 459ms\tremaining: 14.2ms\n",
      "97:\tlearn: 0.7085484\ttotal: 463ms\tremaining: 9.44ms\n",
      "98:\tlearn: 0.7046587\ttotal: 466ms\tremaining: 4.7ms\n",
      "99:\tlearn: 0.7019504\ttotal: 470ms\tremaining: 0us\n"
     ]
    },
    {
     "data": {
      "text/plain": [
       "<catboost.core.CatBoostClassifier at 0x2505bb51808>"
      ]
     },
     "execution_count": 51,
     "metadata": {},
     "output_type": "execute_result"
    }
   ],
   "source": [
    "model1 = CatBoostClassifier(n_estimators=100,random_state=42)\n",
    "model1.fit(X_train, y_train)"
   ]
  },
  {
   "cell_type": "code",
   "execution_count": 52,
   "id": "6394f7dc",
   "metadata": {
    "ExecuteTime": {
     "end_time": "2023-03-04T07:44:24.676641Z",
     "start_time": "2023-03-04T07:44:24.662758Z"
    }
   },
   "outputs": [
    {
     "name": "stdout",
     "output_type": "stream",
     "text": [
      "Accuracy is:  0.39898477157360407\n"
     ]
    }
   ],
   "source": [
    "prediction = model1.predict(X_test)\n",
    "print(\"Accuracy is: \", accuracy_score(prediction, y_test))\n",
    "acc_RF=accuracy_score(prediction, y_test)"
   ]
  },
  {
   "cell_type": "code",
   "execution_count": 53,
   "id": "d08d78e2",
   "metadata": {
    "ExecuteTime": {
     "end_time": "2023-03-04T07:44:24.797452Z",
     "start_time": "2023-03-04T07:44:24.677637Z"
    },
    "scrolled": true
   },
   "outputs": [
    {
     "data": {
      "image/png": "[encoded data removed]",
      "text/plain": [
       "<Figure size 800x550 with 2 Axes>"
      ]
     },
     "metadata": {},
     "output_type": "display_data"
    }
   ],
   "source": [
    "cm = confusion_matrix(y_test, prediction)\n",
    "\n",
    "sns.heatmap(cm, annot=True, cmap=\"Blues\", fmt='g')\n",
    "plt.xlabel(\"Predicted Label\")\n",
    "plt.ylabel(\"True Label\")\n",
    "plt.title(\"Confusion Matrix\")\n",
    "plt.show()\n"
   ]
  },
  {
   "cell_type": "code",
   "execution_count": 54,
   "id": "633e6d7d",
   "metadata": {
    "ExecuteTime": {
     "end_time": "2023-03-04T07:44:24.812478Z",
     "start_time": "2023-03-04T07:44:24.799955Z"
    }
   },
   "outputs": [
    {
     "name": "stdout",
     "output_type": "stream",
     "text": [
      "Precision: [0.41428571 0.3970894  0.36912752 0.4       ]\n",
      "Recall: [0.42521994 0.49739583 0.24663677 0.05405405]\n"
     ]
    }
   ],
   "source": [
    "from sklearn.metrics import confusion_matrix, precision_score, recall_score\n",
    "\n",
    "precision = precision_score(y_test, prediction, average=None)\n",
    "recall = recall_score(y_test, prediction, average=None)\n",
    "\n",
    "print(\"Precision:\", precision)\n",
    "print(\"Recall:\", recall)"
   ]
  },
  {
   "cell_type": "code",
   "execution_count": 55,
   "id": "6969e043",
   "metadata": {
    "ExecuteTime": {
     "end_time": "2023-03-04T07:44:24.827962Z",
     "start_time": "2023-03-04T07:44:24.813474Z"
    }
   },
   "outputs": [
    {
     "name": "stdout",
     "output_type": "stream",
     "text": [
      "f1_score: 0.38797726429975593\n"
     ]
    }
   ],
   "source": [
    "from sklearn.metrics import f1_score\n",
    "f1 = f1_score(y_test, prediction, average='weighted')\n",
    "print(\"f1_score:\", f1)"
   ]
  },
  {
   "cell_type": "markdown",
   "id": "eaca130e",
   "metadata": {},
   "source": [
    "### 피쳐 중요도"
   ]
  },
  {
   "cell_type": "code",
   "execution_count": 56,
   "id": "1f79d514",
   "metadata": {
    "ExecuteTime": {
     "end_time": "2023-03-04T07:44:24.964263Z",
     "start_time": "2023-03-04T07:44:24.828959Z"
    }
   },
   "outputs": [
    {
     "data": {
      "text/plain": [
       "Text(0.5, 0, 'CatBoost Feature Importance')"
      ]
     },
     "execution_count": 56,
     "metadata": {},
     "output_type": "execute_result"
    },
    {
     "data": {
      "image/png": "[encoded data removed]",
      "text/plain": [
       "<Figure size 800x550 with 1 Axes>"
      ]
     },
     "metadata": {},
     "output_type": "display_data"
    }
   ],
   "source": [
    "sorted_feature_importance = model1.feature_importances_.argsort()\n",
    "plt.barh(X_test.columns[sorted_feature_importance],\n",
    "        model.feature_importances_[sorted_feature_importance],\n",
    "        color='turquoise')\n",
    "plt.xlabel(\"CatBoost Feature Importance\")"
   ]
  },
  {
   "cell_type": "markdown",
   "id": "328b4897",
   "metadata": {},
   "source": [
    "."
   ]
  },
  {
   "cell_type": "markdown",
   "id": "640afd0e",
   "metadata": {},
   "source": [
    "."
   ]
  }
 ],
 "metadata": {
  "kernelspec": {
   "display_name": "cuda",
   "language": "python",
   "name": "cuda"
  },
  "language_info": {
   "codemirror_mode": {
    "name": "ipython",
    "version": 3
   },
   "file_extension": ".py",
   "mimetype": "text/x-python",
   "name": "python",
   "nbconvert_exporter": "python",
   "pygments_lexer": "ipython3",
   "version": "3.7.13"
  },
  "toc": {
   "base_numbering": 1,
   "nav_menu": {},
   "number_sections": true,
   "sideBar": true,
   "skip_h1_title": false,
   "title_cell": "Table of Contents",
   "title_sidebar": "Contents",
   "toc_cell": false,
   "toc_position": {},
   "toc_section_display": true,
   "toc_window_display": false
  },
  "varInspector": {
   "cols": {
    "lenName": 16,
    "lenType": 16,
    "lenVar": 40
   },
   "kernels_config": {
    "python": {
     "delete_cmd_postfix": "",
     "delete_cmd_prefix": "del ",
     "library": "var_list.py",
     "varRefreshCmd": "print(var_dic_list())"
    },
    "r": {
     "delete_cmd_postfix": ") ",
     "delete_cmd_prefix": "rm(",
     "library": "var_list.r",
     "varRefreshCmd": "cat(var_dic_list()) "
    }
   },
   "types_to_exclude": [
    "module",
    "function",
    "builtin_function_or_method",
    "instance",
    "_Feature"
   ],
   "window_display": false
  }
 },
 "nbformat": 4,
 "nbformat_minor": 5
}
