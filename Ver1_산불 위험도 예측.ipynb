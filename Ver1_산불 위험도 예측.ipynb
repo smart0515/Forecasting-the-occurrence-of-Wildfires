{
 "cells": [
  {
   "cell_type": "code",
   "execution_count": 1,
   "id": "30f5037c",
   "metadata": {
    "ExecuteTime": {
     "end_time": "2023-02-08T07:16:11.083875Z",
     "start_time": "2023-02-08T07:16:08.963691Z"
    }
   },
   "outputs": [],
   "source": [
    "from pycaret.classification import * "
   ]
  },
  {
   "cell_type": "code",
   "execution_count": 2,
   "id": "dac7351d",
   "metadata": {
    "ExecuteTime": {
     "end_time": "2023-02-08T07:16:11.143931Z",
     "start_time": "2023-02-08T07:16:11.084875Z"
    }
   },
   "outputs": [],
   "source": [
    "import pandas as pd\n",
    "import numpy as np\n",
    "import seaborn as sns\n",
    "import matplotlib.pyplot as plt\n",
    "import random\n",
    "from matplotlib import rc\n",
    "import matplotlib.font_manager as fm\n",
    "plt.rcParams['font.family'] = 'Malgun Gothic'\n",
    "%matplotlib inline"
   ]
  },
  {
   "cell_type": "markdown",
   "id": "3ce4a804",
   "metadata": {},
   "source": [
    "# 데이터 불러오기"
   ]
  },
  {
   "cell_type": "code",
   "execution_count": 3,
   "id": "fb462ad4",
   "metadata": {
    "ExecuteTime": {
     "end_time": "2023-02-08T07:16:11.188931Z",
     "start_time": "2023-02-08T07:16:11.145931Z"
    }
   },
   "outputs": [],
   "source": [
    "data_origin=pd.read_csv('wildfire_최종기본데이터 (1).csv',index_col=0)"
   ]
  },
  {
   "cell_type": "code",
   "execution_count": 4,
   "id": "03b7c815",
   "metadata": {
    "ExecuteTime": {
     "end_time": "2023-02-08T07:16:11.203931Z",
     "start_time": "2023-02-08T07:16:11.189931Z"
    }
   },
   "outputs": [],
   "source": [
    "# 거리 22km 이상인 데이터는 쓰지말자\n",
    "data_origin_test = data_origin[data_origin['거리(km)_aws']<=22]"
   ]
  },
  {
   "cell_type": "code",
   "execution_count": 5,
   "id": "df0d7376",
   "metadata": {
    "ExecuteTime": {
     "end_time": "2023-02-08T07:16:11.218931Z",
     "start_time": "2023-02-08T07:16:11.205931Z"
    }
   },
   "outputs": [],
   "source": [
    "# 인덱스 초기화 해주기\n",
    "data_origin_test=data_origin_test.reset_index(drop=True)"
   ]
  },
  {
   "cell_type": "code",
   "execution_count": 6,
   "id": "d3fcc639",
   "metadata": {
    "ExecuteTime": {
     "end_time": "2023-02-08T07:16:11.233931Z",
     "start_time": "2023-02-08T07:16:11.219931Z"
    }
   },
   "outputs": [],
   "source": [
    "# 연도별로 정렬해주기 -> 2021년과 2022년을 정확히 구별하기 위해\n",
    "data_origin_test=data_origin_test.sort_values('년')"
   ]
  },
  {
   "cell_type": "code",
   "execution_count": 7,
   "id": "96ba746f",
   "metadata": {
    "ExecuteTime": {
     "end_time": "2023-02-08T07:16:11.248931Z",
     "start_time": "2023-02-08T07:16:11.234931Z"
    }
   },
   "outputs": [],
   "source": [
    "# 2021년 2022년 인덱스 뒤바뀌었을수있어서 다시 한번 인덱스 정리\n",
    "data_origin_test=data_origin_test.reset_index(drop=True)"
   ]
  },
  {
   "cell_type": "markdown",
   "id": "69719a98",
   "metadata": {},
   "source": [
    "사용하지 않는 피쳐 드롭해주기"
   ]
  },
  {
   "cell_type": "code",
   "execution_count": 8,
   "id": "2857161f",
   "metadata": {
    "ExecuteTime": {
     "end_time": "2023-02-08T07:16:11.263932Z",
     "start_time": "2023-02-08T07:16:11.249931Z"
    }
   },
   "outputs": [],
   "source": [
    "data_origin_test.drop(['평균기온(°C)_asos','거리(km)_aws','거리(km)_asos','평균 풍속(m/s)_asos','일강수량(mm)_asos','월','일','주소','경도','위도','지점_aws','지점_asos','지점명_asos','지점명_aws'],axis=1,inplace=True)"
   ]
  },
  {
   "cell_type": "markdown",
   "id": "1af6050e",
   "metadata": {},
   "source": [
    "## train,test 2022년기준으로 자르기"
   ]
  },
  {
   "cell_type": "code",
   "execution_count": 9,
   "id": "f0e3a81b",
   "metadata": {
    "ExecuteTime": {
     "end_time": "2023-02-08T07:16:11.293931Z",
     "start_time": "2023-02-08T07:16:11.265931Z"
    }
   },
   "outputs": [
    {
     "data": {
      "text/html": [
       "<div>\n",
       "<style scoped>\n",
       "    .dataframe tbody tr th:only-of-type {\n",
       "        vertical-align: middle;\n",
       "    }\n",
       "\n",
       "    .dataframe tbody tr th {\n",
       "        vertical-align: top;\n",
       "    }\n",
       "\n",
       "    .dataframe thead th {\n",
       "        text-align: right;\n",
       "    }\n",
       "</style>\n",
       "<table border=\"1\" class=\"dataframe\">\n",
       "  <thead>\n",
       "    <tr style=\"text-align: right;\">\n",
       "      <th></th>\n",
       "      <th>발생지역</th>\n",
       "      <th>년</th>\n",
       "      <th>피해면적</th>\n",
       "      <th>평균 상대습도(%)_asos</th>\n",
       "      <th>평균기온(°C)_aws</th>\n",
       "      <th>일강수량(mm)_aws</th>\n",
       "      <th>평균 풍속(m/s)_aws</th>\n",
       "      <th>season</th>\n",
       "      <th>실효습도</th>\n",
       "    </tr>\n",
       "  </thead>\n",
       "  <tbody>\n",
       "    <tr>\n",
       "      <th>9362</th>\n",
       "      <td>경기</td>\n",
       "      <td>2021</td>\n",
       "      <td>0.05</td>\n",
       "      <td>60.1</td>\n",
       "      <td>5.0</td>\n",
       "      <td>0.0</td>\n",
       "      <td>0.7</td>\n",
       "      <td>spring</td>\n",
       "      <td>45.368724</td>\n",
       "    </tr>\n",
       "    <tr>\n",
       "      <th>9363</th>\n",
       "      <td>강원</td>\n",
       "      <td>2021</td>\n",
       "      <td>0.02</td>\n",
       "      <td>52.6</td>\n",
       "      <td>18.6</td>\n",
       "      <td>0.0</td>\n",
       "      <td>1.2</td>\n",
       "      <td>spring</td>\n",
       "      <td>49.624608</td>\n",
       "    </tr>\n",
       "    <tr>\n",
       "      <th>9364</th>\n",
       "      <td>경남</td>\n",
       "      <td>2021</td>\n",
       "      <td>0.10</td>\n",
       "      <td>40.6</td>\n",
       "      <td>-3.7</td>\n",
       "      <td>0.0</td>\n",
       "      <td>3.1</td>\n",
       "      <td>others</td>\n",
       "      <td>50.221332</td>\n",
       "    </tr>\n",
       "    <tr>\n",
       "      <th>9365</th>\n",
       "      <td>경북</td>\n",
       "      <td>2021</td>\n",
       "      <td>0.10</td>\n",
       "      <td>43.8</td>\n",
       "      <td>12.0</td>\n",
       "      <td>0.0</td>\n",
       "      <td>1.0</td>\n",
       "      <td>spring</td>\n",
       "      <td>38.512032</td>\n",
       "    </tr>\n",
       "    <tr>\n",
       "      <th>9366</th>\n",
       "      <td>경기</td>\n",
       "      <td>2022</td>\n",
       "      <td>0.13</td>\n",
       "      <td>70.0</td>\n",
       "      <td>15.6</td>\n",
       "      <td>0.0</td>\n",
       "      <td>1.4</td>\n",
       "      <td>spring</td>\n",
       "      <td>54.784107</td>\n",
       "    </tr>\n",
       "  </tbody>\n",
       "</table>\n",
       "</div>"
      ],
      "text/plain": [
       "     발생지역     년  피해면적  평균 상대습도(%)_asos  평균기온(°C)_aws  일강수량(mm)_aws  \\\n",
       "9362   경기  2021  0.05             60.1           5.0           0.0   \n",
       "9363   강원  2021  0.02             52.6          18.6           0.0   \n",
       "9364   경남  2021  0.10             40.6          -3.7           0.0   \n",
       "9365   경북  2021  0.10             43.8          12.0           0.0   \n",
       "9366   경기  2022  0.13             70.0          15.6           0.0   \n",
       "\n",
       "      평균 풍속(m/s)_aws  season       실효습도  \n",
       "9362             0.7  spring  45.368724  \n",
       "9363             1.2  spring  49.624608  \n",
       "9364             3.1  others  50.221332  \n",
       "9365             1.0  spring  38.512032  \n",
       "9366             1.4  spring  54.784107  "
      ]
     },
     "execution_count": 9,
     "metadata": {},
     "output_type": "execute_result"
    }
   ],
   "source": [
    "data_origin_test.iloc[9362:9367]"
   ]
  },
  {
   "cell_type": "markdown",
   "id": "88c6a5da",
   "metadata": {},
   "source": [
    "- 9365까지 2021년 "
   ]
  },
  {
   "cell_type": "code",
   "execution_count": 10,
   "id": "6ec7db18",
   "metadata": {
    "ExecuteTime": {
     "end_time": "2023-02-08T07:16:11.308931Z",
     "start_time": "2023-02-08T07:16:11.295931Z"
    }
   },
   "outputs": [
    {
     "data": {
      "text/plain": [
       "count    10008.000000\n",
       "mean         4.319771\n",
       "std        171.736506\n",
       "min          0.000000\n",
       "25%          0.030000\n",
       "50%          0.100000\n",
       "75%          0.400000\n",
       "max      16301.980000\n",
       "Name: 피해면적, dtype: float64"
      ]
     },
     "execution_count": 10,
     "metadata": {},
     "output_type": "execute_result"
    }
   ],
   "source": [
    "data_origin_test['피해면적'].describe()"
   ]
  },
  {
   "cell_type": "code",
   "execution_count": 11,
   "id": "1adb481c",
   "metadata": {
    "ExecuteTime": {
     "end_time": "2023-02-08T07:16:12.361938Z",
     "start_time": "2023-02-08T07:16:11.309931Z"
    }
   },
   "outputs": [],
   "source": [
    "for i in range(len(data_origin_test)):\n",
    "    if data_origin_test['피해면적'][i]<0.05 :\n",
    "        data_origin_test['피해면적'][i]=1\n",
    "    elif (data_origin_test['피해면적'][i]>=0.05) & (data_origin_test['피해면적'][i]<0.15) :\n",
    "        data_origin_test['피해면적'][i]=2\n",
    "    elif (data_origin_test['피해면적'][i]>=0.1) & (data_origin_test['피해면적'][i]<0.45) :\n",
    "        data_origin_test['피해면적'][i]=3\n",
    "    else :\n",
    "        data_origin_test['피해면적'][i]=4"
   ]
  },
  {
   "cell_type": "code",
   "execution_count": 12,
   "id": "de75545a",
   "metadata": {
    "ExecuteTime": {
     "end_time": "2023-02-08T07:16:12.376963Z",
     "start_time": "2023-02-08T07:16:12.363939Z"
    }
   },
   "outputs": [],
   "source": [
    "data_origin_test = pd.get_dummies(data = data_origin_test, columns = ['season'], prefix = 'season')"
   ]
  },
  {
   "cell_type": "code",
   "execution_count": 13,
   "id": "46b0a9ce",
   "metadata": {
    "ExecuteTime": {
     "end_time": "2023-02-08T07:16:12.391963Z",
     "start_time": "2023-02-08T07:16:12.378963Z"
    }
   },
   "outputs": [],
   "source": [
    "df = data_origin_test"
   ]
  },
  {
   "cell_type": "code",
   "execution_count": 14,
   "id": "6b53b311",
   "metadata": {
    "ExecuteTime": {
     "end_time": "2023-02-08T07:16:12.406963Z",
     "start_time": "2023-02-08T07:16:12.394963Z"
    }
   },
   "outputs": [],
   "source": [
    "data_origin_test.drop(['발생지역','년'],axis=1,inplace=True)"
   ]
  },
  {
   "cell_type": "code",
   "execution_count": 15,
   "id": "bcf8f7fa",
   "metadata": {
    "ExecuteTime": {
     "end_time": "2023-02-08T07:16:12.421963Z",
     "start_time": "2023-02-08T07:16:12.408963Z"
    }
   },
   "outputs": [],
   "source": [
    "df = df.rename(columns={df.columns[0]: '위험도',df.columns[1]: '평균상대습도(%)', df.columns[2]: '평균기온', df.columns[3]: '일강수량(mm)', df.columns[4]: '평균풍속(m/s)',df.columns[5]: '실효습도(%)', df.columns[6]: '가을', df.columns[7]: '여름겨울', df.columns[8]: '봄'})"
   ]
  },
  {
   "cell_type": "code",
   "execution_count": 16,
   "id": "827cd38d",
   "metadata": {
    "ExecuteTime": {
     "end_time": "2023-02-08T07:16:12.436964Z",
     "start_time": "2023-02-08T07:16:12.422963Z"
    }
   },
   "outputs": [],
   "source": [
    "heatmap_data = df[['위험도','평균상대습도(%)', '평균기온', '일강수량(mm)', '평균풍속(m/s)', '실효습도(%)', '가을', '여름겨울',\n",
    "       '봄']]"
   ]
  },
  {
   "cell_type": "code",
   "execution_count": 17,
   "id": "cf985991",
   "metadata": {
    "ExecuteTime": {
     "end_time": "2023-02-08T07:16:12.871963Z",
     "start_time": "2023-02-08T07:16:12.438963Z"
    }
   },
   "outputs": [
    {
     "data": {
      "text/plain": [
       "<AxesSubplot:>"
      ]
     },
     "execution_count": 17,
     "metadata": {},
     "output_type": "execute_result"
    },
    {
     "data": {
      "image/png": "[encoded data removed]",
      "text/plain": [
       "<Figure size 1000x800 with 2 Axes>"
      ]
     },
     "metadata": {},
     "output_type": "display_data"
    }
   ],
   "source": [
    "colormap = plt.cm.PuBu\n",
    "plt.figure(figsize=(10, 8))\n",
    "sns.heatmap(heatmap_data.astype(float).corr(), linewidths = 0.1, vmax = 1.0,\n",
    "           square = True, cmap = colormap, linecolor = \"white\", annot = True, annot_kws = {\"size\" : 16})"
   ]
  },
  {
   "cell_type": "code",
   "execution_count": 18,
   "id": "a252a73f",
   "metadata": {
    "ExecuteTime": {
     "end_time": "2023-02-08T07:16:12.886963Z",
     "start_time": "2023-02-08T07:16:12.873963Z"
    }
   },
   "outputs": [
    {
     "data": {
      "text/html": [
       "<style type=\"text/css\">\n",
       "#T_f03ee_row0_col0, #T_f03ee_row1_col0 {\n",
       "  background-color: #fde725;\n",
       "  color: #000000;\n",
       "}\n",
       "#T_f03ee_row2_col0, #T_f03ee_row3_col0 {\n",
       "  background-color: #29af7f;\n",
       "  color: #f1f1f1;\n",
       "}\n",
       "#T_f03ee_row4_col0, #T_f03ee_row5_col0 {\n",
       "  background-color: #25ac82;\n",
       "  color: #f1f1f1;\n",
       "}\n",
       "#T_f03ee_row6_col0, #T_f03ee_row7_col0 {\n",
       "  background-color: #25ab82;\n",
       "  color: #f1f1f1;\n",
       "}\n",
       "#T_f03ee_row8_col0, #T_f03ee_row9_col0 {\n",
       "  background-color: #24aa83;\n",
       "  color: #f1f1f1;\n",
       "}\n",
       "#T_f03ee_row10_col0, #T_f03ee_row11_col0 {\n",
       "  background-color: #22a884;\n",
       "  color: #f1f1f1;\n",
       "}\n",
       "#T_f03ee_row12_col0, #T_f03ee_row13_col0 {\n",
       "  background-color: #20a386;\n",
       "  color: #f1f1f1;\n",
       "}\n",
       "#T_f03ee_row14_col0, #T_f03ee_row15_col0 {\n",
       "  background-color: #1fa287;\n",
       "  color: #f1f1f1;\n",
       "}\n",
       "#T_f03ee_row16_col0, #T_f03ee_row17_col0 {\n",
       "  background-color: #1fa088;\n",
       "  color: #f1f1f1;\n",
       "}\n",
       "#T_f03ee_row18_col0, #T_f03ee_row19_col0 {\n",
       "  background-color: #1f9e89;\n",
       "  color: #f1f1f1;\n",
       "}\n",
       "#T_f03ee_row20_col0, #T_f03ee_row21_col0 {\n",
       "  background-color: #1e9c89;\n",
       "  color: #f1f1f1;\n",
       "}\n",
       "#T_f03ee_row22_col0, #T_f03ee_row23_col0 {\n",
       "  background-color: #1e9b8a;\n",
       "  color: #f1f1f1;\n",
       "}\n",
       "#T_f03ee_row24_col0, #T_f03ee_row25_col0 {\n",
       "  background-color: #1f9a8a;\n",
       "  color: #f1f1f1;\n",
       "}\n",
       "#T_f03ee_row26_col0, #T_f03ee_row27_col0 {\n",
       "  background-color: #1f998a;\n",
       "  color: #f1f1f1;\n",
       "}\n",
       "#T_f03ee_row28_col0, #T_f03ee_row29_col0 {\n",
       "  background-color: #20928c;\n",
       "  color: #f1f1f1;\n",
       "}\n",
       "#T_f03ee_row30_col0, #T_f03ee_row31_col0 {\n",
       "  background-color: #21918c;\n",
       "  color: #f1f1f1;\n",
       "}\n",
       "#T_f03ee_row32_col0, #T_f03ee_row33_col0, #T_f03ee_row34_col0, #T_f03ee_row35_col0, #T_f03ee_row36_col0, #T_f03ee_row37_col0, #T_f03ee_row38_col0, #T_f03ee_row39_col0 {\n",
       "  background-color: #21908d;\n",
       "  color: #f1f1f1;\n",
       "}\n",
       "#T_f03ee_row40_col0, #T_f03ee_row41_col0 {\n",
       "  background-color: #228c8d;\n",
       "  color: #f1f1f1;\n",
       "}\n",
       "#T_f03ee_row42_col0, #T_f03ee_row43_col0 {\n",
       "  background-color: #23888e;\n",
       "  color: #f1f1f1;\n",
       "}\n",
       "#T_f03ee_row44_col0, #T_f03ee_row45_col0, #T_f03ee_row46_col0, #T_f03ee_row47_col0 {\n",
       "  background-color: #24868e;\n",
       "  color: #f1f1f1;\n",
       "}\n",
       "#T_f03ee_row48_col0, #T_f03ee_row49_col0 {\n",
       "  background-color: #25858e;\n",
       "  color: #f1f1f1;\n",
       "}\n",
       "#T_f03ee_row50_col0, #T_f03ee_row51_col0 {\n",
       "  background-color: #26828e;\n",
       "  color: #f1f1f1;\n",
       "}\n",
       "#T_f03ee_row52_col0, #T_f03ee_row53_col0 {\n",
       "  background-color: #27808e;\n",
       "  color: #f1f1f1;\n",
       "}\n",
       "#T_f03ee_row54_col0, #T_f03ee_row55_col0 {\n",
       "  background-color: #277f8e;\n",
       "  color: #f1f1f1;\n",
       "}\n",
       "#T_f03ee_row56_col0, #T_f03ee_row57_col0 {\n",
       "  background-color: #277e8e;\n",
       "  color: #f1f1f1;\n",
       "}\n",
       "#T_f03ee_row58_col0, #T_f03ee_row59_col0 {\n",
       "  background-color: #297b8e;\n",
       "  color: #f1f1f1;\n",
       "}\n",
       "#T_f03ee_row60_col0, #T_f03ee_row61_col0 {\n",
       "  background-color: #297a8e;\n",
       "  color: #f1f1f1;\n",
       "}\n",
       "#T_f03ee_row62_col0, #T_f03ee_row63_col0 {\n",
       "  background-color: #2b758e;\n",
       "  color: #f1f1f1;\n",
       "}\n",
       "#T_f03ee_row64_col0, #T_f03ee_row65_col0 {\n",
       "  background-color: #2d718e;\n",
       "  color: #f1f1f1;\n",
       "}\n",
       "#T_f03ee_row66_col0, #T_f03ee_row67_col0 {\n",
       "  background-color: #2d708e;\n",
       "  color: #f1f1f1;\n",
       "}\n",
       "#T_f03ee_row68_col0, #T_f03ee_row69_col0 {\n",
       "  background-color: #39568c;\n",
       "  color: #f1f1f1;\n",
       "}\n",
       "#T_f03ee_row70_col0, #T_f03ee_row71_col0 {\n",
       "  background-color: #440154;\n",
       "  color: #f1f1f1;\n",
       "}\n",
       "</style>\n",
       "<table id=\"T_f03ee_\">\n",
       "  <thead>\n",
       "    <tr>\n",
       "      <th class=\"blank\" >&nbsp;</th>\n",
       "      <th class=\"blank level0\" >&nbsp;</th>\n",
       "      <th class=\"col_heading level0 col0\" >corr</th>\n",
       "    </tr>\n",
       "  </thead>\n",
       "  <tbody>\n",
       "    <tr>\n",
       "      <th id=\"T_f03ee_level0_row0\" class=\"row_heading level0 row0\" >실효습도(%)</th>\n",
       "      <th id=\"T_f03ee_level1_row0\" class=\"row_heading level1 row0\" >평균상대습도(%)</th>\n",
       "      <td id=\"T_f03ee_row0_col0\" class=\"data row0 col0\" >0.844497</td>\n",
       "    </tr>\n",
       "    <tr>\n",
       "      <th id=\"T_f03ee_level0_row1\" class=\"row_heading level0 row1\" >평균상대습도(%)</th>\n",
       "      <th id=\"T_f03ee_level1_row1\" class=\"row_heading level1 row1\" >실효습도(%)</th>\n",
       "      <td id=\"T_f03ee_row1_col0\" class=\"data row1 col0\" >0.844497</td>\n",
       "    </tr>\n",
       "    <tr>\n",
       "      <th id=\"T_f03ee_level0_row2\" class=\"row_heading level0 row2\" >평균기온</th>\n",
       "      <th id=\"T_f03ee_level1_row2\" class=\"row_heading level1 row2\" >실효습도(%)</th>\n",
       "      <td id=\"T_f03ee_row2_col0\" class=\"data row2 col0\" >0.218243</td>\n",
       "    </tr>\n",
       "    <tr>\n",
       "      <th id=\"T_f03ee_level0_row3\" class=\"row_heading level0 row3\" >실효습도(%)</th>\n",
       "      <th id=\"T_f03ee_level1_row3\" class=\"row_heading level1 row3\" >평균기온</th>\n",
       "      <td id=\"T_f03ee_row3_col0\" class=\"data row3 col0\" >0.218243</td>\n",
       "    </tr>\n",
       "    <tr>\n",
       "      <th id=\"T_f03ee_level0_row4\" class=\"row_heading level0 row4\" >평균상대습도(%)</th>\n",
       "      <th id=\"T_f03ee_level1_row4\" class=\"row_heading level1 row4\" >평균기온</th>\n",
       "      <td id=\"T_f03ee_row4_col0\" class=\"data row4 col0\" >0.192259</td>\n",
       "    </tr>\n",
       "    <tr>\n",
       "      <th id=\"T_f03ee_level0_row5\" class=\"row_heading level0 row5\" >평균기온</th>\n",
       "      <th id=\"T_f03ee_level1_row5\" class=\"row_heading level1 row5\" >평균상대습도(%)</th>\n",
       "      <td id=\"T_f03ee_row5_col0\" class=\"data row5 col0\" >0.192259</td>\n",
       "    </tr>\n",
       "    <tr>\n",
       "      <th id=\"T_f03ee_level0_row6\" class=\"row_heading level0 row6\" >여름겨울</th>\n",
       "      <th id=\"T_f03ee_level1_row6\" class=\"row_heading level1 row6\" >평균상대습도(%)</th>\n",
       "      <td id=\"T_f03ee_row6_col0\" class=\"data row6 col0\" >0.190722</td>\n",
       "    </tr>\n",
       "    <tr>\n",
       "      <th id=\"T_f03ee_level0_row7\" class=\"row_heading level0 row7\" >평균상대습도(%)</th>\n",
       "      <th id=\"T_f03ee_level1_row7\" class=\"row_heading level1 row7\" >여름겨울</th>\n",
       "      <td id=\"T_f03ee_row7_col0\" class=\"data row7 col0\" >0.190722</td>\n",
       "    </tr>\n",
       "    <tr>\n",
       "      <th id=\"T_f03ee_level0_row8\" class=\"row_heading level0 row8\" >여름겨울</th>\n",
       "      <th id=\"T_f03ee_level1_row8\" class=\"row_heading level1 row8\" >실효습도(%)</th>\n",
       "      <td id=\"T_f03ee_row8_col0\" class=\"data row8 col0\" >0.182561</td>\n",
       "    </tr>\n",
       "    <tr>\n",
       "      <th id=\"T_f03ee_level0_row9\" class=\"row_heading level0 row9\" >실효습도(%)</th>\n",
       "      <th id=\"T_f03ee_level1_row9\" class=\"row_heading level1 row9\" >여름겨울</th>\n",
       "      <td id=\"T_f03ee_row9_col0\" class=\"data row9 col0\" >0.182561</td>\n",
       "    </tr>\n",
       "    <tr>\n",
       "      <th id=\"T_f03ee_level0_row10\" class=\"row_heading level0 row10\" >여름겨울</th>\n",
       "      <th id=\"T_f03ee_level1_row10\" class=\"row_heading level1 row10\" >평균기온</th>\n",
       "      <td id=\"T_f03ee_row10_col0\" class=\"data row10 col0\" >0.164457</td>\n",
       "    </tr>\n",
       "    <tr>\n",
       "      <th id=\"T_f03ee_level0_row11\" class=\"row_heading level0 row11\" >평균기온</th>\n",
       "      <th id=\"T_f03ee_level1_row11\" class=\"row_heading level1 row11\" >여름겨울</th>\n",
       "      <td id=\"T_f03ee_row11_col0\" class=\"data row11 col0\" >0.164457</td>\n",
       "    </tr>\n",
       "    <tr>\n",
       "      <th id=\"T_f03ee_level0_row12\" class=\"row_heading level0 row12\" >평균상대습도(%)</th>\n",
       "      <th id=\"T_f03ee_level1_row12\" class=\"row_heading level1 row12\" >일강수량(mm)</th>\n",
       "      <td id=\"T_f03ee_row12_col0\" class=\"data row12 col0\" >0.135254</td>\n",
       "    </tr>\n",
       "    <tr>\n",
       "      <th id=\"T_f03ee_level0_row13\" class=\"row_heading level0 row13\" >일강수량(mm)</th>\n",
       "      <th id=\"T_f03ee_level1_row13\" class=\"row_heading level1 row13\" >평균상대습도(%)</th>\n",
       "      <td id=\"T_f03ee_row13_col0\" class=\"data row13 col0\" >0.135254</td>\n",
       "    </tr>\n",
       "    <tr>\n",
       "      <th id=\"T_f03ee_level0_row14\" class=\"row_heading level0 row14\" >위험도</th>\n",
       "      <th id=\"T_f03ee_level1_row14\" class=\"row_heading level1 row14\" >봄</th>\n",
       "      <td id=\"T_f03ee_row14_col0\" class=\"data row14 col0\" >0.130281</td>\n",
       "    </tr>\n",
       "    <tr>\n",
       "      <th id=\"T_f03ee_level0_row15\" class=\"row_heading level0 row15\" >봄</th>\n",
       "      <th id=\"T_f03ee_level1_row15\" class=\"row_heading level1 row15\" >위험도</th>\n",
       "      <td id=\"T_f03ee_row15_col0\" class=\"data row15 col0\" >0.130281</td>\n",
       "    </tr>\n",
       "    <tr>\n",
       "      <th id=\"T_f03ee_level0_row16\" class=\"row_heading level0 row16\" >실효습도(%)</th>\n",
       "      <th id=\"T_f03ee_level1_row16\" class=\"row_heading level1 row16\" >가을</th>\n",
       "      <td id=\"T_f03ee_row16_col0\" class=\"data row16 col0\" >0.105423</td>\n",
       "    </tr>\n",
       "    <tr>\n",
       "      <th id=\"T_f03ee_level0_row17\" class=\"row_heading level0 row17\" >가을</th>\n",
       "      <th id=\"T_f03ee_level1_row17\" class=\"row_heading level1 row17\" >실효습도(%)</th>\n",
       "      <td id=\"T_f03ee_row17_col0\" class=\"data row17 col0\" >0.105423</td>\n",
       "    </tr>\n",
       "    <tr>\n",
       "      <th id=\"T_f03ee_level0_row18\" class=\"row_heading level0 row18\" >위험도</th>\n",
       "      <th id=\"T_f03ee_level1_row18\" class=\"row_heading level1 row18\" >평균풍속(m/s)</th>\n",
       "      <td id=\"T_f03ee_row18_col0\" class=\"data row18 col0\" >0.092360</td>\n",
       "    </tr>\n",
       "    <tr>\n",
       "      <th id=\"T_f03ee_level0_row19\" class=\"row_heading level0 row19\" >평균풍속(m/s)</th>\n",
       "      <th id=\"T_f03ee_level1_row19\" class=\"row_heading level1 row19\" >위험도</th>\n",
       "      <td id=\"T_f03ee_row19_col0\" class=\"data row19 col0\" >0.092360</td>\n",
       "    </tr>\n",
       "    <tr>\n",
       "      <th id=\"T_f03ee_level0_row20\" class=\"row_heading level0 row20\" >평균상대습도(%)</th>\n",
       "      <th id=\"T_f03ee_level1_row20\" class=\"row_heading level1 row20\" >가을</th>\n",
       "      <td id=\"T_f03ee_row20_col0\" class=\"data row20 col0\" >0.083762</td>\n",
       "    </tr>\n",
       "    <tr>\n",
       "      <th id=\"T_f03ee_level0_row21\" class=\"row_heading level0 row21\" >가을</th>\n",
       "      <th id=\"T_f03ee_level1_row21\" class=\"row_heading level1 row21\" >평균상대습도(%)</th>\n",
       "      <td id=\"T_f03ee_row21_col0\" class=\"data row21 col0\" >0.083762</td>\n",
       "    </tr>\n",
       "    <tr>\n",
       "      <th id=\"T_f03ee_level0_row22\" class=\"row_heading level0 row22\" >실효습도(%)</th>\n",
       "      <th id=\"T_f03ee_level1_row22\" class=\"row_heading level1 row22\" >일강수량(mm)</th>\n",
       "      <td id=\"T_f03ee_row22_col0\" class=\"data row22 col0\" >0.072665</td>\n",
       "    </tr>\n",
       "    <tr>\n",
       "      <th id=\"T_f03ee_level0_row23\" class=\"row_heading level0 row23\" >일강수량(mm)</th>\n",
       "      <th id=\"T_f03ee_level1_row23\" class=\"row_heading level1 row23\" >실효습도(%)</th>\n",
       "      <td id=\"T_f03ee_row23_col0\" class=\"data row23 col0\" >0.072665</td>\n",
       "    </tr>\n",
       "    <tr>\n",
       "      <th id=\"T_f03ee_level0_row24\" class=\"row_heading level0 row24\" >봄</th>\n",
       "      <th id=\"T_f03ee_level1_row24\" class=\"row_heading level1 row24\" >평균풍속(m/s)</th>\n",
       "      <td id=\"T_f03ee_row24_col0\" class=\"data row24 col0\" >0.069119</td>\n",
       "    </tr>\n",
       "    <tr>\n",
       "      <th id=\"T_f03ee_level0_row25\" class=\"row_heading level0 row25\" >평균풍속(m/s)</th>\n",
       "      <th id=\"T_f03ee_level1_row25\" class=\"row_heading level1 row25\" >봄</th>\n",
       "      <td id=\"T_f03ee_row25_col0\" class=\"data row25 col0\" >0.069119</td>\n",
       "    </tr>\n",
       "    <tr>\n",
       "      <th id=\"T_f03ee_level0_row26\" class=\"row_heading level0 row26\" >평균기온</th>\n",
       "      <th id=\"T_f03ee_level1_row26\" class=\"row_heading level1 row26\" >일강수량(mm)</th>\n",
       "      <td id=\"T_f03ee_row26_col0\" class=\"data row26 col0\" >0.063347</td>\n",
       "    </tr>\n",
       "    <tr>\n",
       "      <th id=\"T_f03ee_level0_row27\" class=\"row_heading level0 row27\" rowspan=\"2\">일강수량(mm)</th>\n",
       "      <th id=\"T_f03ee_level1_row27\" class=\"row_heading level1 row27\" >평균기온</th>\n",
       "      <td id=\"T_f03ee_row27_col0\" class=\"data row27 col0\" >0.063347</td>\n",
       "    </tr>\n",
       "    <tr>\n",
       "      <th id=\"T_f03ee_level1_row28\" class=\"row_heading level1 row28\" >평균풍속(m/s)</th>\n",
       "      <td id=\"T_f03ee_row28_col0\" class=\"data row28 col0\" >0.011598</td>\n",
       "    </tr>\n",
       "    <tr>\n",
       "      <th id=\"T_f03ee_level0_row29\" class=\"row_heading level0 row29\" >평균풍속(m/s)</th>\n",
       "      <th id=\"T_f03ee_level1_row29\" class=\"row_heading level1 row29\" >일강수량(mm)</th>\n",
       "      <td id=\"T_f03ee_row29_col0\" class=\"data row29 col0\" >0.011598</td>\n",
       "    </tr>\n",
       "    <tr>\n",
       "      <th id=\"T_f03ee_level0_row30\" class=\"row_heading level0 row30\" >일강수량(mm)</th>\n",
       "      <th id=\"T_f03ee_level1_row30\" class=\"row_heading level1 row30\" >봄</th>\n",
       "      <td id=\"T_f03ee_row30_col0\" class=\"data row30 col0\" >0.002994</td>\n",
       "    </tr>\n",
       "    <tr>\n",
       "      <th id=\"T_f03ee_level0_row31\" class=\"row_heading level0 row31\" >봄</th>\n",
       "      <th id=\"T_f03ee_level1_row31\" class=\"row_heading level1 row31\" >일강수량(mm)</th>\n",
       "      <td id=\"T_f03ee_row31_col0\" class=\"data row31 col0\" >0.002994</td>\n",
       "    </tr>\n",
       "    <tr>\n",
       "      <th id=\"T_f03ee_level0_row32\" class=\"row_heading level0 row32\" >일강수량(mm)</th>\n",
       "      <th id=\"T_f03ee_level1_row32\" class=\"row_heading level1 row32\" >여름겨울</th>\n",
       "      <td id=\"T_f03ee_row32_col0\" class=\"data row32 col0\" >-0.001069</td>\n",
       "    </tr>\n",
       "    <tr>\n",
       "      <th id=\"T_f03ee_level0_row33\" class=\"row_heading level0 row33\" >여름겨울</th>\n",
       "      <th id=\"T_f03ee_level1_row33\" class=\"row_heading level1 row33\" >일강수량(mm)</th>\n",
       "      <td id=\"T_f03ee_row33_col0\" class=\"data row33 col0\" >-0.001069</td>\n",
       "    </tr>\n",
       "    <tr>\n",
       "      <th id=\"T_f03ee_level0_row34\" class=\"row_heading level0 row34\" >일강수량(mm)</th>\n",
       "      <th id=\"T_f03ee_level1_row34\" class=\"row_heading level1 row34\" >위험도</th>\n",
       "      <td id=\"T_f03ee_row34_col0\" class=\"data row34 col0\" >-0.002942</td>\n",
       "    </tr>\n",
       "    <tr>\n",
       "      <th id=\"T_f03ee_level0_row35\" class=\"row_heading level0 row35\" rowspan=\"2\">위험도</th>\n",
       "      <th id=\"T_f03ee_level1_row35\" class=\"row_heading level1 row35\" >일강수량(mm)</th>\n",
       "      <td id=\"T_f03ee_row35_col0\" class=\"data row35 col0\" >-0.002942</td>\n",
       "    </tr>\n",
       "    <tr>\n",
       "      <th id=\"T_f03ee_level1_row36\" class=\"row_heading level1 row36\" >평균기온</th>\n",
       "      <td id=\"T_f03ee_row36_col0\" class=\"data row36 col0\" >-0.003281</td>\n",
       "    </tr>\n",
       "    <tr>\n",
       "      <th id=\"T_f03ee_level0_row37\" class=\"row_heading level0 row37\" >평균기온</th>\n",
       "      <th id=\"T_f03ee_level1_row37\" class=\"row_heading level1 row37\" >위험도</th>\n",
       "      <td id=\"T_f03ee_row37_col0\" class=\"data row37 col0\" >-0.003281</td>\n",
       "    </tr>\n",
       "    <tr>\n",
       "      <th id=\"T_f03ee_level0_row38\" class=\"row_heading level0 row38\" >가을</th>\n",
       "      <th id=\"T_f03ee_level1_row38\" class=\"row_heading level1 row38\" >일강수량(mm)</th>\n",
       "      <td id=\"T_f03ee_row38_col0\" class=\"data row38 col0\" >-0.003699</td>\n",
       "    </tr>\n",
       "    <tr>\n",
       "      <th id=\"T_f03ee_level0_row39\" class=\"row_heading level0 row39\" >일강수량(mm)</th>\n",
       "      <th id=\"T_f03ee_level1_row39\" class=\"row_heading level1 row39\" >가을</th>\n",
       "      <td id=\"T_f03ee_row39_col0\" class=\"data row39 col0\" >-0.003699</td>\n",
       "    </tr>\n",
       "    <tr>\n",
       "      <th id=\"T_f03ee_level0_row40\" class=\"row_heading level0 row40\" >가을</th>\n",
       "      <th id=\"T_f03ee_level1_row40\" class=\"row_heading level1 row40\" >평균풍속(m/s)</th>\n",
       "      <td id=\"T_f03ee_row40_col0\" class=\"data row40 col0\" >-0.027944</td>\n",
       "    </tr>\n",
       "    <tr>\n",
       "      <th id=\"T_f03ee_level0_row41\" class=\"row_heading level0 row41\" >평균풍속(m/s)</th>\n",
       "      <th id=\"T_f03ee_level1_row41\" class=\"row_heading level1 row41\" >가을</th>\n",
       "      <td id=\"T_f03ee_row41_col0\" class=\"data row41 col0\" >-0.027944</td>\n",
       "    </tr>\n",
       "    <tr>\n",
       "      <th id=\"T_f03ee_level0_row42\" class=\"row_heading level0 row42\" >여름겨울</th>\n",
       "      <th id=\"T_f03ee_level1_row42\" class=\"row_heading level1 row42\" >평균풍속(m/s)</th>\n",
       "      <td id=\"T_f03ee_row42_col0\" class=\"data row42 col0\" >-0.057994</td>\n",
       "    </tr>\n",
       "    <tr>\n",
       "      <th id=\"T_f03ee_level0_row43\" class=\"row_heading level0 row43\" rowspan=\"2\">평균풍속(m/s)</th>\n",
       "      <th id=\"T_f03ee_level1_row43\" class=\"row_heading level1 row43\" >여름겨울</th>\n",
       "      <td id=\"T_f03ee_row43_col0\" class=\"data row43 col0\" >-0.057994</td>\n",
       "    </tr>\n",
       "    <tr>\n",
       "      <th id=\"T_f03ee_level1_row44\" class=\"row_heading level1 row44\" >평균기온</th>\n",
       "      <td id=\"T_f03ee_row44_col0\" class=\"data row44 col0\" >-0.070054</td>\n",
       "    </tr>\n",
       "    <tr>\n",
       "      <th id=\"T_f03ee_level0_row45\" class=\"row_heading level0 row45\" >평균기온</th>\n",
       "      <th id=\"T_f03ee_level1_row45\" class=\"row_heading level1 row45\" >평균풍속(m/s)</th>\n",
       "      <td id=\"T_f03ee_row45_col0\" class=\"data row45 col0\" >-0.070054</td>\n",
       "    </tr>\n",
       "    <tr>\n",
       "      <th id=\"T_f03ee_level0_row46\" class=\"row_heading level0 row46\" >가을</th>\n",
       "      <th id=\"T_f03ee_level1_row46\" class=\"row_heading level1 row46\" >위험도</th>\n",
       "      <td id=\"T_f03ee_row46_col0\" class=\"data row46 col0\" >-0.072955</td>\n",
       "    </tr>\n",
       "    <tr>\n",
       "      <th id=\"T_f03ee_level0_row47\" class=\"row_heading level0 row47\" >위험도</th>\n",
       "      <th id=\"T_f03ee_level1_row47\" class=\"row_heading level1 row47\" >가을</th>\n",
       "      <td id=\"T_f03ee_row47_col0\" class=\"data row47 col0\" >-0.072955</td>\n",
       "    </tr>\n",
       "    <tr>\n",
       "      <th id=\"T_f03ee_level0_row48\" class=\"row_heading level0 row48\" >평균기온</th>\n",
       "      <th id=\"T_f03ee_level1_row48\" class=\"row_heading level1 row48\" >봄</th>\n",
       "      <td id=\"T_f03ee_row48_col0\" class=\"data row48 col0\" >-0.073558</td>\n",
       "    </tr>\n",
       "    <tr>\n",
       "      <th id=\"T_f03ee_level0_row49\" class=\"row_heading level0 row49\" >봄</th>\n",
       "      <th id=\"T_f03ee_level1_row49\" class=\"row_heading level1 row49\" >평균기온</th>\n",
       "      <td id=\"T_f03ee_row49_col0\" class=\"data row49 col0\" >-0.073558</td>\n",
       "    </tr>\n",
       "    <tr>\n",
       "      <th id=\"T_f03ee_level0_row50\" class=\"row_heading level0 row50\" >위험도</th>\n",
       "      <th id=\"T_f03ee_level1_row50\" class=\"row_heading level1 row50\" >여름겨울</th>\n",
       "      <td id=\"T_f03ee_row50_col0\" class=\"data row50 col0\" >-0.097547</td>\n",
       "    </tr>\n",
       "    <tr>\n",
       "      <th id=\"T_f03ee_level0_row51\" class=\"row_heading level0 row51\" >여름겨울</th>\n",
       "      <th id=\"T_f03ee_level1_row51\" class=\"row_heading level1 row51\" >위험도</th>\n",
       "      <td id=\"T_f03ee_row51_col0\" class=\"data row51 col0\" >-0.097547</td>\n",
       "    </tr>\n",
       "    <tr>\n",
       "      <th id=\"T_f03ee_level0_row52\" class=\"row_heading level0 row52\" >위험도</th>\n",
       "      <th id=\"T_f03ee_level1_row52\" class=\"row_heading level1 row52\" >실효습도(%)</th>\n",
       "      <td id=\"T_f03ee_row52_col0\" class=\"data row52 col0\" >-0.115049</td>\n",
       "    </tr>\n",
       "    <tr>\n",
       "      <th id=\"T_f03ee_level0_row53\" class=\"row_heading level0 row53\" >실효습도(%)</th>\n",
       "      <th id=\"T_f03ee_level1_row53\" class=\"row_heading level1 row53\" >위험도</th>\n",
       "      <td id=\"T_f03ee_row53_col0\" class=\"data row53 col0\" >-0.115049</td>\n",
       "    </tr>\n",
       "    <tr>\n",
       "      <th id=\"T_f03ee_level0_row54\" class=\"row_heading level0 row54\" >평균상대습도(%)</th>\n",
       "      <th id=\"T_f03ee_level1_row54\" class=\"row_heading level1 row54\" >위험도</th>\n",
       "      <td id=\"T_f03ee_row54_col0\" class=\"data row54 col0\" >-0.121611</td>\n",
       "    </tr>\n",
       "    <tr>\n",
       "      <th id=\"T_f03ee_level0_row55\" class=\"row_heading level0 row55\" >위험도</th>\n",
       "      <th id=\"T_f03ee_level1_row55\" class=\"row_heading level1 row55\" >평균상대습도(%)</th>\n",
       "      <td id=\"T_f03ee_row55_col0\" class=\"data row55 col0\" >-0.121611</td>\n",
       "    </tr>\n",
       "    <tr>\n",
       "      <th id=\"T_f03ee_level0_row56\" class=\"row_heading level0 row56\" >평균풍속(m/s)</th>\n",
       "      <th id=\"T_f03ee_level1_row56\" class=\"row_heading level1 row56\" >실효습도(%)</th>\n",
       "      <td id=\"T_f03ee_row56_col0\" class=\"data row56 col0\" >-0.127860</td>\n",
       "    </tr>\n",
       "    <tr>\n",
       "      <th id=\"T_f03ee_level0_row57\" class=\"row_heading level0 row57\" >실효습도(%)</th>\n",
       "      <th id=\"T_f03ee_level1_row57\" class=\"row_heading level1 row57\" >평균풍속(m/s)</th>\n",
       "      <td id=\"T_f03ee_row57_col0\" class=\"data row57 col0\" >-0.127860</td>\n",
       "    </tr>\n",
       "    <tr>\n",
       "      <th id=\"T_f03ee_level0_row58\" class=\"row_heading level0 row58\" >가을</th>\n",
       "      <th id=\"T_f03ee_level1_row58\" class=\"row_heading level1 row58\" >평균기온</th>\n",
       "      <td id=\"T_f03ee_row58_col0\" class=\"data row58 col0\" >-0.147387</td>\n",
       "    </tr>\n",
       "    <tr>\n",
       "      <th id=\"T_f03ee_level0_row59\" class=\"row_heading level0 row59\" >평균기온</th>\n",
       "      <th id=\"T_f03ee_level1_row59\" class=\"row_heading level1 row59\" >가을</th>\n",
       "      <td id=\"T_f03ee_row59_col0\" class=\"data row59 col0\" >-0.147387</td>\n",
       "    </tr>\n",
       "    <tr>\n",
       "      <th id=\"T_f03ee_level0_row60\" class=\"row_heading level0 row60\" >가을</th>\n",
       "      <th id=\"T_f03ee_level1_row60\" class=\"row_heading level1 row60\" >여름겨울</th>\n",
       "      <td id=\"T_f03ee_row60_col0\" class=\"data row60 col0\" >-0.158540</td>\n",
       "    </tr>\n",
       "    <tr>\n",
       "      <th id=\"T_f03ee_level0_row61\" class=\"row_heading level0 row61\" >여름겨울</th>\n",
       "      <th id=\"T_f03ee_level1_row61\" class=\"row_heading level1 row61\" >가을</th>\n",
       "      <td id=\"T_f03ee_row61_col0\" class=\"data row61 col0\" >-0.158540</td>\n",
       "    </tr>\n",
       "    <tr>\n",
       "      <th id=\"T_f03ee_level0_row62\" class=\"row_heading level0 row62\" >평균풍속(m/s)</th>\n",
       "      <th id=\"T_f03ee_level1_row62\" class=\"row_heading level1 row62\" >평균상대습도(%)</th>\n",
       "      <td id=\"T_f03ee_row62_col0\" class=\"data row62 col0\" >-0.187746</td>\n",
       "    </tr>\n",
       "    <tr>\n",
       "      <th id=\"T_f03ee_level0_row63\" class=\"row_heading level0 row63\" >평균상대습도(%)</th>\n",
       "      <th id=\"T_f03ee_level1_row63\" class=\"row_heading level1 row63\" >평균풍속(m/s)</th>\n",
       "      <td id=\"T_f03ee_row63_col0\" class=\"data row63 col0\" >-0.187746</td>\n",
       "    </tr>\n",
       "    <tr>\n",
       "      <th id=\"T_f03ee_level0_row64\" class=\"row_heading level0 row64\" >봄</th>\n",
       "      <th id=\"T_f03ee_level1_row64\" class=\"row_heading level1 row64\" >평균상대습도(%)</th>\n",
       "      <td id=\"T_f03ee_row64_col0\" class=\"data row64 col0\" >-0.222910</td>\n",
       "    </tr>\n",
       "    <tr>\n",
       "      <th id=\"T_f03ee_level0_row65\" class=\"row_heading level0 row65\" >평균상대습도(%)</th>\n",
       "      <th id=\"T_f03ee_level1_row65\" class=\"row_heading level1 row65\" >봄</th>\n",
       "      <td id=\"T_f03ee_row65_col0\" class=\"data row65 col0\" >-0.222910</td>\n",
       "    </tr>\n",
       "    <tr>\n",
       "      <th id=\"T_f03ee_level0_row66\" class=\"row_heading level0 row66\" >실효습도(%)</th>\n",
       "      <th id=\"T_f03ee_level1_row66\" class=\"row_heading level1 row66\" >봄</th>\n",
       "      <td id=\"T_f03ee_row66_col0\" class=\"data row66 col0\" >-0.227012</td>\n",
       "    </tr>\n",
       "    <tr>\n",
       "      <th id=\"T_f03ee_level0_row67\" class=\"row_heading level0 row67\" >봄</th>\n",
       "      <th id=\"T_f03ee_level1_row67\" class=\"row_heading level1 row67\" >실효습도(%)</th>\n",
       "      <td id=\"T_f03ee_row67_col0\" class=\"data row67 col0\" >-0.227012</td>\n",
       "    </tr>\n",
       "    <tr>\n",
       "      <th id=\"T_f03ee_level0_row68\" class=\"row_heading level0 row68\" >가을</th>\n",
       "      <th id=\"T_f03ee_level1_row68\" class=\"row_heading level1 row68\" >봄</th>\n",
       "      <td id=\"T_f03ee_row68_col0\" class=\"data row68 col0\" >-0.392609</td>\n",
       "    </tr>\n",
       "    <tr>\n",
       "      <th id=\"T_f03ee_level0_row69\" class=\"row_heading level0 row69\" >봄</th>\n",
       "      <th id=\"T_f03ee_level1_row69\" class=\"row_heading level1 row69\" >가을</th>\n",
       "      <td id=\"T_f03ee_row69_col0\" class=\"data row69 col0\" >-0.392609</td>\n",
       "    </tr>\n",
       "    <tr>\n",
       "      <th id=\"T_f03ee_level0_row70\" class=\"row_heading level0 row70\" >여름겨울</th>\n",
       "      <th id=\"T_f03ee_level1_row70\" class=\"row_heading level1 row70\" >봄</th>\n",
       "      <td id=\"T_f03ee_row70_col0\" class=\"data row70 col0\" >-0.845830</td>\n",
       "    </tr>\n",
       "    <tr>\n",
       "      <th id=\"T_f03ee_level0_row71\" class=\"row_heading level0 row71\" >봄</th>\n",
       "      <th id=\"T_f03ee_level1_row71\" class=\"row_heading level1 row71\" >여름겨울</th>\n",
       "      <td id=\"T_f03ee_row71_col0\" class=\"data row71 col0\" >-0.845830</td>\n",
       "    </tr>\n",
       "  </tbody>\n",
       "</table>\n"
      ],
      "text/plain": [
       "<pandas.io.formats.style.Styler at 0x233d669f888>"
      ]
     },
     "execution_count": 18,
     "metadata": {},
     "output_type": "execute_result"
    }
   ],
   "source": [
    "corr_df = df.corr()\n",
    "s = corr_df.unstack()\n",
    "df_corr = pd.DataFrame(s[s < 1].sort_values(ascending=False), columns=['corr'])\n",
    "df_corr.style.background_gradient(cmap='viridis')"
   ]
  },
  {
   "cell_type": "code",
   "execution_count": 19,
   "id": "c18a58e0",
   "metadata": {
    "ExecuteTime": {
     "end_time": "2023-02-08T07:16:12.901963Z",
     "start_time": "2023-02-08T07:16:12.887962Z"
    }
   },
   "outputs": [
    {
     "data": {
      "text/html": [
       "<div>\n",
       "<style scoped>\n",
       "    .dataframe tbody tr th:only-of-type {\n",
       "        vertical-align: middle;\n",
       "    }\n",
       "\n",
       "    .dataframe tbody tr th {\n",
       "        vertical-align: top;\n",
       "    }\n",
       "\n",
       "    .dataframe thead th {\n",
       "        text-align: right;\n",
       "    }\n",
       "</style>\n",
       "<table border=\"1\" class=\"dataframe\">\n",
       "  <thead>\n",
       "    <tr style=\"text-align: right;\">\n",
       "      <th></th>\n",
       "      <th>위험도</th>\n",
       "      <th>평균상대습도(%)</th>\n",
       "      <th>평균기온</th>\n",
       "      <th>일강수량(mm)</th>\n",
       "      <th>평균풍속(m/s)</th>\n",
       "      <th>실효습도(%)</th>\n",
       "      <th>가을</th>\n",
       "      <th>여름겨울</th>\n",
       "      <th>봄</th>\n",
       "    </tr>\n",
       "  </thead>\n",
       "  <tbody>\n",
       "    <tr>\n",
       "      <th>0</th>\n",
       "      <td>3.0</td>\n",
       "      <td>74.9</td>\n",
       "      <td>3.9</td>\n",
       "      <td>0.0</td>\n",
       "      <td>4.2</td>\n",
       "      <td>59.873058</td>\n",
       "      <td>0</td>\n",
       "      <td>1</td>\n",
       "      <td>0</td>\n",
       "    </tr>\n",
       "    <tr>\n",
       "      <th>1</th>\n",
       "      <td>4.0</td>\n",
       "      <td>39.4</td>\n",
       "      <td>14.8</td>\n",
       "      <td>0.0</td>\n",
       "      <td>1.6</td>\n",
       "      <td>39.123108</td>\n",
       "      <td>0</td>\n",
       "      <td>0</td>\n",
       "      <td>1</td>\n",
       "    </tr>\n",
       "    <tr>\n",
       "      <th>2</th>\n",
       "      <td>3.0</td>\n",
       "      <td>39.4</td>\n",
       "      <td>13.5</td>\n",
       "      <td>0.0</td>\n",
       "      <td>1.6</td>\n",
       "      <td>39.123108</td>\n",
       "      <td>0</td>\n",
       "      <td>0</td>\n",
       "      <td>1</td>\n",
       "    </tr>\n",
       "    <tr>\n",
       "      <th>3</th>\n",
       "      <td>1.0</td>\n",
       "      <td>41.1</td>\n",
       "      <td>15.7</td>\n",
       "      <td>0.0</td>\n",
       "      <td>2.2</td>\n",
       "      <td>34.927743</td>\n",
       "      <td>0</td>\n",
       "      <td>0</td>\n",
       "      <td>1</td>\n",
       "    </tr>\n",
       "    <tr>\n",
       "      <th>4</th>\n",
       "      <td>3.0</td>\n",
       "      <td>45.0</td>\n",
       "      <td>9.3</td>\n",
       "      <td>0.0</td>\n",
       "      <td>2.2</td>\n",
       "      <td>43.160127</td>\n",
       "      <td>0</td>\n",
       "      <td>0</td>\n",
       "      <td>1</td>\n",
       "    </tr>\n",
       "    <tr>\n",
       "      <th>...</th>\n",
       "      <td>...</td>\n",
       "      <td>...</td>\n",
       "      <td>...</td>\n",
       "      <td>...</td>\n",
       "      <td>...</td>\n",
       "      <td>...</td>\n",
       "      <td>...</td>\n",
       "      <td>...</td>\n",
       "      <td>...</td>\n",
       "    </tr>\n",
       "    <tr>\n",
       "      <th>10003</th>\n",
       "      <td>4.0</td>\n",
       "      <td>54.9</td>\n",
       "      <td>5.1</td>\n",
       "      <td>0.0</td>\n",
       "      <td>2.1</td>\n",
       "      <td>43.060410</td>\n",
       "      <td>0</td>\n",
       "      <td>0</td>\n",
       "      <td>1</td>\n",
       "    </tr>\n",
       "    <tr>\n",
       "      <th>10004</th>\n",
       "      <td>2.0</td>\n",
       "      <td>33.3</td>\n",
       "      <td>4.2</td>\n",
       "      <td>0.0</td>\n",
       "      <td>3.6</td>\n",
       "      <td>37.051293</td>\n",
       "      <td>0</td>\n",
       "      <td>0</td>\n",
       "      <td>1</td>\n",
       "    </tr>\n",
       "    <tr>\n",
       "      <th>10005</th>\n",
       "      <td>1.0</td>\n",
       "      <td>47.4</td>\n",
       "      <td>7.8</td>\n",
       "      <td>0.0</td>\n",
       "      <td>1.9</td>\n",
       "      <td>40.223292</td>\n",
       "      <td>0</td>\n",
       "      <td>0</td>\n",
       "      <td>1</td>\n",
       "    </tr>\n",
       "    <tr>\n",
       "      <th>10006</th>\n",
       "      <td>1.0</td>\n",
       "      <td>52.9</td>\n",
       "      <td>5.2</td>\n",
       "      <td>0.0</td>\n",
       "      <td>1.2</td>\n",
       "      <td>48.460068</td>\n",
       "      <td>0</td>\n",
       "      <td>0</td>\n",
       "      <td>1</td>\n",
       "    </tr>\n",
       "    <tr>\n",
       "      <th>10007</th>\n",
       "      <td>2.0</td>\n",
       "      <td>38.8</td>\n",
       "      <td>4.3</td>\n",
       "      <td>0.0</td>\n",
       "      <td>3.2</td>\n",
       "      <td>40.703748</td>\n",
       "      <td>1</td>\n",
       "      <td>0</td>\n",
       "      <td>0</td>\n",
       "    </tr>\n",
       "  </tbody>\n",
       "</table>\n",
       "<p>10008 rows × 9 columns</p>\n",
       "</div>"
      ],
      "text/plain": [
       "       위험도  평균상대습도(%)  평균기온  일강수량(mm)  평균풍속(m/s)    실효습도(%)  가을  여름겨울  봄\n",
       "0      3.0       74.9   3.9       0.0        4.2  59.873058   0     1  0\n",
       "1      4.0       39.4  14.8       0.0        1.6  39.123108   0     0  1\n",
       "2      3.0       39.4  13.5       0.0        1.6  39.123108   0     0  1\n",
       "3      1.0       41.1  15.7       0.0        2.2  34.927743   0     0  1\n",
       "4      3.0       45.0   9.3       0.0        2.2  43.160127   0     0  1\n",
       "...    ...        ...   ...       ...        ...        ...  ..   ... ..\n",
       "10003  4.0       54.9   5.1       0.0        2.1  43.060410   0     0  1\n",
       "10004  2.0       33.3   4.2       0.0        3.6  37.051293   0     0  1\n",
       "10005  1.0       47.4   7.8       0.0        1.9  40.223292   0     0  1\n",
       "10006  1.0       52.9   5.2       0.0        1.2  48.460068   0     0  1\n",
       "10007  2.0       38.8   4.3       0.0        3.2  40.703748   1     0  0\n",
       "\n",
       "[10008 rows x 9 columns]"
      ]
     },
     "execution_count": 19,
     "metadata": {},
     "output_type": "execute_result"
    }
   ],
   "source": [
    "df"
   ]
  },
  {
   "cell_type": "code",
   "execution_count": 20,
   "id": "23f30d17",
   "metadata": {
    "ExecuteTime": {
     "end_time": "2023-02-08T07:16:12.916963Z",
     "start_time": "2023-02-08T07:16:12.904963Z"
    },
    "scrolled": true
   },
   "outputs": [],
   "source": [
    "df['실효습도(%)']=round(df['실효습도(%)'],2)"
   ]
  },
  {
   "cell_type": "code",
   "execution_count": 21,
   "id": "48611440",
   "metadata": {
    "ExecuteTime": {
     "end_time": "2023-02-08T07:16:12.931963Z",
     "start_time": "2023-02-08T07:16:12.917963Z"
    },
    "scrolled": false
   },
   "outputs": [
    {
     "data": {
      "text/plain": [
       "2.0    2730\n",
       "1.0    2694\n",
       "4.0    2464\n",
       "3.0    2120\n",
       "Name: 위험도, dtype: int64"
      ]
     },
     "execution_count": 21,
     "metadata": {},
     "output_type": "execute_result"
    }
   ],
   "source": [
    "df['위험도'].value_counts()"
   ]
  },
  {
   "cell_type": "markdown",
   "id": "a77a4d8d",
   "metadata": {},
   "source": [
    "비가 약간이라도 오면 산불이 나기 어렵다고 판단"
   ]
  },
  {
   "cell_type": "code",
   "execution_count": 22,
   "id": "2ffca2d7",
   "metadata": {
    "ExecuteTime": {
     "end_time": "2023-02-08T07:16:13.895961Z",
     "start_time": "2023-02-08T07:16:12.932963Z"
    }
   },
   "outputs": [],
   "source": [
    "for i in range(len(df)):\n",
    "    if df['일강수량(mm)'][i]==0.0:\n",
    "        df['일강수량(mm)'][i]=0\n",
    "    else:\n",
    "        df['일강수량(mm)'][i]=1"
   ]
  },
  {
   "cell_type": "code",
   "execution_count": 23,
   "id": "0e248f4d",
   "metadata": {
    "ExecuteTime": {
     "end_time": "2023-02-08T07:16:14.016962Z",
     "start_time": "2023-02-08T07:16:13.896962Z"
    },
    "scrolled": true
   },
   "outputs": [
    {
     "data": {
      "text/plain": [
       "<AxesSubplot:xlabel='실효습도(%)', ylabel='Density'>"
      ]
     },
     "execution_count": 23,
     "metadata": {},
     "output_type": "execute_result"
    },
    {
     "data": {
      "image/png": "[encoded data removed]",
      "text/plain": [
       "<Figure size 800x550 with 1 Axes>"
      ]
     },
     "metadata": {},
     "output_type": "display_data"
    }
   ],
   "source": [
    "sns.kdeplot(df['실효습도(%)'],shade=True)"
   ]
  },
  {
   "cell_type": "code",
   "execution_count": 24,
   "id": "2492ffbe",
   "metadata": {
    "ExecuteTime": {
     "end_time": "2023-02-08T07:16:14.046962Z",
     "start_time": "2023-02-08T07:16:14.017961Z"
    },
    "scrolled": true
   },
   "outputs": [
    {
     "data": {
      "text/html": [
       "<div>\n",
       "<style scoped>\n",
       "    .dataframe tbody tr th:only-of-type {\n",
       "        vertical-align: middle;\n",
       "    }\n",
       "\n",
       "    .dataframe tbody tr th {\n",
       "        vertical-align: top;\n",
       "    }\n",
       "\n",
       "    .dataframe thead th {\n",
       "        text-align: right;\n",
       "    }\n",
       "</style>\n",
       "<table border=\"1\" class=\"dataframe\">\n",
       "  <thead>\n",
       "    <tr style=\"text-align: right;\">\n",
       "      <th></th>\n",
       "      <th>위험도</th>\n",
       "      <th>평균상대습도(%)</th>\n",
       "      <th>평균기온</th>\n",
       "      <th>일강수량(mm)</th>\n",
       "      <th>평균풍속(m/s)</th>\n",
       "      <th>실효습도(%)</th>\n",
       "      <th>가을</th>\n",
       "      <th>여름겨울</th>\n",
       "      <th>봄</th>\n",
       "    </tr>\n",
       "  </thead>\n",
       "  <tbody>\n",
       "    <tr>\n",
       "      <th>count</th>\n",
       "      <td>10008.000000</td>\n",
       "      <td>10008.000000</td>\n",
       "      <td>10008.000000</td>\n",
       "      <td>10008.000000</td>\n",
       "      <td>10008.000000</td>\n",
       "      <td>10008.000000</td>\n",
       "      <td>10008.000000</td>\n",
       "      <td>10008.000000</td>\n",
       "      <td>10008.000000</td>\n",
       "    </tr>\n",
       "    <tr>\n",
       "      <th>mean</th>\n",
       "      <td>2.435052</td>\n",
       "      <td>50.926139</td>\n",
       "      <td>9.388669</td>\n",
       "      <td>0.048861</td>\n",
       "      <td>1.938139</td>\n",
       "      <td>44.204649</td>\n",
       "      <td>0.068545</td>\n",
       "      <td>0.254596</td>\n",
       "      <td>0.676859</td>\n",
       "    </tr>\n",
       "    <tr>\n",
       "      <th>std</th>\n",
       "      <td>1.129905</td>\n",
       "      <td>13.282696</td>\n",
       "      <td>7.710637</td>\n",
       "      <td>0.215588</td>\n",
       "      <td>1.216536</td>\n",
       "      <td>9.059409</td>\n",
       "      <td>0.252692</td>\n",
       "      <td>0.435656</td>\n",
       "      <td>0.467700</td>\n",
       "    </tr>\n",
       "    <tr>\n",
       "      <th>min</th>\n",
       "      <td>1.000000</td>\n",
       "      <td>10.400000</td>\n",
       "      <td>-14.700000</td>\n",
       "      <td>0.000000</td>\n",
       "      <td>0.000000</td>\n",
       "      <td>12.160000</td>\n",
       "      <td>0.000000</td>\n",
       "      <td>0.000000</td>\n",
       "      <td>0.000000</td>\n",
       "    </tr>\n",
       "    <tr>\n",
       "      <th>25%</th>\n",
       "      <td>1.000000</td>\n",
       "      <td>41.400000</td>\n",
       "      <td>3.800000</td>\n",
       "      <td>0.000000</td>\n",
       "      <td>1.200000</td>\n",
       "      <td>37.740000</td>\n",
       "      <td>0.000000</td>\n",
       "      <td>0.000000</td>\n",
       "      <td>0.000000</td>\n",
       "    </tr>\n",
       "    <tr>\n",
       "      <th>50%</th>\n",
       "      <td>2.000000</td>\n",
       "      <td>50.400000</td>\n",
       "      <td>9.200000</td>\n",
       "      <td>0.000000</td>\n",
       "      <td>1.600000</td>\n",
       "      <td>44.080000</td>\n",
       "      <td>0.000000</td>\n",
       "      <td>0.000000</td>\n",
       "      <td>1.000000</td>\n",
       "    </tr>\n",
       "    <tr>\n",
       "      <th>75%</th>\n",
       "      <td>3.000000</td>\n",
       "      <td>59.900000</td>\n",
       "      <td>14.800000</td>\n",
       "      <td>0.000000</td>\n",
       "      <td>2.300000</td>\n",
       "      <td>50.290000</td>\n",
       "      <td>0.000000</td>\n",
       "      <td>1.000000</td>\n",
       "      <td>1.000000</td>\n",
       "    </tr>\n",
       "    <tr>\n",
       "      <th>max</th>\n",
       "      <td>4.000000</td>\n",
       "      <td>99.000000</td>\n",
       "      <td>32.100000</td>\n",
       "      <td>1.000000</td>\n",
       "      <td>18.500000</td>\n",
       "      <td>75.620000</td>\n",
       "      <td>1.000000</td>\n",
       "      <td>1.000000</td>\n",
       "      <td>1.000000</td>\n",
       "    </tr>\n",
       "  </tbody>\n",
       "</table>\n",
       "</div>"
      ],
      "text/plain": [
       "                위험도     평균상대습도(%)          평균기온      일강수량(mm)     평균풍속(m/s)  \\\n",
       "count  10008.000000  10008.000000  10008.000000  10008.000000  10008.000000   \n",
       "mean       2.435052     50.926139      9.388669      0.048861      1.938139   \n",
       "std        1.129905     13.282696      7.710637      0.215588      1.216536   \n",
       "min        1.000000     10.400000    -14.700000      0.000000      0.000000   \n",
       "25%        1.000000     41.400000      3.800000      0.000000      1.200000   \n",
       "50%        2.000000     50.400000      9.200000      0.000000      1.600000   \n",
       "75%        3.000000     59.900000     14.800000      0.000000      2.300000   \n",
       "max        4.000000     99.000000     32.100000      1.000000     18.500000   \n",
       "\n",
       "            실효습도(%)            가을          여름겨울             봄  \n",
       "count  10008.000000  10008.000000  10008.000000  10008.000000  \n",
       "mean      44.204649      0.068545      0.254596      0.676859  \n",
       "std        9.059409      0.252692      0.435656      0.467700  \n",
       "min       12.160000      0.000000      0.000000      0.000000  \n",
       "25%       37.740000      0.000000      0.000000      0.000000  \n",
       "50%       44.080000      0.000000      0.000000      1.000000  \n",
       "75%       50.290000      0.000000      1.000000      1.000000  \n",
       "max       75.620000      1.000000      1.000000      1.000000  "
      ]
     },
     "execution_count": 24,
     "metadata": {},
     "output_type": "execute_result"
    }
   ],
   "source": [
    "df.describe()"
   ]
  },
  {
   "cell_type": "code",
   "execution_count": 25,
   "id": "465921ec",
   "metadata": {
    "ExecuteTime": {
     "end_time": "2023-02-08T07:16:14.061962Z",
     "start_time": "2023-02-08T07:16:14.047962Z"
    },
    "scrolled": true
   },
   "outputs": [
    {
     "data": {
      "text/plain": [
       "0.0    9519\n",
       "1.0     489\n",
       "Name: 일강수량(mm), dtype: int64"
      ]
     },
     "execution_count": 25,
     "metadata": {},
     "output_type": "execute_result"
    }
   ],
   "source": [
    "df['일강수량(mm)'].value_counts()"
   ]
  },
  {
   "cell_type": "code",
   "execution_count": 26,
   "id": "f53d5b02",
   "metadata": {
    "ExecuteTime": {
     "end_time": "2023-02-08T07:16:14.076961Z",
     "start_time": "2023-02-08T07:16:14.062961Z"
    }
   },
   "outputs": [],
   "source": [
    "from sklearn.ensemble import RandomForestClassifier\n",
    "from sklearn.metrics import accuracy_score\n",
    "from sklearn.model_selection import train_test_split"
   ]
  },
  {
   "cell_type": "code",
   "execution_count": 27,
   "id": "b15ffc1d",
   "metadata": {
    "ExecuteTime": {
     "end_time": "2023-02-08T07:16:14.091961Z",
     "start_time": "2023-02-08T07:16:14.077962Z"
    }
   },
   "outputs": [],
   "source": [
    "train=df.iloc[:9365]\n",
    "test=df.iloc[9365:]"
   ]
  },
  {
   "cell_type": "code",
   "execution_count": 28,
   "id": "54938c0c",
   "metadata": {
    "ExecuteTime": {
     "end_time": "2023-02-08T07:16:14.106961Z",
     "start_time": "2023-02-08T07:16:14.092962Z"
    }
   },
   "outputs": [],
   "source": [
    "target = train['위험도'][:len(train)]"
   ]
  },
  {
   "cell_type": "code",
   "execution_count": 29,
   "id": "fe461a31",
   "metadata": {
    "ExecuteTime": {
     "end_time": "2023-02-08T07:16:14.121961Z",
     "start_time": "2023-02-08T07:16:14.108962Z"
    }
   },
   "outputs": [
    {
     "name": "stdout",
     "output_type": "stream",
     "text": [
      "(9365, 9) (643, 9) (9365,)\n"
     ]
    }
   ],
   "source": [
    "print(train.shape, test.shape, target.shape)"
   ]
  },
  {
   "cell_type": "code",
   "execution_count": 30,
   "id": "5823a0fe",
   "metadata": {
    "ExecuteTime": {
     "end_time": "2023-02-08T07:16:14.136962Z",
     "start_time": "2023-02-08T07:16:14.122961Z"
    }
   },
   "outputs": [],
   "source": [
    "train.drop(['위험도'],axis=1,inplace=True)"
   ]
  },
  {
   "cell_type": "code",
   "execution_count": 31,
   "id": "6038e4e6",
   "metadata": {
    "ExecuteTime": {
     "end_time": "2023-02-08T07:16:14.151961Z",
     "start_time": "2023-02-08T07:16:14.138961Z"
    }
   },
   "outputs": [
    {
     "data": {
      "text/plain": [
       "2.0    2565\n",
       "1.0    2525\n",
       "4.0    2285\n",
       "3.0    1990\n",
       "Name: 위험도, dtype: int64"
      ]
     },
     "execution_count": 31,
     "metadata": {},
     "output_type": "execute_result"
    }
   ],
   "source": [
    "target.value_counts()"
   ]
  },
  {
   "cell_type": "code",
   "execution_count": 32,
   "id": "9d798b96",
   "metadata": {
    "ExecuteTime": {
     "end_time": "2023-02-08T07:16:14.166961Z",
     "start_time": "2023-02-08T07:16:14.153962Z"
    },
    "scrolled": true
   },
   "outputs": [
    {
     "data": {
      "text/html": [
       "<div>\n",
       "<style scoped>\n",
       "    .dataframe tbody tr th:only-of-type {\n",
       "        vertical-align: middle;\n",
       "    }\n",
       "\n",
       "    .dataframe tbody tr th {\n",
       "        vertical-align: top;\n",
       "    }\n",
       "\n",
       "    .dataframe thead th {\n",
       "        text-align: right;\n",
       "    }\n",
       "</style>\n",
       "<table border=\"1\" class=\"dataframe\">\n",
       "  <thead>\n",
       "    <tr style=\"text-align: right;\">\n",
       "      <th></th>\n",
       "      <th>평균상대습도(%)</th>\n",
       "      <th>평균기온</th>\n",
       "      <th>일강수량(mm)</th>\n",
       "      <th>평균풍속(m/s)</th>\n",
       "      <th>실효습도(%)</th>\n",
       "      <th>가을</th>\n",
       "      <th>여름겨울</th>\n",
       "      <th>봄</th>\n",
       "    </tr>\n",
       "  </thead>\n",
       "  <tbody>\n",
       "    <tr>\n",
       "      <th>0</th>\n",
       "      <td>74.9</td>\n",
       "      <td>3.9</td>\n",
       "      <td>0.0</td>\n",
       "      <td>4.2</td>\n",
       "      <td>59.87</td>\n",
       "      <td>0</td>\n",
       "      <td>1</td>\n",
       "      <td>0</td>\n",
       "    </tr>\n",
       "    <tr>\n",
       "      <th>1</th>\n",
       "      <td>39.4</td>\n",
       "      <td>14.8</td>\n",
       "      <td>0.0</td>\n",
       "      <td>1.6</td>\n",
       "      <td>39.12</td>\n",
       "      <td>0</td>\n",
       "      <td>0</td>\n",
       "      <td>1</td>\n",
       "    </tr>\n",
       "    <tr>\n",
       "      <th>2</th>\n",
       "      <td>39.4</td>\n",
       "      <td>13.5</td>\n",
       "      <td>0.0</td>\n",
       "      <td>1.6</td>\n",
       "      <td>39.12</td>\n",
       "      <td>0</td>\n",
       "      <td>0</td>\n",
       "      <td>1</td>\n",
       "    </tr>\n",
       "    <tr>\n",
       "      <th>3</th>\n",
       "      <td>41.1</td>\n",
       "      <td>15.7</td>\n",
       "      <td>0.0</td>\n",
       "      <td>2.2</td>\n",
       "      <td>34.93</td>\n",
       "      <td>0</td>\n",
       "      <td>0</td>\n",
       "      <td>1</td>\n",
       "    </tr>\n",
       "    <tr>\n",
       "      <th>4</th>\n",
       "      <td>45.0</td>\n",
       "      <td>9.3</td>\n",
       "      <td>0.0</td>\n",
       "      <td>2.2</td>\n",
       "      <td>43.16</td>\n",
       "      <td>0</td>\n",
       "      <td>0</td>\n",
       "      <td>1</td>\n",
       "    </tr>\n",
       "    <tr>\n",
       "      <th>...</th>\n",
       "      <td>...</td>\n",
       "      <td>...</td>\n",
       "      <td>...</td>\n",
       "      <td>...</td>\n",
       "      <td>...</td>\n",
       "      <td>...</td>\n",
       "      <td>...</td>\n",
       "      <td>...</td>\n",
       "    </tr>\n",
       "    <tr>\n",
       "      <th>9360</th>\n",
       "      <td>58.3</td>\n",
       "      <td>12.4</td>\n",
       "      <td>0.0</td>\n",
       "      <td>1.2</td>\n",
       "      <td>47.46</td>\n",
       "      <td>0</td>\n",
       "      <td>0</td>\n",
       "      <td>1</td>\n",
       "    </tr>\n",
       "    <tr>\n",
       "      <th>9361</th>\n",
       "      <td>82.1</td>\n",
       "      <td>12.1</td>\n",
       "      <td>1.0</td>\n",
       "      <td>1.2</td>\n",
       "      <td>49.58</td>\n",
       "      <td>0</td>\n",
       "      <td>0</td>\n",
       "      <td>1</td>\n",
       "    </tr>\n",
       "    <tr>\n",
       "      <th>9362</th>\n",
       "      <td>60.1</td>\n",
       "      <td>5.0</td>\n",
       "      <td>0.0</td>\n",
       "      <td>0.7</td>\n",
       "      <td>45.37</td>\n",
       "      <td>0</td>\n",
       "      <td>0</td>\n",
       "      <td>1</td>\n",
       "    </tr>\n",
       "    <tr>\n",
       "      <th>9363</th>\n",
       "      <td>52.6</td>\n",
       "      <td>18.6</td>\n",
       "      <td>0.0</td>\n",
       "      <td>1.2</td>\n",
       "      <td>49.62</td>\n",
       "      <td>0</td>\n",
       "      <td>0</td>\n",
       "      <td>1</td>\n",
       "    </tr>\n",
       "    <tr>\n",
       "      <th>9364</th>\n",
       "      <td>40.6</td>\n",
       "      <td>-3.7</td>\n",
       "      <td>0.0</td>\n",
       "      <td>3.1</td>\n",
       "      <td>50.22</td>\n",
       "      <td>0</td>\n",
       "      <td>1</td>\n",
       "      <td>0</td>\n",
       "    </tr>\n",
       "  </tbody>\n",
       "</table>\n",
       "<p>9365 rows × 8 columns</p>\n",
       "</div>"
      ],
      "text/plain": [
       "      평균상대습도(%)  평균기온  일강수량(mm)  평균풍속(m/s)  실효습도(%)  가을  여름겨울  봄\n",
       "0          74.9   3.9       0.0        4.2    59.87   0     1  0\n",
       "1          39.4  14.8       0.0        1.6    39.12   0     0  1\n",
       "2          39.4  13.5       0.0        1.6    39.12   0     0  1\n",
       "3          41.1  15.7       0.0        2.2    34.93   0     0  1\n",
       "4          45.0   9.3       0.0        2.2    43.16   0     0  1\n",
       "...         ...   ...       ...        ...      ...  ..   ... ..\n",
       "9360       58.3  12.4       0.0        1.2    47.46   0     0  1\n",
       "9361       82.1  12.1       1.0        1.2    49.58   0     0  1\n",
       "9362       60.1   5.0       0.0        0.7    45.37   0     0  1\n",
       "9363       52.6  18.6       0.0        1.2    49.62   0     0  1\n",
       "9364       40.6  -3.7       0.0        3.1    50.22   0     1  0\n",
       "\n",
       "[9365 rows x 8 columns]"
      ]
     },
     "execution_count": 32,
     "metadata": {},
     "output_type": "execute_result"
    }
   ],
   "source": [
    "train"
   ]
  },
  {
   "cell_type": "code",
   "execution_count": 33,
   "id": "ac7a5f63",
   "metadata": {
    "ExecuteTime": {
     "end_time": "2023-02-08T07:16:14.181962Z",
     "start_time": "2023-02-08T07:16:14.169961Z"
    }
   },
   "outputs": [
    {
     "name": "stdout",
     "output_type": "stream",
     "text": [
      "(7492, 8) (1873, 8) (7492,) (1873,)\n"
     ]
    }
   ],
   "source": [
    "X_train, X_test, y_train, y_test = train_test_split(train, target, test_size=0.2, stratify=target,random_state=42) \n",
    "\n",
    "print(X_train.shape, X_test.shape,  y_train.shape, y_test.shape )"
   ]
  },
  {
   "cell_type": "code",
   "execution_count": 34,
   "id": "774cf7a4",
   "metadata": {
    "ExecuteTime": {
     "end_time": "2023-02-08T07:16:14.857961Z",
     "start_time": "2023-02-08T07:16:14.182962Z"
    }
   },
   "outputs": [
    {
     "data": {
      "text/plain": [
       "RandomForestClassifier(random_state=42)"
      ]
     },
     "execution_count": 34,
     "metadata": {},
     "output_type": "execute_result"
    }
   ],
   "source": [
    "from sklearn.ensemble import RandomForestClassifier\n",
    "from sklearn.metrics import accuracy_score\n",
    "\n",
    "model = RandomForestClassifier(n_estimators=100,random_state=42)\n",
    "model.fit(X_train, y_train)"
   ]
  },
  {
   "cell_type": "code",
   "execution_count": 35,
   "id": "8fe87e0c",
   "metadata": {
    "ExecuteTime": {
     "end_time": "2023-02-08T07:16:14.917958Z",
     "start_time": "2023-02-08T07:16:14.858961Z"
    }
   },
   "outputs": [
    {
     "name": "stdout",
     "output_type": "stream",
     "text": [
      "Accuracy is:  0.3224773091297384\n"
     ]
    }
   ],
   "source": [
    "prediction = model.predict(X_test)\n",
    "print(\"Accuracy is: \", accuracy_score(prediction, y_test))\n",
    "acc_RF=accuracy_score(prediction, y_test)"
   ]
  },
  {
   "cell_type": "code",
   "execution_count": 36,
   "id": "bb05c49c",
   "metadata": {
    "ExecuteTime": {
     "end_time": "2023-02-08T07:16:15.022957Z",
     "start_time": "2023-02-08T07:16:14.919958Z"
    }
   },
   "outputs": [
    {
     "data": {
      "image/png": "[encoded data removed]",
      "text/plain": [
       "<Figure size 1200x1000 with 1 Axes>"
      ]
     },
     "metadata": {},
     "output_type": "display_data"
    }
   ],
   "source": [
    "feature_importances = model.feature_importances_\n",
    "\n",
    "ft_importances = pd.Series(feature_importances, index = X_train.columns)\n",
    "ft_importances = ft_importances.sort_values(ascending=False)\n",
    "\n",
    "plt.figure(figsize=(12,10))\n",
    "sns.barplot(x=ft_importances, y= X_train.columns)\n",
    "plt.show()"
   ]
  },
  {
   "cell_type": "code",
   "execution_count": null,
   "id": "79cd36a3",
   "metadata": {},
   "outputs": [],
   "source": []
  }
 ],
 "metadata": {
  "kernelspec": {
   "display_name": "cuda",
   "language": "python",
   "name": "cuda"
  },
  "language_info": {
   "codemirror_mode": {
    "name": "ipython",
    "version": 3
   },
   "file_extension": ".py",
   "mimetype": "text/x-python",
   "name": "python",
   "nbconvert_exporter": "python",
   "pygments_lexer": "ipython3",
   "version": "3.7.13"
  },
  "toc": {
   "base_numbering": 1,
   "nav_menu": {},
   "number_sections": true,
   "sideBar": true,
   "skip_h1_title": false,
   "title_cell": "Table of Contents",
   "title_sidebar": "Contents",
   "toc_cell": false,
   "toc_position": {},
   "toc_section_display": true,
   "toc_window_display": false
  },
  "varInspector": {
   "cols": {
    "lenName": 16,
    "lenType": 16,
    "lenVar": 40
   },
   "kernels_config": {
    "python": {
     "delete_cmd_postfix": "",
     "delete_cmd_prefix": "del ",
     "library": "var_list.py",
     "varRefreshCmd": "print(var_dic_list())"
    },
    "r": {
     "delete_cmd_postfix": ") ",
     "delete_cmd_prefix": "rm(",
     "library": "var_list.r",
     "varRefreshCmd": "cat(var_dic_list()) "
    }
   },
   "types_to_exclude": [
    "module",
    "function",
    "builtin_function_or_method",
    "instance",
    "_Feature"
   ],
   "window_display": false
  }
 },
 "nbformat": 4,
 "nbformat_minor": 5
}
