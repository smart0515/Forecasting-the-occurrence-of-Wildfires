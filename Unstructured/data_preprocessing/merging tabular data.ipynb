{
 "cells": [
  {
   "cell_type": "code",
   "execution_count": 1,
   "id": "0982b310",
   "metadata": {
    "ExecuteTime": {
     "end_time": "2023-05-19T08:31:03.225496Z",
     "start_time": "2023-05-19T08:31:03.212261Z"
    }
   },
   "outputs": [
    {
     "data": {
      "text/plain": [
       "'C:\\\\Users\\\\ebdl\\\\Project 폴더\\\\산불예측\\\\Modeling'"
      ]
     },
     "execution_count": 1,
     "metadata": {},
     "output_type": "execute_result"
    }
   ],
   "source": [
    "%pwd"
   ]
  },
  {
   "cell_type": "code",
   "execution_count": 3,
   "id": "7de2b8aa",
   "metadata": {
    "ExecuteTime": {
     "end_time": "2023-05-19T08:33:45.346315Z",
     "start_time": "2023-05-19T08:33:44.836028Z"
    }
   },
   "outputs": [],
   "source": [
    "import pandas as pd"
   ]
  },
  {
   "cell_type": "code",
   "execution_count": 5,
   "id": "7be51412",
   "metadata": {
    "ExecuteTime": {
     "end_time": "2023-05-19T08:34:18.865696Z",
     "start_time": "2023-05-19T08:33:58.376594Z"
    }
   },
   "outputs": [],
   "source": [
    "temp=pd.read_csv(\"20200212보간/t_0534.csv\",index_col='Unnamed: 0')\n",
    "hum=pd.read_csv(\"20200212보간/h_0534.csv\",index_col='Unnamed: 0')\n",
    "rain=pd.read_csv(\"20200212보간/r_0534.csv\",index_col='Unnamed: 0')\n",
    "wind=pd.read_csv(\"20200212보간/w_0534.csv\",index_col='Unnamed: 0')\n",
    "\n",
    "temps=[]\n",
    "for j in range(len(temp.index)):\n",
    "    for i in range(len(temp.columns)):\n",
    "        temps.append(temp.iloc[j][i])\n",
    "hums=[]\n",
    "for j in range(len(hum.index)):\n",
    "    for i in range(len(hum.columns)):\n",
    "        hums.append(hum.iloc[j][i])\n",
    "rains=[]\n",
    "for j in range(len(rain.index)):\n",
    "    for i in range(len(rain.columns)):\n",
    "        rains.append(rain.iloc[j][i])\n",
    "winds=[]\n",
    "for j in range(len(wind.index)):\n",
    "    for i in range(len(wind.columns)):\n",
    "        winds.append(wind.iloc[j][i])\n",
    "        \n",
    "data=pd.DataFrame()\n",
    "data['temp']=temps\n",
    "data['hum']=hums\n",
    "data['rain']=rains\n",
    "data['wind']=winds \n",
    "\n",
    "data.to_csv(\"test_data.csv\")"
   ]
  }
 ],
 "metadata": {
  "kernelspec": {
   "display_name": "Python 3 (ipykernel)",
   "language": "python",
   "name": "python3"
  },
  "language_info": {
   "codemirror_mode": {
    "name": "ipython",
    "version": 3
   },
   "file_extension": ".py",
   "mimetype": "text/x-python",
   "name": "python",
   "nbconvert_exporter": "python",
   "pygments_lexer": "ipython3",
   "version": "3.9.13"
  },
  "toc": {
   "base_numbering": 1,
   "nav_menu": {},
   "number_sections": true,
   "sideBar": true,
   "skip_h1_title": false,
   "title_cell": "Table of Contents",
   "title_sidebar": "Contents",
   "toc_cell": false,
   "toc_position": {},
   "toc_section_display": true,
   "toc_window_display": false
  },
  "varInspector": {
   "cols": {
    "lenName": 16,
    "lenType": 16,
    "lenVar": 40
   },
   "kernels_config": {
    "python": {
     "delete_cmd_postfix": "",
     "delete_cmd_prefix": "del ",
     "library": "var_list.py",
     "varRefreshCmd": "print(var_dic_list())"
    },
    "r": {
     "delete_cmd_postfix": ") ",
     "delete_cmd_prefix": "rm(",
     "library": "var_list.r",
     "varRefreshCmd": "cat(var_dic_list()) "
    }
   },
   "types_to_exclude": [
    "module",
    "function",
    "builtin_function_or_method",
    "instance",
    "_Feature"
   ],
   "window_display": false
  }
 },
 "nbformat": 4,
 "nbformat_minor": 5
}
