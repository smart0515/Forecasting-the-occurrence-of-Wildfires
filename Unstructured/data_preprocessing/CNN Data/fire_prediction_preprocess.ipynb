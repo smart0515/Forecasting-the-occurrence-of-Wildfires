{
 "cells": [
  {
   "cell_type": "code",
   "execution_count": 1,
   "id": "b4ef9193",
   "metadata": {
    "ExecuteTime": {
     "end_time": "2023-04-24T03:57:50.827974Z",
     "start_time": "2023-04-24T03:57:46.609893Z"
    }
   },
   "outputs": [],
   "source": [
    "import os \n",
    "import time\n",
    "import shutil\n",
    "import requests\n",
    "from glob import glob\n",
    "\n",
    "import pandas as pd\n",
    "from tqdm import tqdm\n",
    "from matplotlib import pyplot as plt\n",
    "\n",
    "import tifffile\n",
    "import rasterio\n",
    "import geopandas as gpd # geo 데이터프레임 만들기 위함\n",
    "from pyidw import idw # 보간법 실행\n",
    "from osgeo import gdal # 래스터 자르기 anaconda로 설치\n",
    "from rasterio.plot import show # 래스터 시각화\n",
    "from shapely.geometry import Point\n",
    "from rasterio.features import geometry_mask\n",
    "from rasterio.transform import from_origin"
   ]
  },
  {
   "cell_type": "code",
   "execution_count": 2,
   "id": "37521a12",
   "metadata": {
    "ExecuteTime": {
     "end_time": "2023-04-20T14:03:52.588946Z",
     "start_time": "2023-04-20T14:03:52.573547Z"
    }
   },
   "outputs": [],
   "source": [
    "fire=pd.read_csv(\"fire.csv\",encoding='utf8') #강원도 산불 데이터 \n",
    "loc_data=pd.read_csv(\"loc_list.csv\") # asos 지점과 경위도 데이터 "
   ]
  },
  {
   "cell_type": "code",
   "execution_count": 3,
   "id": "50055ce6",
   "metadata": {
    "ExecuteTime": {
     "end_time": "2023-04-20T14:03:53.225739Z",
     "start_time": "2023-04-20T14:03:53.209202Z"
    }
   },
   "outputs": [
    {
     "data": {
      "text/html": [
       "<div>\n",
       "<style scoped>\n",
       "    .dataframe tbody tr th:only-of-type {\n",
       "        vertical-align: middle;\n",
       "    }\n",
       "\n",
       "    .dataframe tbody tr th {\n",
       "        vertical-align: top;\n",
       "    }\n",
       "\n",
       "    .dataframe thead th {\n",
       "        text-align: right;\n",
       "    }\n",
       "</style>\n",
       "<table border=\"1\" class=\"dataframe\">\n",
       "  <thead>\n",
       "    <tr style=\"text-align: right;\">\n",
       "      <th></th>\n",
       "      <th>date</th>\n",
       "      <th>time</th>\n",
       "      <th>lon</th>\n",
       "      <th>lat</th>\n",
       "      <th>input</th>\n",
       "    </tr>\n",
       "  </thead>\n",
       "  <tbody>\n",
       "    <tr>\n",
       "      <th>0</th>\n",
       "      <td>20110122</td>\n",
       "      <td>233500</td>\n",
       "      <td>128.869839</td>\n",
       "      <td>37.782030</td>\n",
       "      <td>2011012223</td>\n",
       "    </tr>\n",
       "    <tr>\n",
       "      <th>1</th>\n",
       "      <td>20110201</td>\n",
       "      <td>210700</td>\n",
       "      <td>128.852520</td>\n",
       "      <td>37.792612</td>\n",
       "      <td>2011020121</td>\n",
       "    </tr>\n",
       "    <tr>\n",
       "      <th>2</th>\n",
       "      <td>20110226</td>\n",
       "      <td>164200</td>\n",
       "      <td>127.955332</td>\n",
       "      <td>37.379769</td>\n",
       "      <td>2011022616</td>\n",
       "    </tr>\n",
       "    <tr>\n",
       "      <th>3</th>\n",
       "      <td>20110212</td>\n",
       "      <td>061800</td>\n",
       "      <td>127.879749</td>\n",
       "      <td>37.220708</td>\n",
       "      <td>2011021206</td>\n",
       "    </tr>\n",
       "    <tr>\n",
       "      <th>4</th>\n",
       "      <td>20110211</td>\n",
       "      <td>175000</td>\n",
       "      <td>128.128864</td>\n",
       "      <td>37.772593</td>\n",
       "      <td>2011021117</td>\n",
       "    </tr>\n",
       "    <tr>\n",
       "      <th>...</th>\n",
       "      <td>...</td>\n",
       "      <td>...</td>\n",
       "      <td>...</td>\n",
       "      <td>...</td>\n",
       "      <td>...</td>\n",
       "    </tr>\n",
       "    <tr>\n",
       "      <th>1048</th>\n",
       "      <td>20210115</td>\n",
       "      <td>153938</td>\n",
       "      <td>128.258791</td>\n",
       "      <td>38.075039</td>\n",
       "      <td>2021011515</td>\n",
       "    </tr>\n",
       "    <tr>\n",
       "      <th>1049</th>\n",
       "      <td>20210220</td>\n",
       "      <td>131300</td>\n",
       "      <td>127.548490</td>\n",
       "      <td>38.179367</td>\n",
       "      <td>2021022013</td>\n",
       "    </tr>\n",
       "    <tr>\n",
       "      <th>1050</th>\n",
       "      <td>20210417</td>\n",
       "      <td>093354</td>\n",
       "      <td>128.000383</td>\n",
       "      <td>37.659658</td>\n",
       "      <td>2021041709</td>\n",
       "    </tr>\n",
       "    <tr>\n",
       "      <th>1051</th>\n",
       "      <td>20210426</td>\n",
       "      <td>172913</td>\n",
       "      <td>127.954054</td>\n",
       "      <td>37.324059</td>\n",
       "      <td>2021042617</td>\n",
       "    </tr>\n",
       "    <tr>\n",
       "      <th>1052</th>\n",
       "      <td>20210513</td>\n",
       "      <td>153705</td>\n",
       "      <td>128.986378</td>\n",
       "      <td>37.314403</td>\n",
       "      <td>2021051315</td>\n",
       "    </tr>\n",
       "  </tbody>\n",
       "</table>\n",
       "<p>1053 rows × 5 columns</p>\n",
       "</div>"
      ],
      "text/plain": [
       "          date    time         lon        lat       input\n",
       "0     20110122  233500  128.869839  37.782030  2011012223\n",
       "1     20110201  210700  128.852520  37.792612  2011020121\n",
       "2     20110226  164200  127.955332  37.379769  2011022616\n",
       "3     20110212  061800  127.879749  37.220708  2011021206\n",
       "4     20110211  175000  128.128864  37.772593  2011021117\n",
       "...        ...     ...         ...        ...         ...\n",
       "1048  20210115  153938  128.258791  38.075039  2021011515\n",
       "1049  20210220  131300  127.548490  38.179367  2021022013\n",
       "1050  20210417  093354  128.000383  37.659658  2021041709\n",
       "1051  20210426  172913  127.954054  37.324059  2021042617\n",
       "1052  20210513  153705  128.986378  37.314403  2021051315\n",
       "\n",
       "[1053 rows x 5 columns]"
      ]
     },
     "execution_count": 3,
     "metadata": {},
     "output_type": "execute_result"
    }
   ],
   "source": [
    "fire=fire[['field1', 'field2', '_X', '_Y']]\n",
    "fire.columns=['date','time','lon','lat']\n",
    "fire['time'] = fire['time'].apply(lambda x: str(x).zfill(6))\n",
    "fire['input'] = fire['date'].astype(str)+fire['time'].apply(lambda x: str(x)[:2]).str.zfill(2).astype(str)\n",
    "fire"
   ]
  },
  {
   "cell_type": "markdown",
   "id": "aacf83e6",
   "metadata": {},
   "source": [
    "# 데이터 크롤링 "
   ]
  },
  {
   "cell_type": "code",
   "execution_count": null,
   "id": "728b4040",
   "metadata": {},
   "outputs": [],
   "source": [
    "# asos 데이터 크롤링, 서비스키만 바꿔서 사용하면 됨 \n",
    "# 산불난 시간의 데이터를 크롤링하였음 \n",
    "# 시간,습도,풍속,(풍향),강수량,온도"
   ]
  },
  {
   "cell_type": "code",
   "execution_count": null,
   "id": "117b42b2",
   "metadata": {},
   "outputs": [],
   "source": [
    "url = 'http://apis.data.go.kr/1360000/AsosHourlyInfoService/getWthrDataList'\n",
    "\n",
    "def weather_crawling(date,locn):\n",
    "    # api 호출시 매개변수 설정 \n",
    "    params ={'serviceKey' : 'pXv2lwkQOlbcBekMvEjur8cGaDpQb84Upv6ZboITLKGudf2//PqPjL6QABwMtAhzNilIwndbgQdo9lBTUwy3XA==', #AuthenticationKey\n",
    "             'pageNo' : '1',\n",
    "             'numOfRows' : '10',\n",
    "             'dataType' : 'JSON', \n",
    "             'dataCd' : 'ASOS', \n",
    "             'dateCd' : 'HR', \n",
    "             'startDt' : date[:8], #startdate\n",
    "             'startHh' : date[8:], #starttime\n",
    "             'endDt' : date[:8], # end date\n",
    "             'endHh' : str(int(date[8:])+1), # end time\n",
    "             'stnIds' : locn \n",
    "            }\n",
    "\n",
    "    response = requests.get(url, params=params,verify=False)\n",
    "    \n",
    "    # 데이터가 있으면 불러오고 없으면 nan값을 넣음\n",
    "    # 변수는 직접 추가해도 됨. \n",
    "    # 현재는 시간(데이터유무알기위해서),습도,풍속,(풍향),강수량,기온\n",
    "    \n",
    "    try:\n",
    "        json_obj = json.loads(response.content)\n",
    "        json_obj=json_obj[\"response\"][\"body\"][\"items\"][\"item\"][0]\n",
    "        time=json_obj['tm']\n",
    "        humidity=json_obj['hm']\n",
    "        windspeed=json_obj['ws']\n",
    "        winddir=json_obj['wd']\n",
    "        rain=json_obj['rn']\n",
    "        temp=json_obj['ta']\n",
    "    except:\n",
    "        return np.nan,np.nan,np.nan,np.nan,np.nan,np.nan\n",
    "    \n",
    "    return time, humidity, windspeed, winddir, rain, temp\n",
    "\n",
    "# asos지점, 경위도 저장 파일 불러옴 \n",
    "loc_list=loc_data['지점번호']\n",
    "result=[]\n",
    "os.makedirs(f\"data_set/origin_data\", exist_ok=True) # 폴더 생성 \n",
    "for i in tqdm(range(len(fire))):\n",
    "    tmp=pd.DataFrame(columns=['num','location information', 'longitude','latitude','time','humidity','wind speed','wind direction','precipitation','temperature'])\n",
    "    for j in range(len(loc_list)):\n",
    "        new_data=[i,loc_list[j],loc_data['lon'][j],loc_data['lat'][j]]\n",
    "        new_data.extend(weather_crawling(fire['input'][i],loc_list[j])) \n",
    "        tmp = pd.concat([tmp, pd.DataFrame([new_data], columns=tmp.columns)], ignore_index=True)\n",
    "    tmp.to_csv(f\"data_set/origin_data/data_{i}.csv\",encoding='cp949',index=False)\n",
    "for i in range(len(fire)):\n",
    "    tmp=pd.read_csv(f\"data_set/origin_data/data_{i}.csv\",encoding='cp949')\n",
    "    result.append(tmp)        \n",
    "weather_data = pd.concat(result)\n",
    "weather_data"
   ]
  },
  {
   "cell_type": "code",
   "execution_count": 11,
   "id": "eca9be8d",
   "metadata": {
    "ExecuteTime": {
     "end_time": "2023-04-10T11:00:12.221129Z",
     "start_time": "2023-04-10T11:00:10.369628Z"
    }
   },
   "outputs": [
    {
     "data": {
      "text/html": [
       "<div>\n",
       "<style scoped>\n",
       "    .dataframe tbody tr th:only-of-type {\n",
       "        vertical-align: middle;\n",
       "    }\n",
       "\n",
       "    .dataframe tbody tr th {\n",
       "        vertical-align: top;\n",
       "    }\n",
       "\n",
       "    .dataframe thead th {\n",
       "        text-align: right;\n",
       "    }\n",
       "</style>\n",
       "<table border=\"1\" class=\"dataframe\">\n",
       "  <thead>\n",
       "    <tr style=\"text-align: right;\">\n",
       "      <th></th>\n",
       "      <th>index</th>\n",
       "      <th>num</th>\n",
       "      <th>location information</th>\n",
       "      <th>longitude</th>\n",
       "      <th>latitude</th>\n",
       "      <th>time</th>\n",
       "      <th>humidity</th>\n",
       "      <th>wind speed</th>\n",
       "      <th>wind direction</th>\n",
       "      <th>precipitation</th>\n",
       "      <th>temperature</th>\n",
       "    </tr>\n",
       "  </thead>\n",
       "  <tbody>\n",
       "    <tr>\n",
       "      <th>0</th>\n",
       "      <td>0</td>\n",
       "      <td>0</td>\n",
       "      <td>90</td>\n",
       "      <td>128.56473</td>\n",
       "      <td>38.25085</td>\n",
       "      <td>NaN</td>\n",
       "      <td>NaN</td>\n",
       "      <td>NaN</td>\n",
       "      <td>NaN</td>\n",
       "      <td>NaN</td>\n",
       "      <td>NaN</td>\n",
       "    </tr>\n",
       "    <tr>\n",
       "      <th>1</th>\n",
       "      <td>1</td>\n",
       "      <td>0</td>\n",
       "      <td>93</td>\n",
       "      <td>127.75443</td>\n",
       "      <td>37.94738</td>\n",
       "      <td>NaN</td>\n",
       "      <td>NaN</td>\n",
       "      <td>NaN</td>\n",
       "      <td>NaN</td>\n",
       "      <td>NaN</td>\n",
       "      <td>NaN</td>\n",
       "    </tr>\n",
       "    <tr>\n",
       "      <th>2</th>\n",
       "      <td>2</td>\n",
       "      <td>0</td>\n",
       "      <td>95</td>\n",
       "      <td>127.30420</td>\n",
       "      <td>38.14787</td>\n",
       "      <td>NaN</td>\n",
       "      <td>NaN</td>\n",
       "      <td>NaN</td>\n",
       "      <td>NaN</td>\n",
       "      <td>NaN</td>\n",
       "      <td>NaN</td>\n",
       "    </tr>\n",
       "    <tr>\n",
       "      <th>3</th>\n",
       "      <td>3</td>\n",
       "      <td>0</td>\n",
       "      <td>98</td>\n",
       "      <td>127.06070</td>\n",
       "      <td>37.90188</td>\n",
       "      <td>NaN</td>\n",
       "      <td>NaN</td>\n",
       "      <td>NaN</td>\n",
       "      <td>NaN</td>\n",
       "      <td>NaN</td>\n",
       "      <td>NaN</td>\n",
       "    </tr>\n",
       "    <tr>\n",
       "      <th>4</th>\n",
       "      <td>4</td>\n",
       "      <td>0</td>\n",
       "      <td>99</td>\n",
       "      <td>126.76648</td>\n",
       "      <td>37.88589</td>\n",
       "      <td>NaN</td>\n",
       "      <td>NaN</td>\n",
       "      <td>NaN</td>\n",
       "      <td>NaN</td>\n",
       "      <td>NaN</td>\n",
       "      <td>NaN</td>\n",
       "    </tr>\n",
       "    <tr>\n",
       "      <th>...</th>\n",
       "      <td>...</td>\n",
       "      <td>...</td>\n",
       "      <td>...</td>\n",
       "      <td>...</td>\n",
       "      <td>...</td>\n",
       "      <td>...</td>\n",
       "      <td>...</td>\n",
       "      <td>...</td>\n",
       "      <td>...</td>\n",
       "      <td>...</td>\n",
       "      <td>...</td>\n",
       "    </tr>\n",
       "    <tr>\n",
       "      <th>102136</th>\n",
       "      <td>92</td>\n",
       "      <td>1052</td>\n",
       "      <td>288</td>\n",
       "      <td>128.74412</td>\n",
       "      <td>35.49147</td>\n",
       "      <td>2021-05-13 15:00</td>\n",
       "      <td>34.0</td>\n",
       "      <td>2.0</td>\n",
       "      <td>160.0</td>\n",
       "      <td>NaN</td>\n",
       "      <td>29.8</td>\n",
       "    </tr>\n",
       "    <tr>\n",
       "      <th>102137</th>\n",
       "      <td>93</td>\n",
       "      <td>1052</td>\n",
       "      <td>289</td>\n",
       "      <td>127.87910</td>\n",
       "      <td>35.41300</td>\n",
       "      <td>NaN</td>\n",
       "      <td>NaN</td>\n",
       "      <td>NaN</td>\n",
       "      <td>NaN</td>\n",
       "      <td>NaN</td>\n",
       "      <td>NaN</td>\n",
       "    </tr>\n",
       "    <tr>\n",
       "      <th>102138</th>\n",
       "      <td>94</td>\n",
       "      <td>1052</td>\n",
       "      <td>294</td>\n",
       "      <td>128.60459</td>\n",
       "      <td>34.88818</td>\n",
       "      <td>NaN</td>\n",
       "      <td>NaN</td>\n",
       "      <td>NaN</td>\n",
       "      <td>NaN</td>\n",
       "      <td>NaN</td>\n",
       "      <td>NaN</td>\n",
       "    </tr>\n",
       "    <tr>\n",
       "      <th>102139</th>\n",
       "      <td>95</td>\n",
       "      <td>1052</td>\n",
       "      <td>295</td>\n",
       "      <td>127.92641</td>\n",
       "      <td>34.81662</td>\n",
       "      <td>NaN</td>\n",
       "      <td>NaN</td>\n",
       "      <td>NaN</td>\n",
       "      <td>NaN</td>\n",
       "      <td>NaN</td>\n",
       "      <td>NaN</td>\n",
       "    </tr>\n",
       "    <tr>\n",
       "      <th>102140</th>\n",
       "      <td>96</td>\n",
       "      <td>1052</td>\n",
       "      <td>296</td>\n",
       "      <td>128.96024</td>\n",
       "      <td>35.21778</td>\n",
       "      <td>NaN</td>\n",
       "      <td>NaN</td>\n",
       "      <td>NaN</td>\n",
       "      <td>NaN</td>\n",
       "      <td>NaN</td>\n",
       "      <td>NaN</td>\n",
       "    </tr>\n",
       "  </tbody>\n",
       "</table>\n",
       "<p>102141 rows × 11 columns</p>\n",
       "</div>"
      ],
      "text/plain": [
       "        index   num location information  longitude  latitude  \\\n",
       "0           0     0                   90  128.56473  38.25085   \n",
       "1           1     0                   93  127.75443  37.94738   \n",
       "2           2     0                   95  127.30420  38.14787   \n",
       "3           3     0                   98  127.06070  37.90188   \n",
       "4           4     0                   99  126.76648  37.88589   \n",
       "...       ...   ...                  ...        ...       ...   \n",
       "102136     92  1052                  288  128.74412  35.49147   \n",
       "102137     93  1052                  289  127.87910  35.41300   \n",
       "102138     94  1052                  294  128.60459  34.88818   \n",
       "102139     95  1052                  295  127.92641  34.81662   \n",
       "102140     96  1052                  296  128.96024  35.21778   \n",
       "\n",
       "                    time  humidity  wind speed  wind direction  precipitation  \\\n",
       "0                    NaN       NaN         NaN             NaN            NaN   \n",
       "1                    NaN       NaN         NaN             NaN            NaN   \n",
       "2                    NaN       NaN         NaN             NaN            NaN   \n",
       "3                    NaN       NaN         NaN             NaN            NaN   \n",
       "4                    NaN       NaN         NaN             NaN            NaN   \n",
       "...                  ...       ...         ...             ...            ...   \n",
       "102136  2021-05-13 15:00      34.0         2.0           160.0            NaN   \n",
       "102137               NaN       NaN         NaN             NaN            NaN   \n",
       "102138               NaN       NaN         NaN             NaN            NaN   \n",
       "102139               NaN       NaN         NaN             NaN            NaN   \n",
       "102140               NaN       NaN         NaN             NaN            NaN   \n",
       "\n",
       "        temperature  \n",
       "0               NaN  \n",
       "1               NaN  \n",
       "2               NaN  \n",
       "3               NaN  \n",
       "4               NaN  \n",
       "...             ...  \n",
       "102136         29.8  \n",
       "102137          NaN  \n",
       "102138          NaN  \n",
       "102139          NaN  \n",
       "102140          NaN  \n",
       "\n",
       "[102141 rows x 11 columns]"
      ]
     },
     "execution_count": 11,
     "metadata": {},
     "output_type": "execute_result"
    }
   ],
   "source": [
    "# 크롤링한 데이터를 전부 합침 \n",
    "weather_data.reset_index(inplace=True)\n",
    "weather_data.to_csv(f\"data_set/weather_data.csv\",encoding='cp949',index=False)\n",
    "weather_data"
   ]
  },
  {
   "cell_type": "markdown",
   "id": "f83e634f",
   "metadata": {},
   "source": [
    "# 기상 데이터 보간 "
   ]
  },
  {
   "cell_type": "code",
   "execution_count": 10,
   "id": "e5cab305",
   "metadata": {
    "ExecuteTime": {
     "end_time": "2023-04-11T07:45:39.926835Z",
     "start_time": "2023-04-11T07:45:39.919016Z"
    }
   },
   "outputs": [],
   "source": [
    "# 각 산불(1053)개에 맞는 기상데이터들을 보간함\n",
    "# 보간시 하나의 feature라도 없으면 전부 drop( 결측치 )\n",
    "# 한 지점이라도 살아있으면 보간이 되서 우선 냅둠 \n",
    "# 즉 어떤 산불은 지점 여러개로 보간된 데이터(정확도 높), 어떤건 지점한두개로 보간된 데이터(정확도 낮 )"
   ]
  },
  {
   "cell_type": "code",
   "execution_count": 24,
   "id": "d79f4875",
   "metadata": {
    "ExecuteTime": {
     "end_time": "2023-04-13T07:51:57.937342Z",
     "start_time": "2023-04-13T07:51:57.927411Z"
    }
   },
   "outputs": [
    {
     "data": {
      "text/plain": [
       "'C:\\\\Users\\\\ebdl\\\\산불예측\\\\산불예측'"
      ]
     },
     "execution_count": 24,
     "metadata": {},
     "output_type": "execute_result"
    }
   ],
   "source": [
    "%pwd"
   ]
  },
  {
   "cell_type": "markdown",
   "id": "7970911b",
   "metadata": {},
   "source": [
    "csv 하나로 합치기~"
   ]
  },
  {
   "cell_type": "code",
   "execution_count": 25,
   "id": "53faab52",
   "metadata": {
    "ExecuteTime": {
     "end_time": "2023-04-13T07:52:41.774866Z",
     "start_time": "2023-04-13T07:52:38.808203Z"
    }
   },
   "outputs": [],
   "source": [
    "path_notfire=\"data_set/origin_data/\"\n",
    "list_notfire=os.listdir(path_notfire)\n",
    "\n",
    "weather_data=pd.read_csv(f\"{path_notfire}data_0.csv\",encoding='utf-8-sig')\n",
    "for i in range(1,len(list_notfire)):\n",
    "    data=pd.read_csv(f\"{path_notfire}data_{i}.csv\",encoding='utf-8-sig')\n",
    "    weather_data=pd.concat([weather_data,data])\n",
    "\n",
    "# 크롤링한 데이터를 전부 합침 \n",
    "weather_data.reset_index(inplace=True)\n",
    "weather_data.to_csv(f\"data_set/weather_data.csv\",encoding='cp949',index=False)\n"
   ]
  },
  {
   "cell_type": "markdown",
   "id": "f00d7ad3",
   "metadata": {},
   "source": [
    "보간하기~"
   ]
  },
  {
   "cell_type": "code",
   "execution_count": null,
   "id": "70a72bcb",
   "metadata": {},
   "outputs": [],
   "source": [
    "features=['humidity','wind speed','rainfall','temp']\n",
    "\n",
    "weather_data=pd.read_csv(\"data_set/weather_data.csv\",encoding='cp949')\n",
    "weather_data.columns=['index', 'num', 'location information', 'longitude', 'latitude', 'time','humidity', 'wind speed', 'wind direction', 'rainfall','temp']\n",
    "weather_data.dropna(subset=['time'], inplace=True)\n",
    "weather_data['rainfall']=weather_data['rainfall'].fillna(0)\n",
    "\n",
    "for i in range(len(fire)):\n",
    "    tmp=weather_data[weather_data['num']==i]\n",
    "    tmp=tmp.dropna()\n",
    "    # 결측치 전부 drop 후에 데이터가 없으면 보간하지 않음\n",
    "    if(len(tmp)==0):\n",
    "        print(\"There is no data\")\n",
    "        continue\n",
    "    tmp.drop(['num','location information','time'],axis=1,inplace=True)\n",
    "    tmp = gpd.GeoDataFrame(tmp, geometry=gpd.points_from_xy(tmp.longitude, tmp.latitude))\n",
    "    tmp.to_file(f'data{i}.shp')\n",
    "    for j in range(len(features)):\n",
    "        os.makedirs(f\"data_set/tif_data/{features[j]}\", exist_ok=True)\n",
    "        idw.idw_interpolation(\n",
    "            input_point_shapefile=f'data{i}.shp', # 보간하고자 하는 shp 파일 \n",
    "            extent_shapefile=\"boundary/boundary.shp\", # 경계 shp 파일(현재 강원도)\n",
    "            column_name=features[j], # 보간하고자 하는 feature 이름. \n",
    "            power=2, # 거리 가중치 계수 \n",
    "            search_radious=8, # 검색하고자 하는 범위 \n",
    "            output_resolution=400, # 결과물 해상도 \n",
    "        )\n",
    "        shutil.move(f\"data{i}_idw.tif\", f\"data_set/tif_data/{features[j]}/data{i}_idw.tif\")\n",
    "    os.remove(f\"data{i}.shp\")\n",
    "    os.remove(f\"data{i}.cpg\")\n",
    "    os.remove(f\"data{i}.dbf\")\n",
    "    os.remove(f\"data{i}.shx\")"
   ]
  },
  {
   "cell_type": "markdown",
   "id": "c28221c2",
   "metadata": {},
   "source": [
    "# 산불 발생 지역 tif 생성 "
   ]
  },
  {
   "cell_type": "code",
   "execution_count": null,
   "id": "a67093c7",
   "metadata": {},
   "outputs": [],
   "source": [
    "# 산불 난 지점의 위치를 찾기위해서 각 산불난 위치 아래와 같은 순서로 진행\n",
    "# 우선 산불난 지점을 shp로 찍음\n",
    "# shp를 tif로 만들고 강원도 경계에 맞게 자름\n",
    "# 만든 tif에서 산불 난 지점만 9999로 표시하고 나머진 32767로 표시되게 함( 강원도 지역구분은 안됨)"
   ]
  },
  {
   "cell_type": "code",
   "execution_count": 28,
   "id": "c3f7ef37",
   "metadata": {
    "ExecuteTime": {
     "end_time": "2023-04-14T06:10:33.619971Z",
     "start_time": "2023-04-14T06:06:44.549963Z"
    },
    "scrolled": true
   },
   "outputs": [],
   "source": [
    "os.makedirs(f\"data_set/fire_loc\", exist_ok=True)\n",
    "for i in range(len(fire)):\n",
    "    tmp=pd.DataFrame(fire.iloc[i])\n",
    "    tmp=tmp.T\n",
    "    tmp = gpd.GeoDataFrame(tmp, geometry=gpd.points_from_xy(tmp.lon, tmp.lat))\n",
    "    tmp.drop(['date','time','lon','lat','input'],axis=1,inplace=True)\n",
    "    tmp['fire']=1\n",
    "    tmp.to_file('fire_data.shp')\n",
    "\n",
    "    shp_path  = \"fire_data.shp\" # 현재 shp파일 이름 \n",
    "    boundary_path='boundary/boundary.shp'\n",
    "    tif_path  = \"fire_data.tif\" # 만들고자 하는 tif파일 이름\n",
    "\n",
    "    driver = gdal.GetDriverByName('GTiff')\n",
    "\n",
    "    # 산불 shp 파일을 읽어오기\n",
    "    shp_datasource = gdal.OpenEx(shp_path, gdal.OF_VECTOR)\n",
    "    \n",
    "    # 경계shp 파일을 읽어오기\n",
    "    boundary_datasource = gdal.OpenEx(boundary_path, gdal.OF_VECTOR)\n",
    "\n",
    "    # tif 파일 생성\n",
    "    tif_datasource = driver.Create(tif_path, 400, 278, 1, gdal.GDT_Float32)\n",
    "\n",
    "    # 좌표계 설정\n",
    "    tif_datasource.SetProjection(shp_datasource.GetProjection())\n",
    "    \n",
    "    \n",
    "    # 강원도 경계값 가져옴 \n",
    "    boundary = gpd.read_file(boundary_path)\n",
    "    xmin, ymin, xmax, ymax = boundary.total_bounds\n",
    "\n",
    "    # 강원도 경계값 가져온걸 위에서 설정한 400,278 즉 액셀 파일 크기형태로 설정 \n",
    "    tif_datasource.SetGeoTransform((xmin, (xmax-xmin)/400, 0, ymax, 0, -(ymax-ymin)/278))\n",
    "\n",
    "    band = tif_datasource.GetRasterBand(1)\n",
    "    # 산불 난 지점 외에는 전부 32767 박기 \n",
    "    band.SetNoDataValue(32767)\n",
    "    # 산불 발생 위치 9999로 설정\n",
    "    gdal.RasterizeLayer(tif_datasource, [1], shp_datasource.GetLayer(), burn_values=[9999]) \n",
    "    #gdal.RasterizeLayer(tif_datasource, [1], boundary_datasource.GetLayer(), burn_values=[32767])\n",
    "\n",
    "    shp_datasource = None\n",
    "    tif_datasource = None\n",
    "\n",
    "    # file닫고 csv로 저장해야함\n",
    "    tif_file = rasterio.open(\"fire_data.tif\") \n",
    "    data = tifffile.imread('fire_data.tif')    \n",
    "    data=pd.DataFrame(data)\n",
    "    data.to_csv(f'data_set/fire_loc/fire_data{i}.csv')\n",
    "    tif_file.close()\n",
    "    \n",
    "# 필요없는 파일 삭제\n",
    "os.remove(f\"fire_data.shp\")\n",
    "os.remove(f\"fire_data.cpg\")\n",
    "os.remove(f\"fire_data.dbf\")\n",
    "os.remove(f\"fire_data.shx\")\n",
    "os.remove(f\"fire_data.tif\")"
   ]
  },
  {
   "cell_type": "markdown",
   "id": "0e361e26",
   "metadata": {},
   "source": [
    "# 보간 파일 tif -> csv로 변환"
   ]
  },
  {
   "cell_type": "code",
   "execution_count": 29,
   "id": "73fa5151",
   "metadata": {
    "ExecuteTime": {
     "end_time": "2023-04-14T06:17:40.401922Z",
     "start_time": "2023-04-14T06:10:33.882066Z"
    }
   },
   "outputs": [],
   "source": [
    "path_dir = 'data_set/tif_data'\n",
    "file_list=os.listdir(path_dir)\n",
    "\n",
    "for i in range(len(file_list)):\n",
    "    tif_list = sorted(glob(f\"{path_dir}/{file_list[i]}/*.tif\"))\n",
    "    os.makedirs(f'data_set/csv_data/{file_list[i]}', exist_ok=True)\n",
    "    for j in range(len(tif_list)):\n",
    "        # 결측치 처리한다음에 파일명 맞춰주기 위해서 숫자 뽑음\n",
    "        s_index = tif_list[j].rfind('\\\\')\n",
    "        b_index = tif_list[j].rfind('.')\n",
    "        image=rasterio.open(tif_list[j])\n",
    "        image=pd.DataFrame(image.read(1))\n",
    "        name=tif_list[j][s_index+5:b_index]\n",
    "        image.to_csv(f\"data_set/csv_data/{file_list[i]}/data{name}.csv\",encoding='utf-8-sig')"
   ]
  },
  {
   "cell_type": "code",
   "execution_count": 30,
   "id": "ebf1f14a",
   "metadata": {
    "ExecuteTime": {
     "end_time": "2023-04-14T06:17:40.691335Z",
     "start_time": "2023-04-14T06:17:40.678416Z"
    }
   },
   "outputs": [],
   "source": [
    "tif_list = sorted(glob(f\"{path_dir}/{file_list[0]}/*.tif\"))\n",
    "length=len(tif_list)"
   ]
  },
  {
   "cell_type": "code",
   "execution_count": 31,
   "id": "b8c38a05",
   "metadata": {
    "ExecuteTime": {
     "end_time": "2023-04-14T06:17:40.980975Z",
     "start_time": "2023-04-14T06:17:40.952365Z"
    }
   },
   "outputs": [],
   "source": [
    "# dataframe에서 value 위치 찾기\n",
    "def find_value_in_dataframe(df, value):\n",
    "    res = []\n",
    "    for i in df.index:\n",
    "        for j in df.columns:\n",
    "            if (df[j][i] == value):\n",
    "                res.append([i, j])\n",
    "    if (len(res) == 1):\n",
    "        return (res[0])\n",
    "    return (res)\n",
    "\n",
    "# list 범위 제한\n",
    "def handling_list_range(lst, lst_range):\n",
    "    lst_res = []\n",
    "    for i in (lst):\n",
    "        if (i < lst_range[0]):\n",
    "            lst_res.append(lst_range[0])\n",
    "        elif (i >= lst_range[1]):\n",
    "            lst_res.append(lst_range[1]-1)\n",
    "        else:\n",
    "            lst_res.append(i)\n",
    "    return (lst_res)\n",
    "\n",
    "# crop시 특정값 제외(강원도 밖 범위)\n",
    "def handling_value_except(lst, v_except, center, radius):\n",
    "    if (radius < 1):\n",
    "        return\n",
    "    # 동쪽 채우기\n",
    "    for i in range(center[0]-radius, center[0]+radius+1):\n",
    "        if (lst[i][center[1]-radius] == v_except):\n",
    "            lst[i][center[1]-radius] = lst[i][center[1]-radius+1]\n",
    "    # 서쪽 채우기\n",
    "    for i in range(center[0]-radius, center[0]+radius+1):\n",
    "        if (lst[i][center[1]+radius] == v_except):\n",
    "            lst[i][center[1]+radius] = lst[i][center[1]+radius-1]\n",
    "    # 남쪽 채우기\n",
    "    for j in range(center[1]-radius, center[1]+radius+1):\n",
    "        if (lst[center[0]+radius][j] == v_except):\n",
    "            lst[center[0]+radius][j] = lst[center[0]+radius-1][j]\n",
    "    # 북쪽 채우기\n",
    "    for j in range(center[1]-radius, center[1]+radius+1):\n",
    "        if (lst[center[0]-radius][j] == v_except):\n",
    "            lst[center[0]-radius][j] = lst[center[0]-radius+1][j]\n",
    "    # 꼭짓점 채우기\n",
    "    if (lst[center[0]-radius][center[1]-radius] == v_except):\n",
    "        lst[center[0]-radius][center[1]-radius] = lst[center[0]-radius][center[1]-radius+1]\n",
    "    if (lst[center[0]-radius][center[1]+radius] == v_except):\n",
    "        lst[center[0]-radius][center[1]+radius] = lst[center[0]-radius][center[1]+radius-1]\n",
    "    if (lst[center[0]+radius][center[1]-radius] == v_except):\n",
    "        lst[center[0]+radius][center[1]-radius] = lst[center[0]+radius][center[1]-radius+1]\n",
    "    if (lst[center[0]+radius][center[1]+radius] == v_except):\n",
    "        lst[center[0]+radius][center[1]+radius] = lst[center[0]+radius][center[1]+radius-1]\n",
    "\n",
    "# dataframe에서 crop하기\n",
    "def crop_dataframe_by_point(df, point, padding=0):\n",
    "    # list index 구하기\n",
    "    i_point = [list(df.index).index(point[0]), list(df.columns).index(point[1])]\n",
    "    i_padding = [[i for i in range(i_point[0]-padding, i_point[0]+padding+1)], \\\n",
    "                 [i for i in range(i_point[1]-padding, i_point[1]+padding+1)]]\n",
    "    \n",
    "    # 범위 넘어가는 것 처리(끝값으로 처리)\n",
    "    i_padding[0] = handling_list_range(i_padding[0], [0, df.shape[0]])\n",
    "    i_padding[1] = handling_list_range(i_padding[1], [0, df.shape[1]])\n",
    "    \n",
    "    # index, column 구하기\n",
    "    xy_padding = [[df.columns[x] for x in i_padding[1]], [df.index[y] for y in i_padding[0]]]\n",
    "    \n",
    "    # list 형태 뽑기\n",
    "    res_lst = []\n",
    "    for y in (xy_padding[1]):\n",
    "        lst_i = []\n",
    "        for x in (xy_padding[0]):\n",
    "            lst_i.append(df[x][y])\n",
    "        res_lst.append(lst_i)\n",
    "    \n",
    "    # 강원도 범위 처리\n",
    "    for i in range(padding+1):\n",
    "        handling_value_except(res_lst, 32767, [int(len(res_lst)/2), int(len(res_lst)/2)], i)\n",
    "    \n",
    "    return (np.array(res_lst, dtype=float))\n",
    "\n",
    "def find_and_crop(df_find, df_crop, padding):\n",
    "    df_find = pd.read_csv(df_find, index_col=0)\n",
    "    df_crop = pd.read_csv(df_crop, index_col=0)\n",
    "    df_crop.index = df_find.index\n",
    "    df_crop.columns = df_find.columns\n",
    "    return (crop_dataframe_by_point(df_crop, find_value_in_dataframe(df_find, 9999), padding))"
   ]
  },
  {
   "cell_type": "code",
   "execution_count": 14,
   "id": "08db20a1",
   "metadata": {
    "ExecuteTime": {
     "end_time": "2023-04-21T05:05:45.324938Z",
     "start_time": "2023-04-21T05:05:45.310794Z"
    }
   },
   "outputs": [
    {
     "data": {
      "text/plain": [
       "'C:\\\\Users\\\\ebdl\\\\산불예측\\\\산불예측'"
      ]
     },
     "execution_count": 14,
     "metadata": {},
     "output_type": "execute_result"
    }
   ],
   "source": [
    "%pwd"
   ]
  },
  {
   "cell_type": "markdown",
   "id": "3776c8f4",
   "metadata": {},
   "source": [
    "# 보간된 csv 파일을 crop"
   ]
  },
  {
   "cell_type": "markdown",
   "id": "71b8ce33",
   "metadata": {},
   "source": [
    "## 7의 배수로 crop"
   ]
  },
  {
   "cell_type": "code",
   "execution_count": 22,
   "id": "78d44273",
   "metadata": {
    "ExecuteTime": {
     "end_time": "2023-04-21T05:40:55.598817Z",
     "start_time": "2023-04-21T05:40:53.581409Z"
    }
   },
   "outputs": [],
   "source": [
    "import pandas as pd\n",
    "import os\n",
    "\n",
    "# 크롭한 csv 파일을 저장할 폴더 생성\n",
    "if not os.path.exists('croped_fire_pred_hum'):\n",
    "    os.makedirs('croped_fire_pred_hum')\n",
    "\n",
    "# 원본 csv 파일 경로\n",
    "csv_path = 'data_set/test_crop/hum_data0_idw.csv'\n",
    "\n",
    "# 새로운 csv 파일을 저장할 폴더 경로\n",
    "croped_csv_folder = 'croped_fire_pred_hum'\n",
    "\n",
    "# 크롭한 csv 파일 크기 (7x7)\n",
    "crop_size = 7\n",
    "\n",
    "# 원본 csv 파일 불러오기\n",
    "df = pd.read_csv(csv_path,index_col=0)\n",
    "# pad_width = 3\n",
    "\n",
    "# # 좌우로 0패딩\n",
    "# padded_lr = np.pad(df, ((0, 0), (pad_width, pad_width)), mode='constant', constant_values=32767)\n",
    "\n",
    "# # 상하로 0패딩\n",
    "# padded_tb = np.pad(padded_lr, ((pad_width, pad_width), (0, 0)), mode='constant', constant_values=32767)\n",
    "\n",
    "#df= pd.DataFrame(data=padded_tb)\n",
    "\n",
    "# 데이터 프레임의 행과 열 개수\n",
    "n_rows, n_cols = df.shape\n",
    "\n",
    "# 크롭한 csv 파일의 인덱스\n",
    "croped_csv_idx = 0\n",
    "\n",
    "for i in range(0, n_rows-crop_size+1,7):\n",
    "    for j in range(0, n_cols-crop_size+1,7):\n",
    "        # 시작 위치부터 크롭한 데이터 가져오기\n",
    "        croped_data = df.iloc[i:i+crop_size, j:j+crop_size]\n",
    "        \n",
    "        # 크롭한 데이터를 새로운 csv 파일로 저장\n",
    "        croped_csv_path = os.path.join(croped_csv_folder, f'croped_fire_pred_{croped_csv_idx}.csv')\n",
    "        croped_data.to_csv(croped_csv_path, index=True)\n",
    "        # 새로운 csv 파일의 인덱스 업데이트\n",
    "        croped_csv_idx += 1"
   ]
  },
  {
   "cell_type": "code",
   "execution_count": 24,
   "id": "f2def8fc",
   "metadata": {
    "ExecuteTime": {
     "end_time": "2023-04-21T05:47:18.025807Z",
     "start_time": "2023-04-21T05:47:15.406481Z"
    }
   },
   "outputs": [],
   "source": [
    "import pandas as pd\n",
    "import os\n",
    "\n",
    "# 크롭한 csv 파일을 저장할 폴더 생성\n",
    "if not os.path.exists('croped_fire_pred_rain'):\n",
    "    os.makedirs('croped_fire_pred_rain')\n",
    "\n",
    "# 원본 csv 파일 경로\n",
    "csv_path = 'data_set/test_crop/rain_data0_idw.csv'\n",
    "\n",
    "# 새로운 csv 파일을 저장할 폴더 경로\n",
    "croped_csv_folder = 'croped_fire_pred_rain'\n",
    "\n",
    "# 크롭한 csv 파일 크기 (7x7)\n",
    "crop_size = 7\n",
    "\n",
    "# 원본 csv 파일 불러오기\n",
    "df = pd.read_csv(csv_path,index_col=0)\n",
    "# pad_width = 3\n",
    "\n",
    "# # 좌우로 0패딩\n",
    "# padded_lr = np.pad(df, ((0, 0), (pad_width, pad_width)), mode='constant', constant_values=32767)\n",
    "\n",
    "# # 상하로 0패딩\n",
    "# padded_tb = np.pad(padded_lr, ((pad_width, pad_width), (0, 0)), mode='constant', constant_values=32767)\n",
    "\n",
    "#df= pd.DataFrame(data=padded_tb)\n",
    "\n",
    "# 데이터 프레임의 행과 열 개수\n",
    "n_rows, n_cols = df.shape\n",
    "\n",
    "# 크롭한 csv 파일의 인덱스\n",
    "croped_csv_idx = 0\n",
    "\n",
    "for i in range(0, n_rows-crop_size+1,7):\n",
    "    for j in range(0, n_cols-crop_size+1,7):\n",
    "        # 시작 위치부터 크롭한 데이터 가져오기\n",
    "        croped_data = df.iloc[i:i+crop_size, j:j+crop_size]\n",
    "        \n",
    "        # 크롭한 데이터를 새로운 csv 파일로 저장\n",
    "        croped_csv_path = os.path.join(croped_csv_folder, f'croped_fire_pred_{croped_csv_idx}.csv')\n",
    "        croped_data.to_csv(croped_csv_path, index=True)\n",
    "        # 새로운 csv 파일의 인덱스 업데이트\n",
    "        croped_csv_idx += 1"
   ]
  },
  {
   "cell_type": "code",
   "execution_count": 25,
   "id": "255af333",
   "metadata": {
    "ExecuteTime": {
     "end_time": "2023-04-21T05:47:21.467066Z",
     "start_time": "2023-04-21T05:47:19.543065Z"
    }
   },
   "outputs": [],
   "source": [
    "import pandas as pd\n",
    "import os\n",
    "\n",
    "# 크롭한 csv 파일을 저장할 폴더 생성\n",
    "if not os.path.exists('croped_fire_pred_temp'):\n",
    "    os.makedirs('croped_fire_pred_temp')\n",
    "\n",
    "# 원본 csv 파일 경로\n",
    "csv_path = 'data_set/test_crop/temp_data0_idw.csv'\n",
    "\n",
    "# 새로운 csv 파일을 저장할 폴더 경로\n",
    "croped_csv_folder = 'croped_fire_pred_temp'\n",
    "\n",
    "# 크롭한 csv 파일 크기 (7x7)\n",
    "crop_size = 7\n",
    "\n",
    "# 원본 csv 파일 불러오기\n",
    "df = pd.read_csv(csv_path,index_col=0)\n",
    "# pad_width = 3\n",
    "\n",
    "# # 좌우로 0패딩\n",
    "# padded_lr = np.pad(df, ((0, 0), (pad_width, pad_width)), mode='constant', constant_values=32767)\n",
    "\n",
    "# # 상하로 0패딩\n",
    "# padded_tb = np.pad(padded_lr, ((pad_width, pad_width), (0, 0)), mode='constant', constant_values=32767)\n",
    "\n",
    "#df= pd.DataFrame(data=padded_tb)\n",
    "\n",
    "# 데이터 프레임의 행과 열 개수\n",
    "n_rows, n_cols = df.shape\n",
    "\n",
    "# 크롭한 csv 파일의 인덱스\n",
    "croped_csv_idx = 0\n",
    "\n",
    "for i in range(0, n_rows-crop_size+1,7):\n",
    "    for j in range(0, n_cols-crop_size+1,7):\n",
    "        # 시작 위치부터 크롭한 데이터 가져오기\n",
    "        croped_data = df.iloc[i:i+crop_size, j:j+crop_size]\n",
    "        \n",
    "        # 크롭한 데이터를 새로운 csv 파일로 저장\n",
    "        croped_csv_path = os.path.join(croped_csv_folder, f'croped_fire_pred_{croped_csv_idx}.csv')\n",
    "        croped_data.to_csv(croped_csv_path, index=True)\n",
    "        # 새로운 csv 파일의 인덱스 업데이트\n",
    "        croped_csv_idx += 1"
   ]
  },
  {
   "cell_type": "code",
   "execution_count": 26,
   "id": "809603ba",
   "metadata": {
    "ExecuteTime": {
     "end_time": "2023-04-21T05:47:24.620690Z",
     "start_time": "2023-04-21T05:47:22.634231Z"
    }
   },
   "outputs": [],
   "source": [
    "import pandas as pd\n",
    "import os\n",
    "\n",
    "# 크롭한 csv 파일을 저장할 폴더 생성\n",
    "if not os.path.exists('croped_fire_pred_wind'):\n",
    "    os.makedirs('croped_fire_pred_wind')\n",
    "\n",
    "# 원본 csv 파일 경로\n",
    "csv_path = 'data_set/test_crop/wind_data0_idw.csv'\n",
    "\n",
    "# 새로운 csv 파일을 저장할 폴더 경로\n",
    "croped_csv_folder = 'croped_fire_pred_wind'\n",
    "\n",
    "# 크롭한 csv 파일 크기 (7x7)\n",
    "crop_size = 7\n",
    "\n",
    "# 원본 csv 파일 불러오기\n",
    "df = pd.read_csv(csv_path,index_col=0)\n",
    "# pad_width = 3\n",
    "\n",
    "# # 좌우로 0패딩\n",
    "# padded_lr = np.pad(df, ((0, 0), (pad_width, pad_width)), mode='constant', constant_values=32767)\n",
    "\n",
    "# # 상하로 0패딩\n",
    "# padded_tb = np.pad(padded_lr, ((pad_width, pad_width), (0, 0)), mode='constant', constant_values=32767)\n",
    "\n",
    "#df= pd.DataFrame(data=padded_tb)\n",
    "\n",
    "# 데이터 프레임의 행과 열 개수\n",
    "n_rows, n_cols = df.shape\n",
    "\n",
    "# 크롭한 csv 파일의 인덱스\n",
    "croped_csv_idx = 0\n",
    "\n",
    "for i in range(0, n_rows-crop_size+1,7):\n",
    "    for j in range(0, n_cols-crop_size+1,7):\n",
    "        # 시작 위치부터 크롭한 데이터 가져오기\n",
    "        croped_data = df.iloc[i:i+crop_size, j:j+crop_size]\n",
    "        \n",
    "        # 크롭한 데이터를 새로운 csv 파일로 저장\n",
    "        croped_csv_path = os.path.join(croped_csv_folder, f'croped_fire_pred_{croped_csv_idx}.csv')\n",
    "        croped_data.to_csv(croped_csv_path, index=True)\n",
    "        # 새로운 csv 파일의 인덱스 업데이트\n",
    "        croped_csv_idx += 1"
   ]
  },
  {
   "cell_type": "markdown",
   "id": "7bd849a0",
   "metadata": {},
   "source": [
    "## 픽셀 수만큼 crop"
   ]
  },
  {
   "cell_type": "code",
   "execution_count": 41,
   "id": "9e041f18",
   "metadata": {
    "ExecuteTime": {
     "end_time": "2023-04-17T06:21:08.999785Z",
     "start_time": "2023-04-17T06:18:23.713636Z"
    }
   },
   "outputs": [],
   "source": [
    "import pandas as pd\n",
    "import os\n",
    "\n",
    "# 크롭한 csv 파일을 저장할 폴더 생성\n",
    "if not os.path.exists('croped_fire_pred_hum'):\n",
    "    os.makedirs('croped_fire_pred_hum')\n",
    "\n",
    "# 원본 csv 파일 경로\n",
    "csv_path = 'data_set/crop_test/hum_data0_idw.csv'\n",
    "\n",
    "# 새로운 csv 파일을 저장할 폴더 경로\n",
    "croped_csv_folder = 'croped_fire_pred_hum'\n",
    "\n",
    "# 크롭한 csv 파일 크기 (7x7)\n",
    "crop_size = 7\n",
    "\n",
    "# 원본 csv 파일 불러오기\n",
    "df = pd.read_csv(csv_path,index_col=0)\n",
    "pad_width = 3\n",
    "\n",
    "# 좌우로 0패딩\n",
    "padded_lr = np.pad(df, ((0, 0), (pad_width, pad_width)), mode='constant', constant_values=32767)\n",
    "\n",
    "# 상하로 0패딩\n",
    "padded_tb = np.pad(padded_lr, ((pad_width, pad_width), (0, 0)), mode='constant', constant_values=32767)\n",
    "\n",
    "df= pd.DataFrame(data=padded_tb)\n",
    "\n",
    "# 데이터 프레임의 행과 열 개수\n",
    "n_rows, n_cols = df.shape\n",
    "\n",
    "# 크롭한 csv 파일의 인덱스\n",
    "croped_csv_idx = 0\n",
    "\n",
    "for i in range(n_rows-crop_size+1):\n",
    "    for j in range(n_cols-crop_size+1):\n",
    "        # 시작 위치부터 크롭한 데이터 가져오기\n",
    "        croped_data = df.iloc[i:i+crop_size, j:j+crop_size]\n",
    "        \n",
    "        # 크롭한 데이터를 새로운 csv 파일로 저장\n",
    "        croped_csv_path = os.path.join(croped_csv_folder, f'croped_fire_pred_{croped_csv_idx}.csv')\n",
    "        croped_data.to_csv(croped_csv_path, index=True)\n",
    "        \n",
    "        # 새로운 csv 파일의 인덱스 업데이트\n",
    "        croped_csv_idx += 1\n"
   ]
  },
  {
   "cell_type": "code",
   "execution_count": 42,
   "id": "dcd6fb52",
   "metadata": {
    "ExecuteTime": {
     "end_time": "2023-04-17T06:23:48.453731Z",
     "start_time": "2023-04-17T06:21:09.061580Z"
    }
   },
   "outputs": [],
   "source": [
    "import pandas as pd\n",
    "import os\n",
    "\n",
    "# 크롭한 csv 파일을 저장할 폴더 생성\n",
    "if not os.path.exists('croped_fire_pred_rain'):\n",
    "    os.makedirs('croped_fire_pred_rain')\n",
    "\n",
    "# 원본 csv 파일 경로\n",
    "csv_path = 'data_set/crop_test/rain_data0_idw.csv'\n",
    "\n",
    "# 새로운 csv 파일을 저장할 폴더 경로\n",
    "croped_csv_folder = 'croped_fire_pred_rain'\n",
    "\n",
    "# 크롭한 csv 파일 크기 (7x7)\n",
    "crop_size = 7\n",
    "\n",
    "# 원본 csv 파일 불러오기\n",
    "df = pd.read_csv(csv_path,index_col=0)\n",
    "pad_width = 3\n",
    "\n",
    "# 좌우로 0패딩\n",
    "padded_lr = np.pad(df, ((0, 0), (pad_width, pad_width)), mode='constant', constant_values=32767)\n",
    "\n",
    "# 상하로 0패딩\n",
    "padded_tb = np.pad(padded_lr, ((pad_width, pad_width), (0, 0)), mode='constant', constant_values=32767)\n",
    "\n",
    "df= pd.DataFrame(data=padded_tb)\n",
    "\n",
    "# 데이터 프레임의 행과 열 개수\n",
    "n_rows, n_cols = df.shape\n",
    "\n",
    "# 크롭한 csv 파일의 인덱스\n",
    "croped_csv_idx = 0\n",
    "\n",
    "for i in range(n_rows-crop_size+1):\n",
    "    for j in range(n_cols-crop_size+1):\n",
    "        # 시작 위치부터 크롭한 데이터 가져오기\n",
    "        croped_data = df.iloc[i:i+crop_size, j:j+crop_size]\n",
    "        \n",
    "        # 크롭한 데이터를 새로운 csv 파일로 저장\n",
    "        croped_csv_path = os.path.join(croped_csv_folder, f'croped_fire_pred_{croped_csv_idx}.csv')\n",
    "        croped_data.to_csv(croped_csv_path, index=True)\n",
    "        \n",
    "        # 새로운 csv 파일의 인덱스 업데이트\n",
    "        croped_csv_idx += 1\n"
   ]
  },
  {
   "cell_type": "code",
   "execution_count": 43,
   "id": "716b65a8",
   "metadata": {
    "ExecuteTime": {
     "end_time": "2023-04-17T06:26:30.261419Z",
     "start_time": "2023-04-17T06:23:48.516005Z"
    }
   },
   "outputs": [],
   "source": [
    "import pandas as pd\n",
    "import os\n",
    "\n",
    "# 크롭한 csv 파일을 저장할 폴더 생성\n",
    "if not os.path.exists('croped_fire_pred_temp'):\n",
    "    os.makedirs('croped_fire_pred_temp')\n",
    "\n",
    "# 원본 csv 파일 경로\n",
    "csv_path = 'data_set/crop_test/temp_data0_idw.csv'\n",
    "\n",
    "# 새로운 csv 파일을 저장할 폴더 경로\n",
    "croped_csv_folder = 'croped_fire_pred_temp'\n",
    "\n",
    "# 크롭한 csv 파일 크기 (7x7)\n",
    "crop_size = 7\n",
    "\n",
    "# 원본 csv 파일 불러오기\n",
    "df = pd.read_csv(csv_path,index_col=0)\n",
    "\n",
    "pad_width = 3\n",
    "\n",
    "# 좌우로 0패딩\n",
    "padded_lr = np.pad(df, ((0, 0), (pad_width, pad_width)), mode='constant', constant_values=32767)\n",
    "\n",
    "# 상하로 0패딩\n",
    "padded_tb = np.pad(padded_lr, ((pad_width, pad_width), (0, 0)), mode='constant', constant_values=32767)\n",
    "\n",
    "df= pd.DataFrame(data=padded_tb)\n",
    "\n",
    "# 데이터 프레임의 행과 열 개수\n",
    "n_rows, n_cols = df.shape\n",
    "\n",
    "# 크롭한 csv 파일의 인덱스\n",
    "croped_csv_idx = 0\n",
    "\n",
    "for i in range(n_rows-crop_size+1):\n",
    "    for j in range(n_cols-crop_size+1):\n",
    "        # 시작 위치부터 크롭한 데이터 가져오기\n",
    "        croped_data = df.iloc[i:i+crop_size, j:j+crop_size]\n",
    "        \n",
    "        # 크롭한 데이터를 새로운 csv 파일로 저장\n",
    "        croped_csv_path = os.path.join(croped_csv_folder, f'croped_fire_pred_{croped_csv_idx}.csv')\n",
    "        croped_data.to_csv(croped_csv_path, index=True)\n",
    "        \n",
    "        # 새로운 csv 파일의 인덱스 업데이트\n",
    "        croped_csv_idx += 1\n"
   ]
  },
  {
   "cell_type": "code",
   "execution_count": 44,
   "id": "b8965d3a",
   "metadata": {
    "ExecuteTime": {
     "end_time": "2023-04-17T06:29:16.230194Z",
     "start_time": "2023-04-17T06:26:30.323724Z"
    }
   },
   "outputs": [],
   "source": [
    "import pandas as pd\n",
    "import os\n",
    "\n",
    "# 크롭한 csv 파일을 저장할 폴더 생성\n",
    "if not os.path.exists('croped_fire_pred_wind'):\n",
    "    os.makedirs('croped_fire_pred_wind')\n",
    "\n",
    "# 원본 csv 파일 경로\n",
    "csv_path = 'data_set/crop_test/wind_data0_idw.csv'\n",
    "\n",
    "# 새로운 csv 파일을 저장할 폴더 경로\n",
    "croped_csv_folder = 'croped_fire_pred_wind'\n",
    "\n",
    "# 크롭한 csv 파일 크기 (7x7)\n",
    "crop_size = 7\n",
    "\n",
    "# 원본 csv 파일 불러오기\n",
    "df = pd.read_csv(csv_path,index_col=0)\n",
    "\n",
    "pad_width = 3\n",
    "\n",
    "# 좌우로 0패딩\n",
    "padded_lr = np.pad(df, ((0, 0), (pad_width, pad_width)), mode='constant', constant_values=32767)\n",
    "\n",
    "# 상하로 0패딩\n",
    "padded_tb = np.pad(padded_lr, ((pad_width, pad_width), (0, 0)), mode='constant', constant_values=32767)\n",
    "\n",
    "df= pd.DataFrame(data=padded_tb)\n",
    "\n",
    "# 데이터 프레임의 행과 열 개수\n",
    "n_rows, n_cols = df.shape\n",
    "\n",
    "# 크롭한 csv 파일의 인덱스\n",
    "croped_csv_idx = 0\n",
    "\n",
    "for i in range(n_rows-crop_size+1):\n",
    "    for j in range(n_cols-crop_size+1):\n",
    "        # 시작 위치부터 크롭한 데이터 가져오기\n",
    "        croped_data = df.iloc[i:i+crop_size, j:j+crop_size]\n",
    "        \n",
    "        # 크롭한 데이터를 새로운 csv 파일로 저장\n",
    "        croped_csv_path = os.path.join(croped_csv_folder, f'croped_fire_pred_{croped_csv_idx}.csv')\n",
    "        croped_data.to_csv(croped_csv_path, index=True)\n",
    "        \n",
    "        # 새로운 csv 파일의 인덱스 업데이트\n",
    "        croped_csv_idx += 1\n"
   ]
  },
  {
   "cell_type": "code",
   "execution_count": 32,
   "id": "1696a131",
   "metadata": {
    "ExecuteTime": {
     "end_time": "2023-04-14T07:18:39.732722Z",
     "start_time": "2023-04-14T06:17:41.257227Z"
    }
   },
   "outputs": [],
   "source": [
    "#path_dir = 'data_set/csv_data'\n",
    "#file_list=os.listdir(path_dir)\n",
    "#for i in range(length): # 결측치를 처리한 산불의 총 갯수 lenght는 위에서 구해놨음.\n",
    "#    for j in range(len(file_list)):\n",
    "#        os.makedirs(f'data_set/crop_data/{file_list[j]}', exist_ok=True)\n",
    "#        csv_list = sorted(glob(f\"{path_dir}/{file_list[j]}/*.csv\"))\n",
    "#        s_index = csv_list[i].rfind('\\\\')\n",
    "#        b_index = csv_list[i].rfind('_')\n",
    "#        name=csv_list[i][s_index+5:b_index]\n",
    "#        result=find_and_crop(f'data_set/fire_loc/fire_data{name}.csv',f'{path_dir}/{file_list[j]}/data{name}_idw.csv',3)\n",
    "#        result=pd.DataFrame(result)\n",
    "#        result.to_csv(f'data_set/crop_data/{file_list[j]}/data{name}.csv',encoding='utf-8-sig')"
   ]
  },
  {
   "cell_type": "markdown",
   "id": "7cd5606e",
   "metadata": {},
   "source": [
    "# crop 래스터를 png로 저장 "
   ]
  },
  {
   "cell_type": "code",
   "execution_count": 12,
   "id": "e242e116",
   "metadata": {
    "ExecuteTime": {
     "end_time": "2023-04-11T08:12:30.036773Z",
     "start_time": "2023-04-11T08:12:30.020826Z"
    }
   },
   "outputs": [],
   "source": [
    "# crop되어 있는 csv를 래스터파일로 바꾼다음\n",
    "# show mpa함수를 통해서 plot을 띄우고 png로 저장하는 방식을 이용 "
   ]
  },
  {
   "cell_type": "code",
   "execution_count": 28,
   "id": "722d51b0",
   "metadata": {
    "ExecuteTime": {
     "end_time": "2023-04-21T05:50:48.918647Z",
     "start_time": "2023-04-21T05:50:48.909306Z"
    }
   },
   "outputs": [],
   "source": [
    "import matplotlib.pyplot as plt\n",
    "import matplotlib.colors as colors\n",
    "import numpy as np\n",
    "import pandas as pd\n",
    "import os\n",
    "\n",
    "blues = plt.cm.Blues\n",
    "reds = plt.cm.Reds\n",
    "greens = plt.cm.Greens\n",
    "oranges = plt.cm.Oranges\n",
    "\n",
    "new_blues = colors.LinearSegmentedColormap.from_list('new_blues', blues(np.linspace(0.01, 1.0, 256)))\n",
    "new_reds = colors.LinearSegmentedColormap.from_list('new_reds', reds(np.linspace(0.01, 1.0, 256)))\n",
    "new_greens = colors.LinearSegmentedColormap.from_list('new_greens', greens(np.linspace(0.01, 1.0, 256)))\n",
    "new_oranges = colors.LinearSegmentedColormap.from_list('new_oranges', oranges(np.linspace(0.01, 1.0, 256)))\n",
    "colormap_list=[new_greens,new_blues,new_oranges,new_reds] #각 피쳐마다 컬러맵 다르게 해야됨 \n",
    "limits=[[2,100],[0,19],[-14.7,37.8],[0,20.9]] # 각 피쳐마다 범위 다르게 해야됨 (습도,강수량,기온,풍속)"
   ]
  },
  {
   "cell_type": "code",
   "execution_count": 29,
   "id": "37431583",
   "metadata": {
    "ExecuteTime": {
     "end_time": "2023-04-21T05:50:49.874720Z",
     "start_time": "2023-04-21T05:50:49.868494Z"
    }
   },
   "outputs": [
    {
     "data": {
      "text/plain": [
       "['humidity', 'rainfall', 'temp', 'wind speed']"
      ]
     },
     "execution_count": 29,
     "metadata": {},
     "output_type": "execute_result"
    }
   ],
   "source": [
    "path_dir=\"data_set/test_crop_7data\"\n",
    "file_list=os.listdir(path_dir)\n",
    "file_list"
   ]
  },
  {
   "cell_type": "code",
   "execution_count": 32,
   "id": "5d8f97cf",
   "metadata": {
    "ExecuteTime": {
     "end_time": "2023-04-21T07:59:30.731732Z",
     "start_time": "2023-04-21T07:41:56.815538Z"
    }
   },
   "outputs": [
    {
     "name": "stderr",
     "output_type": "stream",
     "text": [
      "  0%|                                                                               | 3/2223 [00:08<1:21:44,  2.21s/it]"
     ]
    },
    {
     "name": "stdout",
     "output_type": "stream",
     "text": [
      "8990256\n"
     ]
    },
    {
     "name": "stderr",
     "output_type": "stream",
     "text": [
      "  5%|███▋                                                                           | 103/2223 [00:14<02:44, 12.88it/s]"
     ]
    },
    {
     "name": "stdout",
     "output_type": "stream",
     "text": [
      "110\n"
     ]
    },
    {
     "name": "stderr",
     "output_type": "stream",
     "text": [
      "  9%|███████▏                                                                       | 204/2223 [00:19<02:55, 11.47it/s]"
     ]
    },
    {
     "name": "stdout",
     "output_type": "stream",
     "text": [
      "110\n"
     ]
    },
    {
     "name": "stderr",
     "output_type": "stream",
     "text": [
      " 14%|██████████▊                                                                    | 303/2223 [00:24<03:13,  9.94it/s]"
     ]
    },
    {
     "name": "stdout",
     "output_type": "stream",
     "text": [
      "110\n"
     ]
    },
    {
     "name": "stderr",
     "output_type": "stream",
     "text": [
      " 18%|██████████████▎                                                                | 402/2223 [00:30<04:04,  7.44it/s]"
     ]
    },
    {
     "name": "stdout",
     "output_type": "stream",
     "text": [
      "110\n"
     ]
    },
    {
     "name": "stderr",
     "output_type": "stream",
     "text": [
      " 23%|█████████████████▉                                                             | 505/2223 [00:36<03:24,  8.40it/s]"
     ]
    },
    {
     "name": "stdout",
     "output_type": "stream",
     "text": [
      "110\n"
     ]
    },
    {
     "name": "stderr",
     "output_type": "stream",
     "text": [
      " 27%|█████████████████████▍                                                         | 603/2223 [00:42<03:46,  7.15it/s]"
     ]
    },
    {
     "name": "stdout",
     "output_type": "stream",
     "text": [
      "110\n"
     ]
    },
    {
     "name": "stderr",
     "output_type": "stream",
     "text": [
      " 32%|█████████████████████████                                                      | 704/2223 [00:48<02:55,  8.68it/s]"
     ]
    },
    {
     "name": "stdout",
     "output_type": "stream",
     "text": [
      "110\n"
     ]
    },
    {
     "name": "stderr",
     "output_type": "stream",
     "text": [
      " 36%|████████████████████████████▌                                                  | 805/2223 [00:53<02:44,  8.61it/s]"
     ]
    },
    {
     "name": "stdout",
     "output_type": "stream",
     "text": [
      "110\n"
     ]
    },
    {
     "name": "stderr",
     "output_type": "stream",
     "text": [
      " 41%|████████████████████████████████                                               | 903/2223 [00:59<03:22,  6.52it/s]"
     ]
    },
    {
     "name": "stdout",
     "output_type": "stream",
     "text": [
      "110\n"
     ]
    },
    {
     "name": "stderr",
     "output_type": "stream",
     "text": [
      " 45%|███████████████████████████████████▏                                          | 1003/2223 [01:05<03:14,  6.28it/s]"
     ]
    },
    {
     "name": "stdout",
     "output_type": "stream",
     "text": [
      "110\n"
     ]
    },
    {
     "name": "stderr",
     "output_type": "stream",
     "text": [
      " 50%|██████████████████████████████████████▋                                       | 1102/2223 [01:11<03:33,  5.24it/s]"
     ]
    },
    {
     "name": "stdout",
     "output_type": "stream",
     "text": [
      "110\n"
     ]
    },
    {
     "name": "stderr",
     "output_type": "stream",
     "text": [
      " 54%|██████████████████████████████████████████▏                                   | 1204/2223 [01:18<02:37,  6.46it/s]"
     ]
    },
    {
     "name": "stdout",
     "output_type": "stream",
     "text": [
      "110\n"
     ]
    },
    {
     "name": "stderr",
     "output_type": "stream",
     "text": [
      " 59%|█████████████████████████████████████████████▋                                | 1302/2223 [01:25<04:45,  3.23it/s]"
     ]
    },
    {
     "name": "stdout",
     "output_type": "stream",
     "text": [
      "110\n"
     ]
    },
    {
     "name": "stderr",
     "output_type": "stream",
     "text": [
      " 63%|█████████████████████████████████████████████████▎                            | 1404/2223 [01:33<03:20,  4.09it/s]"
     ]
    },
    {
     "name": "stdout",
     "output_type": "stream",
     "text": [
      "110\n"
     ]
    },
    {
     "name": "stderr",
     "output_type": "stream",
     "text": [
      " 68%|████████████████████████████████████████████████████▋                         | 1503/2223 [01:40<02:31,  4.74it/s]"
     ]
    },
    {
     "name": "stdout",
     "output_type": "stream",
     "text": [
      "110\n"
     ]
    },
    {
     "name": "stderr",
     "output_type": "stream",
     "text": [
      " 72%|████████████████████████████████████████████████████████▏                     | 1603/2223 [01:48<02:37,  3.94it/s]"
     ]
    },
    {
     "name": "stdout",
     "output_type": "stream",
     "text": [
      "110\n"
     ]
    },
    {
     "name": "stderr",
     "output_type": "stream",
     "text": [
      " 77%|███████████████████████████████████████████████████████████▋                  | 1702/2223 [01:55<02:13,  3.91it/s]"
     ]
    },
    {
     "name": "stdout",
     "output_type": "stream",
     "text": [
      "110\n"
     ]
    },
    {
     "name": "stderr",
     "output_type": "stream",
     "text": [
      " 81%|███████████████████████████████████████████████████████████████▎              | 1803/2223 [02:02<01:52,  3.73it/s]"
     ]
    },
    {
     "name": "stdout",
     "output_type": "stream",
     "text": [
      "110\n"
     ]
    },
    {
     "name": "stderr",
     "output_type": "stream",
     "text": [
      " 86%|██████████████████████████████████████████████████████████████████▊           | 1903/2223 [02:10<01:13,  4.37it/s]"
     ]
    },
    {
     "name": "stdout",
     "output_type": "stream",
     "text": [
      "110\n"
     ]
    },
    {
     "name": "stderr",
     "output_type": "stream",
     "text": [
      " 90%|██████████████████████████████████████████████████████████████████████▎       | 2004/2223 [02:18<01:00,  3.59it/s]"
     ]
    },
    {
     "name": "stdout",
     "output_type": "stream",
     "text": [
      "110\n"
     ]
    },
    {
     "name": "stderr",
     "output_type": "stream",
     "text": [
      " 95%|█████████████████████████████████████████████████████████████████████████▊    | 2102/2223 [02:25<00:36,  3.32it/s]"
     ]
    },
    {
     "name": "stdout",
     "output_type": "stream",
     "text": [
      "110\n"
     ]
    },
    {
     "name": "stderr",
     "output_type": "stream",
     "text": [
      " 99%|█████████████████████████████████████████████████████████████████████████████▎| 2203/2223 [02:34<00:06,  3.21it/s]"
     ]
    },
    {
     "name": "stdout",
     "output_type": "stream",
     "text": [
      "110\n"
     ]
    },
    {
     "name": "stderr",
     "output_type": "stream",
     "text": [
      "100%|██████████████████████████████████████████████████████████████████████████████| 2223/2223 [02:35<00:00, 14.29it/s]\n",
      "  0%|▏                                                                                | 4/2223 [00:03<21:38,  1.71it/s]"
     ]
    },
    {
     "name": "stdout",
     "output_type": "stream",
     "text": [
      "9\n"
     ]
    },
    {
     "name": "stderr",
     "output_type": "stream",
     "text": [
      "  5%|███▌                                                                           | 102/2223 [00:11<16:55,  2.09it/s]"
     ]
    },
    {
     "name": "stdout",
     "output_type": "stream",
     "text": [
      "110\n"
     ]
    },
    {
     "name": "stderr",
     "output_type": "stream",
     "text": [
      "  9%|███████▏                                                                       | 202/2223 [00:21<17:13,  1.95it/s]"
     ]
    },
    {
     "name": "stdout",
     "output_type": "stream",
     "text": [
      "110\n"
     ]
    },
    {
     "name": "stderr",
     "output_type": "stream",
     "text": [
      " 14%|██████████▋                                                                    | 302/2223 [00:30<16:55,  1.89it/s]"
     ]
    },
    {
     "name": "stdout",
     "output_type": "stream",
     "text": [
      "110\n"
     ]
    },
    {
     "name": "stderr",
     "output_type": "stream",
     "text": [
      " 18%|██████████████▎                                                                | 403/2223 [00:39<11:49,  2.57it/s]"
     ]
    },
    {
     "name": "stdout",
     "output_type": "stream",
     "text": [
      "110\n"
     ]
    },
    {
     "name": "stderr",
     "output_type": "stream",
     "text": [
      " 23%|█████████████████▊                                                             | 502/2223 [00:48<15:44,  1.82it/s]"
     ]
    },
    {
     "name": "stdout",
     "output_type": "stream",
     "text": [
      "110\n"
     ]
    },
    {
     "name": "stderr",
     "output_type": "stream",
     "text": [
      " 27%|█████████████████████▍                                                         | 602/2223 [00:57<14:52,  1.82it/s]"
     ]
    },
    {
     "name": "stdout",
     "output_type": "stream",
     "text": [
      "110\n"
     ]
    },
    {
     "name": "stderr",
     "output_type": "stream",
     "text": [
      " 32%|████████████████████████▉                                                      | 703/2223 [01:07<11:01,  2.30it/s]"
     ]
    },
    {
     "name": "stdout",
     "output_type": "stream",
     "text": [
      "110\n"
     ]
    },
    {
     "name": "stderr",
     "output_type": "stream",
     "text": [
      " 36%|████████████████████████████▌                                                  | 803/2223 [01:17<11:02,  2.14it/s]"
     ]
    },
    {
     "name": "stdout",
     "output_type": "stream",
     "text": [
      "110\n"
     ]
    },
    {
     "name": "stderr",
     "output_type": "stream",
     "text": [
      " 41%|████████████████████████████████                                               | 903/2223 [01:27<09:38,  2.28it/s]"
     ]
    },
    {
     "name": "stdout",
     "output_type": "stream",
     "text": [
      "110\n"
     ]
    },
    {
     "name": "stderr",
     "output_type": "stream",
     "text": [
      " 45%|███████████████████████████████████▏                                          | 1003/2223 [01:37<09:24,  2.16it/s]"
     ]
    },
    {
     "name": "stdout",
     "output_type": "stream",
     "text": [
      "110\n"
     ]
    },
    {
     "name": "stderr",
     "output_type": "stream",
     "text": [
      " 50%|██████████████████████████████████████▋                                       | 1103/2223 [01:47<09:03,  2.06it/s]"
     ]
    },
    {
     "name": "stdout",
     "output_type": "stream",
     "text": [
      "110\n"
     ]
    },
    {
     "name": "stderr",
     "output_type": "stream",
     "text": [
      " 54%|██████████████████████████████████████████▏                                   | 1204/2223 [01:57<07:27,  2.28it/s]"
     ]
    },
    {
     "name": "stdout",
     "output_type": "stream",
     "text": [
      "110\n"
     ]
    },
    {
     "name": "stderr",
     "output_type": "stream",
     "text": [
      " 59%|█████████████████████████████████████████████▋                                | 1303/2223 [02:07<07:38,  2.01it/s]"
     ]
    },
    {
     "name": "stdout",
     "output_type": "stream",
     "text": [
      "110\n"
     ]
    },
    {
     "name": "stderr",
     "output_type": "stream",
     "text": [
      " 63%|█████████████████████████████████████████████████▏                            | 1403/2223 [02:17<06:20,  2.15it/s]"
     ]
    },
    {
     "name": "stdout",
     "output_type": "stream",
     "text": [
      "110\n"
     ]
    },
    {
     "name": "stderr",
     "output_type": "stream",
     "text": [
      " 68%|████████████████████████████████████████████████████▋                         | 1502/2223 [02:27<08:07,  1.48it/s]"
     ]
    },
    {
     "name": "stdout",
     "output_type": "stream",
     "text": [
      "110\n"
     ]
    },
    {
     "name": "stderr",
     "output_type": "stream",
     "text": [
      " 72%|████████████████████████████████████████████████████████▏                     | 1602/2223 [02:39<07:35,  1.36it/s]"
     ]
    },
    {
     "name": "stdout",
     "output_type": "stream",
     "text": [
      "110\n"
     ]
    },
    {
     "name": "stderr",
     "output_type": "stream",
     "text": [
      " 77%|███████████████████████████████████████████████████████████▊                  | 1703/2223 [02:49<04:35,  1.89it/s]"
     ]
    },
    {
     "name": "stdout",
     "output_type": "stream",
     "text": [
      "110\n"
     ]
    },
    {
     "name": "stderr",
     "output_type": "stream",
     "text": [
      " 81%|███████████████████████████████████████████████████████████████▏              | 1802/2223 [03:00<04:46,  1.47it/s]"
     ]
    },
    {
     "name": "stdout",
     "output_type": "stream",
     "text": [
      "110\n"
     ]
    },
    {
     "name": "stderr",
     "output_type": "stream",
     "text": [
      " 86%|██████████████████████████████████████████████████████████████████▋           | 1902/2223 [03:11<04:13,  1.27it/s]"
     ]
    },
    {
     "name": "stdout",
     "output_type": "stream",
     "text": [
      "110\n"
     ]
    },
    {
     "name": "stderr",
     "output_type": "stream",
     "text": [
      " 90%|██████████████████████████████████████████████████████████████████████▎       | 2003/2223 [03:22<01:59,  1.85it/s]"
     ]
    },
    {
     "name": "stdout",
     "output_type": "stream",
     "text": [
      "110\n"
     ]
    },
    {
     "name": "stderr",
     "output_type": "stream",
     "text": [
      " 95%|█████████████████████████████████████████████████████████████████████████▊    | 2103/2223 [03:33<01:10,  1.69it/s]"
     ]
    },
    {
     "name": "stdout",
     "output_type": "stream",
     "text": [
      "110\n"
     ]
    },
    {
     "name": "stderr",
     "output_type": "stream",
     "text": [
      " 99%|█████████████████████████████████████████████████████████████████████████████▎| 2203/2223 [03:45<00:12,  1.65it/s]"
     ]
    },
    {
     "name": "stdout",
     "output_type": "stream",
     "text": [
      "110\n"
     ]
    },
    {
     "name": "stderr",
     "output_type": "stream",
     "text": [
      "100%|██████████████████████████████████████████████████████████████████████████████| 2223/2223 [03:46<00:00,  9.81it/s]\n",
      "  0%|                                                                                 | 3/2223 [00:05<51:04,  1.38s/it]"
     ]
    },
    {
     "name": "stdout",
     "output_type": "stream",
     "text": [
      "9\n"
     ]
    },
    {
     "name": "stderr",
     "output_type": "stream",
     "text": [
      "  5%|███▌                                                                           | 102/2223 [00:17<31:19,  1.13it/s]"
     ]
    },
    {
     "name": "stdout",
     "output_type": "stream",
     "text": [
      "110\n"
     ]
    },
    {
     "name": "stderr",
     "output_type": "stream",
     "text": [
      "  9%|███████▏                                                                       | 201/2223 [00:29<31:03,  1.08it/s]"
     ]
    },
    {
     "name": "stdout",
     "output_type": "stream",
     "text": [
      "110\n"
     ]
    },
    {
     "name": "stderr",
     "output_type": "stream",
     "text": [
      " 14%|██████████▊                                                                    | 303/2223 [00:40<17:08,  1.87it/s]"
     ]
    },
    {
     "name": "stdout",
     "output_type": "stream",
     "text": [
      "110\n"
     ]
    },
    {
     "name": "stderr",
     "output_type": "stream",
     "text": [
      " 18%|██████████████▎                                                                | 401/2223 [00:53<29:54,  1.02it/s]"
     ]
    },
    {
     "name": "stdout",
     "output_type": "stream",
     "text": [
      "110\n"
     ]
    },
    {
     "name": "stderr",
     "output_type": "stream",
     "text": [
      " 23%|█████████████████▉                                                             | 503/2223 [01:07<21:44,  1.32it/s]"
     ]
    },
    {
     "name": "stdout",
     "output_type": "stream",
     "text": [
      "110\n"
     ]
    },
    {
     "name": "stderr",
     "output_type": "stream",
     "text": [
      " 27%|█████████████████████▍                                                         | 603/2223 [01:22<23:40,  1.14it/s]"
     ]
    },
    {
     "name": "stdout",
     "output_type": "stream",
     "text": [
      "110\n"
     ]
    },
    {
     "name": "stderr",
     "output_type": "stream",
     "text": [
      " 32%|████████████████████████▉                                                      | 702/2223 [01:34<25:02,  1.01it/s]"
     ]
    },
    {
     "name": "stdout",
     "output_type": "stream",
     "text": [
      "110\n"
     ]
    },
    {
     "name": "stderr",
     "output_type": "stream",
     "text": [
      " 36%|████████████████████████████▌                                                  | 803/2223 [01:47<16:41,  1.42it/s]"
     ]
    },
    {
     "name": "stdout",
     "output_type": "stream",
     "text": [
      "110\n"
     ]
    },
    {
     "name": "stderr",
     "output_type": "stream",
     "text": [
      " 41%|████████████████████████████████                                               | 903/2223 [01:59<15:21,  1.43it/s]"
     ]
    },
    {
     "name": "stdout",
     "output_type": "stream",
     "text": [
      "110\n"
     ]
    },
    {
     "name": "stderr",
     "output_type": "stream",
     "text": [
      " 45%|███████████████████████████████████                                           | 1001/2223 [02:13<22:25,  1.10s/it]"
     ]
    },
    {
     "name": "stdout",
     "output_type": "stream",
     "text": [
      "110\n"
     ]
    },
    {
     "name": "stderr",
     "output_type": "stream",
     "text": [
      " 50%|██████████████████████████████████████▋                                       | 1103/2223 [02:27<13:36,  1.37it/s]"
     ]
    },
    {
     "name": "stdout",
     "output_type": "stream",
     "text": [
      "110\n"
     ]
    },
    {
     "name": "stderr",
     "output_type": "stream",
     "text": [
      " 54%|██████████████████████████████████████████▏                                   | 1203/2223 [02:40<12:19,  1.38it/s]"
     ]
    },
    {
     "name": "stdout",
     "output_type": "stream",
     "text": [
      "110\n"
     ]
    },
    {
     "name": "stderr",
     "output_type": "stream",
     "text": [
      " 59%|█████████████████████████████████████████████▋                                | 1302/2223 [02:53<15:49,  1.03s/it]"
     ]
    },
    {
     "name": "stdout",
     "output_type": "stream",
     "text": [
      "110\n"
     ]
    },
    {
     "name": "stderr",
     "output_type": "stream",
     "text": [
      " 63%|█████████████████████████████████████████████████▏                            | 1402/2223 [03:06<14:31,  1.06s/it]"
     ]
    },
    {
     "name": "stdout",
     "output_type": "stream",
     "text": [
      "110\n"
     ]
    },
    {
     "name": "stderr",
     "output_type": "stream",
     "text": [
      " 68%|████████████████████████████████████████████████████▋                         | 1502/2223 [03:20<13:02,  1.09s/it]"
     ]
    },
    {
     "name": "stdout",
     "output_type": "stream",
     "text": [
      "110\n"
     ]
    },
    {
     "name": "stderr",
     "output_type": "stream",
     "text": [
      " 72%|████████████████████████████████████████████████████████▏                     | 1603/2223 [03:33<06:58,  1.48it/s]"
     ]
    },
    {
     "name": "stdout",
     "output_type": "stream",
     "text": [
      "110\n"
     ]
    },
    {
     "name": "stderr",
     "output_type": "stream",
     "text": [
      " 77%|███████████████████████████████████████████████████████████▊                  | 1703/2223 [03:46<06:34,  1.32it/s]"
     ]
    },
    {
     "name": "stdout",
     "output_type": "stream",
     "text": [
      "110\n"
     ]
    },
    {
     "name": "stderr",
     "output_type": "stream",
     "text": [
      " 81%|███████████████████████████████████████████████████████████████▎              | 1803/2223 [03:58<05:21,  1.31it/s]"
     ]
    },
    {
     "name": "stdout",
     "output_type": "stream",
     "text": [
      "110\n"
     ]
    },
    {
     "name": "stderr",
     "output_type": "stream",
     "text": [
      " 86%|██████████████████████████████████████████████████████████████████▋           | 1902/2223 [04:12<06:37,  1.24s/it]"
     ]
    },
    {
     "name": "stdout",
     "output_type": "stream",
     "text": [
      "110\n"
     ]
    },
    {
     "name": "stderr",
     "output_type": "stream",
     "text": [
      " 90%|██████████████████████████████████████████████████████████████████████▏       | 2002/2223 [04:27<04:19,  1.17s/it]"
     ]
    },
    {
     "name": "stdout",
     "output_type": "stream",
     "text": [
      "110\n"
     ]
    },
    {
     "name": "stderr",
     "output_type": "stream",
     "text": [
      " 95%|█████████████████████████████████████████████████████████████████████████▊    | 2102/2223 [04:42<02:24,  1.19s/it]"
     ]
    },
    {
     "name": "stdout",
     "output_type": "stream",
     "text": [
      "110\n"
     ]
    },
    {
     "name": "stderr",
     "output_type": "stream",
     "text": [
      " 99%|█████████████████████████████████████████████████████████████████████████████▎| 2202/2223 [04:57<00:24,  1.16s/it]"
     ]
    },
    {
     "name": "stdout",
     "output_type": "stream",
     "text": [
      "110\n"
     ]
    },
    {
     "name": "stderr",
     "output_type": "stream",
     "text": [
      "100%|██████████████████████████████████████████████████████████████████████████████| 2223/2223 [04:58<00:00,  7.44it/s]\n",
      "  0%|                                                                               | 3/2223 [00:07<1:13:19,  1.98s/it]"
     ]
    },
    {
     "name": "stdout",
     "output_type": "stream",
     "text": [
      "9\n"
     ]
    },
    {
     "name": "stderr",
     "output_type": "stream",
     "text": [
      "  5%|███▌                                                                           | 101/2223 [00:22<42:56,  1.21s/it]"
     ]
    },
    {
     "name": "stdout",
     "output_type": "stream",
     "text": [
      "110\n"
     ]
    },
    {
     "name": "stderr",
     "output_type": "stream",
     "text": [
      "  9%|███████▏                                                                       | 201/2223 [00:38<41:48,  1.24s/it]"
     ]
    },
    {
     "name": "stdout",
     "output_type": "stream",
     "text": [
      "110\n"
     ]
    },
    {
     "name": "stderr",
     "output_type": "stream",
     "text": [
      " 14%|██████████▊                                                                    | 303/2223 [00:54<28:52,  1.11it/s]"
     ]
    },
    {
     "name": "stdout",
     "output_type": "stream",
     "text": [
      "110\n"
     ]
    },
    {
     "name": "stderr",
     "output_type": "stream",
     "text": [
      " 18%|██████████████▎                                                                | 401/2223 [01:09<35:50,  1.18s/it]"
     ]
    },
    {
     "name": "stdout",
     "output_type": "stream",
     "text": [
      "110\n"
     ]
    },
    {
     "name": "stderr",
     "output_type": "stream",
     "text": [
      " 23%|█████████████████▉                                                             | 503/2223 [01:24<24:23,  1.17it/s]"
     ]
    },
    {
     "name": "stdout",
     "output_type": "stream",
     "text": [
      "110\n"
     ]
    },
    {
     "name": "stderr",
     "output_type": "stream",
     "text": [
      " 27%|█████████████████████▍                                                         | 603/2223 [01:37<23:22,  1.16it/s]"
     ]
    },
    {
     "name": "stdout",
     "output_type": "stream",
     "text": [
      "110\n"
     ]
    },
    {
     "name": "stderr",
     "output_type": "stream",
     "text": [
      " 32%|████████████████████████▉                                                      | 703/2223 [01:51<21:34,  1.17it/s]"
     ]
    },
    {
     "name": "stdout",
     "output_type": "stream",
     "text": [
      "110\n"
     ]
    },
    {
     "name": "stderr",
     "output_type": "stream",
     "text": [
      " 36%|████████████████████████████▌                                                  | 802/2223 [02:06<27:53,  1.18s/it]"
     ]
    },
    {
     "name": "stdout",
     "output_type": "stream",
     "text": [
      "110\n"
     ]
    },
    {
     "name": "stderr",
     "output_type": "stream",
     "text": [
      " 41%|████████████████████████████████                                               | 902/2223 [02:22<30:47,  1.40s/it]"
     ]
    },
    {
     "name": "stdout",
     "output_type": "stream",
     "text": [
      "110\n"
     ]
    },
    {
     "name": "stderr",
     "output_type": "stream",
     "text": [
      " 45%|███████████████████████████████████▏                                          | 1002/2223 [02:40<30:42,  1.51s/it]"
     ]
    },
    {
     "name": "stdout",
     "output_type": "stream",
     "text": [
      "110\n"
     ]
    },
    {
     "name": "stderr",
     "output_type": "stream",
     "text": [
      " 50%|██████████████████████████████████████▋                                       | 1102/2223 [02:56<25:45,  1.38s/it]"
     ]
    },
    {
     "name": "stdout",
     "output_type": "stream",
     "text": [
      "110\n"
     ]
    },
    {
     "name": "stderr",
     "output_type": "stream",
     "text": [
      " 54%|██████████████████████████████████████████▏                                   | 1202/2223 [03:13<24:00,  1.41s/it]"
     ]
    },
    {
     "name": "stdout",
     "output_type": "stream",
     "text": [
      "110\n"
     ]
    },
    {
     "name": "stderr",
     "output_type": "stream",
     "text": [
      " 59%|█████████████████████████████████████████████▋                                | 1302/2223 [03:30<22:01,  1.43s/it]"
     ]
    },
    {
     "name": "stdout",
     "output_type": "stream",
     "text": [
      "110\n"
     ]
    },
    {
     "name": "stderr",
     "output_type": "stream",
     "text": [
      " 63%|█████████████████████████████████████████████████▏                            | 1402/2223 [03:46<19:21,  1.41s/it]"
     ]
    },
    {
     "name": "stdout",
     "output_type": "stream",
     "text": [
      "110\n"
     ]
    },
    {
     "name": "stderr",
     "output_type": "stream",
     "text": [
      " 68%|████████████████████████████████████████████████████▋                         | 1502/2223 [04:04<17:40,  1.47s/it]"
     ]
    },
    {
     "name": "stdout",
     "output_type": "stream",
     "text": [
      "110\n"
     ]
    },
    {
     "name": "stderr",
     "output_type": "stream",
     "text": [
      " 72%|████████████████████████████████████████████████████████▏                     | 1602/2223 [04:21<15:16,  1.48s/it]"
     ]
    },
    {
     "name": "stdout",
     "output_type": "stream",
     "text": [
      "110\n"
     ]
    },
    {
     "name": "stderr",
     "output_type": "stream",
     "text": [
      " 77%|███████████████████████████████████████████████████████████▋                  | 1702/2223 [04:38<12:40,  1.46s/it]"
     ]
    },
    {
     "name": "stdout",
     "output_type": "stream",
     "text": [
      "110\n"
     ]
    },
    {
     "name": "stderr",
     "output_type": "stream",
     "text": [
      " 81%|███████████████████████████████████████████████████████████████▏              | 1802/2223 [04:56<10:49,  1.54s/it]"
     ]
    },
    {
     "name": "stdout",
     "output_type": "stream",
     "text": [
      "110\n"
     ]
    },
    {
     "name": "stderr",
     "output_type": "stream",
     "text": [
      " 86%|██████████████████████████████████████████████████████████████████▋           | 1902/2223 [05:15<08:13,  1.54s/it]"
     ]
    },
    {
     "name": "stdout",
     "output_type": "stream",
     "text": [
      "110\n"
     ]
    },
    {
     "name": "stderr",
     "output_type": "stream",
     "text": [
      " 90%|██████████████████████████████████████████████████████████████████████▎       | 2003/2223 [05:33<04:15,  1.16s/it]"
     ]
    },
    {
     "name": "stdout",
     "output_type": "stream",
     "text": [
      "110\n"
     ]
    },
    {
     "name": "stderr",
     "output_type": "stream",
     "text": [
      " 95%|█████████████████████████████████████████████████████████████████████████▋    | 2101/2223 [05:52<03:24,  1.68s/it]"
     ]
    },
    {
     "name": "stdout",
     "output_type": "stream",
     "text": [
      "110\n"
     ]
    },
    {
     "name": "stderr",
     "output_type": "stream",
     "text": [
      " 99%|█████████████████████████████████████████████████████████████████████████████▏| 2201/2223 [06:10<00:35,  1.60s/it]"
     ]
    },
    {
     "name": "stdout",
     "output_type": "stream",
     "text": [
      "110\n"
     ]
    },
    {
     "name": "stderr",
     "output_type": "stream",
     "text": [
      "100%|██████████████████████████████████████████████████████████████████████████████| 2223/2223 [06:12<00:00,  5.96it/s]\n"
     ]
    }
   ],
   "source": [
    "import natsort\n",
    "from tqdm import tqdm\n",
    "from memory_profiler import profile\n",
    "\n",
    "for i in range(4):\n",
    "    os.makedirs(f'data_set/test_png_7data/{file_list[i]}', exist_ok=True)\n",
    "    csv_list = natsort.natsorted(glob(f\"{path_dir}/{file_list[i]}/*.csv\"))\n",
    "    color=colormap_list[i]\n",
    "    limit=limits[i]\n",
    "    for j in tqdm(range(len(csv_list))):   \n",
    "        \n",
    "        tmp=pd.read_csv(f'{csv_list[j]}', delimiter=',', skiprows=1, encoding='utf-8')       \n",
    "        data=np.array(tmp)\n",
    "\n",
    "        # 래스터 이미지 생성\n",
    "        with rasterio.open(\n",
    "            'image.tif', 'w',\n",
    "            driver='GTiff',\n",
    "            height=6,\n",
    "            width=7,  # 첫 번째 열을 제외한 폭(width)\n",
    "            count=1,\n",
    "            dtype='float64',\n",
    "            crs='+proj=latlong',\n",
    "            transform=rasterio.transform.from_bounds(0, 0, 7, 6, 7, 6)\n",
    "        ) as dst:\n",
    "            dst.write_band(1, data[:, 1:])  \n",
    "        if j % 100 == 0: \n",
    "            #time.sleep(10)\n",
    "            print(gc.collect())\n",
    "\n",
    "        show_map('image.tif',f\"data_set/test_png_7data/{file_list[i]}/data{j}\", 1 , color, limit)\n",
    "        \n",
    "        del tmp\n",
    "        del data\n",
    "        del dst\n",
    "        \n",
    "        \n",
    "os.remove(f\"image.tif\")"
   ]
  },
  {
   "cell_type": "markdown",
   "id": "100ba3dd",
   "metadata": {},
   "source": [
    "## 최적화해보자"
   ]
  },
  {
   "cell_type": "code",
   "execution_count": 6,
   "id": "fd867d3f",
   "metadata": {
    "ExecuteTime": {
     "end_time": "2023-04-20T14:04:15.127462Z",
     "start_time": "2023-04-20T14:04:13.315178Z"
    }
   },
   "outputs": [],
   "source": [
    "import natsort\n",
    "\n",
    "file_idx = 0  # 첫 번째 폴더만 처리\n",
    "file_path = f\"data_set/test_png_data/{file_list[file_idx]}\"\n",
    "os.makedirs(file_path, exist_ok=True)\n",
    "\n",
    "# 래스터 이미지 생성\n",
    "tif_path = 'image.tif'\n",
    "csv_path_list = []\n",
    "for csv_path in natsort.natsorted(glob(f\"{path_dir}/{file_list[file_idx]}/*.csv\")):\n",
    "    csv_path_list.append(csv_path)\n",
    "    if len(csv_path_list) == 1:  # 첫 번째 CSV 파일을 처리할 때만 래스터 이미지 생성\n",
    "        tmp = pd.read_csv(csv_path, delimiter=',', skiprows=1, encoding='utf-8')\n",
    "        data = np.array(tmp)\n",
    "        height, width = data.shape\n",
    "        with rasterio.open(\n",
    "            tif_path, 'w',\n",
    "            driver='GTiff',\n",
    "            height=height,\n",
    "            width=width - 1,  # 첫 번째 열을 제외한 폭(width)\n",
    "            count=1,\n",
    "            dtype='float64',\n",
    "            crs='+proj=latlong',\n",
    "            transform=rasterio.transform.from_bounds(0, 0, width-1, height, width-1, height)\n",
    "        ) as dst:\n",
    "            dst.write_band(1, data[:, 1:])\n"
   ]
  },
  {
   "cell_type": "code",
   "execution_count": null,
   "id": "d199f83a",
   "metadata": {
    "ExecuteTime": {
     "start_time": "2023-04-18T05:43:13.563Z"
    }
   },
   "outputs": [],
   "source": [
    "for csv_path in csv_path_list:\n",
    "    file_name = os.path.basename(csv_path)[:-4]  # 확장자 제외한 파일명 추출\n",
    "    tmp = pd.read_csv(csv_path, delimiter=',', skiprows=1, encoding='utf-8')\n",
    "    data = np.array(tmp)\n",
    "    save_path = f\"{file_path}/{file_name}.png\"\n",
    "    show_map(tif_path, 1.5, False, save_path, file_idx)\n",
    "\n",
    "os.remove(tif_path)\n"
   ]
  },
  {
   "cell_type": "code",
   "execution_count": 7,
   "id": "42b9903a",
   "metadata": {
    "ExecuteTime": {
     "end_time": "2023-04-20T09:20:40.098592Z",
     "start_time": "2023-04-20T09:20:40.072649Z"
    }
   },
   "outputs": [
    {
     "name": "stdout",
     "output_type": "stream",
     "text": [
      "6\n",
      "8\n"
     ]
    }
   ],
   "source": [
    "# csv_list = sorted(glob(f\"{path_dir}/{file_list[0]}/*.csv\"))\n",
    "# tmp=pd.read_csv(f'{csv_list[0]}', delimiter=',', skiprows=1, encoding='utf-8')\n",
    "# data=np.array(tmp)\n",
    "# print(data.shape[0])\n",
    "# print(data.shape[1])"
   ]
  },
  {
   "cell_type": "code",
   "execution_count": 13,
   "id": "7769d1cb",
   "metadata": {
    "ExecuteTime": {
     "end_time": "2023-04-21T04:54:07.771085Z",
     "start_time": "2023-04-21T04:54:07.753513Z"
    }
   },
   "outputs": [],
   "source": [
    "# 시각화할래스터, 칼럼맵,사이즈, 리턴, 경로, 경로, 피쳐넘버 \n",
    "def show_map(input_raster='',save_path='', image_size=1, color='', limit=''):\n",
    "    with rasterio.open(input_raster) as image_data:\n",
    "        my_matrix = image_data.read(1)\n",
    "        my_matrix = np.ma.masked_where(my_matrix == 32767, my_matrix)\n",
    "        fig, ax = plt.subplots()\n",
    "        image_hidden = ax.imshow(my_matrix, cmap=color)\n",
    "        plt.close()\n",
    "\n",
    "        fig, ax = plt.subplots()\n",
    "        fig.set_facecolor(\"w\")\n",
    "        width = fig.get_size_inches()[0]\n",
    "        height = fig.get_size_inches()[1]\n",
    "        fig.set_size_inches(w=width, h=height)\n",
    "        image = ax.imshow(my_matrix, cmap=color, vmin=limit[0], vmax=limit[1]) # 습도의 최댓값 100, 최솟값 2, 사이 간격은 256개\n",
    "        plt.axis('off')\n",
    "        plt.close()\n",
    "        fig.savefig(f'{save_path}.png', bbox_inches='tight', transparent=True, pad_inches=0)\n",
    "    del image\n",
    "    del fig\n",
    "    del my_matrix\n",
    "    del image_hidden\n",
    "    del image_data\n",
    "    return 0\n"
   ]
  },
  {
   "cell_type": "code",
   "execution_count": 5,
   "id": "5c1527ff",
   "metadata": {
    "ExecuteTime": {
     "end_time": "2023-04-21T04:34:07.169721Z",
     "start_time": "2023-04-21T04:34:07.154772Z"
    }
   },
   "outputs": [],
   "source": [
    "# 시각화할래스터, 칼럼맵,사이즈, 리턴, 경로, 경로, 피쳐넘버 \n",
    "def rasterized(data,i,j,color,limit):\n",
    "    \n",
    "    with rasterio.open(\n",
    "            'image.tif', 'w',\n",
    "            driver='GTiff',\n",
    "            height=6,\n",
    "            width=7,  # 첫 번째 열을 제외한 폭(width)\n",
    "            count=1,\n",
    "            dtype='float64',\n",
    "            crs='+proj=latlong',\n",
    "            transform=rasterio.transform.from_bounds(0, 0, 7, 6, 7, 6)\n",
    "        ) as dst:\n",
    "            dst.write_band(1, data[:, 1:]) \n",
    "            \n",
    "    #show_map('image.tif',f\"data_set/test_png_data/{file_list[i]}/data{j}\", 1 , color, limit)\n",
    "        \n",
    "    return f'image.tif'\n"
   ]
  },
  {
   "cell_type": "code",
   "execution_count": 109,
   "id": "5a97e6be",
   "metadata": {
    "ExecuteTime": {
     "end_time": "2023-04-20T15:11:03.272820Z",
     "start_time": "2023-04-20T15:11:01.521301Z"
    }
   },
   "outputs": [
    {
     "name": "stderr",
     "output_type": "stream",
     "text": [
      "  0%|                                                                                       | 0/111200 [00:00<?, ?it/s]\n"
     ]
    },
    {
     "ename": "TypeError",
     "evalue": "invalid path or file: array([[32767., 32767., 32767., 32767., 32767., 32767., 32767.],\n       [32767., 32767., 32767., 32767., 32767., 32767., 32767.],\n       [32767., 32767., 32767., 32767., 32767., 32767., 32767.],\n       [32767., 32767., 32767., 32767., 32767., 32767., 32767.],\n       [32767., 32767., 32767., 32767., 32767., 32767., 32767.],\n       [32767., 32767., 32767., 32767., 32767., 32767., 32767.]])",
     "output_type": "error",
     "traceback": [
      "\u001b[1;31m---------------------------------------------------------------------------\u001b[0m",
      "\u001b[1;31mTypeError\u001b[0m                                 Traceback (most recent call last)",
      "Input \u001b[1;32mIn [109]\u001b[0m, in \u001b[0;36m<cell line: 6>\u001b[1;34m()\u001b[0m\n\u001b[0;32m     14\u001b[0m         a\u001b[38;5;241m=\u001b[39mrasterized(data,i,j,color,limit)\n\u001b[0;32m     15\u001b[0m         \u001b[38;5;28;01mwith\u001b[39;00m rasterio\u001b[38;5;241m.\u001b[39mopen(a, \u001b[38;5;124m'\u001b[39m\u001b[38;5;124mr\u001b[39m\u001b[38;5;124m'\u001b[39m) \u001b[38;5;28;01mas\u001b[39;00m src:\n\u001b[1;32m---> 16\u001b[0m             \u001b[43mshow_map\u001b[49m\u001b[43m(\u001b[49m\u001b[43msrc\u001b[49m\u001b[38;5;241;43m.\u001b[39;49m\u001b[43mread\u001b[49m\u001b[43m(\u001b[49m\u001b[38;5;241;43m1\u001b[39;49m\u001b[43m)\u001b[49m\u001b[43m,\u001b[49m\u001b[38;5;124;43mf\u001b[39;49m\u001b[38;5;124;43m\"\u001b[39;49m\u001b[38;5;124;43mdata_set/test_png_data/\u001b[39;49m\u001b[38;5;132;43;01m{\u001b[39;49;00m\u001b[43mfile_list\u001b[49m\u001b[43m[\u001b[49m\u001b[43mi\u001b[49m\u001b[43m]\u001b[49m\u001b[38;5;132;43;01m}\u001b[39;49;00m\u001b[38;5;124;43m/data\u001b[39;49m\u001b[38;5;132;43;01m{\u001b[39;49;00m\u001b[43mj\u001b[49m\u001b[38;5;132;43;01m}\u001b[39;49;00m\u001b[38;5;124;43m\"\u001b[39;49m\u001b[43m,\u001b[49m\u001b[43m \u001b[49m\u001b[38;5;241;43m1\u001b[39;49m\u001b[43m \u001b[49m\u001b[43m,\u001b[49m\u001b[43m \u001b[49m\u001b[43mcolor\u001b[49m\u001b[43m,\u001b[49m\u001b[43m \u001b[49m\u001b[43mlimit\u001b[49m\u001b[43m)\u001b[49m\n\u001b[0;32m     17\u001b[0m         \u001b[38;5;28;01mdel\u001b[39;00m a\n\u001b[0;32m     22\u001b[0m os\u001b[38;5;241m.\u001b[39mremove(\u001b[38;5;124mf\u001b[39m\u001b[38;5;124m\"\u001b[39m\u001b[38;5;124mimage.tif\u001b[39m\u001b[38;5;124m\"\u001b[39m)\n",
      "Input \u001b[1;32mIn [108]\u001b[0m, in \u001b[0;36mshow_map\u001b[1;34m(input_raster, save_path, image_size, color, limit)\u001b[0m\n\u001b[0;32m      2\u001b[0m \u001b[38;5;28;01mdef\u001b[39;00m \u001b[38;5;21mshow_map\u001b[39m(input_raster\u001b[38;5;241m=\u001b[39m\u001b[38;5;124m'\u001b[39m\u001b[38;5;124m'\u001b[39m,save_path\u001b[38;5;241m=\u001b[39m\u001b[38;5;124m'\u001b[39m\u001b[38;5;124m'\u001b[39m, image_size\u001b[38;5;241m=\u001b[39m\u001b[38;5;241m1\u001b[39m, color\u001b[38;5;241m=\u001b[39m\u001b[38;5;124m'\u001b[39m\u001b[38;5;124m'\u001b[39m, limit\u001b[38;5;241m=\u001b[39m\u001b[38;5;124m'\u001b[39m\u001b[38;5;124m'\u001b[39m):\n\u001b[1;32m----> 4\u001b[0m     \u001b[38;5;28;01mwith\u001b[39;00m \u001b[43mrasterio\u001b[49m\u001b[38;5;241;43m.\u001b[39;49m\u001b[43mopen\u001b[49m\u001b[43m(\u001b[49m\u001b[43minput_raster\u001b[49m\u001b[43m)\u001b[49m \u001b[38;5;28;01mas\u001b[39;00m image_data:\n\u001b[0;32m      5\u001b[0m         my_matrix \u001b[38;5;241m=\u001b[39m image_data\u001b[38;5;241m.\u001b[39mread(\u001b[38;5;241m1\u001b[39m)\n\u001b[0;32m      6\u001b[0m         my_matrix \u001b[38;5;241m=\u001b[39m np\u001b[38;5;241m.\u001b[39mma\u001b[38;5;241m.\u001b[39mmasked_where(my_matrix \u001b[38;5;241m==\u001b[39m \u001b[38;5;241m32767\u001b[39m, my_matrix)\n",
      "File \u001b[1;32m~\\Anaconda3\\lib\\site-packages\\rasterio\\env.py:451\u001b[0m, in \u001b[0;36mensure_env_with_credentials.<locals>.wrapper\u001b[1;34m(*args, **kwds)\u001b[0m\n\u001b[0;32m    448\u001b[0m     session \u001b[38;5;241m=\u001b[39m DummySession()\n\u001b[0;32m    450\u001b[0m \u001b[38;5;28;01mwith\u001b[39;00m env_ctor(session\u001b[38;5;241m=\u001b[39msession):\n\u001b[1;32m--> 451\u001b[0m     \u001b[38;5;28;01mreturn\u001b[39;00m f(\u001b[38;5;241m*\u001b[39margs, \u001b[38;5;241m*\u001b[39m\u001b[38;5;241m*\u001b[39mkwds)\n",
      "File \u001b[1;32m~\\Anaconda3\\lib\\site-packages\\rasterio\\__init__.py:246\u001b[0m, in \u001b[0;36mopen\u001b[1;34m(fp, mode, driver, width, height, count, crs, transform, dtype, nodata, sharing, **kwargs)\u001b[0m\n\u001b[0;32m    240\u001b[0m \u001b[38;5;28;01mif\u001b[39;00m \u001b[38;5;129;01mnot\u001b[39;00m \u001b[38;5;28misinstance\u001b[39m(fp, \u001b[38;5;28mstr\u001b[39m):\n\u001b[0;32m    241\u001b[0m     \u001b[38;5;28;01mif\u001b[39;00m \u001b[38;5;129;01mnot\u001b[39;00m (\n\u001b[0;32m    242\u001b[0m         \u001b[38;5;28mhasattr\u001b[39m(fp, \u001b[38;5;124m\"\u001b[39m\u001b[38;5;124mread\u001b[39m\u001b[38;5;124m\"\u001b[39m)\n\u001b[0;32m    243\u001b[0m         \u001b[38;5;129;01mor\u001b[39;00m \u001b[38;5;28mhasattr\u001b[39m(fp, \u001b[38;5;124m\"\u001b[39m\u001b[38;5;124mwrite\u001b[39m\u001b[38;5;124m\"\u001b[39m)\n\u001b[0;32m    244\u001b[0m         \u001b[38;5;129;01mor\u001b[39;00m \u001b[38;5;28misinstance\u001b[39m(fp, (os\u001b[38;5;241m.\u001b[39mPathLike, MemoryFile, FilePath))\n\u001b[0;32m    245\u001b[0m     ):\n\u001b[1;32m--> 246\u001b[0m         \u001b[38;5;28;01mraise\u001b[39;00m \u001b[38;5;167;01mTypeError\u001b[39;00m(\u001b[38;5;124m\"\u001b[39m\u001b[38;5;124minvalid path or file: \u001b[39m\u001b[38;5;132;01m{0!r}\u001b[39;00m\u001b[38;5;124m\"\u001b[39m\u001b[38;5;241m.\u001b[39mformat(fp))\n\u001b[0;32m    247\u001b[0m \u001b[38;5;28;01mif\u001b[39;00m mode \u001b[38;5;129;01mand\u001b[39;00m \u001b[38;5;129;01mnot\u001b[39;00m \u001b[38;5;28misinstance\u001b[39m(mode, \u001b[38;5;28mstr\u001b[39m):\n\u001b[0;32m    248\u001b[0m     \u001b[38;5;28;01mraise\u001b[39;00m \u001b[38;5;167;01mTypeError\u001b[39;00m(\u001b[38;5;124m\"\u001b[39m\u001b[38;5;124minvalid mode: \u001b[39m\u001b[38;5;132;01m{0!r}\u001b[39;00m\u001b[38;5;124m\"\u001b[39m\u001b[38;5;241m.\u001b[39mformat(mode))\n",
      "\u001b[1;31mTypeError\u001b[0m: invalid path or file: array([[32767., 32767., 32767., 32767., 32767., 32767., 32767.],\n       [32767., 32767., 32767., 32767., 32767., 32767., 32767.],\n       [32767., 32767., 32767., 32767., 32767., 32767., 32767.],\n       [32767., 32767., 32767., 32767., 32767., 32767., 32767.],\n       [32767., 32767., 32767., 32767., 32767., 32767., 32767.],\n       [32767., 32767., 32767., 32767., 32767., 32767., 32767.]])"
     ]
    }
   ],
   "source": [
    "import natsort\n",
    "from tqdm import tqdm\n",
    "\n",
    "raster_list=[]\n",
    "\n",
    "for i in range(1):\n",
    "    os.makedirs(f'data_set/test_png_data/{file_list[i]}', exist_ok=True)\n",
    "    csv_list = natsort.natsorted(glob(f\"{path_dir}/{file_list[i]}/*.csv\"))\n",
    "    color=colormap_list[i]\n",
    "    limit=limits[i]\n",
    "    for j in tqdm(range(len(csv_list))):\n",
    "        tmp=pd.read_csv(f'{csv_list[j]}', delimiter=',', skiprows=1, encoding='utf-8') \n",
    "        data=np.array(tmp)\n",
    "        a=rasterized(data,i,j,color,limit)\n",
    "        with rasterio.open(a, 'r') as src:\n",
    "            show_map(src.read(1),f\"data_set/test_png_data/{file_list[i]}/data{j}\", 1 , color, limit)\n",
    "        del a\n",
    "            \n",
    "        \n",
    "\n",
    "        \n",
    "os.remove(f\"image.tif\")"
   ]
  },
  {
   "cell_type": "code",
   "execution_count": null,
   "id": "34eccdb8",
   "metadata": {
    "ExecuteTime": {
     "start_time": "2023-04-20T10:54:37.647Z"
    }
   },
   "outputs": [],
   "source": [
    "len(fig_list)"
   ]
  },
  {
   "cell_type": "code",
   "execution_count": null,
   "id": "b2efb7d7",
   "metadata": {
    "ExecuteTime": {
     "start_time": "2023-04-20T09:42:32.800Z"
    }
   },
   "outputs": [],
   "source": [
    "for i in range(40000):\n",
    "    fig_list[i].savefig(f'data_set/test_png_data/humidity/test_{i}.png', bbox_inches='tight', transparent=True, pad_inches=0)"
   ]
  },
  {
   "cell_type": "code",
   "execution_count": null,
   "id": "9a2a28b9",
   "metadata": {},
   "outputs": [],
   "source": [
    "for i in range(40000,80000):\n",
    "    fig_list[i].savefig(f'data_set/test_png_data/humidity1/test_{i}.png', bbox_inches='tight', transparent=True, pad_inches=0)"
   ]
  },
  {
   "cell_type": "code",
   "execution_count": null,
   "id": "b481bd77",
   "metadata": {},
   "outputs": [],
   "source": [
    "for i in range(80000,len(fig_list)):\n",
    "    fig_list[i].savefig(f'data_set/test_png_data/humidity2/test_{i}.png', bbox_inches='tight', transparent=True, pad_inches=0)"
   ]
  },
  {
   "cell_type": "markdown",
   "id": "c030c830",
   "metadata": {},
   "source": [
    "최종 모델의 결과물은 data_st안에 있는 png_data에 만들어지게 됨."
   ]
  },
  {
   "cell_type": "code",
   "execution_count": 22,
   "id": "a3c152f3",
   "metadata": {
    "ExecuteTime": {
     "end_time": "2023-04-12T07:51:32.191565Z",
     "start_time": "2023-04-12T07:51:32.126827Z"
    }
   },
   "outputs": [
    {
     "name": "stderr",
     "output_type": "stream",
     "text": [
      "C:\\Users\\ebdl\\AppData\\Local\\Temp\\ipykernel_17476\\3833523466.py:13: DeprecationWarning: LANCZOS is deprecated and will be removed in Pillow 10 (2023-07-01). Use Resampling.LANCZOS instead.\n",
      "  img = ImageOps.fit(img, (500, 500), method=Image.LANCZOS)  # NEAREST로 설정\n"
     ]
    }
   ],
   "source": [
    "# from PIL import Image, ImageOps\n",
    "\n",
    "# # 병합할 4개의 이미지 파일 경로\n",
    "# image_paths = ['C:/Users/ebdl/산불예측/산불예측/data_set/png_data/temp/data1.png',\n",
    "#                'C:/Users/ebdl/산불예측/산불예측/data_set/png_data/humidity/data1.png',\n",
    "#                'C:/Users/ebdl/산불예측/산불예측/data_set/png_data/rainfall/data1.png',\n",
    "#                'C:/Users/ebdl/산불예측/산불예측/data_set/png_data/wind speed/data1.png']\n",
    "\n",
    "# # 이미지를 열어서 리스트에 추가하고 크기를 맞춤\n",
    "# images = []\n",
    "# for path in image_paths:\n",
    "#     img = Image.open(path).convert(\"RGBA\")\n",
    "#     img = ImageOps.fit(img, (500, 500), method=Image.LANCZOS)  # NEAREST로 설정\n",
    "#     images.append(img)\n",
    "\n",
    "# # 출력 이미지 생성\n",
    "# output_width, output_height = images[0].size\n",
    "# output_image = Image.new(\"RGBA\", (output_width*2, output_height*2), (0, 0, 0, 0))\n",
    "\n",
    "# # 이미지를 병합\n",
    "# for i, img in enumerate(images):\n",
    "#     x = i % 2\n",
    "#     y = i // 2\n",
    "#     output_image.alpha_composite(img, dest=(output_width*x, output_height*y))\n",
    "\n",
    "# # 병합된 이미지 저장\n",
    "# output_image.save(\"output2.png\")"
   ]
  },
  {
   "cell_type": "markdown",
   "id": "435c271b",
   "metadata": {},
   "source": [
    "# MERGE (이미지 병합)"
   ]
  },
  {
   "cell_type": "code",
   "execution_count": 13,
   "id": "645bd58d",
   "metadata": {
    "ExecuteTime": {
     "end_time": "2023-04-19T08:16:46.645036Z",
     "start_time": "2023-04-19T08:15:50.503588Z"
    }
   },
   "outputs": [
    {
     "name": "stderr",
     "output_type": "stream",
     "text": [
      "C:\\Users\\ebdl\\AppData\\Local\\Temp\\ipykernel_2480\\1370413513.py:33: DeprecationWarning: LANCZOS is deprecated and will be removed in Pillow 10 (2023-07-01). Use Resampling.LANCZOS instead.\n",
      "  img = ImageOps.fit(img, (500, 500), method=Image.LANCZOS)\n"
     ]
    }
   ],
   "source": [
    "from PIL import Image, ImageOps\n",
    "import os\n",
    "import re\n",
    "\n",
    "# 이미지가 있는 폴더 경로\n",
    "folder_path = 'C:/Users/ebdl/산불예측/산불예측/data_set/png_data'\n",
    "\n",
    "# 처리할 이미지 파일들의 숫자를 저장할 리스트\n",
    "image_numbers = []\n",
    "\n",
    "# 이미지 파일의 이름에서 숫자를 추출하여 리스트에 추가\n",
    "for file_name in os.listdir(folder_path + '/temp'):\n",
    "    match = re.search(r'\\d+', file_name)\n",
    "    if match:\n",
    "        number = int(match.group())\n",
    "        image_numbers.append(number)\n",
    "\n",
    "# 중복 제거 및 정렬\n",
    "image_numbers = sorted(set(image_numbers))\n",
    "\n",
    "# 이미지 파일 처리\n",
    "for number in image_numbers:\n",
    "    # 이미지 파일 경로 생성\n",
    "    image_paths = [f'{folder_path}/temp/data{number}.png',\n",
    "                   f'{folder_path}/humidity/data{number}.png',\n",
    "                   f'{folder_path}/wind speed/data{number}.png',\n",
    "                   f'{folder_path}/rainfall/data{number}.png']\n",
    "\n",
    "    # 이미지를 열어서 리스트에 추가하고 크기를 맞춤\n",
    "    images = []\n",
    "    for path in image_paths:\n",
    "        img = Image.open(path).convert(\"RGBA\")\n",
    "        img = ImageOps.fit(img, (500, 500), method=Image.LANCZOS)\n",
    "        images.append(img)\n",
    "\n",
    "    # 출력 이미지 생성\n",
    "    output_width, output_height = images[0].size\n",
    "    output_image = Image.new(\"RGBA\", (output_width*2, output_height*2), (0, 0, 0, 0))\n",
    "\n",
    "    # 이미지를 병합\n",
    "    for i, img in enumerate(images):\n",
    "        x = i % 2\n",
    "        y = i // 2\n",
    "        output_image.alpha_composite(img, dest=(output_width*x, output_height*y))\n",
    "\n",
    "    # 병합된 이미지 저장\n",
    "    output_folder = 'C:/Users/ebdl/산불예측/산불예측/data_set/png_data/merged_fire/'\n",
    "    output_file = os.path.join(output_folder, f'data{number}.png')\n",
    "    output_image.save(output_file)\n"
   ]
  },
  {
   "cell_type": "code",
   "execution_count": null,
   "id": "7c8e0a99",
   "metadata": {},
   "outputs": [],
   "source": []
  }
 ],
 "metadata": {
  "kernelspec": {
   "display_name": "Python 3 (ipykernel)",
   "language": "python",
   "name": "python3"
  },
  "language_info": {
   "codemirror_mode": {
    "name": "ipython",
    "version": 3
   },
   "file_extension": ".py",
   "mimetype": "text/x-python",
   "name": "python",
   "nbconvert_exporter": "python",
   "pygments_lexer": "ipython3",
   "version": "3.9.13"
  },
  "toc": {
   "base_numbering": 1,
   "nav_menu": {},
   "number_sections": true,
   "sideBar": true,
   "skip_h1_title": false,
   "title_cell": "Table of Contents",
   "title_sidebar": "Contents",
   "toc_cell": false,
   "toc_position": {},
   "toc_section_display": true,
   "toc_window_display": false
  },
  "varInspector": {
   "cols": {
    "lenName": 16,
    "lenType": 16,
    "lenVar": 40
   },
   "kernels_config": {
    "python": {
     "delete_cmd_postfix": "",
     "delete_cmd_prefix": "del ",
     "library": "var_list.py",
     "varRefreshCmd": "print(var_dic_list())"
    },
    "r": {
     "delete_cmd_postfix": ") ",
     "delete_cmd_prefix": "rm(",
     "library": "var_list.r",
     "varRefreshCmd": "cat(var_dic_list()) "
    }
   },
   "oldHeight": 615.844,
   "position": {
    "height": "40px",
    "left": "1539px",
    "right": "20px",
    "top": "182px",
    "width": "350px"
   },
   "types_to_exclude": [
    "module",
    "function",
    "builtin_function_or_method",
    "instance",
    "_Feature"
   ],
   "varInspector_section_display": "none",
   "window_display": false
  }
 },
 "nbformat": 4,
 "nbformat_minor": 5
}
