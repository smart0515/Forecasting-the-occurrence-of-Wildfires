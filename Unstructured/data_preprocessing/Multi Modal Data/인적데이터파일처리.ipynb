{
 "cells": [
  {
   "cell_type": "code",
   "execution_count": 1,
   "id": "ae890102",
   "metadata": {
    "ExecuteTime": {
     "end_time": "2023-05-23T04:38:33.403314Z",
     "start_time": "2023-05-23T04:38:33.278163Z"
    }
   },
   "outputs": [],
   "source": [
    "import geopandas as gpd \n",
    "import os\n",
    "from glob import glob\n",
    "from tqdm.auto import tqdm\n",
    "import pandas as pd"
   ]
  },
  {
   "cell_type": "markdown",
   "id": "87942737",
   "metadata": {},
   "source": [
    "# LANDUSE\n",
    "## 강원도 landuse shp 파일을 다운받아서 하나의 shp로 병합\n",
    "http://openapi.nsdi.go.kr/nsdi/eios/ServiceDetail.do?svcSe=F&svcId=F024"
   ]
  },
  {
   "cell_type": "markdown",
   "id": "60a4c56e",
   "metadata": {},
   "source": [
    "1) 카테고리화해서 shp로 병합 <br>\n",
    "2) QGIS에서 좌표계 ESPG:5174->ESPG:4326으로 변환<br>\n",
    "3) shp를 tif로 래스터 변환<br>\n",
    "4) 변환된 tif에 지정한 범주에 맞는 색상 선택 후 export"
   ]
  },
  {
   "cell_type": "code",
   "execution_count": 4,
   "id": "66d40e9e",
   "metadata": {
    "ExecuteTime": {
     "end_time": "2023-05-23T04:37:14.150589Z",
     "start_time": "2023-05-23T04:37:14.141619Z"
    }
   },
   "outputs": [
    {
     "data": {
      "text/plain": [
       "18"
      ]
     },
     "execution_count": 4,
     "metadata": {},
     "output_type": "execute_result"
    }
   ],
   "source": [
    "files=glob(f\"LANDUSE/*.shp\")\n",
    "len(files)"
   ]
  },
  {
   "cell_type": "code",
   "execution_count": 5,
   "id": "0c5ac24b",
   "metadata": {
    "ExecuteTime": {
     "end_time": "2023-05-23T04:46:26.795132Z",
     "start_time": "2023-05-23T04:38:39.943665Z"
    }
   },
   "outputs": [
    {
     "data": {
      "application/vnd.jupyter.widget-view+json": {
       "model_id": "0ecda6e602a94700a314504db873a74b",
       "version_major": 2,
       "version_minor": 0
      },
      "text/plain": [
       "  0%|          | 0/18 [00:00<?, ?it/s]"
      ]
     },
     "metadata": {},
     "output_type": "display_data"
    }
   ],
   "source": [
    "df_files=[]\n",
    "for i in tqdm(range(len(files))):\n",
    "    gdf = gpd.read_file(files[i],encoding='cp949')\n",
    "    gdf=gdf[['A14','geometry']]\n",
    "    df_files.append(gdf)"
   ]
  },
  {
   "cell_type": "code",
   "execution_count": 112,
   "id": "e813bec3",
   "metadata": {
    "ExecuteTime": {
     "end_time": "2023-05-23T04:47:04.851531Z",
     "start_time": "2023-05-23T04:47:04.692296Z"
    }
   },
   "outputs": [],
   "source": [
    "data=pd.concat(df_files,axis=0)"
   ]
  },
  {
   "cell_type": "code",
   "execution_count": 113,
   "id": "d614d054",
   "metadata": {
    "ExecuteTime": {
     "end_time": "2023-05-23T04:49:33.275380Z",
     "start_time": "2023-05-23T04:49:33.263404Z"
    }
   },
   "outputs": [],
   "source": [
    "data.reset_index(drop=True,inplace=True)"
   ]
  },
  {
   "cell_type": "code",
   "execution_count": 114,
   "id": "da326b83",
   "metadata": {
    "ExecuteTime": {
     "end_time": "2023-05-23T04:52:26.297987Z",
     "start_time": "2023-05-23T04:52:25.863107Z"
    }
   },
   "outputs": [
    {
     "name": "stdout",
     "output_type": "stream",
     "text": [
      "<class 'geopandas.geodataframe.GeoDataFrame'>\n",
      "RangeIndex: 2712107 entries, 0 to 2712106\n",
      "Data columns (total 2 columns):\n",
      " #   Column    Non-Null Count    Dtype   \n",
      "---  ------    --------------    -----   \n",
      " 0   A14       2682615 non-null  object  \n",
      " 1   geometry  2712107 non-null  geometry\n",
      "dtypes: geometry(1), object(1)\n",
      "memory usage: 41.4+ MB\n"
     ]
    },
    {
     "name": "stderr",
     "output_type": "stream",
     "text": [
      "C:\\Users\\EBDL\\AppData\\Local\\Temp\\ipykernel_7264\\3406332632.py:1: FutureWarning: null_counts is deprecated. Use show_counts instead\n",
      "  data.info(verbose=True,null_counts=True)\n"
     ]
    }
   ],
   "source": [
    "data.info(verbose=True,null_counts=True)"
   ]
  },
  {
   "cell_type": "code",
   "execution_count": 115,
   "id": "28083b86",
   "metadata": {
    "ExecuteTime": {
     "end_time": "2023-05-23T04:52:24.372970Z",
     "start_time": "2023-05-23T04:52:24.133471Z"
    }
   },
   "outputs": [],
   "source": [
    "data['A14']=data['A14'].fillna('기타')"
   ]
  },
  {
   "cell_type": "code",
   "execution_count": 116,
   "id": "0308e02e",
   "metadata": {
    "scrolled": true
   },
   "outputs": [
    {
     "data": {
      "text/plain": [
       "array(['기타', '제1종일반주거지역', '제2종일반주거지역', '제3종일반주거지역', '자연녹지지역', '일반상업지역',\n",
       "       '준주거지역', '보전녹지지역', '일반공업지역', '생산녹지지역', '자연환경보전지역', '농림지역',\n",
       "       '보전관리지역', '생산관리지역', '계획관리지역', '준공업지역', '관리지역', '제1종전용주거지역',\n",
       "       '용도미지정', '제2종전용주거지역', '근린상업지역', '중심상업지역', '전용공업지역'], dtype=object)"
      ]
     },
     "execution_count": 116,
     "metadata": {},
     "output_type": "execute_result"
    }
   ],
   "source": [
    "data['A14'].unique()"
   ]
  },
  {
   "cell_type": "markdown",
   "id": "11ee9002",
   "metadata": {},
   "source": [
    "데이터 범주화"
   ]
  },
  {
   "cell_type": "code",
   "execution_count": 117,
   "id": "fedb64bd",
   "metadata": {},
   "outputs": [
    {
     "data": {
      "text/html": [
       "<div>\n",
       "<style scoped>\n",
       "    .dataframe tbody tr th:only-of-type {\n",
       "        vertical-align: middle;\n",
       "    }\n",
       "\n",
       "    .dataframe tbody tr th {\n",
       "        vertical-align: top;\n",
       "    }\n",
       "\n",
       "    .dataframe thead th {\n",
       "        text-align: right;\n",
       "    }\n",
       "</style>\n",
       "<table border=\"1\" class=\"dataframe\">\n",
       "  <thead>\n",
       "    <tr style=\"text-align: right;\">\n",
       "      <th></th>\n",
       "      <th>A14</th>\n",
       "      <th>geometry</th>\n",
       "      <th>Category</th>\n",
       "    </tr>\n",
       "  </thead>\n",
       "  <tbody>\n",
       "    <tr>\n",
       "      <th>0</th>\n",
       "      <td>기타</td>\n",
       "      <td>POLYGON ((264203.565 487113.303, 264203.636 48...</td>\n",
       "      <td>4</td>\n",
       "    </tr>\n",
       "    <tr>\n",
       "      <th>1</th>\n",
       "      <td>제1종일반주거지역</td>\n",
       "      <td>POLYGON ((264341.165 487216.002, 264334.958 48...</td>\n",
       "      <td>10</td>\n",
       "    </tr>\n",
       "    <tr>\n",
       "      <th>2</th>\n",
       "      <td>제1종일반주거지역</td>\n",
       "      <td>POLYGON ((264340.523 487215.118, 264345.768 48...</td>\n",
       "      <td>10</td>\n",
       "    </tr>\n",
       "    <tr>\n",
       "      <th>3</th>\n",
       "      <td>제1종일반주거지역</td>\n",
       "      <td>POLYGON ((264379.362 487220.565, 264381.098 48...</td>\n",
       "      <td>10</td>\n",
       "    </tr>\n",
       "    <tr>\n",
       "      <th>4</th>\n",
       "      <td>제1종일반주거지역</td>\n",
       "      <td>POLYGON ((264387.304 487240.828, 264403.708 48...</td>\n",
       "      <td>10</td>\n",
       "    </tr>\n",
       "    <tr>\n",
       "      <th>...</th>\n",
       "      <td>...</td>\n",
       "      <td>...</td>\n",
       "      <td>...</td>\n",
       "    </tr>\n",
       "    <tr>\n",
       "      <th>2712102</th>\n",
       "      <td>농림지역</td>\n",
       "      <td>POLYGON ((336290.651 513901.719, 336238.981 51...</td>\n",
       "      <td>8</td>\n",
       "    </tr>\n",
       "    <tr>\n",
       "      <th>2712103</th>\n",
       "      <td>농림지역</td>\n",
       "      <td>POLYGON ((336210.017 513725.996, 336183.242 51...</td>\n",
       "      <td>8</td>\n",
       "    </tr>\n",
       "    <tr>\n",
       "      <th>2712104</th>\n",
       "      <td>농림지역</td>\n",
       "      <td>POLYGON ((335980.437 513666.087, 336064.825 51...</td>\n",
       "      <td>8</td>\n",
       "    </tr>\n",
       "    <tr>\n",
       "      <th>2712105</th>\n",
       "      <td>농림지역</td>\n",
       "      <td>POLYGON ((335948.003 514121.828, 336123.096 51...</td>\n",
       "      <td>8</td>\n",
       "    </tr>\n",
       "    <tr>\n",
       "      <th>2712106</th>\n",
       "      <td>농림지역</td>\n",
       "      <td>POLYGON ((334255.431 514687.656, 334225.239 51...</td>\n",
       "      <td>8</td>\n",
       "    </tr>\n",
       "  </tbody>\n",
       "</table>\n",
       "<p>2712107 rows × 3 columns</p>\n",
       "</div>"
      ],
      "text/plain": [
       "               A14                                           geometry Category\n",
       "0               기타  POLYGON ((264203.565 487113.303, 264203.636 48...        4\n",
       "1        제1종일반주거지역  POLYGON ((264341.165 487216.002, 264334.958 48...       10\n",
       "2        제1종일반주거지역  POLYGON ((264340.523 487215.118, 264345.768 48...       10\n",
       "3        제1종일반주거지역  POLYGON ((264379.362 487220.565, 264381.098 48...       10\n",
       "4        제1종일반주거지역  POLYGON ((264387.304 487240.828, 264403.708 48...       10\n",
       "...            ...                                                ...      ...\n",
       "2712102       농림지역  POLYGON ((336290.651 513901.719, 336238.981 51...        8\n",
       "2712103       농림지역  POLYGON ((336210.017 513725.996, 336183.242 51...        8\n",
       "2712104       농림지역  POLYGON ((335980.437 513666.087, 336064.825 51...        8\n",
       "2712105       농림지역  POLYGON ((335948.003 514121.828, 336123.096 51...        8\n",
       "2712106       농림지역  POLYGON ((334255.431 514687.656, 334225.239 51...        8\n",
       "\n",
       "[2712107 rows x 3 columns]"
      ]
     },
     "execution_count": 117,
     "metadata": {},
     "output_type": "execute_result"
    }
   ],
   "source": [
    "category_groups = {  \n",
    "    '2': ['일반상업지역', '근린상업지역', '중심상업지역'],                             #Commercial\n",
    "    '4': ['기타', '용도미지정','계획관리지역', '관리지역'],                            #Miscellaneous\n",
    "    '6': ['일반공업지역', '준공업지역', '전용공업지역','생산관리지역','생산녹지지역'], #Industrial\n",
    "    '8' : ['농림지역'],                                                                #Agriculuture\n",
    "    '10': ['제1종일반주거지역', '제2종일반주거지역', '제3종일반주거지역',              #Residential\n",
    "                    '준주거지역', '제1종전용주거지역','제2종전용주거지역'], \n",
    "    '12': ['자연녹지지역', '보전녹지지역', '자연환경보전지역','보전관리지역']          #Green Area\n",
    "}\n",
    "\n",
    "# Classify the land use categories into groups\n",
    "data['Category'] = data['A14'].map(\n",
    "    lambda x: next((group for group, categories in category_groups.items() if x in categories), None)\n",
    ")\n",
    "\n",
    "# Print the classified land use categories\n",
    "data"
   ]
  },
  {
   "cell_type": "code",
   "execution_count": 118,
   "id": "a3a179aa",
   "metadata": {},
   "outputs": [],
   "source": [
    "data['Category'] = data['Category'].astype('int')"
   ]
  },
  {
   "cell_type": "code",
   "execution_count": 119,
   "id": "3d26e176",
   "metadata": {},
   "outputs": [
    {
     "name": "stdout",
     "output_type": "stream",
     "text": [
      "<class 'geopandas.geodataframe.GeoDataFrame'>\n",
      "RangeIndex: 2712107 entries, 0 to 2712106\n",
      "Data columns (total 3 columns):\n",
      " #   Column    Dtype   \n",
      "---  ------    -----   \n",
      " 0   A14       object  \n",
      " 1   geometry  geometry\n",
      " 2   Category  int32   \n",
      "dtypes: geometry(1), int32(1), object(1)\n",
      "memory usage: 51.7+ MB\n"
     ]
    }
   ],
   "source": [
    "data.info()"
   ]
  },
  {
   "cell_type": "code",
   "execution_count": 120,
   "id": "ce90133f",
   "metadata": {},
   "outputs": [],
   "source": [
    "data.drop(['A14'],axis=1,inplace=True)"
   ]
  },
  {
   "cell_type": "code",
   "execution_count": 121,
   "id": "49cb00ce",
   "metadata": {},
   "outputs": [
    {
     "data": {
      "text/plain": [
       "array([ 4, 10, 12,  2,  6,  8])"
      ]
     },
     "execution_count": 121,
     "metadata": {},
     "output_type": "execute_result"
    }
   ],
   "source": [
    "data['Category'].unique()"
   ]
  },
  {
   "cell_type": "code",
   "execution_count": 122,
   "id": "a45ff123",
   "metadata": {},
   "outputs": [
    {
     "data": {
      "text/html": [
       "<div>\n",
       "<style scoped>\n",
       "    .dataframe tbody tr th:only-of-type {\n",
       "        vertical-align: middle;\n",
       "    }\n",
       "\n",
       "    .dataframe tbody tr th {\n",
       "        vertical-align: top;\n",
       "    }\n",
       "\n",
       "    .dataframe thead th {\n",
       "        text-align: right;\n",
       "    }\n",
       "</style>\n",
       "<table border=\"1\" class=\"dataframe\">\n",
       "  <thead>\n",
       "    <tr style=\"text-align: right;\">\n",
       "      <th></th>\n",
       "      <th>geometry</th>\n",
       "      <th>Category</th>\n",
       "    </tr>\n",
       "  </thead>\n",
       "  <tbody>\n",
       "    <tr>\n",
       "      <th>0</th>\n",
       "      <td>POLYGON ((264203.565 487113.303, 264203.636 48...</td>\n",
       "      <td>4</td>\n",
       "    </tr>\n",
       "    <tr>\n",
       "      <th>1</th>\n",
       "      <td>POLYGON ((264341.165 487216.002, 264334.958 48...</td>\n",
       "      <td>10</td>\n",
       "    </tr>\n",
       "    <tr>\n",
       "      <th>2</th>\n",
       "      <td>POLYGON ((264340.523 487215.118, 264345.768 48...</td>\n",
       "      <td>10</td>\n",
       "    </tr>\n",
       "    <tr>\n",
       "      <th>3</th>\n",
       "      <td>POLYGON ((264379.362 487220.565, 264381.098 48...</td>\n",
       "      <td>10</td>\n",
       "    </tr>\n",
       "    <tr>\n",
       "      <th>4</th>\n",
       "      <td>POLYGON ((264387.304 487240.828, 264403.708 48...</td>\n",
       "      <td>10</td>\n",
       "    </tr>\n",
       "    <tr>\n",
       "      <th>...</th>\n",
       "      <td>...</td>\n",
       "      <td>...</td>\n",
       "    </tr>\n",
       "    <tr>\n",
       "      <th>2712102</th>\n",
       "      <td>POLYGON ((336290.651 513901.719, 336238.981 51...</td>\n",
       "      <td>8</td>\n",
       "    </tr>\n",
       "    <tr>\n",
       "      <th>2712103</th>\n",
       "      <td>POLYGON ((336210.017 513725.996, 336183.242 51...</td>\n",
       "      <td>8</td>\n",
       "    </tr>\n",
       "    <tr>\n",
       "      <th>2712104</th>\n",
       "      <td>POLYGON ((335980.437 513666.087, 336064.825 51...</td>\n",
       "      <td>8</td>\n",
       "    </tr>\n",
       "    <tr>\n",
       "      <th>2712105</th>\n",
       "      <td>POLYGON ((335948.003 514121.828, 336123.096 51...</td>\n",
       "      <td>8</td>\n",
       "    </tr>\n",
       "    <tr>\n",
       "      <th>2712106</th>\n",
       "      <td>POLYGON ((334255.431 514687.656, 334225.239 51...</td>\n",
       "      <td>8</td>\n",
       "    </tr>\n",
       "  </tbody>\n",
       "</table>\n",
       "<p>2712107 rows × 2 columns</p>\n",
       "</div>"
      ],
      "text/plain": [
       "                                                  geometry  Category\n",
       "0        POLYGON ((264203.565 487113.303, 264203.636 48...         4\n",
       "1        POLYGON ((264341.165 487216.002, 264334.958 48...        10\n",
       "2        POLYGON ((264340.523 487215.118, 264345.768 48...        10\n",
       "3        POLYGON ((264379.362 487220.565, 264381.098 48...        10\n",
       "4        POLYGON ((264387.304 487240.828, 264403.708 48...        10\n",
       "...                                                    ...       ...\n",
       "2712102  POLYGON ((336290.651 513901.719, 336238.981 51...         8\n",
       "2712103  POLYGON ((336210.017 513725.996, 336183.242 51...         8\n",
       "2712104  POLYGON ((335980.437 513666.087, 336064.825 51...         8\n",
       "2712105  POLYGON ((335948.003 514121.828, 336123.096 51...         8\n",
       "2712106  POLYGON ((334255.431 514687.656, 334225.239 51...         8\n",
       "\n",
       "[2712107 rows x 2 columns]"
      ]
     },
     "execution_count": 122,
     "metadata": {},
     "output_type": "execute_result"
    }
   ],
   "source": [
    "data"
   ]
  },
  {
   "cell_type": "code",
   "execution_count": 93,
   "id": "37c91f3a",
   "metadata": {
    "ExecuteTime": {
     "end_time": "2023-05-23T05:04:23.560259Z",
     "start_time": "2023-05-23T04:52:44.020049Z"
    }
   },
   "outputs": [],
   "source": [
    "# shp로 만들기\n",
    "data.to_file(f'land_use_농업/land_use.shp')"
   ]
  },
  {
   "cell_type": "markdown",
   "id": "c7db9ac8",
   "metadata": {},
   "source": [
    "# Population Density\n",
    "## 강원도의 읍면동 단위면적당 인구밀도 데이터\n",
    "- 스케일 : 읍면동\n",
    "- 데이터 처리 과정<br><br>\n",
    "1) 강원도 shp 파일을 구한다.<br>\n",
    "2) shp파일을 Qgis를 통해 면적을 구한다. (면적 데이터를 따로 구하면 법정동, 행정동이 달라서 없는 데이터나 같은 이름의 읍면동 때문에 문제가 많음, Qgis로 구한 다음 따로 구한 면적 데이터랑 비교해봤을 때 큰 차이 없어서 사용 가능하다고 판단)<br>\n",
    "3) 인구 데이터는 csv파일 형태로 따로 구함<br>\n",
    "4) shp 파일 데이터에 면적하고 인구 데이터를 붙인 뒤 (나누기)계산을 통해 최종 인구밀도를 도출"
   ]
  },
  {
   "cell_type": "markdown",
   "id": "d232b263",
   "metadata": {},
   "source": [
    "위의 과정을 통해 얻은 shp파일을 <br>\n",
    "\n",
    "1) QGIS에서 좌표계 ESPG:5174->ESPG:4326으로 변환<br>\n",
    "2) shp를 tif로 래스터 변환<br>\n",
    "3) 변환된 tif에 지정한 범주에 맞는 색상 선택 후 export"
   ]
  },
  {
   "cell_type": "code",
   "execution_count": 145,
   "id": "419d5e10",
   "metadata": {},
   "outputs": [
    {
     "name": "stdout",
     "output_type": "stream",
     "text": [
      "<class 'geopandas.geodataframe.GeoDataFrame'>\n",
      "RangeIndex: 303 entries, 0 to 302\n",
      "Data columns (total 2 columns):\n",
      " #   Column      Non-Null Count  Dtype   \n",
      "---  ------      --------------  -----   \n",
      " 0   pop_densit  303 non-null    float64 \n",
      " 1   geometry    303 non-null    geometry\n",
      "dtypes: float64(1), geometry(1)\n",
      "memory usage: 4.9 KB\n"
     ]
    }
   ],
   "source": [
    "gdf = gpd.read_file(\"PopulationDensity/gdf_population_density.shp\")\n",
    "gdf = gdf[['pop_densit','geometry']]\n",
    "\n",
    "PD = gdf\n",
    "PD.info()"
   ]
  },
  {
   "cell_type": "code",
   "execution_count": 146,
   "id": "d7d4febb",
   "metadata": {},
   "outputs": [
    {
     "data": {
      "text/html": [
       "<div>\n",
       "<style scoped>\n",
       "    .dataframe tbody tr th:only-of-type {\n",
       "        vertical-align: middle;\n",
       "    }\n",
       "\n",
       "    .dataframe tbody tr th {\n",
       "        vertical-align: top;\n",
       "    }\n",
       "\n",
       "    .dataframe thead th {\n",
       "        text-align: right;\n",
       "    }\n",
       "</style>\n",
       "<table border=\"1\" class=\"dataframe\">\n",
       "  <thead>\n",
       "    <tr style=\"text-align: right;\">\n",
       "      <th></th>\n",
       "      <th>pop_densit</th>\n",
       "      <th>geometry</th>\n",
       "    </tr>\n",
       "  </thead>\n",
       "  <tbody>\n",
       "    <tr>\n",
       "      <th>126</th>\n",
       "      <td>-1.0</td>\n",
       "      <td>MULTIPOLYGON (((1072944.893 2053359.718, 10730...</td>\n",
       "    </tr>\n",
       "    <tr>\n",
       "      <th>167</th>\n",
       "      <td>-1.0</td>\n",
       "      <td>MULTIPOLYGON (((1030227.463 2032523.737, 10302...</td>\n",
       "    </tr>\n",
       "    <tr>\n",
       "      <th>168</th>\n",
       "      <td>-1.0</td>\n",
       "      <td>MULTIPOLYGON (((1007691.059 2037409.027, 10077...</td>\n",
       "    </tr>\n",
       "    <tr>\n",
       "      <th>174</th>\n",
       "      <td>-1.0</td>\n",
       "      <td>MULTIPOLYGON (((1022736.461 2035770.075, 10227...</td>\n",
       "    </tr>\n",
       "    <tr>\n",
       "      <th>175</th>\n",
       "      <td>-1.0</td>\n",
       "      <td>MULTIPOLYGON (((1006366.752 2036807.068, 10064...</td>\n",
       "    </tr>\n",
       "  </tbody>\n",
       "</table>\n",
       "</div>"
      ],
      "text/plain": [
       "     pop_densit                                           geometry\n",
       "126        -1.0  MULTIPOLYGON (((1072944.893 2053359.718, 10730...\n",
       "167        -1.0  MULTIPOLYGON (((1030227.463 2032523.737, 10302...\n",
       "168        -1.0  MULTIPOLYGON (((1007691.059 2037409.027, 10077...\n",
       "174        -1.0  MULTIPOLYGON (((1022736.461 2035770.075, 10227...\n",
       "175        -1.0  MULTIPOLYGON (((1006366.752 2036807.068, 10064..."
      ]
     },
     "execution_count": 146,
     "metadata": {},
     "output_type": "execute_result"
    }
   ],
   "source": [
    "PD[PD['pop_densit']==-1]"
   ]
  },
  {
   "cell_type": "code",
   "execution_count": 147,
   "id": "4e04a981",
   "metadata": {},
   "outputs": [],
   "source": [
    "PD.loc[PD['pop_densit'] == -1, 'pop_densit'] = 0"
   ]
  },
  {
   "cell_type": "code",
   "execution_count": 148,
   "id": "29c23d3b",
   "metadata": {},
   "outputs": [
    {
     "data": {
      "text/html": [
       "<div>\n",
       "<style scoped>\n",
       "    .dataframe tbody tr th:only-of-type {\n",
       "        vertical-align: middle;\n",
       "    }\n",
       "\n",
       "    .dataframe tbody tr th {\n",
       "        vertical-align: top;\n",
       "    }\n",
       "\n",
       "    .dataframe thead th {\n",
       "        text-align: right;\n",
       "    }\n",
       "</style>\n",
       "<table border=\"1\" class=\"dataframe\">\n",
       "  <thead>\n",
       "    <tr style=\"text-align: right;\">\n",
       "      <th></th>\n",
       "      <th>pop_densit</th>\n",
       "    </tr>\n",
       "  </thead>\n",
       "  <tbody>\n",
       "    <tr>\n",
       "      <th>count</th>\n",
       "      <td>303.000000</td>\n",
       "    </tr>\n",
       "    <tr>\n",
       "      <th>mean</th>\n",
       "      <td>1479.793076</td>\n",
       "    </tr>\n",
       "    <tr>\n",
       "      <th>std</th>\n",
       "      <td>2905.115176</td>\n",
       "    </tr>\n",
       "    <tr>\n",
       "      <th>min</th>\n",
       "      <td>0.000000</td>\n",
       "    </tr>\n",
       "    <tr>\n",
       "      <th>25%</th>\n",
       "      <td>5.774425</td>\n",
       "    </tr>\n",
       "    <tr>\n",
       "      <th>50%</th>\n",
       "      <td>82.222841</td>\n",
       "    </tr>\n",
       "    <tr>\n",
       "      <th>75%</th>\n",
       "      <td>1652.209783</td>\n",
       "    </tr>\n",
       "    <tr>\n",
       "      <th>max</th>\n",
       "      <td>18645.328160</td>\n",
       "    </tr>\n",
       "  </tbody>\n",
       "</table>\n",
       "</div>"
      ],
      "text/plain": [
       "         pop_densit\n",
       "count    303.000000\n",
       "mean    1479.793076\n",
       "std     2905.115176\n",
       "min        0.000000\n",
       "25%        5.774425\n",
       "50%       82.222841\n",
       "75%     1652.209783\n",
       "max    18645.328160"
      ]
     },
     "execution_count": 148,
     "metadata": {},
     "output_type": "execute_result"
    }
   ],
   "source": [
    "PD.describe()"
   ]
  },
  {
   "cell_type": "code",
   "execution_count": 130,
   "id": "2eed6805",
   "metadata": {
    "scrolled": false
   },
   "outputs": [
    {
     "data": {
      "image/png": "[encoded data removed]",
      "text/plain": [
       "<Figure size 640x480 with 1 Axes>"
      ]
     },
     "metadata": {},
     "output_type": "display_data"
    }
   ],
   "source": [
    "import pandas as pd\n",
    "import matplotlib.pyplot as plt\n",
    "PD['pop_densit'].plot(kind='hist',bins=500)\n",
    "plt.xlabel('Values')\n",
    "plt.ylabel('Frequency')\n",
    "plt.title('Histogram')\n",
    "plt.show()"
   ]
  },
  {
   "cell_type": "code",
   "execution_count": 151,
   "id": "c747e065",
   "metadata": {},
   "outputs": [
    {
     "data": {
      "text/html": [
       "<div>\n",
       "<style scoped>\n",
       "    .dataframe tbody tr th:only-of-type {\n",
       "        vertical-align: middle;\n",
       "    }\n",
       "\n",
       "    .dataframe tbody tr th {\n",
       "        vertical-align: top;\n",
       "    }\n",
       "\n",
       "    .dataframe thead th {\n",
       "        text-align: right;\n",
       "    }\n",
       "</style>\n",
       "<table border=\"1\" class=\"dataframe\">\n",
       "  <thead>\n",
       "    <tr style=\"text-align: right;\">\n",
       "      <th></th>\n",
       "      <th>pop_densit</th>\n",
       "      <th>geometry</th>\n",
       "      <th>Classification</th>\n",
       "    </tr>\n",
       "  </thead>\n",
       "  <tbody>\n",
       "    <tr>\n",
       "      <th>0</th>\n",
       "      <td>2.185509</td>\n",
       "      <td>POLYGON ((1095074.004 1981465.488, 1095106.327...</td>\n",
       "      <td>3</td>\n",
       "    </tr>\n",
       "    <tr>\n",
       "      <th>1</th>\n",
       "      <td>88.742339</td>\n",
       "      <td>POLYGON ((1102134.624 1986567.931, 1102213.221...</td>\n",
       "      <td>14</td>\n",
       "    </tr>\n",
       "    <tr>\n",
       "      <th>2</th>\n",
       "      <td>3882.907732</td>\n",
       "      <td>POLYGON ((1093450.375 2023846.119, 1093459.933...</td>\n",
       "      <td>23</td>\n",
       "    </tr>\n",
       "    <tr>\n",
       "      <th>3</th>\n",
       "      <td>1445.527086</td>\n",
       "      <td>POLYGON ((1092814.471 2023246.085, 1092814.626...</td>\n",
       "      <td>21</td>\n",
       "    </tr>\n",
       "    <tr>\n",
       "      <th>4</th>\n",
       "      <td>5124.253516</td>\n",
       "      <td>MULTIPOLYGON (((1095983.388 2024237.232, 10959...</td>\n",
       "      <td>25</td>\n",
       "    </tr>\n",
       "    <tr>\n",
       "      <th>...</th>\n",
       "      <td>...</td>\n",
       "      <td>...</td>\n",
       "      <td>...</td>\n",
       "    </tr>\n",
       "    <tr>\n",
       "      <th>298</th>\n",
       "      <td>588.521536</td>\n",
       "      <td>POLYGON ((1131307.678 1914108.259, 1131461.005...</td>\n",
       "      <td>20</td>\n",
       "    </tr>\n",
       "    <tr>\n",
       "      <th>299</th>\n",
       "      <td>2.775556</td>\n",
       "      <td>POLYGON ((1136091.118 1946851.693, 1136045.165...</td>\n",
       "      <td>3</td>\n",
       "    </tr>\n",
       "    <tr>\n",
       "      <th>300</th>\n",
       "      <td>2.917654</td>\n",
       "      <td>POLYGON ((1134280.296 1949907.946, 1134332.407...</td>\n",
       "      <td>3</td>\n",
       "    </tr>\n",
       "    <tr>\n",
       "      <th>301</th>\n",
       "      <td>11.231062</td>\n",
       "      <td>POLYGON ((1131433.147 1944800.707, 1131360.042...</td>\n",
       "      <td>7</td>\n",
       "    </tr>\n",
       "    <tr>\n",
       "      <th>302</th>\n",
       "      <td>33.394583</td>\n",
       "      <td>POLYGON ((1136726.485 1950940.070, 1136730.482...</td>\n",
       "      <td>9</td>\n",
       "    </tr>\n",
       "  </tbody>\n",
       "</table>\n",
       "<p>303 rows × 3 columns</p>\n",
       "</div>"
      ],
      "text/plain": [
       "      pop_densit                                           geometry  \\\n",
       "0       2.185509  POLYGON ((1095074.004 1981465.488, 1095106.327...   \n",
       "1      88.742339  POLYGON ((1102134.624 1986567.931, 1102213.221...   \n",
       "2    3882.907732  POLYGON ((1093450.375 2023846.119, 1093459.933...   \n",
       "3    1445.527086  POLYGON ((1092814.471 2023246.085, 1092814.626...   \n",
       "4    5124.253516  MULTIPOLYGON (((1095983.388 2024237.232, 10959...   \n",
       "..           ...                                                ...   \n",
       "298   588.521536  POLYGON ((1131307.678 1914108.259, 1131461.005...   \n",
       "299     2.775556  POLYGON ((1136091.118 1946851.693, 1136045.165...   \n",
       "300     2.917654  POLYGON ((1134280.296 1949907.946, 1134332.407...   \n",
       "301    11.231062  POLYGON ((1131433.147 1944800.707, 1131360.042...   \n",
       "302    33.394583  POLYGON ((1136726.485 1950940.070, 1136730.482...   \n",
       "\n",
       "    Classification  \n",
       "0                3  \n",
       "1               14  \n",
       "2               23  \n",
       "3               21  \n",
       "4               25  \n",
       "..             ...  \n",
       "298             20  \n",
       "299              3  \n",
       "300              3  \n",
       "301              7  \n",
       "302              9  \n",
       "\n",
       "[303 rows x 3 columns]"
      ]
     },
     "execution_count": 151,
     "metadata": {},
     "output_type": "execute_result"
    }
   ],
   "source": [
    "import pandas as pd\n",
    "\n",
    "# Assuming 'df' is your DataFrame and 'column' is the column you want to divid,e\n",
    "range_boundaries = [0,1,2,3,4,5,10,20,30,40,50,60,70,80,90,100,200,300,400 ,500,1000, 2000,3000, 4000,5000,6000,7000, 8000,9000,10000,11000,12000,13000,14000,15000, 16000, 20000]  # Specify your custom range boundaries\n",
    "\n",
    "# Classify the data into steps 1 to 10 based on the specified range boundaries\n",
    "PD['Classification'] = pd.cut(PD['pop_densit'], bins=range_boundaries, labels=range(1, len(range_boundaries)), include_lowest=True)\n",
    "\n",
    "# Print the updated DataFrame\n",
    "PD\n"
   ]
  },
  {
   "cell_type": "code",
   "execution_count": 152,
   "id": "bab73abc",
   "metadata": {},
   "outputs": [
    {
     "data": {
      "text/plain": [
       "[3, 14, 23, 21, 25, ..., 10, 9, 36, 35, 33]\n",
       "Length: 35\n",
       "Categories (36, int64): [1 < 2 < 3 < 4 ... 33 < 34 < 35 < 36]"
      ]
     },
     "execution_count": 152,
     "metadata": {},
     "output_type": "execute_result"
    }
   ],
   "source": [
    "PD['Classification'].unique()"
   ]
  },
  {
   "cell_type": "code",
   "execution_count": 153,
   "id": "50a203a0",
   "metadata": {},
   "outputs": [],
   "source": [
    "PD.drop(['pop_densit'],axis=1,inplace=True)"
   ]
  },
  {
   "cell_type": "code",
   "execution_count": 154,
   "id": "0cbdc378",
   "metadata": {},
   "outputs": [],
   "source": [
    "PD['Classification'] = PD['Classification'].astype('int')"
   ]
  },
  {
   "cell_type": "code",
   "execution_count": 155,
   "id": "5781d753",
   "metadata": {},
   "outputs": [
    {
     "data": {
      "text/html": [
       "<div>\n",
       "<style scoped>\n",
       "    .dataframe tbody tr th:only-of-type {\n",
       "        vertical-align: middle;\n",
       "    }\n",
       "\n",
       "    .dataframe tbody tr th {\n",
       "        vertical-align: top;\n",
       "    }\n",
       "\n",
       "    .dataframe thead th {\n",
       "        text-align: right;\n",
       "    }\n",
       "</style>\n",
       "<table border=\"1\" class=\"dataframe\">\n",
       "  <thead>\n",
       "    <tr style=\"text-align: right;\">\n",
       "      <th></th>\n",
       "      <th>geometry</th>\n",
       "      <th>Classification</th>\n",
       "    </tr>\n",
       "  </thead>\n",
       "  <tbody>\n",
       "    <tr>\n",
       "      <th>0</th>\n",
       "      <td>POLYGON ((1095074.004 1981465.488, 1095106.327...</td>\n",
       "      <td>3</td>\n",
       "    </tr>\n",
       "    <tr>\n",
       "      <th>1</th>\n",
       "      <td>POLYGON ((1102134.624 1986567.931, 1102213.221...</td>\n",
       "      <td>14</td>\n",
       "    </tr>\n",
       "    <tr>\n",
       "      <th>2</th>\n",
       "      <td>POLYGON ((1093450.375 2023846.119, 1093459.933...</td>\n",
       "      <td>23</td>\n",
       "    </tr>\n",
       "    <tr>\n",
       "      <th>3</th>\n",
       "      <td>POLYGON ((1092814.471 2023246.085, 1092814.626...</td>\n",
       "      <td>21</td>\n",
       "    </tr>\n",
       "    <tr>\n",
       "      <th>4</th>\n",
       "      <td>MULTIPOLYGON (((1095983.388 2024237.232, 10959...</td>\n",
       "      <td>25</td>\n",
       "    </tr>\n",
       "    <tr>\n",
       "      <th>...</th>\n",
       "      <td>...</td>\n",
       "      <td>...</td>\n",
       "    </tr>\n",
       "    <tr>\n",
       "      <th>298</th>\n",
       "      <td>POLYGON ((1131307.678 1914108.259, 1131461.005...</td>\n",
       "      <td>20</td>\n",
       "    </tr>\n",
       "    <tr>\n",
       "      <th>299</th>\n",
       "      <td>POLYGON ((1136091.118 1946851.693, 1136045.165...</td>\n",
       "      <td>3</td>\n",
       "    </tr>\n",
       "    <tr>\n",
       "      <th>300</th>\n",
       "      <td>POLYGON ((1134280.296 1949907.946, 1134332.407...</td>\n",
       "      <td>3</td>\n",
       "    </tr>\n",
       "    <tr>\n",
       "      <th>301</th>\n",
       "      <td>POLYGON ((1131433.147 1944800.707, 1131360.042...</td>\n",
       "      <td>7</td>\n",
       "    </tr>\n",
       "    <tr>\n",
       "      <th>302</th>\n",
       "      <td>POLYGON ((1136726.485 1950940.070, 1136730.482...</td>\n",
       "      <td>9</td>\n",
       "    </tr>\n",
       "  </tbody>\n",
       "</table>\n",
       "<p>303 rows × 2 columns</p>\n",
       "</div>"
      ],
      "text/plain": [
       "                                              geometry  Classification\n",
       "0    POLYGON ((1095074.004 1981465.488, 1095106.327...               3\n",
       "1    POLYGON ((1102134.624 1986567.931, 1102213.221...              14\n",
       "2    POLYGON ((1093450.375 2023846.119, 1093459.933...              23\n",
       "3    POLYGON ((1092814.471 2023246.085, 1092814.626...              21\n",
       "4    MULTIPOLYGON (((1095983.388 2024237.232, 10959...              25\n",
       "..                                                 ...             ...\n",
       "298  POLYGON ((1131307.678 1914108.259, 1131461.005...              20\n",
       "299  POLYGON ((1136091.118 1946851.693, 1136045.165...               3\n",
       "300  POLYGON ((1134280.296 1949907.946, 1134332.407...               3\n",
       "301  POLYGON ((1131433.147 1944800.707, 1131360.042...               7\n",
       "302  POLYGON ((1136726.485 1950940.070, 1136730.482...               9\n",
       "\n",
       "[303 rows x 2 columns]"
      ]
     },
     "execution_count": 155,
     "metadata": {},
     "output_type": "execute_result"
    }
   ],
   "source": [
    "PD"
   ]
  },
  {
   "cell_type": "code",
   "execution_count": 157,
   "id": "71a4f823",
   "metadata": {},
   "outputs": [
    {
     "name": "stderr",
     "output_type": "stream",
     "text": [
      "C:\\Users\\EBDL\\AppData\\Local\\Temp\\ipykernel_7264\\1767801115.py:1: UserWarning: Column names longer than 10 characters will be truncated when saved to ESRI Shapefile.\n",
      "  PD.to_file(f'land_use_농업/landuse.shp')\n"
     ]
    }
   ],
   "source": [
    "PD.to_file(f'population_dense/population_density.shp')"
   ]
  }
 ],
 "metadata": {
  "kernelspec": {
   "display_name": "Python 3 (ipykernel)",
   "language": "python",
   "name": "python3"
  },
  "language_info": {
   "codemirror_mode": {
    "name": "ipython",
    "version": 3
   },
   "file_extension": ".py",
   "mimetype": "text/x-python",
   "name": "python",
   "nbconvert_exporter": "python",
   "pygments_lexer": "ipython3",
   "version": "3.9.13"
  },
  "toc": {
   "base_numbering": 1,
   "nav_menu": {},
   "number_sections": true,
   "sideBar": true,
   "skip_h1_title": false,
   "title_cell": "Table of Contents",
   "title_sidebar": "Contents",
   "toc_cell": false,
   "toc_position": {},
   "toc_section_display": true,
   "toc_window_display": false
  },
  "varInspector": {
   "cols": {
    "lenName": 16,
    "lenType": 16,
    "lenVar": 40
   },
   "kernels_config": {
    "python": {
     "delete_cmd_postfix": "",
     "delete_cmd_prefix": "del ",
     "library": "var_list.py",
     "varRefreshCmd": "print(var_dic_list())"
    },
    "r": {
     "delete_cmd_postfix": ") ",
     "delete_cmd_prefix": "rm(",
     "library": "var_list.r",
     "varRefreshCmd": "cat(var_dic_list()) "
    }
   },
   "types_to_exclude": [
    "module",
    "function",
    "builtin_function_or_method",
    "instance",
    "_Feature"
   ],
   "window_display": false
  }
 },
 "nbformat": 4,
 "nbformat_minor": 5
}
