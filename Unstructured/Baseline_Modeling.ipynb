{
 "cells": [
  {
   "cell_type": "markdown",
   "id": "40a3938a",
   "metadata": {},
   "source": [
    "# 베이스라인 모델"
   ]
  },
  {
   "cell_type": "code",
   "execution_count": 11,
   "id": "b1a7fd6f",
   "metadata": {
    "ExecuteTime": {
     "end_time": "2023-04-13T03:48:16.172586Z",
     "start_time": "2023-04-13T03:48:16.159102Z"
    }
   },
   "outputs": [],
   "source": [
    "import numpy as np\n",
    "import pandas as pd\n",
    "import rasterio\n",
    "import os\n",
    "from matplotlib import pyplot as plt\n",
    "from PIL import Image\n",
    "\n",
    "from tensorflow import keras\n",
    "from tensorflow.keras import layers\n",
    "from tensorflow.keras.preprocessing import image\n",
    "from tensorflow.keras.preprocessing.image import ImageDataGenerator"
   ]
  },
  {
   "cell_type": "code",
   "execution_count": 12,
   "id": "bb00b8ba",
   "metadata": {
    "ExecuteTime": {
     "end_time": "2023-04-13T03:48:16.785873Z",
     "start_time": "2023-04-13T03:48:16.769810Z"
    }
   },
   "outputs": [],
   "source": [
    "#input shape 확인\n",
    "#a=np.array(keras.preprocessing.image.load_img(\"data1.png\", target_size=(28, 28)))\n",
    "#a.shape"
   ]
  },
  {
   "cell_type": "code",
   "execution_count": 17,
   "id": "a74abf8e",
   "metadata": {
    "ExecuteTime": {
     "end_time": "2023-04-13T03:49:36.460696Z",
     "start_time": "2023-04-13T03:49:36.444251Z"
    }
   },
   "outputs": [],
   "source": [
    "path_train=\"input/train\"\n",
    "path_test=\"input/test\"\n",
    "path_new=\"input/new\""
   ]
  },
  {
   "cell_type": "code",
   "execution_count": 18,
   "id": "c46ff4b0",
   "metadata": {
    "ExecuteTime": {
     "end_time": "2023-04-13T03:49:36.672884Z",
     "start_time": "2023-04-13T03:49:36.667902Z"
    }
   },
   "outputs": [],
   "source": [
    "input_shape=(28,28,3)\n",
    "batch_size=32\n",
    "epochs=10"
   ]
  },
  {
   "cell_type": "code",
   "execution_count": 19,
   "id": "a1781476",
   "metadata": {
    "ExecuteTime": {
     "end_time": "2023-04-13T03:49:36.916134Z",
     "start_time": "2023-04-13T03:49:36.904671Z"
    }
   },
   "outputs": [],
   "source": [
    "# 전처리 옵션 설정\n",
    "train_datagen = ImageDataGenerator(rescale = 1.255,validation_split=0.2)\n",
    "test_datagen = ImageDataGenerator(rescale = 1.255,)\n",
    "new_datagen = ImageDataGenerator(rescale = 1.255,)"
   ]
  },
  {
   "cell_type": "code",
   "execution_count": 21,
   "id": "e39e4d92",
   "metadata": {
    "ExecuteTime": {
     "end_time": "2023-04-13T03:49:52.366197Z",
     "start_time": "2023-04-13T03:49:52.304936Z"
    }
   },
   "outputs": [
    {
     "name": "stdout",
     "output_type": "stream",
     "text": [
      "Found 322 images belonging to 2 classes.\n",
      "Found 80 images belonging to 2 classes.\n",
      "Found 247 images belonging to 2 classes.\n",
      "Found 1 images belonging to 1 classes.\n"
     ]
    }
   ],
   "source": [
    "# 저장된 이미지 전처리\n",
    "train_generator = train_datagen.flow_from_directory(path_train, # 디렉토리명  \n",
    "                                                    target_size = (28, 28), # 이미지 크기 변경\n",
    "                                                    batch_size = batch_size, # 배치 사이즈 지정\n",
    "                                                    class_mode = 'binary', # 클래스 모드 지정\n",
    "                                                    subset='training') # train데이터\n",
    "\n",
    "valid_generator = train_datagen.flow_from_directory(path_train, # 디렉토리명  \n",
    "                                                    target_size = (28, 28), # 이미지 크기 변경\n",
    "                                                    batch_size = batch_size, # 배치 사이즈 지정\n",
    "                                                    class_mode = 'binary', # 클래스 모드 지정\n",
    "                                                    subset='validation') # val데이터\n",
    "test_generator = test_datagen.flow_from_directory(path_test, # 디렉토리명  \n",
    "                                                    target_size = (28, 28), # 이미지 크기 변경\n",
    "                                                    batch_size = batch_size, # 배치 사이즈 지정\n",
    "                                                    class_mode = 'binary') # 클래스 모드 지정\n",
    "\n",
    "new_generator = test_datagen.flow_from_directory(path_new, # 디렉토리명  \n",
    "                                                    target_size = (28, 28), # 이미지 크기 변경\n",
    "                                                    batch_size = batch_size, # 배치 사이즈 지정\n",
    "                                                    class_mode = 'binary') # 클래스 모드 지정"
   ]
  },
  {
   "cell_type": "code",
   "execution_count": 22,
   "id": "9942303b",
   "metadata": {
    "ExecuteTime": {
     "end_time": "2023-04-13T03:49:58.926489Z",
     "start_time": "2023-04-13T03:49:54.170757Z"
    }
   },
   "outputs": [],
   "source": [
    "#모델정의\n",
    "model = keras.Sequential([\n",
    "    layers.Conv2D(32, (3, 3), activation='relu', input_shape=input_shape),\n",
    "    layers.MaxPooling2D((2, 2)),\n",
    "    layers.Conv2D(64, (3, 3), activation='relu'),\n",
    "    layers.MaxPooling2D((2, 2)),\n",
    "    layers.Conv2D(128, (3, 3), activation='relu'),\n",
    "    layers.MaxPooling2D((2, 2)),\n",
    "    layers.Flatten(),\n",
    "    layers.Dense(128, activation='relu'),\n",
    "    layers.Dense(1, activation='sigmoid')\n",
    "])"
   ]
  },
  {
   "cell_type": "code",
   "execution_count": 23,
   "id": "7177b8fe",
   "metadata": {
    "ExecuteTime": {
     "end_time": "2023-04-13T03:49:59.549855Z",
     "start_time": "2023-04-13T03:49:59.536772Z"
    }
   },
   "outputs": [],
   "source": [
    "model.compile(optimizer='adam',\n",
    "              loss='binary_crossentropy',\n",
    "              metrics=['accuracy'])"
   ]
  },
  {
   "cell_type": "code",
   "execution_count": 24,
   "id": "52680cc2",
   "metadata": {
    "ExecuteTime": {
     "end_time": "2023-04-13T03:50:21.260298Z",
     "start_time": "2023-04-13T03:50:00.081959Z"
    }
   },
   "outputs": [
    {
     "name": "stdout",
     "output_type": "stream",
     "text": [
      "Epoch 1/10\n",
      "10/10 [==============================] - 3s 225ms/step - loss: 10.9250 - accuracy: 0.7931 - val_loss: 5.1978 - val_accuracy: 0.0625\n",
      "Epoch 2/10\n",
      "10/10 [==============================] - 2s 212ms/step - loss: 1.7556 - accuracy: 0.7656 - val_loss: 0.8554 - val_accuracy: 0.5938\n",
      "Epoch 3/10\n",
      "10/10 [==============================] - 2s 199ms/step - loss: 0.4749 - accuracy: 0.8379 - val_loss: 0.4903 - val_accuracy: 0.7656\n",
      "Epoch 4/10\n",
      "10/10 [==============================] - 2s 215ms/step - loss: 0.4962 - accuracy: 0.8586 - val_loss: 0.4472 - val_accuracy: 0.8125\n",
      "Epoch 5/10\n",
      "10/10 [==============================] - 2s 217ms/step - loss: 0.6343 - accuracy: 0.8793 - val_loss: 0.8139 - val_accuracy: 0.5156\n",
      "Epoch 6/10\n",
      "10/10 [==============================] - 2s 202ms/step - loss: 0.4784 - accuracy: 0.8517 - val_loss: 0.4345 - val_accuracy: 0.8750\n",
      "Epoch 7/10\n",
      "10/10 [==============================] - 2s 198ms/step - loss: 0.4150 - accuracy: 0.8793 - val_loss: 0.2942 - val_accuracy: 0.9219\n",
      "Epoch 8/10\n",
      "10/10 [==============================] - 2s 203ms/step - loss: 0.3856 - accuracy: 0.8655 - val_loss: 0.2874 - val_accuracy: 0.9375\n",
      "Epoch 9/10\n",
      "10/10 [==============================] - 2s 198ms/step - loss: 0.4037 - accuracy: 0.8724 - val_loss: 0.7573 - val_accuracy: 0.4844\n",
      "Epoch 10/10\n",
      "10/10 [==============================] - 2s 196ms/step - loss: 0.4299 - accuracy: 0.8414 - val_loss: 0.2993 - val_accuracy: 0.9219\n"
     ]
    },
    {
     "data": {
      "text/plain": [
       "<keras.callbacks.History at 0x1fe30851220>"
      ]
     },
     "execution_count": 24,
     "metadata": {},
     "output_type": "execute_result"
    }
   ],
   "source": [
    "model.fit(\n",
    "    train_generator,\n",
    "    steps_per_epoch=train_generator.samples // batch_size,\n",
    "    validation_data=valid_generator,\n",
    "    validation_steps=valid_generator.samples // batch_size,\n",
    "    epochs=epochs\n",
    ")"
   ]
  },
  {
   "cell_type": "code",
   "execution_count": 25,
   "id": "2c1e4d5c",
   "metadata": {
    "ExecuteTime": {
     "end_time": "2023-04-13T03:50:36.350727Z",
     "start_time": "2023-04-13T03:50:34.744766Z"
    }
   },
   "outputs": [
    {
     "name": "stdout",
     "output_type": "stream",
     "text": [
      "8/8 [==============================] - 1s 169ms/step - loss: 0.2959 - accuracy: 0.9109\n",
      "Test loss: 0.29590553045272827\n",
      "Test accuracy: 0.9109311699867249\n"
     ]
    }
   ],
   "source": [
    "loss, accuracy = model.evaluate(test_generator)\n",
    "print(f'Test loss: {loss}')\n",
    "print(f'Test accuracy: {accuracy}')"
   ]
  },
  {
   "cell_type": "code",
   "execution_count": 28,
   "id": "b121cc16",
   "metadata": {
    "ExecuteTime": {
     "end_time": "2023-04-13T03:52:19.699051Z",
     "start_time": "2023-04-13T03:52:18.183962Z"
    }
   },
   "outputs": [
    {
     "name": "stdout",
     "output_type": "stream",
     "text": [
      "8/8 [==============================] - 1s 158ms/step\n"
     ]
    }
   ],
   "source": [
    "preds = model.predict(test_generator)"
   ]
  },
  {
   "cell_type": "code",
   "execution_count": 35,
   "id": "aa19b45d",
   "metadata": {
    "ExecuteTime": {
     "end_time": "2023-04-13T05:17:25.771870Z",
     "start_time": "2023-04-13T05:17:25.756257Z"
    }
   },
   "outputs": [
    {
     "data": {
      "text/plain": [
       "247"
      ]
     },
     "execution_count": 35,
     "metadata": {},
     "output_type": "execute_result"
    }
   ],
   "source": [
    "len(preds)"
   ]
  },
  {
   "cell_type": "code",
   "execution_count": 40,
   "id": "8901d151",
   "metadata": {
    "ExecuteTime": {
     "end_time": "2023-04-13T05:26:16.278110Z",
     "start_time": "2023-04-13T05:26:16.261366Z"
    }
   },
   "outputs": [
    {
     "name": "stdout",
     "output_type": "stream",
     "text": [
      "0.9548855125904083\n",
      "0.8811829909682274\n",
      "0.9836430009454489\n",
      "0.8350009769201279\n",
      "0.9572705179452896\n",
      "0.9270292967557907\n",
      "0.9248408228158951\n",
      "0.9631481990218163\n",
      "0.9563944600522518\n",
      "0.9135809615254402\n",
      "0.9780907463282347\n",
      "0.949653048068285\n",
      "0.6591360867023468\n",
      "0.9619917161762714\n",
      "0.9622649475932121\n",
      "0.8442943543195724\n",
      "0.9572533406317234\n",
      "0.9634689427912235\n",
      "0.9870098009705544\n",
      "0.9559697508811951\n",
      "0.9554234258830547\n",
      "0.7516926825046539\n",
      "0.9726420678198338\n",
      "0.9545420445501804\n",
      "0.9205919280648232\n",
      "0.9584919176995754\n",
      "0.9612368792295456\n",
      "0.9631481990218163\n",
      "0.7992053478956223\n",
      "0.9650292210280895\n",
      "0.9424959309399128\n",
      "0.9576572962105274\n",
      "0.9580283872783184\n",
      "0.9883374897763133\n",
      "0.9758336581289768\n",
      "0.9584384001791477\n",
      "0.9547879695892334\n",
      "0.9835292138159275\n",
      "0.9582378678023815\n",
      "0.96275794506073\n",
      "0.9562662169337273\n",
      "0.7886094003915787\n",
      "0.9574628137052059\n",
      "0.9622250683605671\n",
      "0.9578499905765057\n",
      "0.9824852328747511\n",
      "0.9683771021664143\n",
      "0.9777502585202456\n",
      "0.9181202501058578\n",
      "0.971567302942276\n",
      "0.9588486813008785\n",
      "0.9841800127178431\n",
      "0.847888857126236\n",
      "0.961838461458683\n",
      "0.9289463013410568\n",
      "0.974393580108881\n",
      "0.9824831001460552\n",
      "0.9609118066728115\n",
      "0.9603943452239037\n",
      "0.9589863270521164\n",
      "0.9194080606102943\n",
      "0.8582318276166916\n",
      "0.9069997891783714\n",
      "0.9758230857551098\n",
      "0.9564770311117172\n",
      "0.9586289674043655\n",
      "0.9855550331994891\n",
      "0.9589042514562607\n",
      "0.8362478315830231\n",
      "0.9606614448130131\n",
      "0.9629883617162704\n",
      "0.9604513309895992\n",
      "0.966405663639307\n",
      "0.9639970883727074\n",
      "0.9637547545135021\n",
      "0.9618307948112488\n",
      "0.7860465943813324\n",
      "0.9618304297327995\n",
      "0.9602984338998795\n",
      "0.8210282176733017\n",
      "0.9040334448218346\n",
      "0.9512746706604958\n",
      "0.9423372074961662\n",
      "0.9596967548131943\n",
      "0.9820326380431652\n",
      "0.9564452320337296\n",
      "0.9633218757808208\n",
      "0.9619477353990078\n",
      "0.9773425199091434\n",
      "0.9594961479306221\n",
      "0.9767942633479834\n",
      "0.960663415491581\n",
      "0.7599489688873291\n",
      "0.9777921605855227\n",
      "0.9258548319339752\n",
      "0.9750878345221281\n",
      "0.9632066935300827\n",
      "0.950621172785759\n",
      "0.9883812637999654\n",
      "0.9787276647984982\n",
      "0.9621236771345139\n",
      "0.983177175745368\n",
      "0.9811148177832365\n",
      "0.948082197457552\n",
      "0.9576466679573059\n",
      "0.8896666318178177\n",
      "0.9478665925562382\n",
      "0.9449445717036724\n",
      "0.95497140660882\n",
      "0.9832420218735933\n",
      "0.9595013447105885\n",
      "0.9618688337504864\n",
      "0.9594874531030655\n",
      "0.9179187044501305\n",
      "0.9708088245242834\n",
      "0.827949196100235\n",
      "0.8272087872028351\n",
      "0.9398189969360828\n",
      "0.9573520608246326\n",
      "0.9631830304861069\n",
      "0.9050567448139191\n",
      "0.8939777985215187\n",
      "0.7087292373180389\n",
      "0.9829768557101488\n",
      "0.9881701404228806\n",
      "0.9103119969367981\n",
      "0.957159947603941\n",
      "0.9641451761126518\n",
      "0.873764380812645\n",
      "0.9707130007445812\n",
      "0.8063284903764725\n",
      "0.9575528055429459\n",
      "0.9604095630347729\n",
      "0.9596346355974674\n",
      "0.9816641137003899\n",
      "0.9604805558919907\n",
      "0.9430628344416618\n",
      "0.9584820047020912\n",
      "0.9818840008229017\n",
      "0.9576695300638676\n",
      "0.9880024949088693\n",
      "0.9709641970694065\n",
      "0.9837209284305573\n",
      "0.9612739495933056\n",
      "0.7138404250144958\n",
      "0.9598816856741905\n",
      "0.9747987631708384\n",
      "0.843418151140213\n",
      "0.784453496336937\n",
      "0.9602104313671589\n",
      "0.9598252847790718\n",
      "0.9680895917117596\n",
      "0.9411710053682327\n",
      "0.8835309967398643\n",
      "0.9772866889834404\n",
      "0.9595862440764904\n",
      "0.9716861229389906\n",
      "0.9779806565493345\n",
      "0.965987078845501\n",
      "0.9272969216108322\n",
      "0.9257247745990753\n",
      "0.9579034484922886\n",
      "0.9595588557422161\n",
      "0.928767241537571\n",
      "0.983076386153698\n",
      "0.9585417024791241\n",
      "0.8059965223073959\n",
      "0.9847723580896854\n",
      "0.9874763209372759\n",
      "0.9374047741293907\n",
      "0.9664302542805672\n",
      "0.9069878682494164\n",
      "0.9846576191484928\n",
      "0.9846759922802448\n",
      "0.956695444881916\n",
      "0.9752572849392891\n",
      "0.9228238239884377\n",
      "0.9196272268891335\n",
      "0.9218391254544258\n",
      "0.9844233738258481\n",
      "0.9646488502621651\n",
      "0.9609198831021786\n",
      "0.9806469306349754\n",
      "0.9600455239415169\n",
      "0.9612726308405399\n",
      "0.9632350280880928\n",
      "0.9242889955639839\n",
      "0.9356621354818344\n",
      "0.965996265411377\n",
      "0.9810770284384489\n",
      "0.9582082778215408\n",
      "0.9614563435316086\n",
      "0.9482448808848858\n",
      "0.9085687100887299\n",
      "0.9666492976248264\n",
      "0.8957447782158852\n",
      "0.9282799884676933\n",
      "0.6416755318641663\n",
      "0.9604815319180489\n",
      "0.9542303904891014\n",
      "0.9554988518357277\n",
      "0.9440608881413937\n",
      "0.9599093683063984\n",
      "0.9212573990225792\n",
      "0.9352835118770599\n",
      "0.9809049591422081\n",
      "0.6597196757793427\n",
      "0.9483281709253788\n",
      "0.9804864637553692\n",
      "0.7904603481292725\n",
      "0.9370879307389259\n",
      "0.931621178984642\n",
      "0.9630306623876095\n",
      "0.9805197194218636\n",
      "0.9847049033269286\n",
      "0.696092963218689\n",
      "0.9093154668807983\n",
      "0.9786791428923607\n",
      "0.9754907321184874\n",
      "0.7256141602993011\n",
      "0.9613489247858524\n",
      "0.8895368799567223\n",
      "0.956141758710146\n",
      "0.8864686489105225\n",
      "0.9286112487316132\n",
      "0.9598924145102501\n",
      "0.9578116536140442\n",
      "0.9632673673331738\n",
      "0.9592457078397274\n",
      "0.9695224277675152\n",
      "0.9678401574492455\n",
      "0.9563263282179832\n",
      "0.938754491508007\n",
      "0.9617652520537376\n",
      "0.7074163556098938\n",
      "0.9326818659901619\n",
      "0.9396817125380039\n",
      "0.9825690500438213\n",
      "0.9559629820287228\n",
      "0.8716824948787689\n",
      "0.7689699679613113\n",
      "0.9785639699548483\n",
      "0.965519618242979\n",
      "0.885633684694767\n",
      "0.923186220228672\n",
      "0.9561903662979603\n",
      "0.9831660911440849\n"
     ]
    }
   ],
   "source": [
    "for i in range(len(preds)):\n",
    "    print(1-preds[i][0])"
   ]
  },
  {
   "cell_type": "code",
   "execution_count": null,
   "id": "ff4abbe6",
   "metadata": {},
   "outputs": [],
   "source": []
  }
 ],
 "metadata": {
  "kernelspec": {
   "display_name": "Python 3 (ipykernel)",
   "language": "python",
   "name": "python3"
  },
  "language_info": {
   "codemirror_mode": {
    "name": "ipython",
    "version": 3
   },
   "file_extension": ".py",
   "mimetype": "text/x-python",
   "name": "python",
   "nbconvert_exporter": "python",
   "pygments_lexer": "ipython3",
   "version": "3.9.13"
  },
  "toc": {
   "base_numbering": 1,
   "nav_menu": {},
   "number_sections": true,
   "sideBar": true,
   "skip_h1_title": false,
   "title_cell": "Table of Contents",
   "title_sidebar": "Contents",
   "toc_cell": false,
   "toc_position": {},
   "toc_section_display": true,
   "toc_window_display": false
  },
  "varInspector": {
   "cols": {
    "lenName": 16,
    "lenType": 16,
    "lenVar": 40
   },
   "kernels_config": {
    "python": {
     "delete_cmd_postfix": "",
     "delete_cmd_prefix": "del ",
     "library": "var_list.py",
     "varRefreshCmd": "print(var_dic_list())"
    },
    "r": {
     "delete_cmd_postfix": ") ",
     "delete_cmd_prefix": "rm(",
     "library": "var_list.r",
     "varRefreshCmd": "cat(var_dic_list()) "
    }
   },
   "types_to_exclude": [
    "module",
    "function",
    "builtin_function_or_method",
    "instance",
    "_Feature"
   ],
   "window_display": false
  }
 },
 "nbformat": 4,
 "nbformat_minor": 5
}
