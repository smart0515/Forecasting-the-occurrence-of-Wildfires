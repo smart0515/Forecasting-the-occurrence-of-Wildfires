{
 "cells": [
  {
   "cell_type": "markdown",
   "id": "697cb617",
   "metadata": {},
   "source": [
    "# Import"
   ]
  },
  {
   "cell_type": "code",
   "execution_count": 1,
   "id": "c324f064",
   "metadata": {
    "ExecuteTime": {
     "end_time": "2023-05-30T12:55:55.351735Z",
     "start_time": "2023-05-30T12:55:53.539165Z"
    }
   },
   "outputs": [],
   "source": [
    "import os\n",
    "import urllib3\n",
    "import requests\n",
    "import pandas as pd\n",
    "import time\n",
    "from tqdm.auto import tqdm\n",
    "from datetime import datetime, timedelta,date\n",
    "from glob import glob\n",
    "import rasterio\n",
    "from pyidw import idw \n",
    "import geopandas as gpd #\n",
    "import matplotlib.pyplot as plt\n",
    "from osgeo import gdal, ogr\n",
    "import shutil\n",
    "import warnings\n",
    "import json\n",
    "from glob import glob\n",
    "\n",
    "warnings.filterwarnings(action='ignore')\n",
    "warnings.simplefilter(action='ignore', category=FutureWarning) # FutureWarning 제거\n",
    "urllib3.disable_warnings(urllib3.exceptions.InsecureRequestWarning)\n",
    "\n",
    "from IPython.core.interactiveshell import InteractiveShell\n",
    "InteractiveShell.ast_node_interactivity = 'all'"
   ]
  },
  {
   "cell_type": "markdown",
   "id": "5b531743",
   "metadata": {},
   "source": [
    "# 기상데이터 좌표 데이터"
   ]
  },
  {
   "cell_type": "code",
   "execution_count": 2,
   "id": "9973599b",
   "metadata": {
    "ExecuteTime": {
     "end_time": "2023-05-30T12:55:56.359959Z",
     "start_time": "2023-05-30T12:55:56.320080Z"
    }
   },
   "outputs": [],
   "source": [
    "future_loc=pd.read_csv(\"future_loc.csv\",encoding='cp949') # 현재, 미래 데이터 크롤링 \n",
    "past_loc=pd.read_csv(\"aws_loc_list.csv\")  # 과거 데이터 크롤링 "
   ]
  },
  {
   "cell_type": "markdown",
   "id": "e8173530",
   "metadata": {},
   "source": [
    "# 기상 크롤링\n",
    "공공데이터포탈에서 제공하는 API활용\n",
    "- https://www.data.go.kr/data/15084084/openapi.do"
   ]
  },
  {
   "cell_type": "markdown",
   "id": "0b0a7ea7",
   "metadata": {},
   "source": [
    "## 예보 크롤링"
   ]
  },
  {
   "cell_type": "code",
   "execution_count": 3,
   "id": "95b62820",
   "metadata": {
    "ExecuteTime": {
     "end_time": "2023-05-30T12:55:57.386167Z",
     "start_time": "2023-05-30T12:55:57.379957Z"
    }
   },
   "outputs": [],
   "source": [
    "def future_weather_crawling(date,times,locn):\n",
    "    url = 'https://apis.data.go.kr/1360000/VilageFcstInfoService_2.0/getUltraSrtFcst'\n",
    "    \n",
    "    params ={'serviceKey' : 'API키 입력하세요', #AuthenticationKey\n",
    "             'pageNo' : '1',\n",
    "             'numOfRows' : '1000',\n",
    "             'dataType' : 'JSON', \n",
    "             'base_date' : date, \n",
    "             'base_time' : times, \n",
    "             'nx' : locn[1], \n",
    "             'ny' : locn[0], \n",
    "            }\n",
    "    for i in range(5):  # 최대 5번까지 시도\n",
    "        try:\n",
    "            response = requests.get(url, params=params,verify=False)\n",
    "            try:\n",
    "                json_obj = json.loads(response.content)\n",
    "                try:\n",
    "                    json_obj=json_obj[\"response\"][\"body\"][\"items\"][\"item\"]       \n",
    "                    return json_obj\n",
    "                except:\n",
    "                    print(\"Retry1\")\n",
    "                    print(json_obj)\n",
    "                    time.sleep(5)\n",
    "            except:\n",
    "                print(response.content)\n",
    "                try:\n",
    "                    json_obj = json.loads(response.content)\n",
    "                    print(response,json_obj)\n",
    "                    print(\"Retry2\")\n",
    "                    time.sleep(5)\n",
    "                except json.JSONDecodeError:\n",
    "                    time.sleep(2)\n",
    "                    continue  \n",
    "        except (requests.exceptions.HTTPError, requests.exceptions.ConnectionError) as e:\n",
    "            print(f'Network ERROR')\n",
    "            time.sleep(2)\n",
    "    return np.nan "
   ]
  },
  {
   "cell_type": "markdown",
   "id": "429dc447",
   "metadata": {},
   "source": [
    "## 과거 기상 크롤링"
   ]
  },
  {
   "cell_type": "code",
   "execution_count": 4,
   "id": "3a7ceda7",
   "metadata": {
    "ExecuteTime": {
     "end_time": "2023-05-30T12:55:57.733003Z",
     "start_time": "2023-05-30T12:55:57.714175Z"
    }
   },
   "outputs": [],
   "source": [
    "def past_weather_crawling(date,locn):\n",
    "    \n",
    "    url = 'http://apis.data.go.kr/1360000/AsosHourlyInfoService/getWthrDataList'\n",
    "    startDt=datetime.strptime(date[:8], '%Y%m%d') # 시작날짜\n",
    "    startHh = datetime.strptime(date[8:], '%H')   # 시작시간\n",
    "    endHh = (startHh + timedelta(hours=1))        # 시작날짜 + 1 (23같은경우 00이 되게 하기위해서 timedelta 이용)\n",
    "    \n",
    "    if(endHh.strftime('%H:%M:%S').split(':')[0]=='00'):\n",
    "        endDt=(startDt + timedelta(days=1))\n",
    "        \n",
    "    else:\n",
    "        endDt=startDt # endhh==00이면 시작날짜와 종료날짜가 달라야함. 22일 23시와 23일 00시 이런식.\n",
    "\n",
    "    startDt=startDt.strftime('%Y%m%d')\n",
    "    startHh=startHh.strftime('%H:%M:%S').split(':')[0]\n",
    "    endDt=endDt.strftime('%Y%m%d')\n",
    "    endHh=endHh.strftime('%H:%M:%S').split(':')[0]\n",
    "    \n",
    "    params ={'serviceKey' : 'API키 입력하세요', #AuthenticationKey\n",
    "             'pageNo' : '1',\n",
    "             'numOfRows' : '10',\n",
    "             'dataType' : 'JSON', \n",
    "             'dataCd' : 'ASOS', \n",
    "             'dateCd' : 'HR', \n",
    "             'startDt' : startDt, #startdate\n",
    "             'startHh' : startHh, #starttime\n",
    "             'endDt' : endDt, # end date\n",
    "             'endHh' : endHh, # end time\n",
    "             'stnIds' : locn \n",
    "            }\n",
    "    for i in range(5):  # 최대 5번까지 시도\n",
    "        try:\n",
    "            response = requests.get(url, params=params,verify=False)\n",
    "            try:\n",
    "                json_obj = json.loads(response.content)\n",
    "                try:\n",
    "                    json_obj=json_obj[\"response\"][\"body\"][\"items\"][\"item\"][0]\n",
    "                    times=json_obj['tm']\n",
    "                    humidity=json_obj['hm']\n",
    "                    windspeed=json_obj['ws']\n",
    "                    winddir=json_obj['wd']\n",
    "                    rain=json_obj['rn']\n",
    "                    temp=json_obj['ta']              \n",
    "                    return times, humidity, windspeed, winddir, rain, temp\n",
    "                except:\n",
    "                    print(\"Retry1\")\n",
    "                    print(json_obj)\n",
    "                    time.sleep(5)\n",
    "            except:\n",
    "                print(response.content)\n",
    "                try:\n",
    "                    json_obj = json.loads(response.content)\n",
    "                    print(response,json_obj)\n",
    "                    print(\"Retry2\")\n",
    "                    time.sleep(5)\n",
    "                except json.JSONDecodeError:\n",
    "                    time.sleep(2)\n",
    "                    continue   \n",
    "        except (requests.exceptions.HTTPError, requests.exceptions.ConnectionError) as e:\n",
    "            print(f'오류 발생 재시도')\n",
    "            time.sleep(2)\n",
    "    return np.nan,np.nan,np.nan,np.nan,np.nan,np.nan  "
   ]
  },
  {
   "cell_type": "code",
   "execution_count": 5,
   "id": "8da68a14",
   "metadata": {
    "ExecuteTime": {
     "end_time": "2023-05-30T12:55:58.018671Z",
     "start_time": "2023-05-30T12:55:57.984703Z"
    }
   },
   "outputs": [],
   "source": [
    "def iffuture(date,times,loc_list):\n",
    "    result_list=[]\n",
    "    \n",
    "    fulldate=date+times\n",
    "    file_name = datetime.strptime(fulldate, \"%Y%m%d%H%M\")\n",
    "    file_1 = (file_name + timedelta(hours=1, minutes=30)).strftime(\"%Y%m%d%H%M\")\n",
    "    file_2 = (file_name + timedelta(hours=2, minutes=30)).strftime(\"%Y%m%d%H%M\")\n",
    "    file_3 = (file_name + timedelta(hours=3, minutes=30)).strftime(\"%Y%m%d%H%M\")\n",
    "    \n",
    "    for i in tqdm(range(len(loc_list))):\n",
    "        loc=(loc_list['격자 Y'].iloc[i],loc_list['격자 X'].iloc[i])\n",
    "\n",
    "        result=pd.DataFrame(future_weather_crawling(date,times,loc))\n",
    "\n",
    "        t_1=file_1[-4:]\n",
    "        t_2=file_2[-4:]\n",
    "        t_3=file_3[-4:]\n",
    "\n",
    "        time_list = [t_1,t_2,t_3]\n",
    "\n",
    "        output = result[result['fcstTime'].isin(time_list)]\n",
    "        output = output.pivot(index=['baseDate', 'baseTime', 'fcstDate', 'fcstTime', 'nx', 'ny'], columns='category', values='fcstValue').reset_index()\n",
    "\n",
    "        output.drop(['LGT','VEC','SKY','UUU','VVV','PTY'],axis=1,inplace=True)\n",
    "        output.columns=['baseDate', 'baseTime', 'fcstDate', 'fcstTime', 'nx', 'ny','습도','강수량','기온','풍속']\n",
    "        result_list.append(output)\n",
    "\n",
    "    test = pd.concat(result_list, ignore_index=True)\n",
    "\n",
    "    tmp1=test[test['fcstTime']==t_1].reset_index(drop=True)\n",
    "    tmp2=test[test['fcstTime']==t_2].reset_index(drop=True)\n",
    "    tmp3=test[test['fcstTime']==t_3].reset_index(drop=True)\n",
    "\n",
    "    tmp1.to_csv(f'{f_path}/{file_1}.csv',index=False,encoding='cp949')\n",
    "    tmp2.to_csv(f'{f_path}/{file_2}.csv',index=False,encoding='cp949')\n",
    "    tmp3.to_csv(f'{f_path}/{file_3}.csv',index=False,encoding='cp949')\n",
    "    \n",
    "    return [file_1,file_2,file_3]\n",
    "    \n",
    "def ifpast(date,times,loc_list):\n",
    "    fulldate=date+times\n",
    "    \n",
    "    loc_num=loc_list['지점번호']\n",
    "    file=fulldate+'00'\n",
    "\n",
    "    tmp=pd.DataFrame(columns=['location information', 'longitude','latitude','time','humidity','wind speed','wind direction','precipitation','temperature'])\n",
    "    for j in tqdm(range(len(loc_num))):\n",
    "        result=[loc_num[j],loc_list['lon'][j],loc_list['lat'][j]]\n",
    "        result.extend(past_weather_crawling(fulldate,loc_num[j])) \n",
    "        tmp = pd.concat([tmp, pd.DataFrame([result], columns=tmp.columns)], ignore_index=True)\n",
    "    tmp.to_csv(f\"{f_path}/{file}.csv\",index=False,encoding='cp949')\n",
    "    \n",
    "    return [file]"
   ]
  },
  {
   "cell_type": "markdown",
   "id": "157ae838",
   "metadata": {},
   "source": [
    "## 크롤링 데이터 보간"
   ]
  },
  {
   "cell_type": "code",
   "execution_count": 6,
   "id": "fcd9e603",
   "metadata": {
    "ExecuteTime": {
     "end_time": "2023-05-30T12:55:58.365258Z",
     "start_time": "2023-05-30T12:55:58.345800Z"
    }
   },
   "outputs": [],
   "source": [
    "def interpolation(filenames,tense):\n",
    "    for i in range(len(filenames)):\n",
    "        image_list=[]\n",
    "        os.makedirs(f\"database/{filenames[i]}/interpolation\", exist_ok=True)\n",
    "        data=pd.read_csv(f'{f_path}/{filenames[i]}.csv',encoding='cp949')\n",
    "        \n",
    "        if(tense==1):\n",
    "            data.drop(['baseDate','baseTime','fcstDate','fcstTime'],axis=1,inplace=True)\n",
    "            data.columns=['nx','ny','humidity','rainfall','temp','wind_sp']\n",
    "            data['rainfall'] = data['rainfall'].replace('강수없음', '0mm')\n",
    "            data['rainfall']=[j[:-2] for j in data['rainfall']]\n",
    "            data['rainfall']=data['rainfall'].fillna(0)\n",
    "            data['rainfall']=data['rainfall'].astype('float')\n",
    "            data = gpd.GeoDataFrame(data, geometry=gpd.points_from_xy(data.ny, data.nx)).drop(['nx','ny'],axis=1)\n",
    "        else:\n",
    "            data.columns=['loc_info', 'longitude', 'latitude', 'time','humidity', 'wind_sp', 'wind_dr', 'rainfall','temp']\n",
    "            data.dropna(subset=['time'], inplace=True)\n",
    "            data['rainfall']=data['rainfall'].fillna(0)\n",
    "            data=data.dropna()\n",
    "            data.drop(['loc_info','time'],axis=1,inplace=True)\n",
    "            data = gpd.GeoDataFrame(data, geometry=gpd.points_from_xy(data.longitude, data.latitude))\n",
    "            \n",
    "        data.to_file(f'tmp.shp')\n",
    "\n",
    "        for j in range(len(features)):\n",
    "            idw.idw_interpolation(\n",
    "                input_point_shapefile=f'tmp.shp', # 보간하고자 하는 shp 파일 \n",
    "                extent_shapefile=\"boundary/boundary.shp\", # 경계 shp 파일(현재 강원도)\n",
    "                column_name=features[j], # 보간하고자 하는 feature 이름. \n",
    "                power=2, # 거리 가중치 계수 \n",
    "                search_radious=8, # 검색하고자 하는 범위 \n",
    "                output_resolution=400, # 결과물 해상도 \n",
    "            )\n",
    "            image=rasterio.open(f'tmp_idw.tif')\n",
    "            image=pd.DataFrame(image.read(1))\n",
    "            image_list.append(image)\n",
    "            shutil.move(f'tmp_idw.tif', f\"{f_path}{filenames[i]}/interpolation/{filenames[i]}_{features[j]}.tif\")\n",
    "            \n",
    "        temps,hums,rains,winds=[],[],[],[]\n",
    "        for j in range(len(image.index)):\n",
    "            for k in range(len(image.columns)):\n",
    "                hums.append(image_list[0].iloc[j][k])\n",
    "                rains.append(image_list[1].iloc[j][k])\n",
    "                temps.append(image_list[2].iloc[j][k])\n",
    "                winds.append(image_list[3].iloc[j][k])\n",
    "                \n",
    "        climates = {'temp': temps, 'hum': hums, 'rain': rains, 'wind': winds}\n",
    "        df = pd.DataFrame(climates)\n",
    "        df=df.replace(32767.0,-9999)\n",
    "        #df.to_csv(f\"{f_path}/{date}{file[epoch]}_idw.csv\",index=False)\n",
    "        x_train=[]\n",
    "        for j in tqdm(range(len(df))):\n",
    "            x_train.append(np.array(df.loc[j, ['temp','hum','rain','wind']]).astype(float))\n",
    "        climate = np.array(x_train)\n",
    "        np.save(f'{f_path}{filenames[i]}/{filenames[i]}.npy', climate)\n",
    "        os.remove(f'{f_path}/{filenames[i]}.csv')\n",
    "        #os.remove(f'{f_path}/{date}{file[epoch]}.csv')\n",
    "    os.remove(f\"tmp.shp\")\n",
    "    os.remove(f\"tmp.cpg\")\n",
    "    os.remove(f\"tmp.dbf\")\n",
    "    os.remove(f\"tmp.shx\")\n",
    "    #os.remove(f\"tmp_idw.tif\")\n",
    "    "
   ]
  },
  {
   "cell_type": "code",
   "execution_count": 7,
   "id": "0f9cac0c",
   "metadata": {
    "ExecuteTime": {
     "end_time": "2023-05-30T12:55:58.833518Z",
     "start_time": "2023-05-30T12:55:58.818616Z"
    }
   },
   "outputs": [],
   "source": [
    "# 이미지를 array형태로 만들거나 array를 image로 만드는 함수\n",
    "def image_to_array(InputImage):\n",
    "    Image = gdal.Open(InputImage, gdal.GA_Update)\n",
    "    array = Image.ReadAsArray()\n",
    "    print(array.shape)\n",
    "    return array\n",
    "\n",
    "def array_to_image(InputArr, OutputImage, RefImage):\n",
    "    Image = gdal.Open(RefImage, gdal.GA_Update)\n",
    "    ImageArr = Image.ReadAsArray()\n",
    "    \n",
    "    open(OutputImage, 'w')\n",
    "    Output = gdal.GetDriverByName('GTiff').Create(OutputImage, ImageArr.shape[1], ImageArr.shape[0], 1, gdal.GDT_Float32)\n",
    "    #writting output raster\n",
    "    Output.GetRasterBand(1).WriteArray(InputArr)\n",
    "    Output.SetProjection(Image.GetProjection())\n",
    "    Output.SetGeoTransform(Image.GetGeoTransform())\n",
    "\n",
    "    Image = None\n",
    "    Output = None"
   ]
  },
  {
   "cell_type": "markdown",
   "id": "8f682a4f",
   "metadata": {},
   "source": [
    "## 실행"
   ]
  },
  {
   "cell_type": "code",
   "execution_count": 8,
   "id": "c7a60c73",
   "metadata": {
    "ExecuteTime": {
     "end_time": "2023-05-30T12:57:46.682143Z",
     "start_time": "2023-05-30T12:55:59.311955Z"
    }
   },
   "outputs": [
    {
     "name": "stdout",
     "output_type": "stream",
     "text": [
      "yyyymmdd 형식으로 적어주세요 20220304\n",
      "과거\n",
      "tt형식으로 적어주세요.12\n"
     ]
    },
    {
     "data": {
      "application/vnd.jupyter.widget-view+json": {
       "model_id": "6b660a08f3364245bd7343530c00e940",
       "version_major": 2,
       "version_minor": 0
      },
      "text/plain": [
       "  0%|          | 0/89 [00:00<?, ?it/s]"
      ]
     },
     "metadata": {},
     "output_type": "display_data"
    },
    {
     "data": {
      "application/vnd.jupyter.widget-view+json": {
       "model_id": "353b7db7e1644109b8534efda840c201",
       "version_major": 2,
       "version_minor": 0
      },
      "text/plain": [
       "  0%|          | 0/111200 [00:00<?, ?it/s]"
      ]
     },
     "metadata": {},
     "output_type": "display_data"
    }
   ],
   "source": [
    "f_path = f'database/'\n",
    "os.makedirs(f\"{f_path}\", exist_ok=True)\n",
    "today = date.today()\n",
    "features=['humidity','wind_sp','rainfall','temp']\n",
    "\n",
    "inputdate=input(\"yyyymmdd 형식으로 적어주세요 \")\n",
    "dates= datetime.strptime(inputdate, \"%Y%m%d\").date()\n",
    "\n",
    "if(dates>=today):\n",
    "    print(\"미래\")\n",
    "    tense=1\n",
    "    times=input(\"tt30 형식으로 적어주세요\")\n",
    "    filenames=iffuture(inputdate,times,future_loc)\n",
    "    \n",
    "else:\n",
    "    print(\"과거\")\n",
    "    tense=0\n",
    "    times=input(\"tt형식으로 적어주세요.\")\n",
    "    filenames=ifpast(inputdate,times,past_loc)\n",
    " \n",
    "# 보간법 \n",
    "\n",
    "interpolation(filenames,tense)"
   ]
  },
  {
   "cell_type": "markdown",
   "id": "ffa6b25a",
   "metadata": {},
   "source": [
    "# 보간 및 input 형식 만들기"
   ]
  },
  {
   "cell_type": "code",
   "execution_count": 20,
   "id": "141883a7",
   "metadata": {
    "ExecuteTime": {
     "end_time": "2023-05-30T13:03:05.465350Z",
     "start_time": "2023-05-30T13:03:05.223161Z"
    }
   },
   "outputs": [],
   "source": [
    "import tensorflow as tf\n",
    "import numpy as np\n",
    "\n",
    "gpus = tf.config.list_physical_devices('GPU')\n",
    "if gpus:\n",
    "    try:\n",
    "        for gpu in gpus:\n",
    "            tf.config.experimental.set_memory_growth(gpu, True)\n",
    "            logical_gpus = tf.config.list_logical_devices('GPU')\n",
    "        print(len(gpus), \"Physical GPUs,\", len(logical_gpus), \"Logical GPUs\")\n",
    "    except RuntimeError as e:\n",
    "        print(e)\n",
    "#from tensorflow.python.client import device_lib\n",
    "#device_lib.list_local_devices()\n",
    "\n",
    "\n",
    "\"\"\"\n",
    "모델 호출 \n",
    "\n",
    "#model = tf.keras.models.load_model(\"C:/Users/user/fire_model/new_train24/cnn\")\n",
    "#model2 = tf.keras.models.load_model(\"C:/Users/user/fire_model/new_train24/resnet\")\n",
    "\n",
    "#model = tf.keras.models.load_model(\"C:/Users/user/fire_model/prev_train24/cnn\")\n",
    "#model2 = tf.keras.models.load_model(\"C:/Users/user/fire_model/prev_train24/resnet\")\n",
    "\n",
    "\n",
    "#model = tf.keras.models.load_model(\"C:/Users/user/fire_model/try/land_climate\")\n",
    "#model = tf.keras.models.load_model(\"C:/Users/user/fire_model/try/only_climate\")\n",
    "#model = tf.keras.models.load_model(\"C:/Users/user/fire_model/only_people\")\n",
    "#model = tf.keras.models.load_model(\"C:/Users/user/fire_model/yes_forest\")\n",
    "#model = tf.keras.models.load_model(\"C:/Users/user/fire_model/try/not_popden\")\n",
    "#model2 = tf.keras.models.load_model(\"C:/Users/user/fire_model/try/not_landuse\")\n",
    "\n",
    "#model = tf.keras.models.load_model(\"C:/Users/user/fire_model/try/cnn4\")\n",
    "#model = tf.keras.models.load_model(\"C:/Users/user/fire_model/try/cnn4landclimate\")\n",
    "\"\"\"\n",
    "model = tf.keras.models.load_model(\"C:/Users/user/fire_model/try/cnn4onlyclimate\")"
   ]
  },
  {
   "cell_type": "code",
   "execution_count": 13,
   "id": "6fabd41b",
   "metadata": {
    "ExecuteTime": {
     "end_time": "2023-05-30T13:01:50.594953Z",
     "start_time": "2023-05-30T13:01:50.567017Z"
    }
   },
   "outputs": [],
   "source": [
    "inputdate='202203041200'\n",
    "climate_test=np.load(f'database/{inputdate}/{inputdate}.npy')"
   ]
  },
  {
   "cell_type": "markdown",
   "id": "7a159bc6",
   "metadata": {},
   "source": [
    "# test"
   ]
  },
  {
   "cell_type": "markdown",
   "id": "f67780af",
   "metadata": {},
   "source": [
    "## 테스트 데이터 로드"
   ]
  },
  {
   "cell_type": "code",
   "execution_count": 4,
   "id": "461ee416",
   "metadata": {
    "ExecuteTime": {
     "end_time": "2023-05-30T12:59:06.199233Z",
     "start_time": "2023-05-30T12:59:03.952061Z"
    }
   },
   "outputs": [],
   "source": [
    "Height_test=np.load('D:/test24/Height_test.npy')\n",
    "NDVI_test=np.load('D:/test24/NDVI_test.npy')\n",
    "Slope_test=np.load('D:/test24/Slope_test.npy')\n",
    "landuse_test=np.load('D:/test24/Landuse_test.npy')\n",
    "popden_test=np.load('D:/test24/Pop_test.npy')\n",
    "#forest_test=np.load('D:/test24/Forest_test.npy')\n",
    "\n",
    "# Height_test=np.load('D:/test32/Height_test.npy')\n",
    "# NDVI_test=np.load('D:/test32/NDVI_test.npy')\n",
    "# Slope_test=np.load('D:/test32/Slope_test.npy')\n",
    "# landuse_test=np.load('D:/test32/Landuse_test.npy')\n",
    "# popden_test=np.load('D:/test32/Pop_test.npy')"
   ]
  },
  {
   "cell_type": "code",
   "execution_count": 21,
   "id": "3a6a5e08",
   "metadata": {
    "ExecuteTime": {
     "end_time": "2023-05-30T13:03:16.574515Z",
     "start_time": "2023-05-30T13:03:16.568535Z"
    }
   },
   "outputs": [],
   "source": [
    "x_test = {\n",
    "    #'height_input': Height_test,\n",
    "    #'ndvi_input': NDVI_test,\n",
    "    #'slope_input': Slope_test,\n",
    "    #'landuse_input': landuse_test,\n",
    "    #'popden_input': popden_test,\n",
    "    #'forest_input':forest_test,\n",
    "    'climate_input':climate_test\n",
    "}"
   ]
  },
  {
   "cell_type": "markdown",
   "id": "b7c480c1",
   "metadata": {},
   "source": [
    "## predict"
   ]
  },
  {
   "cell_type": "code",
   "execution_count": 22,
   "id": "024c48b9",
   "metadata": {
    "ExecuteTime": {
     "end_time": "2023-05-30T13:03:19.288983Z",
     "start_time": "2023-05-30T13:03:17.332535Z"
    }
   },
   "outputs": [
    {
     "name": "stdout",
     "output_type": "stream",
     "text": [
      "3475/3475 [==============================] - 2s 421us/step\n"
     ]
    }
   ],
   "source": [
    "y_pred = model.predict(x_test)\n",
    "#y_pred2 = model2.predict(x_test2)"
   ]
  },
  {
   "cell_type": "code",
   "execution_count": 23,
   "id": "4a0052d4",
   "metadata": {
    "ExecuteTime": {
     "end_time": "2023-05-30T13:03:19.848258Z",
     "start_time": "2023-05-30T13:03:19.803000Z"
    }
   },
   "outputs": [],
   "source": [
    "result_arr = np.zeros((278, 400))\n",
    "x = 0\n",
    "for i in range(278):\n",
    "    for j in range(400):\n",
    "        result_arr[i, j] = y_pred[x]  # 결과 배열에 값 추가\n",
    "        x += 1\n",
    "        \n",
    "# result_arr2 = np.zeros((278, 400))\n",
    "# x = 0\n",
    "# for i in range(278):\n",
    "#     for j in range(400):\n",
    "#         result_arr2[i, j] = y_pred2[x]  # 결과 배열에 값 추가\n",
    "#         x += 1"
   ]
  },
  {
   "cell_type": "markdown",
   "id": "b4fa740b",
   "metadata": {},
   "source": [
    "## 결과물 시각화"
   ]
  },
  {
   "cell_type": "code",
   "execution_count": 25,
   "id": "2f9a4e4f",
   "metadata": {
    "ExecuteTime": {
     "end_time": "2023-05-30T13:03:21.678504Z",
     "start_time": "2023-05-30T13:03:21.492426Z"
    },
    "scrolled": false
   },
   "outputs": [
    {
     "data": {
      "image/png": "[encoded data removed]",
      "text/plain": [
       "<Figure size 1000x700 with 2 Axes>"
      ]
     },
     "metadata": {},
     "output_type": "display_data"
    }
   ],
   "source": [
    "import matplotlib.pyplot as plt\n",
    "cmaps = plt.cm.colors.ListedColormap(['blue', 'yellow','orange', 'red'])  # 파란색, 노란색, 빨간색 순서로 리스트 생성\n",
    "bounds = [0, 0.3, 0.6, 0.9, 1]  # 범위 설정\n",
    "norm = plt.cm.colors.BoundaryNorm(bounds, cmaps.N)  # 범위와 컬러맵의 개수를 사용하여 정규화 객체 생성\n",
    "import matplotlib.pyplot as plt\n",
    "fig=plt.figure(figsize=(10,7))\n",
    "plt.title(f\"{inputdate}\", fontsize=20)\n",
    "plt.imshow(result_arr, cmap=cmaps, norm=norm)\n",
    "plt.colorbar()\n",
    "plt.show()\n",
    "#fig.savefig(f\"image/상관계수히트맵\", transparent = True,dpi=300, bbox_inches='tight');"
   ]
  },
  {
   "cell_type": "code",
   "execution_count": 26,
   "id": "dc294ae1",
   "metadata": {
    "ExecuteTime": {
     "end_time": "2023-05-30T13:03:29.282508Z",
     "start_time": "2023-05-30T13:03:29.053196Z"
    },
    "scrolled": false
   },
   "outputs": [
    {
     "data": {
      "image/png": "[encoded data removed]",
      "text/plain": [
       "<Figure size 1000x700 with 2 Axes>"
      ]
     },
     "metadata": {},
     "output_type": "display_data"
    }
   ],
   "source": [
    "import matplotlib.pyplot as plt\n",
    "\n",
    "\n",
    "fig=plt.figure(figsize=(10,7))\n",
    "plt.title(f\"{inputdate}\", fontsize=20)\n",
    "plt.imshow(result_arr, cmap='hot_r', vmin=0,vmax=1)\n",
    "plt.colorbar()\n",
    "plt.show()\n",
    "#fig.savefig(f\"image/상관계수히트맵\", transparent = True,dpi=300, bbox_inches='tight');"
   ]
  },
  {
   "cell_type": "markdown",
   "id": "c4a0f951",
   "metadata": {},
   "source": [
    "npy 형태로 저장"
   ]
  },
  {
   "cell_type": "code",
   "execution_count": 27,
   "id": "22579c9b",
   "metadata": {
    "ExecuteTime": {
     "end_time": "2023-05-30T13:03:44.341567Z",
     "start_time": "2023-05-30T13:03:44.307510Z"
    }
   },
   "outputs": [],
   "source": [
    "np.save(f'database/{inputdate}/{inputdate}cnn4_only_climate_result.npy', result_arr)"
   ]
  }
 ],
 "metadata": {
  "kernelspec": {
   "display_name": "Python 3 (ipykernel)",
   "language": "python",
   "name": "python3"
  },
  "language_info": {
   "codemirror_mode": {
    "name": "ipython",
    "version": 3
   },
   "file_extension": ".py",
   "mimetype": "text/x-python",
   "name": "python",
   "nbconvert_exporter": "python",
   "pygments_lexer": "ipython3",
   "version": "3.9.13"
  },
  "toc": {
   "base_numbering": 1,
   "nav_menu": {},
   "number_sections": true,
   "sideBar": true,
   "skip_h1_title": false,
   "title_cell": "Table of Contents",
   "title_sidebar": "Contents",
   "toc_cell": false,
   "toc_position": {
    "height": "calc(100% - 180px)",
    "left": "10px",
    "top": "150px",
    "width": "235.17px"
   },
   "toc_section_display": true,
   "toc_window_display": true
  },
  "varInspector": {
   "cols": {
    "lenName": 16,
    "lenType": 16,
    "lenVar": 40
   },
   "kernels_config": {
    "python": {
     "delete_cmd_postfix": "",
     "delete_cmd_prefix": "del ",
     "library": "var_list.py",
     "varRefreshCmd": "print(var_dic_list())"
    },
    "r": {
     "delete_cmd_postfix": ") ",
     "delete_cmd_prefix": "rm(",
     "library": "var_list.r",
     "varRefreshCmd": "cat(var_dic_list()) "
    }
   },
   "position": {
    "height": "299.844px",
    "left": "1418px",
    "right": "20px",
    "top": "142px",
    "width": "350px"
   },
   "types_to_exclude": [
    "module",
    "function",
    "builtin_function_or_method",
    "instance",
    "_Feature"
   ],
   "window_display": false
  }
 },
 "nbformat": 4,
 "nbformat_minor": 5
}
