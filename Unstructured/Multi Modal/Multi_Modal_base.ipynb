{
 "cells": [
  {
   "cell_type": "code",
   "execution_count": 1,
   "metadata": {
    "ExecuteTime": {
     "end_time": "2023-05-16T05:45:54.332053Z",
     "start_time": "2023-05-16T05:45:54.317164Z"
    }
   },
   "outputs": [],
   "source": [
    "import os\n",
    "os.environ['PROJ_LIB'] ='C:/Users/user/anaconda3/envs/fire_multimodal/Library/share/proj'\n",
    "\n",
    "from IPython.core.interactiveshell import InteractiveShell\n",
    "InteractiveShell.ast_node_interactivity = 'all'\n",
    "#os.environ['GDAL_DATA'] = 'C:\\\\Users\\\\Sai kiran\\\\anaconda3\\\\envs\\sai\\\\Library\\\\share'"
   ]
  },
  {
   "cell_type": "code",
   "execution_count": 2,
   "metadata": {
    "ExecuteTime": {
     "end_time": "2023-05-16T05:46:03.474075Z",
     "start_time": "2023-05-16T05:45:54.973967Z"
    }
   },
   "outputs": [],
   "source": [
    "import torch\n",
    "\n",
    "import pandas as pd\n",
    "import natsort\n",
    "\n",
    "# pip install fastai==1.0.61\n",
    "from fastai.vision import *\n",
    "from fastai.tabular import *\n",
    "from fastai.vision import get_transforms\n",
    "from typing import Tuple\n",
    "\n",
    "from image_tabular.core import *\n",
    "from image_tabular.dataset import *\n",
    "from image_tabular.model import *\n",
    "from image_tabular.metric import *\n",
    "\n",
    "from pathlib import Path\n",
    "\n",
    "\n",
    "# use gpu by default if available\n",
    "#device = torch.device('cuda:0' if torch.cuda.is_available() else 'cpu')\n",
    "device = torch.device('cpu')"
   ]
  },
  {
   "cell_type": "code",
   "execution_count": 3,
   "metadata": {
    "ExecuteTime": {
     "end_time": "2023-05-16T05:46:06.032291Z",
     "start_time": "2023-05-16T05:46:06.016344Z"
    }
   },
   "outputs": [],
   "source": [
    "def crop_image_using_coordinates(InputImage, OutputImage, RefImage, latitude, longitude, InputCrs, OutputCrs, CropSize):\n",
    "    \"\"\"extract tiff height and width\"\"\"\n",
    "    Image = gdal.Open(RefImage, gdal.GA_ReadOnly)\n",
    "    width = Image.RasterXSize\n",
    "    height = Image.RasterYSize\n",
    "    Image = None\n",
    "\n",
    "    \"\"\"extract vertex coordinates\"\"\"\n",
    "    rds = rasterio.open(RefImage)\n",
    "    rds.bounds\n",
    "    left = rds.bounds[0]\n",
    "    right = rds.bounds[2]\n",
    "    top = rds.bounds[3]\n",
    "    bottom = rds.bounds[1]\n",
    "\n",
    "    \"\"\"Convert coordinates system\"\"\"\n",
    "    resolution_x = (right - left) / width\n",
    "    resolution_y = (top - bottom) / height\n",
    "\n",
    "    InputCrs = 'EPSG:4326'\n",
    "    OutputCrs ='EPSG:4326'\n",
    "    transformer = Transformer.from_crs(InputCrs, OutputCrs)\n",
    "    longitude, latitude = transformer.transform(longitude, latitude)\n",
    "    \n",
    "    left_box = latitude - (resolution_x * CropSize)\n",
    "    top_box = longitude + (resolution_y * CropSize)\n",
    "    right_box = latitude + (resolution_x * CropSize)\n",
    "    bottom_box = longitude - (resolution_y * CropSize)\n",
    "    window = (left_box, top_box, right_box, bottom_box)\n",
    "\n",
    "    gdal.Translate(OutputImage, InputImage, projWin = window)"
   ]
  },
  {
   "cell_type": "code",
   "execution_count": 4,
   "metadata": {
    "ExecuteTime": {
     "end_time": "2023-05-16T05:46:06.693427Z",
     "start_time": "2023-05-16T05:46:06.600598Z"
    }
   },
   "outputs": [
    {
     "data": {
      "text/html": [
       "<div>\n",
       "<style scoped>\n",
       "    .dataframe tbody tr th:only-of-type {\n",
       "        vertical-align: middle;\n",
       "    }\n",
       "\n",
       "    .dataframe tbody tr th {\n",
       "        vertical-align: top;\n",
       "    }\n",
       "\n",
       "    .dataframe thead th {\n",
       "        text-align: right;\n",
       "    }\n",
       "</style>\n",
       "<table border=\"1\" class=\"dataframe\">\n",
       "  <thead>\n",
       "    <tr style=\"text-align: right;\">\n",
       "      <th></th>\n",
       "      <th>field1</th>\n",
       "      <th>i</th>\n",
       "      <th>j</th>\n",
       "      <th>lon</th>\n",
       "      <th>lat</th>\n",
       "      <th>습도</th>\n",
       "      <th>강수</th>\n",
       "      <th>기온</th>\n",
       "      <th>풍속</th>\n",
       "      <th>날씨</th>\n",
       "      <th>특보내용</th>\n",
       "      <th>target</th>\n",
       "    </tr>\n",
       "  </thead>\n",
       "  <tbody>\n",
       "    <tr>\n",
       "      <th>0</th>\n",
       "      <td>20110122</td>\n",
       "      <td>145</td>\n",
       "      <td>313</td>\n",
       "      <td>128.871809</td>\n",
       "      <td>37.786543</td>\n",
       "      <td>40.128791</td>\n",
       "      <td>0.000000</td>\n",
       "      <td>-2.467752</td>\n",
       "      <td>3.945949</td>\n",
       "      <td>없음</td>\n",
       "      <td>없음</td>\n",
       "      <td>1</td>\n",
       "    </tr>\n",
       "    <tr>\n",
       "      <th>1</th>\n",
       "      <td>20110201</td>\n",
       "      <td>143</td>\n",
       "      <td>310</td>\n",
       "      <td>128.854779</td>\n",
       "      <td>37.797953</td>\n",
       "      <td>54.952699</td>\n",
       "      <td>0.000000</td>\n",
       "      <td>1.049347</td>\n",
       "      <td>1.936912</td>\n",
       "      <td>없음</td>\n",
       "      <td>없음</td>\n",
       "      <td>1</td>\n",
       "    </tr>\n",
       "    <tr>\n",
       "      <th>2</th>\n",
       "      <td>20110226</td>\n",
       "      <td>216</td>\n",
       "      <td>152</td>\n",
       "      <td>127.957879</td>\n",
       "      <td>37.381517</td>\n",
       "      <td>23.066370</td>\n",
       "      <td>0.000000</td>\n",
       "      <td>13.431703</td>\n",
       "      <td>1.434781</td>\n",
       "      <td>없음</td>\n",
       "      <td>없음</td>\n",
       "      <td>1</td>\n",
       "    </tr>\n",
       "    <tr>\n",
       "      <th>3</th>\n",
       "      <td>20110212</td>\n",
       "      <td>244</td>\n",
       "      <td>139</td>\n",
       "      <td>127.884083</td>\n",
       "      <td>37.221789</td>\n",
       "      <td>46.988972</td>\n",
       "      <td>0.012152</td>\n",
       "      <td>-6.417820</td>\n",
       "      <td>1.834428</td>\n",
       "      <td>없음</td>\n",
       "      <td>없음</td>\n",
       "      <td>1</td>\n",
       "    </tr>\n",
       "    <tr>\n",
       "      <th>4</th>\n",
       "      <td>20110211</td>\n",
       "      <td>147</td>\n",
       "      <td>183</td>\n",
       "      <td>128.133853</td>\n",
       "      <td>37.775134</td>\n",
       "      <td>56.415674</td>\n",
       "      <td>0.000000</td>\n",
       "      <td>1.448924</td>\n",
       "      <td>2.580111</td>\n",
       "      <td>없음</td>\n",
       "      <td>없음</td>\n",
       "      <td>1</td>\n",
       "    </tr>\n",
       "  </tbody>\n",
       "</table>\n",
       "</div>"
      ],
      "text/plain": [
       "     field1    i    j         lon        lat         습도        강수         기온  \\\n",
       "0  20110122  145  313  128.871809  37.786543  40.128791  0.000000  -2.467752   \n",
       "1  20110201  143  310  128.854779  37.797953  54.952699  0.000000   1.049347   \n",
       "2  20110226  216  152  127.957879  37.381517  23.066370  0.000000  13.431703   \n",
       "3  20110212  244  139  127.884083  37.221789  46.988972  0.012152  -6.417820   \n",
       "4  20110211  147  183  128.133853  37.775134  56.415674  0.000000   1.448924   \n",
       "\n",
       "         풍속  날씨 특보내용  target  \n",
       "0  3.945949  없음   없음       1  \n",
       "1  1.936912  없음   없음       1  \n",
       "2  1.434781  없음   없음       1  \n",
       "3  1.834428  없음   없음       1  \n",
       "4  2.580111  없음   없음       1  "
      ]
     },
     "execution_count": 4,
     "metadata": {},
     "output_type": "execute_result"
    },
    {
     "data": {
      "text/html": [
       "<div>\n",
       "<style scoped>\n",
       "    .dataframe tbody tr th:only-of-type {\n",
       "        vertical-align: middle;\n",
       "    }\n",
       "\n",
       "    .dataframe tbody tr th {\n",
       "        vertical-align: top;\n",
       "    }\n",
       "\n",
       "    .dataframe thead th {\n",
       "        text-align: right;\n",
       "    }\n",
       "</style>\n",
       "<table border=\"1\" class=\"dataframe\">\n",
       "  <thead>\n",
       "    <tr style=\"text-align: right;\">\n",
       "      <th></th>\n",
       "      <th>field1</th>\n",
       "      <th>i</th>\n",
       "      <th>j</th>\n",
       "      <th>lon</th>\n",
       "      <th>lat</th>\n",
       "      <th>습도</th>\n",
       "      <th>강수</th>\n",
       "      <th>기온</th>\n",
       "      <th>풍속</th>\n",
       "      <th>날씨</th>\n",
       "      <th>특보내용</th>\n",
       "      <th>target</th>\n",
       "    </tr>\n",
       "  </thead>\n",
       "  <tbody>\n",
       "    <tr>\n",
       "      <th>0</th>\n",
       "      <td>20160721</td>\n",
       "      <td>129</td>\n",
       "      <td>160</td>\n",
       "      <td>128.003291</td>\n",
       "      <td>37.877817</td>\n",
       "      <td>65.721596</td>\n",
       "      <td>0.0</td>\n",
       "      <td>24.389631</td>\n",
       "      <td>1.453097</td>\n",
       "      <td>0</td>\n",
       "      <td>없음</td>\n",
       "      <td>0</td>\n",
       "    </tr>\n",
       "    <tr>\n",
       "      <th>1</th>\n",
       "      <td>20160601</td>\n",
       "      <td>165</td>\n",
       "      <td>102</td>\n",
       "      <td>127.674049</td>\n",
       "      <td>37.672451</td>\n",
       "      <td>51.780365</td>\n",
       "      <td>0.0</td>\n",
       "      <td>18.521161</td>\n",
       "      <td>1.774259</td>\n",
       "      <td>0</td>\n",
       "      <td>없음</td>\n",
       "      <td>0</td>\n",
       "    </tr>\n",
       "    <tr>\n",
       "      <th>2</th>\n",
       "      <td>20140221</td>\n",
       "      <td>219</td>\n",
       "      <td>323</td>\n",
       "      <td>128.928575</td>\n",
       "      <td>37.364403</td>\n",
       "      <td>64.609462</td>\n",
       "      <td>0.0</td>\n",
       "      <td>1.351082</td>\n",
       "      <td>1.637306</td>\n",
       "      <td>0</td>\n",
       "      <td>없음</td>\n",
       "      <td>0</td>\n",
       "    </tr>\n",
       "    <tr>\n",
       "      <th>3</th>\n",
       "      <td>20180210</td>\n",
       "      <td>160</td>\n",
       "      <td>151</td>\n",
       "      <td>127.952202</td>\n",
       "      <td>37.700974</td>\n",
       "      <td>73.634628</td>\n",
       "      <td>0.0</td>\n",
       "      <td>-3.365851</td>\n",
       "      <td>0.432005</td>\n",
       "      <td>0</td>\n",
       "      <td>없음</td>\n",
       "      <td>0</td>\n",
       "    </tr>\n",
       "    <tr>\n",
       "      <th>4</th>\n",
       "      <td>20110219</td>\n",
       "      <td>140</td>\n",
       "      <td>137</td>\n",
       "      <td>127.872730</td>\n",
       "      <td>37.815066</td>\n",
       "      <td>80.610205</td>\n",
       "      <td>0.0</td>\n",
       "      <td>-5.039165</td>\n",
       "      <td>0.413060</td>\n",
       "      <td>0</td>\n",
       "      <td>없음</td>\n",
       "      <td>0</td>\n",
       "    </tr>\n",
       "  </tbody>\n",
       "</table>\n",
       "</div>"
      ],
      "text/plain": [
       "     field1    i    j         lon        lat         습도   강수         기온  \\\n",
       "0  20160721  129  160  128.003291  37.877817  65.721596  0.0  24.389631   \n",
       "1  20160601  165  102  127.674049  37.672451  51.780365  0.0  18.521161   \n",
       "2  20140221  219  323  128.928575  37.364403  64.609462  0.0   1.351082   \n",
       "3  20180210  160  151  127.952202  37.700974  73.634628  0.0  -3.365851   \n",
       "4  20110219  140  137  127.872730  37.815066  80.610205  0.0  -5.039165   \n",
       "\n",
       "         풍속  날씨 특보내용  target  \n",
       "0  1.453097   0   없음       0  \n",
       "1  1.774259   0   없음       0  \n",
       "2  1.637306   0   없음       0  \n",
       "3  0.432005   0   없음       0  \n",
       "4  0.413060   0   없음       0  "
      ]
     },
     "execution_count": 4,
     "metadata": {},
     "output_type": "execute_result"
    }
   ],
   "source": [
    "fire=pd.read_csv(\"G_fire.csv\",encoding='cp949')\n",
    "nofire=pd.read_csv(\"G_nofire.csv\",encoding='cp949')\n",
    "fire.head(5)\n",
    "nofire.head(5)"
   ]
  },
  {
   "cell_type": "code",
   "execution_count": 5,
   "metadata": {
    "ExecuteTime": {
     "end_time": "2023-05-16T05:46:07.308271Z",
     "start_time": "2023-05-16T05:46:07.229028Z"
    }
   },
   "outputs": [
    {
     "data": {
      "text/html": [
       "<div>\n",
       "<style scoped>\n",
       "    .dataframe tbody tr th:only-of-type {\n",
       "        vertical-align: middle;\n",
       "    }\n",
       "\n",
       "    .dataframe tbody tr th {\n",
       "        vertical-align: top;\n",
       "    }\n",
       "\n",
       "    .dataframe thead th {\n",
       "        text-align: right;\n",
       "    }\n",
       "</style>\n",
       "<table border=\"1\" class=\"dataframe\">\n",
       "  <thead>\n",
       "    <tr style=\"text-align: right;\">\n",
       "      <th></th>\n",
       "      <th>field1</th>\n",
       "      <th>i</th>\n",
       "      <th>j</th>\n",
       "      <th>lon</th>\n",
       "      <th>lat</th>\n",
       "      <th>습도</th>\n",
       "      <th>강수</th>\n",
       "      <th>기온</th>\n",
       "      <th>풍속</th>\n",
       "      <th>날씨</th>\n",
       "      <th>특보내용</th>\n",
       "      <th>target</th>\n",
       "    </tr>\n",
       "  </thead>\n",
       "  <tbody>\n",
       "    <tr>\n",
       "      <th>0</th>\n",
       "      <td>20110122</td>\n",
       "      <td>145</td>\n",
       "      <td>313</td>\n",
       "      <td>128.871809</td>\n",
       "      <td>37.786543</td>\n",
       "      <td>40.128791</td>\n",
       "      <td>0.000000</td>\n",
       "      <td>-2.467752</td>\n",
       "      <td>3.945949</td>\n",
       "      <td>없음</td>\n",
       "      <td>없음</td>\n",
       "      <td>1</td>\n",
       "    </tr>\n",
       "    <tr>\n",
       "      <th>1</th>\n",
       "      <td>20110201</td>\n",
       "      <td>143</td>\n",
       "      <td>310</td>\n",
       "      <td>128.854779</td>\n",
       "      <td>37.797953</td>\n",
       "      <td>54.952699</td>\n",
       "      <td>0.000000</td>\n",
       "      <td>1.049347</td>\n",
       "      <td>1.936912</td>\n",
       "      <td>없음</td>\n",
       "      <td>없음</td>\n",
       "      <td>1</td>\n",
       "    </tr>\n",
       "    <tr>\n",
       "      <th>2</th>\n",
       "      <td>20110226</td>\n",
       "      <td>216</td>\n",
       "      <td>152</td>\n",
       "      <td>127.957879</td>\n",
       "      <td>37.381517</td>\n",
       "      <td>23.066370</td>\n",
       "      <td>0.000000</td>\n",
       "      <td>13.431703</td>\n",
       "      <td>1.434781</td>\n",
       "      <td>없음</td>\n",
       "      <td>없음</td>\n",
       "      <td>1</td>\n",
       "    </tr>\n",
       "    <tr>\n",
       "      <th>3</th>\n",
       "      <td>20110212</td>\n",
       "      <td>244</td>\n",
       "      <td>139</td>\n",
       "      <td>127.884083</td>\n",
       "      <td>37.221789</td>\n",
       "      <td>46.988972</td>\n",
       "      <td>0.012152</td>\n",
       "      <td>-6.417820</td>\n",
       "      <td>1.834428</td>\n",
       "      <td>없음</td>\n",
       "      <td>없음</td>\n",
       "      <td>1</td>\n",
       "    </tr>\n",
       "    <tr>\n",
       "      <th>4</th>\n",
       "      <td>20110211</td>\n",
       "      <td>147</td>\n",
       "      <td>183</td>\n",
       "      <td>128.133853</td>\n",
       "      <td>37.775134</td>\n",
       "      <td>56.415674</td>\n",
       "      <td>0.000000</td>\n",
       "      <td>1.448924</td>\n",
       "      <td>2.580111</td>\n",
       "      <td>없음</td>\n",
       "      <td>없음</td>\n",
       "      <td>1</td>\n",
       "    </tr>\n",
       "    <tr>\n",
       "      <th>...</th>\n",
       "      <td>...</td>\n",
       "      <td>...</td>\n",
       "      <td>...</td>\n",
       "      <td>...</td>\n",
       "      <td>...</td>\n",
       "      <td>...</td>\n",
       "      <td>...</td>\n",
       "      <td>...</td>\n",
       "      <td>...</td>\n",
       "      <td>...</td>\n",
       "      <td>...</td>\n",
       "      <td>...</td>\n",
       "    </tr>\n",
       "    <tr>\n",
       "      <th>2140</th>\n",
       "      <td>20211115</td>\n",
       "      <td>128</td>\n",
       "      <td>146</td>\n",
       "      <td>127.923819</td>\n",
       "      <td>37.883521</td>\n",
       "      <td>94.053007</td>\n",
       "      <td>0.000000</td>\n",
       "      <td>2.146356</td>\n",
       "      <td>0.277835</td>\n",
       "      <td>0</td>\n",
       "      <td>없음</td>\n",
       "      <td>0</td>\n",
       "    </tr>\n",
       "    <tr>\n",
       "      <th>2141</th>\n",
       "      <td>20190217</td>\n",
       "      <td>112</td>\n",
       "      <td>100</td>\n",
       "      <td>127.662696</td>\n",
       "      <td>37.974795</td>\n",
       "      <td>85.655821</td>\n",
       "      <td>0.000000</td>\n",
       "      <td>-8.746485</td>\n",
       "      <td>0.525876</td>\n",
       "      <td>0</td>\n",
       "      <td>없음</td>\n",
       "      <td>0</td>\n",
       "    </tr>\n",
       "    <tr>\n",
       "      <th>2142</th>\n",
       "      <td>20140217</td>\n",
       "      <td>84</td>\n",
       "      <td>124</td>\n",
       "      <td>127.798934</td>\n",
       "      <td>38.134524</td>\n",
       "      <td>63.784203</td>\n",
       "      <td>0.000000</td>\n",
       "      <td>1.323292</td>\n",
       "      <td>2.931593</td>\n",
       "      <td>0</td>\n",
       "      <td>없음</td>\n",
       "      <td>0</td>\n",
       "    </tr>\n",
       "    <tr>\n",
       "      <th>2143</th>\n",
       "      <td>20140225</td>\n",
       "      <td>89</td>\n",
       "      <td>109</td>\n",
       "      <td>127.713785</td>\n",
       "      <td>38.106001</td>\n",
       "      <td>90.089028</td>\n",
       "      <td>0.000000</td>\n",
       "      <td>-1.105872</td>\n",
       "      <td>0.578714</td>\n",
       "      <td>0</td>\n",
       "      <td>없음</td>\n",
       "      <td>0</td>\n",
       "    </tr>\n",
       "    <tr>\n",
       "      <th>2144</th>\n",
       "      <td>20150222</td>\n",
       "      <td>124</td>\n",
       "      <td>122</td>\n",
       "      <td>127.787581</td>\n",
       "      <td>37.906340</td>\n",
       "      <td>60.605661</td>\n",
       "      <td>0.000000</td>\n",
       "      <td>2.385910</td>\n",
       "      <td>3.014642</td>\n",
       "      <td>0</td>\n",
       "      <td>없음</td>\n",
       "      <td>0</td>\n",
       "    </tr>\n",
       "  </tbody>\n",
       "</table>\n",
       "<p>2145 rows × 12 columns</p>\n",
       "</div>"
      ],
      "text/plain": [
       "        field1    i    j         lon        lat         습도        강수  \\\n",
       "0     20110122  145  313  128.871809  37.786543  40.128791  0.000000   \n",
       "1     20110201  143  310  128.854779  37.797953  54.952699  0.000000   \n",
       "2     20110226  216  152  127.957879  37.381517  23.066370  0.000000   \n",
       "3     20110212  244  139  127.884083  37.221789  46.988972  0.012152   \n",
       "4     20110211  147  183  128.133853  37.775134  56.415674  0.000000   \n",
       "...        ...  ...  ...         ...        ...        ...       ...   \n",
       "2140  20211115  128  146  127.923819  37.883521  94.053007  0.000000   \n",
       "2141  20190217  112  100  127.662696  37.974795  85.655821  0.000000   \n",
       "2142  20140217   84  124  127.798934  38.134524  63.784203  0.000000   \n",
       "2143  20140225   89  109  127.713785  38.106001  90.089028  0.000000   \n",
       "2144  20150222  124  122  127.787581  37.906340  60.605661  0.000000   \n",
       "\n",
       "             기온        풍속  날씨 특보내용  target  \n",
       "0     -2.467752  3.945949  없음   없음       1  \n",
       "1      1.049347  1.936912  없음   없음       1  \n",
       "2     13.431703  1.434781  없음   없음       1  \n",
       "3     -6.417820  1.834428  없음   없음       1  \n",
       "4      1.448924  2.580111  없음   없음       1  \n",
       "...         ...       ...  ..  ...     ...  \n",
       "2140   2.146356  0.277835   0   없음       0  \n",
       "2141  -8.746485  0.525876   0   없음       0  \n",
       "2142   1.323292  2.931593   0   없음       0  \n",
       "2143  -1.105872  0.578714   0   없음       0  \n",
       "2144   2.385910  3.014642   0   없음       0  \n",
       "\n",
       "[2145 rows x 12 columns]"
      ]
     },
     "execution_count": 5,
     "metadata": {},
     "output_type": "execute_result"
    }
   ],
   "source": [
    "# 행 방향으로 데이터프레임 연결\n",
    "data = pd.concat([fire, nofire])\n",
    "data=data.reset_index(drop=True)\n",
    "data\n",
    "data.to_csv('data.csv',encoding='cp949')"
   ]
  },
  {
   "cell_type": "code",
   "execution_count": 6,
   "metadata": {
    "ExecuteTime": {
     "end_time": "2023-05-16T05:46:07.895731Z",
     "start_time": "2023-05-16T05:46:07.881561Z"
    },
    "code_folding": []
   },
   "outputs": [],
   "source": [
    "# InputImage = 'forestmap.tif'\n",
    "# RefImage = 'gw_boundary.tif'\n",
    "# for i in tqdm(range(len(data))):\n",
    "#     OutputImage = f'forestmap/forestmap{i}.tif'\n",
    "#     lon=data['lon'][i]\n",
    "#     lat=data['lat'][i]\n",
    "#     crop_image_using_coordinates(InputImage, OutputImage, RefImage, lon, lat, '4326', '4326', 25)"
   ]
  },
  {
   "cell_type": "code",
   "execution_count": 7,
   "metadata": {
    "ExecuteTime": {
     "end_time": "2023-05-16T05:46:08.695863Z",
     "start_time": "2023-05-16T05:46:08.672550Z"
    }
   },
   "outputs": [
    {
     "data": {
      "text/html": [
       "<div>\n",
       "<style scoped>\n",
       "    .dataframe tbody tr th:only-of-type {\n",
       "        vertical-align: middle;\n",
       "    }\n",
       "\n",
       "    .dataframe tbody tr th {\n",
       "        vertical-align: top;\n",
       "    }\n",
       "\n",
       "    .dataframe thead th {\n",
       "        text-align: right;\n",
       "    }\n",
       "</style>\n",
       "<table border=\"1\" class=\"dataframe\">\n",
       "  <thead>\n",
       "    <tr style=\"text-align: right;\">\n",
       "      <th></th>\n",
       "      <th>field1</th>\n",
       "      <th>i</th>\n",
       "      <th>j</th>\n",
       "      <th>lon</th>\n",
       "      <th>lat</th>\n",
       "      <th>습도</th>\n",
       "      <th>강수</th>\n",
       "      <th>기온</th>\n",
       "      <th>풍속</th>\n",
       "      <th>날씨</th>\n",
       "      <th>특보내용</th>\n",
       "      <th>target</th>\n",
       "    </tr>\n",
       "  </thead>\n",
       "  <tbody>\n",
       "    <tr>\n",
       "      <th>0</th>\n",
       "      <td>20110122</td>\n",
       "      <td>145</td>\n",
       "      <td>313</td>\n",
       "      <td>128.871809</td>\n",
       "      <td>37.786543</td>\n",
       "      <td>40.128791</td>\n",
       "      <td>0.000000</td>\n",
       "      <td>-2.467752</td>\n",
       "      <td>3.945949</td>\n",
       "      <td>없음</td>\n",
       "      <td>없음</td>\n",
       "      <td>1</td>\n",
       "    </tr>\n",
       "    <tr>\n",
       "      <th>1</th>\n",
       "      <td>20110201</td>\n",
       "      <td>143</td>\n",
       "      <td>310</td>\n",
       "      <td>128.854779</td>\n",
       "      <td>37.797953</td>\n",
       "      <td>54.952699</td>\n",
       "      <td>0.000000</td>\n",
       "      <td>1.049347</td>\n",
       "      <td>1.936912</td>\n",
       "      <td>없음</td>\n",
       "      <td>없음</td>\n",
       "      <td>1</td>\n",
       "    </tr>\n",
       "    <tr>\n",
       "      <th>2</th>\n",
       "      <td>20110226</td>\n",
       "      <td>216</td>\n",
       "      <td>152</td>\n",
       "      <td>127.957879</td>\n",
       "      <td>37.381517</td>\n",
       "      <td>23.066370</td>\n",
       "      <td>0.000000</td>\n",
       "      <td>13.431703</td>\n",
       "      <td>1.434781</td>\n",
       "      <td>없음</td>\n",
       "      <td>없음</td>\n",
       "      <td>1</td>\n",
       "    </tr>\n",
       "    <tr>\n",
       "      <th>3</th>\n",
       "      <td>20110212</td>\n",
       "      <td>244</td>\n",
       "      <td>139</td>\n",
       "      <td>127.884083</td>\n",
       "      <td>37.221789</td>\n",
       "      <td>46.988972</td>\n",
       "      <td>0.012152</td>\n",
       "      <td>-6.417820</td>\n",
       "      <td>1.834428</td>\n",
       "      <td>없음</td>\n",
       "      <td>없음</td>\n",
       "      <td>1</td>\n",
       "    </tr>\n",
       "    <tr>\n",
       "      <th>4</th>\n",
       "      <td>20110211</td>\n",
       "      <td>147</td>\n",
       "      <td>183</td>\n",
       "      <td>128.133853</td>\n",
       "      <td>37.775134</td>\n",
       "      <td>56.415674</td>\n",
       "      <td>0.000000</td>\n",
       "      <td>1.448924</td>\n",
       "      <td>2.580111</td>\n",
       "      <td>없음</td>\n",
       "      <td>없음</td>\n",
       "      <td>1</td>\n",
       "    </tr>\n",
       "    <tr>\n",
       "      <th>...</th>\n",
       "      <td>...</td>\n",
       "      <td>...</td>\n",
       "      <td>...</td>\n",
       "      <td>...</td>\n",
       "      <td>...</td>\n",
       "      <td>...</td>\n",
       "      <td>...</td>\n",
       "      <td>...</td>\n",
       "      <td>...</td>\n",
       "      <td>...</td>\n",
       "      <td>...</td>\n",
       "      <td>...</td>\n",
       "    </tr>\n",
       "    <tr>\n",
       "      <th>2140</th>\n",
       "      <td>20211115</td>\n",
       "      <td>128</td>\n",
       "      <td>146</td>\n",
       "      <td>127.923819</td>\n",
       "      <td>37.883521</td>\n",
       "      <td>94.053007</td>\n",
       "      <td>0.000000</td>\n",
       "      <td>2.146356</td>\n",
       "      <td>0.277835</td>\n",
       "      <td>0</td>\n",
       "      <td>없음</td>\n",
       "      <td>0</td>\n",
       "    </tr>\n",
       "    <tr>\n",
       "      <th>2141</th>\n",
       "      <td>20190217</td>\n",
       "      <td>112</td>\n",
       "      <td>100</td>\n",
       "      <td>127.662696</td>\n",
       "      <td>37.974795</td>\n",
       "      <td>85.655821</td>\n",
       "      <td>0.000000</td>\n",
       "      <td>-8.746485</td>\n",
       "      <td>0.525876</td>\n",
       "      <td>0</td>\n",
       "      <td>없음</td>\n",
       "      <td>0</td>\n",
       "    </tr>\n",
       "    <tr>\n",
       "      <th>2142</th>\n",
       "      <td>20140217</td>\n",
       "      <td>84</td>\n",
       "      <td>124</td>\n",
       "      <td>127.798934</td>\n",
       "      <td>38.134524</td>\n",
       "      <td>63.784203</td>\n",
       "      <td>0.000000</td>\n",
       "      <td>1.323292</td>\n",
       "      <td>2.931593</td>\n",
       "      <td>0</td>\n",
       "      <td>없음</td>\n",
       "      <td>0</td>\n",
       "    </tr>\n",
       "    <tr>\n",
       "      <th>2143</th>\n",
       "      <td>20140225</td>\n",
       "      <td>89</td>\n",
       "      <td>109</td>\n",
       "      <td>127.713785</td>\n",
       "      <td>38.106001</td>\n",
       "      <td>90.089028</td>\n",
       "      <td>0.000000</td>\n",
       "      <td>-1.105872</td>\n",
       "      <td>0.578714</td>\n",
       "      <td>0</td>\n",
       "      <td>없음</td>\n",
       "      <td>0</td>\n",
       "    </tr>\n",
       "    <tr>\n",
       "      <th>2144</th>\n",
       "      <td>20150222</td>\n",
       "      <td>124</td>\n",
       "      <td>122</td>\n",
       "      <td>127.787581</td>\n",
       "      <td>37.906340</td>\n",
       "      <td>60.605661</td>\n",
       "      <td>0.000000</td>\n",
       "      <td>2.385910</td>\n",
       "      <td>3.014642</td>\n",
       "      <td>0</td>\n",
       "      <td>없음</td>\n",
       "      <td>0</td>\n",
       "    </tr>\n",
       "  </tbody>\n",
       "</table>\n",
       "<p>2145 rows × 12 columns</p>\n",
       "</div>"
      ],
      "text/plain": [
       "        field1    i    j         lon        lat         습도        강수  \\\n",
       "0     20110122  145  313  128.871809  37.786543  40.128791  0.000000   \n",
       "1     20110201  143  310  128.854779  37.797953  54.952699  0.000000   \n",
       "2     20110226  216  152  127.957879  37.381517  23.066370  0.000000   \n",
       "3     20110212  244  139  127.884083  37.221789  46.988972  0.012152   \n",
       "4     20110211  147  183  128.133853  37.775134  56.415674  0.000000   \n",
       "...        ...  ...  ...         ...        ...        ...       ...   \n",
       "2140  20211115  128  146  127.923819  37.883521  94.053007  0.000000   \n",
       "2141  20190217  112  100  127.662696  37.974795  85.655821  0.000000   \n",
       "2142  20140217   84  124  127.798934  38.134524  63.784203  0.000000   \n",
       "2143  20140225   89  109  127.713785  38.106001  90.089028  0.000000   \n",
       "2144  20150222  124  122  127.787581  37.906340  60.605661  0.000000   \n",
       "\n",
       "             기온        풍속  날씨 특보내용  target  \n",
       "0     -2.467752  3.945949  없음   없음       1  \n",
       "1      1.049347  1.936912  없음   없음       1  \n",
       "2     13.431703  1.434781  없음   없음       1  \n",
       "3     -6.417820  1.834428  없음   없음       1  \n",
       "4      1.448924  2.580111  없음   없음       1  \n",
       "...         ...       ...  ..  ...     ...  \n",
       "2140   2.146356  0.277835   0   없음       0  \n",
       "2141  -8.746485  0.525876   0   없음       0  \n",
       "2142   1.323292  2.931593   0   없음       0  \n",
       "2143  -1.105872  0.578714   0   없음       0  \n",
       "2144   2.385910  3.014642   0   없음       0  \n",
       "\n",
       "[2145 rows x 12 columns]"
      ]
     },
     "execution_count": 7,
     "metadata": {},
     "output_type": "execute_result"
    }
   ],
   "source": [
    "data"
   ]
  },
  {
   "cell_type": "code",
   "execution_count": 8,
   "metadata": {
    "ExecuteTime": {
     "end_time": "2023-05-16T05:46:09.584122Z",
     "start_time": "2023-05-16T05:46:09.388364Z"
    }
   },
   "outputs": [
    {
     "data": {
      "text/html": [
       "<div>\n",
       "<style scoped>\n",
       "    .dataframe tbody tr th:only-of-type {\n",
       "        vertical-align: middle;\n",
       "    }\n",
       "\n",
       "    .dataframe tbody tr th {\n",
       "        vertical-align: top;\n",
       "    }\n",
       "\n",
       "    .dataframe thead th {\n",
       "        text-align: right;\n",
       "    }\n",
       "</style>\n",
       "<table border=\"1\" class=\"dataframe\">\n",
       "  <thead>\n",
       "    <tr style=\"text-align: right;\">\n",
       "      <th></th>\n",
       "      <th>field1</th>\n",
       "      <th>i</th>\n",
       "      <th>j</th>\n",
       "      <th>lon</th>\n",
       "      <th>lat</th>\n",
       "      <th>습도</th>\n",
       "      <th>강수</th>\n",
       "      <th>기온</th>\n",
       "      <th>풍속</th>\n",
       "      <th>날씨</th>\n",
       "      <th>특보내용</th>\n",
       "      <th>target</th>\n",
       "      <th>ndvi_img</th>\n",
       "      <th>slope_img</th>\n",
       "      <th>alt_img</th>\n",
       "      <th>forest_img</th>\n",
       "    </tr>\n",
       "  </thead>\n",
       "  <tbody>\n",
       "    <tr>\n",
       "      <th>0</th>\n",
       "      <td>20110122</td>\n",
       "      <td>145</td>\n",
       "      <td>313</td>\n",
       "      <td>128.871809</td>\n",
       "      <td>37.786543</td>\n",
       "      <td>40.128791</td>\n",
       "      <td>0.000000</td>\n",
       "      <td>-2.467752</td>\n",
       "      <td>3.945949</td>\n",
       "      <td>없음</td>\n",
       "      <td>없음</td>\n",
       "      <td>1</td>\n",
       "      <td>NDVI/Crop_NDVI_0</td>\n",
       "      <td>경사도/Crop_Slope_0</td>\n",
       "      <td>고도/Crop_Height_0</td>\n",
       "      <td>임상도/Crop_임상도_0</td>\n",
       "    </tr>\n",
       "    <tr>\n",
       "      <th>1</th>\n",
       "      <td>20110201</td>\n",
       "      <td>143</td>\n",
       "      <td>310</td>\n",
       "      <td>128.854779</td>\n",
       "      <td>37.797953</td>\n",
       "      <td>54.952699</td>\n",
       "      <td>0.000000</td>\n",
       "      <td>1.049347</td>\n",
       "      <td>1.936912</td>\n",
       "      <td>없음</td>\n",
       "      <td>없음</td>\n",
       "      <td>1</td>\n",
       "      <td>NDVI/Crop_NDVI_1</td>\n",
       "      <td>경사도/Crop_Slope_1</td>\n",
       "      <td>고도/Crop_Height_1</td>\n",
       "      <td>임상도/Crop_임상도_1</td>\n",
       "    </tr>\n",
       "    <tr>\n",
       "      <th>2</th>\n",
       "      <td>20110226</td>\n",
       "      <td>216</td>\n",
       "      <td>152</td>\n",
       "      <td>127.957879</td>\n",
       "      <td>37.381517</td>\n",
       "      <td>23.066370</td>\n",
       "      <td>0.000000</td>\n",
       "      <td>13.431703</td>\n",
       "      <td>1.434781</td>\n",
       "      <td>없음</td>\n",
       "      <td>없음</td>\n",
       "      <td>1</td>\n",
       "      <td>NDVI/Crop_NDVI_2</td>\n",
       "      <td>경사도/Crop_Slope_2</td>\n",
       "      <td>고도/Crop_Height_2</td>\n",
       "      <td>임상도/Crop_임상도_2</td>\n",
       "    </tr>\n",
       "    <tr>\n",
       "      <th>3</th>\n",
       "      <td>20110212</td>\n",
       "      <td>244</td>\n",
       "      <td>139</td>\n",
       "      <td>127.884083</td>\n",
       "      <td>37.221789</td>\n",
       "      <td>46.988972</td>\n",
       "      <td>0.012152</td>\n",
       "      <td>-6.417820</td>\n",
       "      <td>1.834428</td>\n",
       "      <td>없음</td>\n",
       "      <td>없음</td>\n",
       "      <td>1</td>\n",
       "      <td>NDVI/Crop_NDVI_3</td>\n",
       "      <td>경사도/Crop_Slope_3</td>\n",
       "      <td>고도/Crop_Height_3</td>\n",
       "      <td>임상도/Crop_임상도_3</td>\n",
       "    </tr>\n",
       "    <tr>\n",
       "      <th>4</th>\n",
       "      <td>20110211</td>\n",
       "      <td>147</td>\n",
       "      <td>183</td>\n",
       "      <td>128.133853</td>\n",
       "      <td>37.775134</td>\n",
       "      <td>56.415674</td>\n",
       "      <td>0.000000</td>\n",
       "      <td>1.448924</td>\n",
       "      <td>2.580111</td>\n",
       "      <td>없음</td>\n",
       "      <td>없음</td>\n",
       "      <td>1</td>\n",
       "      <td>NDVI/Crop_NDVI_4</td>\n",
       "      <td>경사도/Crop_Slope_4</td>\n",
       "      <td>고도/Crop_Height_4</td>\n",
       "      <td>임상도/Crop_임상도_4</td>\n",
       "    </tr>\n",
       "    <tr>\n",
       "      <th>5</th>\n",
       "      <td>20110131</td>\n",
       "      <td>117</td>\n",
       "      <td>285</td>\n",
       "      <td>128.712864</td>\n",
       "      <td>37.946272</td>\n",
       "      <td>34.354605</td>\n",
       "      <td>0.000000</td>\n",
       "      <td>-1.117193</td>\n",
       "      <td>4.893022</td>\n",
       "      <td>없음</td>\n",
       "      <td>없음</td>\n",
       "      <td>1</td>\n",
       "      <td>NDVI/Crop_NDVI_5</td>\n",
       "      <td>경사도/Crop_Slope_5</td>\n",
       "      <td>고도/Crop_Height_5</td>\n",
       "      <td>임상도/Crop_임상도_5</td>\n",
       "    </tr>\n",
       "    <tr>\n",
       "      <th>6</th>\n",
       "      <td>20110309</td>\n",
       "      <td>255</td>\n",
       "      <td>250</td>\n",
       "      <td>128.514184</td>\n",
       "      <td>37.159038</td>\n",
       "      <td>19.754238</td>\n",
       "      <td>0.000000</td>\n",
       "      <td>3.165503</td>\n",
       "      <td>4.683941</td>\n",
       "      <td>없음</td>\n",
       "      <td>없음</td>\n",
       "      <td>1</td>\n",
       "      <td>NDVI/Crop_NDVI_6</td>\n",
       "      <td>경사도/Crop_Slope_6</td>\n",
       "      <td>고도/Crop_Height_6</td>\n",
       "      <td>임상도/Crop_임상도_6</td>\n",
       "    </tr>\n",
       "  </tbody>\n",
       "</table>\n",
       "</div>"
      ],
      "text/plain": [
       "     field1    i    j         lon        lat         습도        강수         기온  \\\n",
       "0  20110122  145  313  128.871809  37.786543  40.128791  0.000000  -2.467752   \n",
       "1  20110201  143  310  128.854779  37.797953  54.952699  0.000000   1.049347   \n",
       "2  20110226  216  152  127.957879  37.381517  23.066370  0.000000  13.431703   \n",
       "3  20110212  244  139  127.884083  37.221789  46.988972  0.012152  -6.417820   \n",
       "4  20110211  147  183  128.133853  37.775134  56.415674  0.000000   1.448924   \n",
       "5  20110131  117  285  128.712864  37.946272  34.354605  0.000000  -1.117193   \n",
       "6  20110309  255  250  128.514184  37.159038  19.754238  0.000000   3.165503   \n",
       "\n",
       "         풍속  날씨 특보내용  target          ndvi_img         slope_img  \\\n",
       "0  3.945949  없음   없음       1  NDVI/Crop_NDVI_0  경사도/Crop_Slope_0   \n",
       "1  1.936912  없음   없음       1  NDVI/Crop_NDVI_1  경사도/Crop_Slope_1   \n",
       "2  1.434781  없음   없음       1  NDVI/Crop_NDVI_2  경사도/Crop_Slope_2   \n",
       "3  1.834428  없음   없음       1  NDVI/Crop_NDVI_3  경사도/Crop_Slope_3   \n",
       "4  2.580111  없음   없음       1  NDVI/Crop_NDVI_4  경사도/Crop_Slope_4   \n",
       "5  4.893022  없음   없음       1  NDVI/Crop_NDVI_5  경사도/Crop_Slope_5   \n",
       "6  4.683941  없음   없음       1  NDVI/Crop_NDVI_6  경사도/Crop_Slope_6   \n",
       "\n",
       "            alt_img      forest_img  \n",
       "0  고도/Crop_Height_0  임상도/Crop_임상도_0  \n",
       "1  고도/Crop_Height_1  임상도/Crop_임상도_1  \n",
       "2  고도/Crop_Height_2  임상도/Crop_임상도_2  \n",
       "3  고도/Crop_Height_3  임상도/Crop_임상도_3  \n",
       "4  고도/Crop_Height_4  임상도/Crop_임상도_4  \n",
       "5  고도/Crop_Height_5  임상도/Crop_임상도_5  \n",
       "6  고도/Crop_Height_6  임상도/Crop_임상도_6  "
      ]
     },
     "execution_count": 8,
     "metadata": {},
     "output_type": "execute_result"
    }
   ],
   "source": [
    "data['ndvi_img']=[\"NDVI/\"+i[:-4] for i in natsort.natsorted(os.listdir('tif_data/NDVI'))]\n",
    "data['slope_img']=[\"경사도/\"+i[:-4] for i in natsort.natsorted(os.listdir('tif_data/경사도'))]\n",
    "data['alt_img']=[\"고도/\"+i[:-4] for i in natsort.natsorted(os.listdir('tif_data/고도'))]\n",
    "data['forest_img']=[\"임상도/\"+i[:-4] for i in natsort.natsorted(os.listdir('tif_data/임상도'))]\n",
    "data.head(7)"
   ]
  },
  {
   "cell_type": "code",
   "execution_count": 9,
   "metadata": {
    "ExecuteTime": {
     "end_time": "2023-05-16T05:46:10.127557Z",
     "start_time": "2023-05-16T05:46:10.066289Z"
    }
   },
   "outputs": [
    {
     "name": "stdout",
     "output_type": "stream",
     "text": [
      "1501 644\n"
     ]
    }
   ],
   "source": [
    "from sklearn.model_selection import train_test_split\n",
    "train_df, test_df = train_test_split(data, test_size=0.3, stratify=data['target'], random_state=533)\n",
    "print(len(train_df), len(test_df))"
   ]
  },
  {
   "cell_type": "code",
   "execution_count": 10,
   "metadata": {
    "ExecuteTime": {
     "end_time": "2023-05-16T05:46:10.594267Z",
     "start_time": "2023-05-16T05:46:10.561107Z"
    }
   },
   "outputs": [
    {
     "data": {
      "text/html": [
       "<div>\n",
       "<style scoped>\n",
       "    .dataframe tbody tr th:only-of-type {\n",
       "        vertical-align: middle;\n",
       "    }\n",
       "\n",
       "    .dataframe tbody tr th {\n",
       "        vertical-align: top;\n",
       "    }\n",
       "\n",
       "    .dataframe thead th {\n",
       "        text-align: right;\n",
       "    }\n",
       "</style>\n",
       "<table border=\"1\" class=\"dataframe\">\n",
       "  <thead>\n",
       "    <tr style=\"text-align: right;\">\n",
       "      <th></th>\n",
       "      <th>field1</th>\n",
       "      <th>i</th>\n",
       "      <th>j</th>\n",
       "      <th>lon</th>\n",
       "      <th>lat</th>\n",
       "      <th>습도</th>\n",
       "      <th>강수</th>\n",
       "      <th>기온</th>\n",
       "      <th>풍속</th>\n",
       "      <th>날씨</th>\n",
       "      <th>특보내용</th>\n",
       "      <th>target</th>\n",
       "      <th>ndvi_img</th>\n",
       "      <th>slope_img</th>\n",
       "      <th>alt_img</th>\n",
       "      <th>forest_img</th>\n",
       "    </tr>\n",
       "  </thead>\n",
       "  <tbody>\n",
       "    <tr>\n",
       "      <th>1220</th>\n",
       "      <td>20200203</td>\n",
       "      <td>153</td>\n",
       "      <td>80</td>\n",
       "      <td>127.549164</td>\n",
       "      <td>37.740907</td>\n",
       "      <td>30.374581</td>\n",
       "      <td>0.0</td>\n",
       "      <td>0.305662</td>\n",
       "      <td>2.174182</td>\n",
       "      <td>0</td>\n",
       "      <td>없음</td>\n",
       "      <td>0</td>\n",
       "      <td>NDVI/Crop_NDVI_1220</td>\n",
       "      <td>경사도/Crop_Slope_1220</td>\n",
       "      <td>고도/Crop_Height_1220</td>\n",
       "      <td>임상도/Crop_임상도_1220</td>\n",
       "    </tr>\n",
       "    <tr>\n",
       "      <th>1157</th>\n",
       "      <td>20121120</td>\n",
       "      <td>166</td>\n",
       "      <td>102</td>\n",
       "      <td>127.674049</td>\n",
       "      <td>37.666747</td>\n",
       "      <td>32.606663</td>\n",
       "      <td>0.0</td>\n",
       "      <td>6.442705</td>\n",
       "      <td>1.957580</td>\n",
       "      <td>0</td>\n",
       "      <td>없음</td>\n",
       "      <td>0</td>\n",
       "      <td>NDVI/Crop_NDVI_1157</td>\n",
       "      <td>경사도/Crop_Slope_1157</td>\n",
       "      <td>고도/Crop_Height_1157</td>\n",
       "      <td>임상도/Crop_임상도_1157</td>\n",
       "    </tr>\n",
       "    <tr>\n",
       "      <th>1984</th>\n",
       "      <td>20200210</td>\n",
       "      <td>71</td>\n",
       "      <td>210</td>\n",
       "      <td>128.287120</td>\n",
       "      <td>38.208683</td>\n",
       "      <td>68.753980</td>\n",
       "      <td>0.0</td>\n",
       "      <td>-0.886233</td>\n",
       "      <td>0.714077</td>\n",
       "      <td>0</td>\n",
       "      <td>없음</td>\n",
       "      <td>0</td>\n",
       "      <td>NDVI/Crop_NDVI_1984</td>\n",
       "      <td>경사도/Crop_Slope_1984</td>\n",
       "      <td>고도/Crop_Height_1984</td>\n",
       "      <td>임상도/Crop_임상도_1984</td>\n",
       "    </tr>\n",
       "    <tr>\n",
       "      <th>988</th>\n",
       "      <td>20210427</td>\n",
       "      <td>80</td>\n",
       "      <td>181</td>\n",
       "      <td>128.122500</td>\n",
       "      <td>38.157342</td>\n",
       "      <td>78.712959</td>\n",
       "      <td>0.0</td>\n",
       "      <td>10.673287</td>\n",
       "      <td>0.265497</td>\n",
       "      <td>없음</td>\n",
       "      <td>없음</td>\n",
       "      <td>1</td>\n",
       "      <td>NDVI/Crop_NDVI_988</td>\n",
       "      <td>경사도/Crop_Slope_988</td>\n",
       "      <td>고도/Crop_Height_988</td>\n",
       "      <td>임상도/Crop_임상도_988</td>\n",
       "    </tr>\n",
       "    <tr>\n",
       "      <th>713</th>\n",
       "      <td>20180207</td>\n",
       "      <td>149</td>\n",
       "      <td>322</td>\n",
       "      <td>128.922898</td>\n",
       "      <td>37.763725</td>\n",
       "      <td>23.328898</td>\n",
       "      <td>0.0</td>\n",
       "      <td>-4.093802</td>\n",
       "      <td>3.202910</td>\n",
       "      <td>없음</td>\n",
       "      <td>없음</td>\n",
       "      <td>1</td>\n",
       "      <td>NDVI/Crop_NDVI_713</td>\n",
       "      <td>경사도/Crop_Slope_713</td>\n",
       "      <td>고도/Crop_Height_713</td>\n",
       "      <td>임상도/Crop_임상도_713</td>\n",
       "    </tr>\n",
       "  </tbody>\n",
       "</table>\n",
       "</div>"
      ],
      "text/plain": [
       "        field1    i    j         lon        lat         습도   강수         기온  \\\n",
       "1220  20200203  153   80  127.549164  37.740907  30.374581  0.0   0.305662   \n",
       "1157  20121120  166  102  127.674049  37.666747  32.606663  0.0   6.442705   \n",
       "1984  20200210   71  210  128.287120  38.208683  68.753980  0.0  -0.886233   \n",
       "988   20210427   80  181  128.122500  38.157342  78.712959  0.0  10.673287   \n",
       "713   20180207  149  322  128.922898  37.763725  23.328898  0.0  -4.093802   \n",
       "\n",
       "            풍속  날씨 특보내용  target             ndvi_img            slope_img  \\\n",
       "1220  2.174182   0   없음       0  NDVI/Crop_NDVI_1220  경사도/Crop_Slope_1220   \n",
       "1157  1.957580   0   없음       0  NDVI/Crop_NDVI_1157  경사도/Crop_Slope_1157   \n",
       "1984  0.714077   0   없음       0  NDVI/Crop_NDVI_1984  경사도/Crop_Slope_1984   \n",
       "988   0.265497  없음   없음       1   NDVI/Crop_NDVI_988   경사도/Crop_Slope_988   \n",
       "713   3.202910  없음   없음       1   NDVI/Crop_NDVI_713   경사도/Crop_Slope_713   \n",
       "\n",
       "                  alt_img         forest_img  \n",
       "1220  고도/Crop_Height_1220  임상도/Crop_임상도_1220  \n",
       "1157  고도/Crop_Height_1157  임상도/Crop_임상도_1157  \n",
       "1984  고도/Crop_Height_1984  임상도/Crop_임상도_1984  \n",
       "988    고도/Crop_Height_988   임상도/Crop_임상도_988  \n",
       "713    고도/Crop_Height_713   임상도/Crop_임상도_713  "
      ]
     },
     "execution_count": 10,
     "metadata": {},
     "output_type": "execute_result"
    },
    {
     "data": {
      "text/html": [
       "<div>\n",
       "<style scoped>\n",
       "    .dataframe tbody tr th:only-of-type {\n",
       "        vertical-align: middle;\n",
       "    }\n",
       "\n",
       "    .dataframe tbody tr th {\n",
       "        vertical-align: top;\n",
       "    }\n",
       "\n",
       "    .dataframe thead th {\n",
       "        text-align: right;\n",
       "    }\n",
       "</style>\n",
       "<table border=\"1\" class=\"dataframe\">\n",
       "  <thead>\n",
       "    <tr style=\"text-align: right;\">\n",
       "      <th></th>\n",
       "      <th>field1</th>\n",
       "      <th>i</th>\n",
       "      <th>j</th>\n",
       "      <th>lon</th>\n",
       "      <th>lat</th>\n",
       "      <th>습도</th>\n",
       "      <th>강수</th>\n",
       "      <th>기온</th>\n",
       "      <th>풍속</th>\n",
       "      <th>날씨</th>\n",
       "      <th>특보내용</th>\n",
       "      <th>target</th>\n",
       "      <th>ndvi_img</th>\n",
       "      <th>slope_img</th>\n",
       "      <th>alt_img</th>\n",
       "      <th>forest_img</th>\n",
       "    </tr>\n",
       "  </thead>\n",
       "  <tbody>\n",
       "    <tr>\n",
       "      <th>1196</th>\n",
       "      <td>20200816</td>\n",
       "      <td>168</td>\n",
       "      <td>144</td>\n",
       "      <td>127.912466</td>\n",
       "      <td>37.655338</td>\n",
       "      <td>97.914671</td>\n",
       "      <td>0.0</td>\n",
       "      <td>24.451841</td>\n",
       "      <td>0.378805</td>\n",
       "      <td>0</td>\n",
       "      <td>없음</td>\n",
       "      <td>0</td>\n",
       "      <td>NDVI/Crop_NDVI_1196</td>\n",
       "      <td>경사도/Crop_Slope_1196</td>\n",
       "      <td>고도/Crop_Height_1196</td>\n",
       "      <td>임상도/Crop_임상도_1196</td>\n",
       "    </tr>\n",
       "    <tr>\n",
       "      <th>1331</th>\n",
       "      <td>20161123</td>\n",
       "      <td>153</td>\n",
       "      <td>159</td>\n",
       "      <td>127.997615</td>\n",
       "      <td>37.740907</td>\n",
       "      <td>51.003735</td>\n",
       "      <td>0.0</td>\n",
       "      <td>-0.972612</td>\n",
       "      <td>0.752917</td>\n",
       "      <td>0</td>\n",
       "      <td>없음</td>\n",
       "      <td>0</td>\n",
       "      <td>NDVI/Crop_NDVI_1331</td>\n",
       "      <td>경사도/Crop_Slope_1331</td>\n",
       "      <td>고도/Crop_Height_1331</td>\n",
       "      <td>임상도/Crop_임상도_1331</td>\n",
       "    </tr>\n",
       "    <tr>\n",
       "      <th>938</th>\n",
       "      <td>20200224</td>\n",
       "      <td>159</td>\n",
       "      <td>101</td>\n",
       "      <td>127.668373</td>\n",
       "      <td>37.706679</td>\n",
       "      <td>49.483924</td>\n",
       "      <td>0.0</td>\n",
       "      <td>7.869296</td>\n",
       "      <td>1.325086</td>\n",
       "      <td>없음</td>\n",
       "      <td>없음</td>\n",
       "      <td>1</td>\n",
       "      <td>NDVI/Crop_NDVI_938</td>\n",
       "      <td>경사도/Crop_Slope_938</td>\n",
       "      <td>고도/Crop_Height_938</td>\n",
       "      <td>임상도/Crop_임상도_938</td>\n",
       "    </tr>\n",
       "    <tr>\n",
       "      <th>1340</th>\n",
       "      <td>20150205</td>\n",
       "      <td>200</td>\n",
       "      <td>335</td>\n",
       "      <td>128.996694</td>\n",
       "      <td>37.472791</td>\n",
       "      <td>58.631221</td>\n",
       "      <td>0.0</td>\n",
       "      <td>1.387238</td>\n",
       "      <td>2.472989</td>\n",
       "      <td>0</td>\n",
       "      <td>없음</td>\n",
       "      <td>0</td>\n",
       "      <td>NDVI/Crop_NDVI_1340</td>\n",
       "      <td>경사도/Crop_Slope_1340</td>\n",
       "      <td>고도/Crop_Height_1340</td>\n",
       "      <td>임상도/Crop_임상도_1340</td>\n",
       "    </tr>\n",
       "    <tr>\n",
       "      <th>376</th>\n",
       "      <td>20150517</td>\n",
       "      <td>109</td>\n",
       "      <td>287</td>\n",
       "      <td>128.724218</td>\n",
       "      <td>37.991909</td>\n",
       "      <td>19.932414</td>\n",
       "      <td>0.0</td>\n",
       "      <td>24.221139</td>\n",
       "      <td>3.535565</td>\n",
       "      <td>없음</td>\n",
       "      <td>없음</td>\n",
       "      <td>1</td>\n",
       "      <td>NDVI/Crop_NDVI_376</td>\n",
       "      <td>경사도/Crop_Slope_376</td>\n",
       "      <td>고도/Crop_Height_376</td>\n",
       "      <td>임상도/Crop_임상도_376</td>\n",
       "    </tr>\n",
       "  </tbody>\n",
       "</table>\n",
       "</div>"
      ],
      "text/plain": [
       "        field1    i    j         lon        lat         습도   강수         기온  \\\n",
       "1196  20200816  168  144  127.912466  37.655338  97.914671  0.0  24.451841   \n",
       "1331  20161123  153  159  127.997615  37.740907  51.003735  0.0  -0.972612   \n",
       "938   20200224  159  101  127.668373  37.706679  49.483924  0.0   7.869296   \n",
       "1340  20150205  200  335  128.996694  37.472791  58.631221  0.0   1.387238   \n",
       "376   20150517  109  287  128.724218  37.991909  19.932414  0.0  24.221139   \n",
       "\n",
       "            풍속  날씨 특보내용  target             ndvi_img            slope_img  \\\n",
       "1196  0.378805   0   없음       0  NDVI/Crop_NDVI_1196  경사도/Crop_Slope_1196   \n",
       "1331  0.752917   0   없음       0  NDVI/Crop_NDVI_1331  경사도/Crop_Slope_1331   \n",
       "938   1.325086  없음   없음       1   NDVI/Crop_NDVI_938   경사도/Crop_Slope_938   \n",
       "1340  2.472989   0   없음       0  NDVI/Crop_NDVI_1340  경사도/Crop_Slope_1340   \n",
       "376   3.535565  없음   없음       1   NDVI/Crop_NDVI_376   경사도/Crop_Slope_376   \n",
       "\n",
       "                  alt_img         forest_img  \n",
       "1196  고도/Crop_Height_1196  임상도/Crop_임상도_1196  \n",
       "1331  고도/Crop_Height_1331  임상도/Crop_임상도_1331  \n",
       "938    고도/Crop_Height_938   임상도/Crop_임상도_938  \n",
       "1340  고도/Crop_Height_1340  임상도/Crop_임상도_1340  \n",
       "376    고도/Crop_Height_376   임상도/Crop_임상도_376  "
      ]
     },
     "execution_count": 10,
     "metadata": {},
     "output_type": "execute_result"
    }
   ],
   "source": [
    "train_df.head()\n",
    "test_df.head()"
   ]
  },
  {
   "cell_type": "code",
   "execution_count": 11,
   "metadata": {
    "ExecuteTime": {
     "end_time": "2023-05-16T05:46:11.090838Z",
     "start_time": "2023-05-16T05:46:11.055079Z"
    }
   },
   "outputs": [
    {
     "data": {
      "text/plain": [
       "0    0.508994\n",
       "1    0.491006\n",
       "Name: target, dtype: float64"
      ]
     },
     "execution_count": 11,
     "metadata": {},
     "output_type": "execute_result"
    },
    {
     "data": {
      "text/plain": [
       "0    0.509317\n",
       "1    0.490683\n",
       "Name: target, dtype: float64"
      ]
     },
     "execution_count": 11,
     "metadata": {},
     "output_type": "execute_result"
    }
   ],
   "source": [
    "# extremely unbalanced dataset, most of the images are benign\n",
    "train_df[\"target\"].value_counts(normalize=True)\n",
    "test_df[\"target\"].value_counts(normalize=True)"
   ]
  },
  {
   "cell_type": "markdown",
   "metadata": {},
   "source": [
    "## Image data"
   ]
  },
  {
   "cell_type": "code",
   "execution_count": 12,
   "metadata": {
    "ExecuteTime": {
     "end_time": "2023-05-16T05:46:13.319912Z",
     "start_time": "2023-05-16T05:46:13.306401Z"
    }
   },
   "outputs": [],
   "source": [
    "tfms = get_transforms (flip_vert=True, max_warp=0)\n",
    "size = 64"
   ]
  },
  {
   "cell_type": "code",
   "execution_count": 13,
   "metadata": {
    "ExecuteTime": {
     "end_time": "2023-05-16T05:46:13.724852Z",
     "start_time": "2023-05-16T05:46:13.708887Z"
    }
   },
   "outputs": [
    {
     "data": {
      "text/plain": [
       "300"
      ]
     },
     "execution_count": 13,
     "metadata": {},
     "output_type": "execute_result"
    }
   ],
   "source": [
    "# idx for validation, shared by image and tabular data\n",
    "val_idx = get_valid_index(train_df)\n",
    "len(val_idx)"
   ]
  },
  {
   "cell_type": "code",
   "execution_count": 14,
   "metadata": {
    "ExecuteTime": {
     "end_time": "2023-05-16T05:46:14.296309Z",
     "start_time": "2023-05-16T05:46:14.091424Z"
    }
   },
   "outputs": [
    {
     "data": {
      "text/plain": [
       "LabelLists;\n",
       "\n",
       "Train: LabelList (1201 items)\n",
       "x: ImageList\n",
       "Image (3, 64, 64),Image (3, 64, 64),Image (3, 64, 64),Image (3, 64, 64),Image (3, 64, 64)\n",
       "y: CategoryList\n",
       "0,1,0,0,0\n",
       "Path: tif_data;\n",
       "\n",
       "Valid: LabelList (300 items)\n",
       "x: ImageList\n",
       "Image (3, 64, 64),Image (3, 64, 64),Image (3, 64, 64),Image (3, 64, 64),Image (3, 64, 64)\n",
       "y: CategoryList\n",
       "0,1,0,0,1\n",
       "Path: tif_data;\n",
       "\n",
       "Test: LabelList (644 items)\n",
       "x: ImageList\n",
       "Image (3, 64, 64),Image (3, 64, 64),Image (3, 64, 64),Image (3, 64, 64),Image (3, 64, 64)\n",
       "y: EmptyLabelList\n",
       ",,,,\n",
       "Path: tif_data"
      ]
     },
     "execution_count": 14,
     "metadata": {},
     "output_type": "execute_result"
    }
   ],
   "source": [
    "# convertmode가 이미지의 차원을 나타낸다.\n",
    "\n",
    "data_path = 'tif_data' # 대상 폴더 경로\n",
    "\n",
    "image_data = (ImageList.from_df(train_df, path=data_path, cols=\"ndvi_img\",convert_mode='RGB', suffix=\".tif\")\n",
    "              .split_by_idx(val_idx)\n",
    "              .label_from_df(cols=\"target\")\n",
    "              .transform(tfms, size=size))\n",
    "\n",
    "test_image_data = ImageList.from_df(test_df, path=data_path, cols=\"ndvi_img\",convert_mode='RGB', suffix=\".tif\")\n",
    "image_data.add_test(test_image_data)"
   ]
  },
  {
   "cell_type": "code",
   "execution_count": 15,
   "metadata": {
    "ExecuteTime": {
     "end_time": "2023-05-16T05:46:14.718398Z",
     "start_time": "2023-05-16T05:46:14.678813Z"
    }
   },
   "outputs": [
    {
     "data": {
      "image/jpeg": "[encoded data removed]",
      "image/png": "[encoded data removed]",
      "text/plain": [
       "Image (3, 64, 64)"
      ]
     },
     "execution_count": 15,
     "metadata": {},
     "output_type": "execute_result"
    },
    {
     "data": {
      "image/jpeg": "[encoded data removed]",
      "image/png": "[encoded data removed]",
      "text/plain": [
       "Image (3, 64, 64)"
      ]
     },
     "execution_count": 15,
     "metadata": {},
     "output_type": "execute_result"
    }
   ],
   "source": [
    "# show one example image\n",
    "#print(image_data.train[642][1])\n",
    "image_data.train[1][0]\n",
    "image_data.test[1][0]"
   ]
  },
  {
   "cell_type": "markdown",
   "metadata": {},
   "source": [
    "## Tabular data"
   ]
  },
  {
   "cell_type": "code",
   "execution_count": 16,
   "metadata": {
    "ExecuteTime": {
     "end_time": "2023-05-16T05:46:15.634584Z",
     "start_time": "2023-05-16T05:46:15.623621Z"
    }
   },
   "outputs": [
    {
     "data": {
      "text/plain": [
       "Index(['field1', 'i', 'j', 'lon', 'lat', '습도', '강수', '기온', '풍속', '날씨', '특보내용',\n",
       "       'target', 'ndvi_img', 'slope_img', 'alt_img', 'forest_img'],\n",
       "      dtype='object')"
      ]
     },
     "execution_count": 16,
     "metadata": {},
     "output_type": "execute_result"
    }
   ],
   "source": [
    "data.columns"
   ]
  },
  {
   "cell_type": "code",
   "execution_count": 17,
   "metadata": {
    "ExecuteTime": {
     "end_time": "2023-05-16T05:46:16.055293Z",
     "start_time": "2023-05-16T05:46:16.050799Z"
    }
   },
   "outputs": [],
   "source": [
    "dep_var = 'target'\n",
    "cat_names=['특보내용']\n",
    "cont_names = ['습도','강수','기온','풍속']\n",
    "procs = [FillMissing, Categorify, Normalize]"
   ]
  },
  {
   "cell_type": "code",
   "execution_count": 18,
   "metadata": {
    "ExecuteTime": {
     "end_time": "2023-05-16T05:46:16.717847Z",
     "start_time": "2023-05-16T05:46:16.678929Z"
    }
   },
   "outputs": [
    {
     "data": {
      "text/plain": [
       "LabelLists;\n",
       "\n",
       "Train: LabelList (1201 items)\n",
       "x: TabularList\n",
       "특보내용 없음; 습도 -0.9616; 강수 -0.0894; 기온 -0.7225; 풍속 0.2050; ,특보내용 없음; 습도 1.0179; 강수 -0.0894; 기온 0.2151; 풍속 -1.1653; ,특보내용 없음; 습도 1.7511; 강수 1.4466; 기온 1.0589; 풍속 -0.7652; ,특보내용 없음; 습도 0.1674; 강수 -0.0894; 기온 -0.6287; 풍속 0.7408; ,특보내용 없음; 습도 1.7665; 강수 4.7334; 기온 -0.5449; 풍속 -0.9333; \n",
       "y: CategoryList\n",
       "0,1,0,0,0\n",
       "Path: tif_data;\n",
       "\n",
       "Valid: LabelList (300 items)\n",
       "x: TabularList\n",
       "특보내용 없음; 습도 -0.4432; 강수 -0.0894; 기온 -0.7120; 풍속 -0.4556; ,특보내용 없음; 습도 0.2217; 강수 -0.0894; 기온 -0.5775; 풍속 -0.0236; ,특보내용 없음; 습도 0.3682; 강수 -0.0894; 기온 0.0028; 풍속 0.3047; ,특보내용 없음; 습도 -1.4838; 강수 -0.0894; 기온 -0.5613; 풍속 0.1080; ,특보내용 없음; 습도 0.9528; 강수 -0.0894; 기온 0.2634; 풍속 -1.3383; \n",
       "y: CategoryList\n",
       "0,1,0,0,1\n",
       "Path: tif_data;\n",
       "\n",
       "Test: LabelList (644 items)\n",
       "x: TabularList\n",
       "특보내용 없음; 습도 1.8043; 강수 -0.0894; 기온 1.4611; 풍속 -1.0839; ,특보내용 없음; 습도 -0.1168; 강수 -0.0894; 기온 -0.8381; 풍속 -0.8153; ,특보내용 없음; 습도 -0.1790; 강수 -0.0894; 기온 -0.0385; 풍속 -0.4046; ,특보내용 없음; 습도 0.1956; 강수 -0.0894; 기온 -0.6247; 풍속 0.4195; ,특보내용 없음; 습도 -1.3892; 강수 -0.0894; 기온 1.4402; 풍속 1.1823; \n",
       "y: EmptyLabelList\n",
       ",,,,\n",
       "Path: tif_data"
      ]
     },
     "execution_count": 18,
     "metadata": {},
     "output_type": "execute_result"
    }
   ],
   "source": [
    "tab_data = (TabularList.from_df(train_df, path=data_path, cat_names=cat_names, cont_names=cont_names, procs=procs)\n",
    "                           .split_by_idx(val_idx)\n",
    "                           .label_from_df(cols=dep_var))\n",
    "\n",
    "# add test\n",
    "tab_data.add_test(TabularList.from_df(test_df, cat_names=cat_names, cont_names=cont_names,\n",
    "                                      processor = tab_data.train.x.processor))"
   ]
  },
  {
   "cell_type": "code",
   "execution_count": 19,
   "metadata": {
    "ExecuteTime": {
     "end_time": "2023-05-16T05:46:17.574828Z",
     "start_time": "2023-05-16T05:46:17.537308Z"
    }
   },
   "outputs": [
    {
     "data": {
      "text/plain": [
       "(TabularLine [tensor([1]), tensor([-0.9616, -0.0894, -0.7225,  0.2050])],\n",
       " Category 0)"
      ]
     },
     "execution_count": 19,
     "metadata": {},
     "output_type": "execute_result"
    }
   ],
   "source": [
    "# one example\n",
    "tab_data.train[0]"
   ]
  },
  {
   "cell_type": "markdown",
   "metadata": {},
   "source": [
    "## Integrate image and tabular data"
   ]
  },
  {
   "cell_type": "code",
   "execution_count": 20,
   "metadata": {
    "ExecuteTime": {
     "end_time": "2023-05-16T05:46:18.552632Z",
     "start_time": "2023-05-16T05:46:18.547291Z"
    }
   },
   "outputs": [],
   "source": [
    "integrate_train, integrate_valid, integrate_test = get_imagetabdatasets(image_data, tab_data)"
   ]
  },
  {
   "cell_type": "code",
   "execution_count": 21,
   "metadata": {
    "ExecuteTime": {
     "end_time": "2023-05-16T05:46:19.019173Z",
     "start_time": "2023-05-16T05:46:18.999176Z"
    }
   },
   "outputs": [
    {
     "data": {
      "text/plain": [
       "DataBunch;\n",
       "\n",
       "Train: <image_tabular.dataset.ImageTabDataset object at 0x00000219B9E5D610>;\n",
       "\n",
       "Valid: <image_tabular.dataset.ImageTabDataset object at 0x00000219B9E5D640>;\n",
       "\n",
       "Test: <image_tabular.dataset.ImageTabDataset object at 0x00000219B9E5D220>"
      ]
     },
     "execution_count": 21,
     "metadata": {},
     "output_type": "execute_result"
    }
   ],
   "source": [
    "# package train, valid, and test datasets into a fastai databunch\n",
    "bs = 64\n",
    "\n",
    "db = DataBunch.create(integrate_train, integrate_valid, integrate_test,\n",
    "                      path=data_path, bs=bs)\n",
    "db"
   ]
  },
  {
   "cell_type": "code",
   "execution_count": 22,
   "metadata": {
    "ExecuteTime": {
     "end_time": "2023-05-16T05:46:19.456513Z",
     "start_time": "2023-05-16T05:46:19.446986Z"
    }
   },
   "outputs": [],
   "source": [
    "# image normalization with imagenet_stats\n",
    "db.norm, db.denorm = normalize_funcs_image_tab(*imagenet_stats)\n",
    "db.add_tfm(db.norm)"
   ]
  },
  {
   "cell_type": "code",
   "execution_count": 23,
   "metadata": {
    "ExecuteTime": {
     "end_time": "2023-05-16T05:47:15.592487Z",
     "start_time": "2023-05-16T05:46:19.873956Z"
    }
   },
   "outputs": [
    {
     "data": {
      "text/plain": [
       "2"
      ]
     },
     "execution_count": 23,
     "metadata": {},
     "output_type": "execute_result"
    }
   ],
   "source": [
    "# check the shape of one batch\n",
    "x, y = next(iter(db.train_dl))\n",
    "len(x)"
   ]
  },
  {
   "cell_type": "code",
   "execution_count": 24,
   "metadata": {
    "ExecuteTime": {
     "end_time": "2023-05-16T05:47:20.933003Z",
     "start_time": "2023-05-16T05:47:20.920786Z"
    }
   },
   "outputs": [
    {
     "data": {
      "text/plain": [
       "torch.Size([64, 3, 64, 64])"
      ]
     },
     "execution_count": 24,
     "metadata": {},
     "output_type": "execute_result"
    }
   ],
   "source": [
    "# images\n",
    "x[0].shape"
   ]
  },
  {
   "cell_type": "code",
   "execution_count": 25,
   "metadata": {
    "ExecuteTime": {
     "end_time": "2023-05-16T05:47:21.385408Z",
     "start_time": "2023-05-16T05:47:21.369384Z"
    }
   },
   "outputs": [
    {
     "data": {
      "text/plain": [
       "(torch.Size([64, 1]), torch.Size([64, 4]))"
      ]
     },
     "execution_count": 25,
     "metadata": {},
     "output_type": "execute_result"
    }
   ],
   "source": [
    "# categorical and continuous tabular data \n",
    "x[1][0].shape, x[1][1].shape"
   ]
  },
  {
   "cell_type": "code",
   "execution_count": 26,
   "metadata": {
    "ExecuteTime": {
     "end_time": "2023-05-16T05:47:21.805451Z",
     "start_time": "2023-05-16T05:47:21.798428Z"
    }
   },
   "outputs": [
    {
     "data": {
      "text/plain": [
       "torch.Size([64])"
      ]
     },
     "execution_count": 26,
     "metadata": {},
     "output_type": "execute_result"
    }
   ],
   "source": [
    "# targets\n",
    "y.shape"
   ]
  },
  {
   "cell_type": "markdown",
   "metadata": {},
   "source": [
    "## Model that trains on image and tabular data simultaneously"
   ]
  },
  {
   "cell_type": "code",
   "execution_count": 27,
   "metadata": {
    "ExecuteTime": {
     "end_time": "2023-05-16T05:47:25.501991Z",
     "start_time": "2023-05-16T05:47:24.610848Z"
    }
   },
   "outputs": [
    {
     "name": "stderr",
     "output_type": "stream",
     "text": [
      "C:\\Users\\user\\anaconda3\\envs\\multimodal\\lib\\site-packages\\torchvision\\models\\_utils.py:135: UserWarning: Using 'weights' as positional parameter(s) is deprecated since 0.13 and may be removed in the future. Please use keyword parameter(s) instead.\n",
      "  warnings.warn(\n",
      "C:\\Users\\user\\anaconda3\\envs\\multimodal\\lib\\site-packages\\torchvision\\models\\_utils.py:223: UserWarning: Arguments other than a weight enum or `None` for 'weights' are deprecated since 0.13 and may be removed in the future. The current behavior is equivalent to passing `weights=ResNet50_Weights.IMAGENET1K_V1`. You can also use `weights=ResNet50_Weights.DEFAULT` to get the most up-to-date weights.\n",
      "  warnings.warn(msg)\n"
     ]
    }
   ],
   "source": [
    "# cnn model for images, use Resnet50 as an example\n",
    "cnn_arch = models.resnet50\n",
    "\n",
    "# cnn_out_sz is the output size of the cnn model that will be concatenated with tabular model output\n",
    "cnn_out_sz = 256\n",
    "\n",
    "# use fastai functions to get a cnn model\n",
    "image_data_db = image_data.databunch()\n",
    "image_data_db.c = cnn_out_sz\n",
    "cnn_learn = cnn_learner(image_data_db, cnn_arch, ps=0.2)\n",
    "cnn_model = cnn_learn.model"
   ]
  },
  {
   "cell_type": "code",
   "execution_count": 28,
   "metadata": {
    "ExecuteTime": {
     "end_time": "2023-05-16T05:47:26.060285Z",
     "start_time": "2023-05-16T05:47:26.028142Z"
    }
   },
   "outputs": [
    {
     "data": {
      "text/plain": [
       "TabularModel(\n",
       "  (embeds): ModuleList(\n",
       "    (0): Embedding(2, 2)\n",
       "  )\n",
       "  (emb_drop): Dropout(p=0.0, inplace=False)\n",
       "  (bn_cont): BatchNorm1d(4, eps=1e-05, momentum=0.1, affine=True, track_running_stats=True)\n",
       "  (layers): Sequential(\n",
       "    (0): Linear(in_features=6, out_features=8, bias=True)\n",
       "    (1): ReLU(inplace=True)\n",
       "    (2): BatchNorm1d(8, eps=1e-05, momentum=0.1, affine=True, track_running_stats=True)\n",
       "    (3): Dropout(p=0.2, inplace=False)\n",
       "    (4): Linear(in_features=8, out_features=8, bias=True)\n",
       "  )\n",
       ")"
      ]
     },
     "execution_count": 28,
     "metadata": {},
     "output_type": "execute_result"
    }
   ],
   "source": [
    "# get embedding sizes of categorical data\n",
    "emb_szs = tab_data.train.get_emb_szs()\n",
    "\n",
    "# output size of the tabular model that will be concatenated with cnn model output\n",
    "tab_out_sz = 8\n",
    "\n",
    "# use fastai functions to get a tabular model\n",
    "tabular_model = TabularModel(emb_szs, len(cont_names), out_sz=tab_out_sz, layers=[8], ps=0.2)\n",
    "tabular_model"
   ]
  },
  {
   "cell_type": "code",
   "execution_count": 29,
   "metadata": {
    "ExecuteTime": {
     "end_time": "2023-05-16T05:47:26.542736Z",
     "start_time": "2023-05-16T05:47:26.521635Z"
    }
   },
   "outputs": [],
   "source": [
    "# get an integrated model that combines the two components and concatenate their outputs\n",
    "# which will pass through additional fully connected layers\n",
    "integrate_model = CNNTabularModel(cnn_model,\n",
    "                                  tabular_model,\n",
    "                                  layers = [cnn_out_sz + tab_out_sz, 32],\n",
    "                                  ps=0.2,\n",
    "                                  out_sz=2).to(device)"
   ]
  },
  {
   "cell_type": "code",
   "execution_count": 30,
   "metadata": {
    "ExecuteTime": {
     "end_time": "2023-05-16T05:47:27.704616Z",
     "start_time": "2023-05-16T05:47:27.377359Z"
    }
   },
   "outputs": [
    {
     "data": {
      "text/plain": [
       "torch.Size([64, 2])"
      ]
     },
     "execution_count": 30,
     "metadata": {},
     "output_type": "execute_result"
    }
   ],
   "source": [
    "# check model output dimension, should be (bs, 2)\n",
    "integrate_model(*x).shape"
   ]
  },
  {
   "cell_type": "code",
   "execution_count": 31,
   "metadata": {
    "ExecuteTime": {
     "end_time": "2023-05-16T05:47:28.834377Z",
     "start_time": "2023-05-16T05:47:28.825409Z"
    }
   },
   "outputs": [],
   "source": [
    "# adjust loss function weight because the dataset is extremely unbalanced\n",
    "weights = [1/(1-train_df[\"target\"].mean()), 1/train_df[\"target\"].mean()]\n",
    "loss_func = CrossEntropyFlat(weight=torch.FloatTensor(weights).to(device))"
   ]
  },
  {
   "cell_type": "code",
   "execution_count": 32,
   "metadata": {
    "ExecuteTime": {
     "end_time": "2023-05-16T05:47:29.304250Z",
     "start_time": "2023-05-16T05:47:29.287679Z"
    }
   },
   "outputs": [],
   "source": [
    "# package everything in a fastai learner, add auc roc score as a metric\n",
    "learn = Learner(db, integrate_model, metrics=[accuracy], loss_func=loss_func)"
   ]
  },
  {
   "cell_type": "code",
   "execution_count": 33,
   "metadata": {
    "ExecuteTime": {
     "end_time": "2023-05-16T05:47:29.802468Z",
     "start_time": "2023-05-16T05:47:29.783944Z"
    }
   },
   "outputs": [],
   "source": [
    "# organize layer groups in order to use differential learning rates provided by fastai\n",
    "# the first two layer groups are earlier layers of resnet\n",
    "# the last layer group consists of the fully connected layers of cnn model, tabular model,\n",
    "# and final fully connected layers for the concatenated data\n",
    "learn.layer_groups = [nn.Sequential(*flatten_model(cnn_learn.layer_groups[0])),\n",
    "                      nn.Sequential(*flatten_model(cnn_learn.layer_groups[1])),\n",
    "                      nn.Sequential(*(flatten_model(cnn_learn.layer_groups[2]) +\n",
    "                                      flatten_model(integrate_model.tabular_model) +\n",
    "                                      flatten_model(integrate_model.layers)))]"
   ]
  },
  {
   "cell_type": "markdown",
   "metadata": {},
   "source": [
    "## Training"
   ]
  },
  {
   "cell_type": "code",
   "execution_count": 34,
   "metadata": {
    "ExecuteTime": {
     "end_time": "2023-05-16T05:47:31.418231Z",
     "start_time": "2023-05-16T05:47:31.405270Z"
    }
   },
   "outputs": [],
   "source": [
    "# find learning rate to train the last layer group first \n",
    "learn.freeze()\n",
    "#learn.lr_find()\n",
    "#learn.recorder.plot()"
   ]
  },
  {
   "cell_type": "code",
   "execution_count": null,
   "metadata": {},
   "outputs": [],
   "source": [
    "# train\n",
    "learn.fit_one_cycle(5, 1e-4)"
   ]
  },
  {
   "cell_type": "code",
   "execution_count": 50,
   "metadata": {
    "ExecuteTime": {
     "end_time": "2023-05-07T04:47:01.524675Z",
     "start_time": "2023-05-07T04:36:44.609936Z"
    }
   },
   "outputs": [
    {
     "data": {
      "text/html": [
       "\n",
       "<style>\n",
       "    /* Turns off some styling */\n",
       "    progress {\n",
       "        /* gets rid of default border in Firefox and Opera. */\n",
       "        border: none;\n",
       "        /* Needs to be in here for Safari polyfill so background images work as expected. */\n",
       "        background-size: auto;\n",
       "    }\n",
       "    progress:not([value]), progress:not([value])::-webkit-progress-bar {\n",
       "        background: repeating-linear-gradient(45deg, #7e7e7e, #7e7e7e 10px, #5c5c5c 10px, #5c5c5c 20px);\n",
       "    }\n",
       "    .progress-bar-interrupted, .progress-bar-interrupted::-webkit-progress-bar {\n",
       "        background: #F44336;\n",
       "    }\n",
       "</style>\n"
      ],
      "text/plain": [
       "<IPython.core.display.HTML object>"
      ]
     },
     "metadata": {},
     "output_type": "display_data"
    },
    {
     "data": {
      "text/html": [
       "<table border=\"1\" class=\"dataframe\">\n",
       "  <thead>\n",
       "    <tr style=\"text-align: left;\">\n",
       "      <th>epoch</th>\n",
       "      <th>train_loss</th>\n",
       "      <th>valid_loss</th>\n",
       "      <th>accuracy</th>\n",
       "      <th>time</th>\n",
       "    </tr>\n",
       "  </thead>\n",
       "  <tbody>\n",
       "    <tr>\n",
       "      <td>0</td>\n",
       "      <td>0.620695</td>\n",
       "      <td>0.575430</td>\n",
       "      <td>0.710956</td>\n",
       "      <td>02:03</td>\n",
       "    </tr>\n",
       "    <tr>\n",
       "      <td>1</td>\n",
       "      <td>0.611797</td>\n",
       "      <td>0.554637</td>\n",
       "      <td>0.722611</td>\n",
       "      <td>02:06</td>\n",
       "    </tr>\n",
       "    <tr>\n",
       "      <td>2</td>\n",
       "      <td>0.596273</td>\n",
       "      <td>0.526393</td>\n",
       "      <td>0.752914</td>\n",
       "      <td>02:02</td>\n",
       "    </tr>\n",
       "    <tr>\n",
       "      <td>3</td>\n",
       "      <td>0.586218</td>\n",
       "      <td>0.509649</td>\n",
       "      <td>0.755245</td>\n",
       "      <td>02:02</td>\n",
       "    </tr>\n",
       "    <tr>\n",
       "      <td>4</td>\n",
       "      <td>0.567977</td>\n",
       "      <td>0.513634</td>\n",
       "      <td>0.748252</td>\n",
       "      <td>02:02</td>\n",
       "    </tr>\n",
       "  </tbody>\n",
       "</table>"
      ],
      "text/plain": [
       "<IPython.core.display.HTML object>"
      ]
     },
     "metadata": {},
     "output_type": "display_data"
    }
   ],
   "source": [
    "# unfreeze all layer groups to train the entire model using differential learning rates\n",
    "learn.unfreeze()\n",
    "learn.fit_one_cycle(5, slice(1e-6, 1e-4))"
   ]
  },
  {
   "cell_type": "markdown",
   "metadata": {},
   "source": [
    "The model achieved an ROC AUC score of about 0.87 on the validation set."
   ]
  },
  {
   "cell_type": "markdown",
   "metadata": {},
   "source": [
    "## Prediction"
   ]
  },
  {
   "cell_type": "code",
   "execution_count": 51,
   "metadata": {
    "ExecuteTime": {
     "end_time": "2023-05-07T04:48:00.008448Z",
     "start_time": "2023-05-07T04:47:03.642123Z"
    }
   },
   "outputs": [
    {
     "data": {
      "text/html": [
       "\n",
       "<style>\n",
       "    /* Turns off some styling */\n",
       "    progress {\n",
       "        /* gets rid of default border in Firefox and Opera. */\n",
       "        border: none;\n",
       "        /* Needs to be in here for Safari polyfill so background images work as expected. */\n",
       "        background-size: auto;\n",
       "    }\n",
       "    progress:not([value]), progress:not([value])::-webkit-progress-bar {\n",
       "        background: repeating-linear-gradient(45deg, #7e7e7e, #7e7e7e 10px, #5c5c5c 10px, #5c5c5c 20px);\n",
       "    }\n",
       "    .progress-bar-interrupted, .progress-bar-interrupted::-webkit-progress-bar {\n",
       "        background: #F44336;\n",
       "    }\n",
       "</style>\n"
      ],
      "text/plain": [
       "<IPython.core.display.HTML object>"
      ]
     },
     "metadata": {},
     "output_type": "display_data"
    },
    {
     "data": {
      "text/html": [],
      "text/plain": [
       "<IPython.core.display.HTML object>"
      ]
     },
     "metadata": {},
     "output_type": "display_data"
    }
   ],
   "source": [
    "# make predictions for the test set\n",
    "preds, y = learn.get_preds(DatasetType.Test)"
   ]
  },
  {
   "cell_type": "code",
   "execution_count": 52,
   "metadata": {
    "ExecuteTime": {
     "end_time": "2023-05-07T04:48:02.136303Z",
     "start_time": "2023-05-07T04:48:02.122304Z"
    }
   },
   "outputs": [
    {
     "data": {
      "text/plain": [
       "tensor([[0.1000, 0.9000],\n",
       "        [0.2133, 0.7867],\n",
       "        [0.8872, 0.1128],\n",
       "        ...,\n",
       "        [0.7086, 0.2914],\n",
       "        [0.6039, 0.3961],\n",
       "        [0.4577, 0.5423]])"
      ]
     },
     "execution_count": 52,
     "metadata": {},
     "output_type": "execute_result"
    }
   ],
   "source": [
    "preds"
   ]
  },
  {
   "cell_type": "code",
   "execution_count": 53,
   "metadata": {
    "ExecuteTime": {
     "end_time": "2023-05-07T04:48:04.193777Z",
     "start_time": "2023-05-07T04:48:04.179662Z"
    }
   },
   "outputs": [
    {
     "data": {
      "text/plain": [
       "tensor([0.9000, 0.7867, 0.1128,  ..., 0.2914, 0.3961, 0.5423])"
      ]
     },
     "execution_count": 53,
     "metadata": {},
     "output_type": "execute_result"
    }
   ],
   "source": [
    "preds[:, 1]"
   ]
  }
 ],
 "metadata": {
  "kernelspec": {
   "display_name": "multimodal",
   "language": "python",
   "name": "multimodal"
  },
  "language_info": {
   "codemirror_mode": {
    "name": "ipython",
    "version": 3
   },
   "file_extension": ".py",
   "mimetype": "text/x-python",
   "name": "python",
   "nbconvert_exporter": "python",
   "pygments_lexer": "ipython3",
   "version": "3.8.5"
  },
  "toc": {
   "base_numbering": 1,
   "nav_menu": {},
   "number_sections": true,
   "sideBar": true,
   "skip_h1_title": false,
   "title_cell": "Table of Contents",
   "title_sidebar": "Contents",
   "toc_cell": false,
   "toc_position": {},
   "toc_section_display": true,
   "toc_window_display": false
  },
  "varInspector": {
   "cols": {
    "lenName": 16,
    "lenType": 16,
    "lenVar": 40
   },
   "kernels_config": {
    "python": {
     "delete_cmd_postfix": "",
     "delete_cmd_prefix": "del ",
     "library": "var_list.py",
     "varRefreshCmd": "print(var_dic_list())"
    },
    "r": {
     "delete_cmd_postfix": ") ",
     "delete_cmd_prefix": "rm(",
     "library": "var_list.r",
     "varRefreshCmd": "cat(var_dic_list()) "
    }
   },
   "types_to_exclude": [
    "module",
    "function",
    "builtin_function_or_method",
    "instance",
    "_Feature"
   ],
   "window_display": false
  }
 },
 "nbformat": 4,
 "nbformat_minor": 2
}
